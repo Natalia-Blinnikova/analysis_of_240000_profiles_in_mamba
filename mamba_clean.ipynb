{
 "cells": [
  {
   "cell_type": "markdown",
   "metadata": {},
   "source": [
    "Я посмотрю всякие \"есть ли разница\", а потом на основе этого можно сделать дамми-переменные на основые параметры, и попробовать поискать группы с помощью машинного обучения"
   ]
  },
  {
   "cell_type": "code",
   "execution_count": 45,
   "metadata": {},
   "outputs": [],
   "source": [
    "import pandas as pd\n",
    "import numpy as np \n",
    "import matplotlib.pyplot as plt\n",
    "import seaborn as sns \n",
    "import plotly.graph_objects as go\n",
    "import plotly.express as px"
   ]
  },
  {
   "cell_type": "code",
   "execution_count": 46,
   "metadata": {},
   "outputs": [
    {
     "data": {
      "text/plain": [
       "(330431, 21)"
      ]
     },
     "metadata": {},
     "output_type": "display_data"
    },
    {
     "data": {
      "text/html": [
       "<div>\n",
       "<style scoped>\n",
       "    .dataframe tbody tr th:only-of-type {\n",
       "        vertical-align: middle;\n",
       "    }\n",
       "\n",
       "    .dataframe tbody tr th {\n",
       "        vertical-align: top;\n",
       "    }\n",
       "\n",
       "    .dataframe thead th {\n",
       "        text-align: right;\n",
       "    }\n",
       "</style>\n",
       "<table border=\"1\" class=\"dataframe\">\n",
       "  <thead>\n",
       "    <tr style=\"text-align: right;\">\n",
       "      <th></th>\n",
       "      <th>about</th>\n",
       "      <th>age</th>\n",
       "      <th>aim</th>\n",
       "      <th>children</th>\n",
       "      <th>city</th>\n",
       "      <th>edu</th>\n",
       "      <th>gender</th>\n",
       "      <th>height</th>\n",
       "      <th>intrestedin</th>\n",
       "      <th>language</th>\n",
       "      <th>...</th>\n",
       "      <th>partnerage</th>\n",
       "      <th>photocount</th>\n",
       "      <th>smoke</th>\n",
       "      <th>weight</th>\n",
       "      <th>id</th>\n",
       "      <th>Unnamed: 0</th>\n",
       "      <th>Unnamed: 0.1</th>\n",
       "      <th>Unnamed: 0.1.1</th>\n",
       "      <th>Unnamed: 0.1.1.1</th>\n",
       "      <th>Unnamed: 0.1.1.1.1</th>\n",
       "    </tr>\n",
       "  </thead>\n",
       "  <tbody>\n",
       "    <tr>\n",
       "      <th>0</th>\n",
       "      <td>NaN</td>\n",
       "      <td>40.0</td>\n",
       "      <td>NaN</td>\n",
       "      <td>NaN</td>\n",
       "      <td>Чиребон</td>\n",
       "      <td>NaN</td>\n",
       "      <td>Мужчины</td>\n",
       "      <td>NaN</td>\n",
       "      <td>девушка</td>\n",
       "      <td>NaN</td>\n",
       "      <td>...</td>\n",
       "      <td>37 - 41</td>\n",
       "      <td>0.0</td>\n",
       "      <td>NaN</td>\n",
       "      <td>NaN</td>\n",
       "      <td>NaN</td>\n",
       "      <td>NaN</td>\n",
       "      <td>NaN</td>\n",
       "      <td>NaN</td>\n",
       "      <td>NaN</td>\n",
       "      <td>NaN</td>\n",
       "    </tr>\n",
       "    <tr>\n",
       "      <th>1</th>\n",
       "      <td>NaN</td>\n",
       "      <td>41.0</td>\n",
       "      <td>NaN</td>\n",
       "      <td>NaN</td>\n",
       "      <td>NaN</td>\n",
       "      <td>NaN</td>\n",
       "      <td>Мужчины</td>\n",
       "      <td>NaN</td>\n",
       "      <td>девушка</td>\n",
       "      <td>English</td>\n",
       "      <td>...</td>\n",
       "      <td>38 - 42</td>\n",
       "      <td>0.0</td>\n",
       "      <td>NaN</td>\n",
       "      <td>NaN</td>\n",
       "      <td>NaN</td>\n",
       "      <td>NaN</td>\n",
       "      <td>NaN</td>\n",
       "      <td>NaN</td>\n",
       "      <td>NaN</td>\n",
       "      <td>NaN</td>\n",
       "    </tr>\n",
       "    <tr>\n",
       "      <th>2</th>\n",
       "      <td>NaN</td>\n",
       "      <td>30.0</td>\n",
       "      <td>встреча, свидание</td>\n",
       "      <td>NaN</td>\n",
       "      <td>Долгопрудный</td>\n",
       "      <td>NaN</td>\n",
       "      <td>Мужчины</td>\n",
       "      <td>NaN</td>\n",
       "      <td>девушка</td>\n",
       "      <td>Русский</td>\n",
       "      <td>...</td>\n",
       "      <td>27 - 44</td>\n",
       "      <td>0.0</td>\n",
       "      <td>NaN</td>\n",
       "      <td>NaN</td>\n",
       "      <td>NaN</td>\n",
       "      <td>NaN</td>\n",
       "      <td>NaN</td>\n",
       "      <td>NaN</td>\n",
       "      <td>NaN</td>\n",
       "      <td>NaN</td>\n",
       "    </tr>\n",
       "    <tr>\n",
       "      <th>3</th>\n",
       "      <td>NaN</td>\n",
       "      <td>29.0</td>\n",
       "      <td>NaN</td>\n",
       "      <td>NaN</td>\n",
       "      <td>Москва</td>\n",
       "      <td>NaN</td>\n",
       "      <td>Мужчины</td>\n",
       "      <td>NaN</td>\n",
       "      <td>девушка</td>\n",
       "      <td>Русский</td>\n",
       "      <td>...</td>\n",
       "      <td>26 - 30</td>\n",
       "      <td>0.0</td>\n",
       "      <td>NaN</td>\n",
       "      <td>NaN</td>\n",
       "      <td>NaN</td>\n",
       "      <td>NaN</td>\n",
       "      <td>NaN</td>\n",
       "      <td>NaN</td>\n",
       "      <td>NaN</td>\n",
       "      <td>NaN</td>\n",
       "    </tr>\n",
       "    <tr>\n",
       "      <th>4</th>\n",
       "      <td>NaN</td>\n",
       "      <td>50.0</td>\n",
       "      <td>NaN</td>\n",
       "      <td>NaN</td>\n",
       "      <td>Алмере</td>\n",
       "      <td>NaN</td>\n",
       "      <td>Женщины</td>\n",
       "      <td>NaN</td>\n",
       "      <td>парень</td>\n",
       "      <td>Русский</td>\n",
       "      <td>...</td>\n",
       "      <td>46 - 50</td>\n",
       "      <td>0.0</td>\n",
       "      <td>NaN</td>\n",
       "      <td>NaN</td>\n",
       "      <td>NaN</td>\n",
       "      <td>NaN</td>\n",
       "      <td>NaN</td>\n",
       "      <td>NaN</td>\n",
       "      <td>NaN</td>\n",
       "      <td>NaN</td>\n",
       "    </tr>\n",
       "  </tbody>\n",
       "</table>\n",
       "<p>5 rows × 21 columns</p>\n",
       "</div>"
      ],
      "text/plain": [
       "  about   age                aim children          city  edu   gender  height  \\\n",
       "0   NaN  40.0                NaN      NaN       Чиребон  NaN  Мужчины     NaN   \n",
       "1   NaN  41.0                NaN      NaN           NaN  NaN  Мужчины     NaN   \n",
       "2   NaN  30.0  встреча, свидание      NaN  Долгопрудный  NaN  Мужчины     NaN   \n",
       "3   NaN  29.0                NaN      NaN        Москва  NaN  Мужчины     NaN   \n",
       "4   NaN  50.0                NaN      NaN        Алмере  NaN  Женщины     NaN   \n",
       "\n",
       "  intrestedin language  ... partnerage photocount  smoke weight  id  \\\n",
       "0     девушка      NaN  ...    37 - 41        0.0    NaN    NaN NaN   \n",
       "1     девушка  English  ...    38 - 42        0.0    NaN    NaN NaN   \n",
       "2     девушка  Русский  ...    27 - 44        0.0    NaN    NaN NaN   \n",
       "3     девушка  Русский  ...    26 - 30        0.0    NaN    NaN NaN   \n",
       "4      парень  Русский  ...    46 - 50        0.0    NaN    NaN NaN   \n",
       "\n",
       "   Unnamed: 0  Unnamed: 0.1  Unnamed: 0.1.1  Unnamed: 0.1.1.1  \\\n",
       "0         NaN           NaN             NaN               NaN   \n",
       "1         NaN           NaN             NaN               NaN   \n",
       "2         NaN           NaN             NaN               NaN   \n",
       "3         NaN           NaN             NaN               NaN   \n",
       "4         NaN           NaN             NaN               NaN   \n",
       "\n",
       "   Unnamed: 0.1.1.1.1  \n",
       "0                 NaN  \n",
       "1                 NaN  \n",
       "2                 NaN  \n",
       "3                 NaN  \n",
       "4                 NaN  \n",
       "\n",
       "[5 rows x 21 columns]"
      ]
     },
     "execution_count": 46,
     "metadata": {},
     "output_type": "execute_result"
    }
   ],
   "source": [
    "mambaall = pd.read_csv('mamba.csv')\n",
    "mambaw = pd.read_csv('womendf.csv')\n",
    "mamba = pd.concat([mambaall, mambaw])\n",
    "display(mamba.shape)\n",
    "mamba.head()"
   ]
  },
  {
   "cell_type": "code",
   "execution_count": 47,
   "metadata": {},
   "outputs": [
    {
     "data": {
      "text/html": [
       "<div>\n",
       "<style scoped>\n",
       "    .dataframe tbody tr th:only-of-type {\n",
       "        vertical-align: middle;\n",
       "    }\n",
       "\n",
       "    .dataframe tbody tr th {\n",
       "        vertical-align: top;\n",
       "    }\n",
       "\n",
       "    .dataframe thead th {\n",
       "        text-align: right;\n",
       "    }\n",
       "</style>\n",
       "<table border=\"1\" class=\"dataframe\">\n",
       "  <thead>\n",
       "    <tr style=\"text-align: right;\">\n",
       "      <th></th>\n",
       "      <th>about</th>\n",
       "      <th>age</th>\n",
       "      <th>aim</th>\n",
       "      <th>children</th>\n",
       "      <th>city</th>\n",
       "      <th>edu</th>\n",
       "      <th>gender</th>\n",
       "      <th>height</th>\n",
       "      <th>intrestedin</th>\n",
       "      <th>language</th>\n",
       "      <th>live</th>\n",
       "      <th>partnerage</th>\n",
       "      <th>photocount</th>\n",
       "      <th>smoke</th>\n",
       "      <th>weight</th>\n",
       "      <th>id</th>\n",
       "    </tr>\n",
       "  </thead>\n",
       "  <tbody>\n",
       "    <tr>\n",
       "      <th>0</th>\n",
       "      <td>NaN</td>\n",
       "      <td>40.0</td>\n",
       "      <td>NaN</td>\n",
       "      <td>NaN</td>\n",
       "      <td>Чиребон</td>\n",
       "      <td>NaN</td>\n",
       "      <td>Мужчины</td>\n",
       "      <td>NaN</td>\n",
       "      <td>девушка</td>\n",
       "      <td>NaN</td>\n",
       "      <td>NaN</td>\n",
       "      <td>37 - 41</td>\n",
       "      <td>0.0</td>\n",
       "      <td>NaN</td>\n",
       "      <td>NaN</td>\n",
       "      <td>NaN</td>\n",
       "    </tr>\n",
       "    <tr>\n",
       "      <th>1</th>\n",
       "      <td>NaN</td>\n",
       "      <td>41.0</td>\n",
       "      <td>NaN</td>\n",
       "      <td>NaN</td>\n",
       "      <td>NaN</td>\n",
       "      <td>NaN</td>\n",
       "      <td>Мужчины</td>\n",
       "      <td>NaN</td>\n",
       "      <td>девушка</td>\n",
       "      <td>English</td>\n",
       "      <td>NaN</td>\n",
       "      <td>38 - 42</td>\n",
       "      <td>0.0</td>\n",
       "      <td>NaN</td>\n",
       "      <td>NaN</td>\n",
       "      <td>NaN</td>\n",
       "    </tr>\n",
       "    <tr>\n",
       "      <th>2</th>\n",
       "      <td>NaN</td>\n",
       "      <td>30.0</td>\n",
       "      <td>встреча, свидание</td>\n",
       "      <td>NaN</td>\n",
       "      <td>Долгопрудный</td>\n",
       "      <td>NaN</td>\n",
       "      <td>Мужчины</td>\n",
       "      <td>NaN</td>\n",
       "      <td>девушка</td>\n",
       "      <td>Русский</td>\n",
       "      <td>NaN</td>\n",
       "      <td>27 - 44</td>\n",
       "      <td>0.0</td>\n",
       "      <td>NaN</td>\n",
       "      <td>NaN</td>\n",
       "      <td>NaN</td>\n",
       "    </tr>\n",
       "    <tr>\n",
       "      <th>3</th>\n",
       "      <td>NaN</td>\n",
       "      <td>29.0</td>\n",
       "      <td>NaN</td>\n",
       "      <td>NaN</td>\n",
       "      <td>Москва</td>\n",
       "      <td>NaN</td>\n",
       "      <td>Мужчины</td>\n",
       "      <td>NaN</td>\n",
       "      <td>девушка</td>\n",
       "      <td>Русский</td>\n",
       "      <td>NaN</td>\n",
       "      <td>26 - 30</td>\n",
       "      <td>0.0</td>\n",
       "      <td>NaN</td>\n",
       "      <td>NaN</td>\n",
       "      <td>NaN</td>\n",
       "    </tr>\n",
       "    <tr>\n",
       "      <th>4</th>\n",
       "      <td>NaN</td>\n",
       "      <td>50.0</td>\n",
       "      <td>NaN</td>\n",
       "      <td>NaN</td>\n",
       "      <td>Алмере</td>\n",
       "      <td>NaN</td>\n",
       "      <td>Женщины</td>\n",
       "      <td>NaN</td>\n",
       "      <td>парень</td>\n",
       "      <td>Русский</td>\n",
       "      <td>NaN</td>\n",
       "      <td>46 - 50</td>\n",
       "      <td>0.0</td>\n",
       "      <td>NaN</td>\n",
       "      <td>NaN</td>\n",
       "      <td>NaN</td>\n",
       "    </tr>\n",
       "  </tbody>\n",
       "</table>\n",
       "</div>"
      ],
      "text/plain": [
       "  about   age                aim children          city  edu   gender  height  \\\n",
       "0   NaN  40.0                NaN      NaN       Чиребон  NaN  Мужчины     NaN   \n",
       "1   NaN  41.0                NaN      NaN           NaN  NaN  Мужчины     NaN   \n",
       "2   NaN  30.0  встреча, свидание      NaN  Долгопрудный  NaN  Мужчины     NaN   \n",
       "3   NaN  29.0                NaN      NaN        Москва  NaN  Мужчины     NaN   \n",
       "4   NaN  50.0                NaN      NaN        Алмере  NaN  Женщины     NaN   \n",
       "\n",
       "  intrestedin language live partnerage  photocount smoke  weight  id  \n",
       "0     девушка      NaN  NaN    37 - 41         0.0   NaN     NaN NaN  \n",
       "1     девушка  English  NaN    38 - 42         0.0   NaN     NaN NaN  \n",
       "2     девушка  Русский  NaN    27 - 44         0.0   NaN     NaN NaN  \n",
       "3     девушка  Русский  NaN    26 - 30         0.0   NaN     NaN NaN  \n",
       "4      парень  Русский  NaN    46 - 50         0.0   NaN     NaN NaN  "
      ]
     },
     "execution_count": 47,
     "metadata": {},
     "output_type": "execute_result"
    }
   ],
   "source": [
    "mamba.drop(labels=['Unnamed: 0', 'Unnamed: 0.1', 'Unnamed: 0.1.1', 'Unnamed: 0.1.1.1', 'Unnamed: 0.1.1.1.1'], axis=1, inplace=True)\n",
    "mamba.head()"
   ]
  },
  {
   "cell_type": "code",
   "execution_count": 48,
   "metadata": {},
   "outputs": [
    {
     "data": {
      "text/plain": [
       "(320755, 16)"
      ]
     },
     "execution_count": 48,
     "metadata": {},
     "output_type": "execute_result"
    }
   ],
   "source": [
    "index_drop = mamba.loc[mamba.duplicated() == True].index\n",
    "mamba = mamba.drop(index=index_drop)\n",
    "mamba.shape"
   ]
  },
  {
   "cell_type": "code",
   "execution_count": 49,
   "metadata": {
    "scrolled": true
   },
   "outputs": [
    {
     "data": {
      "text/plain": [
       "about          0.927540\n",
       "age            0.000000\n",
       "aim            0.416308\n",
       "children       0.741893\n",
       "city           0.030983\n",
       "edu            0.748525\n",
       "gender         0.007526\n",
       "height         0.697604\n",
       "intrestedin    0.000000\n",
       "language       0.045973\n",
       "live           0.807130\n",
       "partnerage     0.003242\n",
       "photocount     0.000000\n",
       "smoke          0.755196\n",
       "weight         0.771180\n",
       "id             0.005238\n",
       "dtype: float64"
      ]
     },
     "execution_count": 49,
     "metadata": {},
     "output_type": "execute_result"
    }
   ],
   "source": [
    "mamba.isna().mean()"
   ]
  },
  {
   "cell_type": "markdown",
   "metadata": {},
   "source": [
    "<b>Я буду сравнивать, скорее всего, мужчин и женщин </b>\n",
    "<br> Надо добрать женщин "
   ]
  },
  {
   "cell_type": "code",
   "execution_count": 50,
   "metadata": {
    "scrolled": false
   },
   "outputs": [
    {
     "data": {
      "text/html": [
       "<div>\n",
       "<style scoped>\n",
       "    .dataframe tbody tr th:only-of-type {\n",
       "        vertical-align: middle;\n",
       "    }\n",
       "\n",
       "    .dataframe tbody tr th {\n",
       "        vertical-align: top;\n",
       "    }\n",
       "\n",
       "    .dataframe thead th {\n",
       "        text-align: right;\n",
       "    }\n",
       "</style>\n",
       "<table border=\"1\" class=\"dataframe\">\n",
       "  <thead>\n",
       "    <tr style=\"text-align: right;\">\n",
       "      <th></th>\n",
       "      <th>gender</th>\n",
       "      <th>age</th>\n",
       "    </tr>\n",
       "  </thead>\n",
       "  <tbody>\n",
       "    <tr>\n",
       "      <th>0</th>\n",
       "      <td>Женщины</td>\n",
       "      <td>138683</td>\n",
       "    </tr>\n",
       "    <tr>\n",
       "      <th>1</th>\n",
       "      <td>Мужчины</td>\n",
       "      <td>179658</td>\n",
       "    </tr>\n",
       "  </tbody>\n",
       "</table>\n",
       "</div>"
      ],
      "text/plain": [
       "    gender     age\n",
       "0  Женщины  138683\n",
       "1  Мужчины  179658"
      ]
     },
     "execution_count": 50,
     "metadata": {},
     "output_type": "execute_result"
    }
   ],
   "source": [
    "mamba.groupby('gender')['age'].count().reset_index()"
   ]
  },
  {
   "cell_type": "code",
   "execution_count": 51,
   "metadata": {},
   "outputs": [
    {
     "data": {
      "text/plain": [
       "(140000, 16)"
      ]
     },
     "metadata": {},
     "output_type": "display_data"
    },
    {
     "data": {
      "text/html": [
       "<div>\n",
       "<style scoped>\n",
       "    .dataframe tbody tr th:only-of-type {\n",
       "        vertical-align: middle;\n",
       "    }\n",
       "\n",
       "    .dataframe tbody tr th {\n",
       "        vertical-align: top;\n",
       "    }\n",
       "\n",
       "    .dataframe thead th {\n",
       "        text-align: right;\n",
       "    }\n",
       "</style>\n",
       "<table border=\"1\" class=\"dataframe\">\n",
       "  <thead>\n",
       "    <tr style=\"text-align: right;\">\n",
       "      <th></th>\n",
       "      <th>gender</th>\n",
       "      <th>age</th>\n",
       "    </tr>\n",
       "  </thead>\n",
       "  <tbody>\n",
       "    <tr>\n",
       "      <th>0</th>\n",
       "      <td>Женщины</td>\n",
       "      <td>138683</td>\n",
       "    </tr>\n",
       "    <tr>\n",
       "      <th>1</th>\n",
       "      <td>Мужчины</td>\n",
       "      <td>140000</td>\n",
       "    </tr>\n",
       "  </tbody>\n",
       "</table>\n",
       "</div>"
      ],
      "text/plain": [
       "    gender     age\n",
       "0  Женщины  138683\n",
       "1  Мужчины  140000"
      ]
     },
     "execution_count": 51,
     "metadata": {},
     "output_type": "execute_result"
    }
   ],
   "source": [
    "import random\n",
    "men = mamba.loc[mamba['gender'] == 'Мужчины']\n",
    "women = mamba.loc[mamba['gender'] == 'Женщины']\n",
    "menLess = random.sample(list(men.index), 140000)\n",
    "men_chosen = men.loc[men.index.isin(menLess)]\n",
    "display(men_chosen.shape)\n",
    "mamba = pd.concat([women, men_chosen])\n",
    "mamba.groupby('gender')['age'].count().reset_index()"
   ]
  },
  {
   "cell_type": "code",
   "execution_count": 58,
   "metadata": {},
   "outputs": [],
   "source": [
    "mamba['count'] = 1"
   ]
  },
  {
   "cell_type": "code",
   "execution_count": null,
   "metadata": {},
   "outputs": [],
   "source": []
  },
  {
   "cell_type": "markdown",
   "metadata": {},
   "source": [
    "<b> Убираю выбросы по возрастам.</b>\n",
    "<br> Далее я посмотрю возраста и оставлю только тех пользователей, возраста которых не попадают в диапазон выбросов, плюс уберу всех пользователей, моложе 18 лет.  "
   ]
  },
  {
   "cell_type": "code",
   "execution_count": 59,
   "metadata": {},
   "outputs": [],
   "source": [
    "ages_men = mamba.loc[mamba.gender == 'Мужчины'].groupby('age')['count'].count().reset_index()\n",
    "ages_women = mamba.loc[mamba.gender == 'Женщины'].groupby('age')['count'].count().reset_index()"
   ]
  },
  {
   "cell_type": "code",
   "execution_count": 60,
   "metadata": {},
   "outputs": [
    {
     "data": {
      "image/png": "[encoded data removed]",
      "text/plain": [
       "<Figure size 1440x432 with 1 Axes>"
      ]
     },
     "metadata": {
      "needs_background": "light"
     },
     "output_type": "display_data"
    }
   ],
   "source": [
    "import matplotlib.pyplot as plt\n",
    "fig, ax = plt.subplots(figsize = (20, 6))\n",
    "sns.barplot(data=ages_men, y='count', x='age')\n",
    "ax.set_title('Распределение мужчин по возрастам')\n",
    "ax.set_xlabel('Возраст')\n",
    "ax.set_ylabel('Количество мужчин')\n",
    "plt.xticks(rotation=90)\n",
    "plt.show()"
   ]
  },
  {
   "cell_type": "code",
   "execution_count": 61,
   "metadata": {},
   "outputs": [
    {
     "data": {
      "image/png": "[encoded data removed]",
      "text/plain": [
       "<Figure size 1440x432 with 1 Axes>"
      ]
     },
     "metadata": {
      "needs_background": "light"
     },
     "output_type": "display_data"
    }
   ],
   "source": [
    "fig, ax = plt.subplots(figsize = (20, 6))\n",
    "sns.barplot(data=ages_women, y='count', x='age')\n",
    "ax.set_title('Распределение женщин по возрастам')\n",
    "ax.set_xlabel('Возраст')\n",
    "ax.set_ylabel('Количество женщин')\n",
    "plt.xticks(rotation=90)\n",
    "plt.show()"
   ]
  },
  {
   "cell_type": "code",
   "execution_count": 62,
   "metadata": {},
   "outputs": [],
   "source": [
    "m_q75 = mamba.loc[mamba.gender == 'Мужчины', 'age'].quantile(0.75)\n",
    "m_q25 = mamba.loc[mamba.gender == 'Мужчины', 'age'].quantile(0.25)\n",
    "m_iqr = m_q75 - m_q25 \n",
    "m_age_border2 = m_q75 + (m_iqr*1.5)\n",
    "noutMen = mamba.loc[(mamba['age'] < m_age_border2) & (mamba['age'] > 17) & (mamba['gender'] == 'Мужчины')]\n",
    "outMen = mamba.loc[(mamba['age'] > m_age_border2) & (mamba['age'] < 17) & (mamba['gender'] == 'Мужчины')] \n",
    "\n",
    "w_q75 = mamba.loc[mamba.gender == 'Женщины', 'age'].quantile(0.75)\n",
    "w_q25 = mamba.loc[mamba.gender == 'Женщины', 'age'].quantile(0.25)\n",
    "w_iqr = w_q75 - w_q25 \n",
    "w_age_border2 = w_q75 + (w_iqr*1.5)\n",
    "noutWomen = mamba.loc[(mamba['age'] < w_age_border2) & (mamba['age'] > 17) & (mamba['gender'] == 'Женщины')]\n",
    "outWomen = mamba.loc[(mamba['age'] > w_age_border2) & (mamba['age'] < 17) & (mamba['gender'] == 'Женщины')] "
   ]
  },
  {
   "cell_type": "code",
   "execution_count": 63,
   "metadata": {},
   "outputs": [],
   "source": [
    "mambaNout = pd.concat([noutWomen, noutMen])\n",
    "mambaNout.to_csv('mambaNout.csv', index=False)"
   ]
  },
  {
   "cell_type": "code",
   "execution_count": 71,
   "metadata": {},
   "outputs": [
    {
     "data": {
      "image/png": "[encoded data removed]",
      "text/plain": [
       "<Figure size 864x432 with 1 Axes>"
      ]
     },
     "metadata": {},
     "output_type": "display_data"
    },
    {
     "data": {
      "image/png": "[encoded data removed]",
      "text/plain": [
       "<Figure size 864x432 with 1 Axes>"
      ]
     },
     "metadata": {
      "needs_background": "light"
     },
     "output_type": "display_data"
    }
   ],
   "source": [
    "ages_men_nout = noutMen.loc[noutMen.gender == 'Мужчины'].groupby('age')['count'].count().reset_index()\n",
    "ages_women_nout = noutWomen.loc[noutWomen.gender == 'Женщины'].groupby('age')['count'].count().reset_index()\n",
    "\n",
    "fig, ax = plt.subplots(figsize = (12, 6), tight_layout=True, facecolor=(1, 1, 1))\n",
    "sns.barplot(data=ages_men_nout, y='count', x='age')\n",
    "ax.set_title('Распределение мужчин по возрастам')\n",
    "ax.set_xlabel('Возраст')\n",
    "ax.set_ylabel('Количество мужчин')\n",
    "plt.xticks(rotation=90)\n",
    "\n",
    "fig.savefig('ages_men.png')\n",
    "\n",
    "fig, ax = plt.subplots(figsize = (12, 6))\n",
    "sns.barplot(data=ages_women_nout, y='count', x='age')\n",
    "ax.set_title('Распределение женщин по возрастам')\n",
    "ax.set_xlabel('Возраст')\n",
    "ax.set_ylabel('Количество женщин')\n",
    "plt.xticks(rotation=90)\n",
    "plt.show()\n",
    "\n",
    "fig.savefig('ages_women.png')"
   ]
  },
  {
   "cell_type": "code",
   "execution_count": 65,
   "metadata": {},
   "outputs": [
    {
     "data": {
      "application/vnd.plotly.v1+json": {
       "config": {
        "plotlyServerURL": "https://plot.ly"
       },
       "data": [
        {
         "marker": {
          "color": "purple"
         },
         "name": "Мужчины",
         "type": "bar",
         "visible": true,
         "x": [
          18,
          19,
          20,
          21,
          22,
          23,
          24,
          25,
          26,
          27,
          28,
          29,
          30,
          31,
          32,
          33,
          34,
          35,
          36,
          37,
          38,
          39,
          40,
          41,
          42,
          43,
          44,
          45,
          46,
          47,
          48,
          49,
          50,
          51,
          52,
          53,
          54,
          55,
          56,
          57,
          58,
          59,
          60
         ],
         "y": [
          2172,
          4001,
          3415,
          3904,
          5335,
          4293,
          4521,
          4612,
          4711,
          5140,
          4572,
          4442,
          4857,
          5534,
          6328,
          4714,
          5337,
          5268,
          5185,
          5211,
          4332,
          3915,
          3759,
          3379,
          4031,
          2674,
          2588,
          2510,
          2120,
          2006,
          1603,
          1392,
          1347,
          1206,
          1371,
          871,
          785,
          770,
          656,
          670,
          496,
          461,
          461
         ]
        },
        {
         "marker": {
          "color": "purple"
         },
         "name": "Женщины",
         "type": "bar",
         "visible": false,
         "x": [
          18,
          19,
          20,
          21,
          22,
          23,
          24,
          25,
          26,
          27,
          28,
          29,
          30,
          31,
          32,
          33,
          34,
          35,
          36,
          37,
          38,
          39,
          40,
          41,
          42,
          43,
          44,
          45,
          46,
          47,
          48,
          49,
          50,
          51,
          52,
          53,
          54,
          55,
          56,
          57,
          58,
          59,
          60,
          61,
          62
         ],
         "y": [
          3912,
          5209,
          4364,
          4292,
          5933,
          5125,
          4448,
          4231,
          4354,
          4888,
          4679,
          4775,
          4717,
          5388,
          5461,
          6604,
          4779,
          4671,
          4275,
          4206,
          3457,
          3386,
          3128,
          2791,
          3213,
          2383,
          2314,
          2239,
          1889,
          1893,
          1559,
          1357,
          1438,
          1216,
          1235,
          831,
          781,
          727,
          708,
          689,
          548,
          537,
          442,
          418,
          444
         ]
        }
       ],
       "layout": {
        "sliders": [
         {
          "steps": [
           {
            "args": [
             {
              "visible": [
               true,
               false
              ]
             },
             {
              "title.text": "Количество людей по возрастам на Mamba Мужчины"
             }
            ],
            "label": "Мужчины",
            "method": "update"
           },
           {
            "args": [
             {
              "visible": [
               false,
               true
              ]
             },
             {
              "title.text": "Количество людей по возрастам на Mamba Женщины"
             }
            ],
            "label": "Женщины",
            "method": "update"
           }
          ]
         }
        ],
        "template": {
         "data": {
          "bar": [
           {
            "error_x": {
             "color": "#2a3f5f"
            },
            "error_y": {
             "color": "#2a3f5f"
            },
            "marker": {
             "line": {
              "color": "#E5ECF6",
              "width": 0.5
             },
             "pattern": {
              "fillmode": "overlay",
              "size": 10,
              "solidity": 0.2
             }
            },
            "type": "bar"
           }
          ],
          "barpolar": [
           {
            "marker": {
             "line": {
              "color": "#E5ECF6",
              "width": 0.5
             },
             "pattern": {
              "fillmode": "overlay",
              "size": 10,
              "solidity": 0.2
             }
            },
            "type": "barpolar"
           }
          ],
          "carpet": [
           {
            "aaxis": {
             "endlinecolor": "#2a3f5f",
             "gridcolor": "white",
             "linecolor": "white",
             "minorgridcolor": "white",
             "startlinecolor": "#2a3f5f"
            },
            "baxis": {
             "endlinecolor": "#2a3f5f",
             "gridcolor": "white",
             "linecolor": "white",
             "minorgridcolor": "white",
             "startlinecolor": "#2a3f5f"
            },
            "type": "carpet"
           }
          ],
          "choropleth": [
           {
            "colorbar": {
             "outlinewidth": 0,
             "ticks": ""
            },
            "type": "choropleth"
           }
          ],
          "contour": [
           {
            "colorbar": {
             "outlinewidth": 0,
             "ticks": ""
            },
            "colorscale": [
             [
              0,
              "#0d0887"
             ],
             [
              0.1111111111111111,
              "#46039f"
             ],
             [
              0.2222222222222222,
              "#7201a8"
             ],
             [
              0.3333333333333333,
              "#9c179e"
             ],
             [
              0.4444444444444444,
              "#bd3786"
             ],
             [
              0.5555555555555556,
              "#d8576b"
             ],
             [
              0.6666666666666666,
              "#ed7953"
             ],
             [
              0.7777777777777778,
              "#fb9f3a"
             ],
             [
              0.8888888888888888,
              "#fdca26"
             ],
             [
              1,
              "#f0f921"
             ]
            ],
            "type": "contour"
           }
          ],
          "contourcarpet": [
           {
            "colorbar": {
             "outlinewidth": 0,
             "ticks": ""
            },
            "type": "contourcarpet"
           }
          ],
          "heatmap": [
           {
            "colorbar": {
             "outlinewidth": 0,
             "ticks": ""
            },
            "colorscale": [
             [
              0,
              "#0d0887"
             ],
             [
              0.1111111111111111,
              "#46039f"
             ],
             [
              0.2222222222222222,
              "#7201a8"
             ],
             [
              0.3333333333333333,
              "#9c179e"
             ],
             [
              0.4444444444444444,
              "#bd3786"
             ],
             [
              0.5555555555555556,
              "#d8576b"
             ],
             [
              0.6666666666666666,
              "#ed7953"
             ],
             [
              0.7777777777777778,
              "#fb9f3a"
             ],
             [
              0.8888888888888888,
              "#fdca26"
             ],
             [
              1,
              "#f0f921"
             ]
            ],
            "type": "heatmap"
           }
          ],
          "heatmapgl": [
           {
            "colorbar": {
             "outlinewidth": 0,
             "ticks": ""
            },
            "colorscale": [
             [
              0,
              "#0d0887"
             ],
             [
              0.1111111111111111,
              "#46039f"
             ],
             [
              0.2222222222222222,
              "#7201a8"
             ],
             [
              0.3333333333333333,
              "#9c179e"
             ],
             [
              0.4444444444444444,
              "#bd3786"
             ],
             [
              0.5555555555555556,
              "#d8576b"
             ],
             [
              0.6666666666666666,
              "#ed7953"
             ],
             [
              0.7777777777777778,
              "#fb9f3a"
             ],
             [
              0.8888888888888888,
              "#fdca26"
             ],
             [
              1,
              "#f0f921"
             ]
            ],
            "type": "heatmapgl"
           }
          ],
          "histogram": [
           {
            "marker": {
             "pattern": {
              "fillmode": "overlay",
              "size": 10,
              "solidity": 0.2
             }
            },
            "type": "histogram"
           }
          ],
          "histogram2d": [
           {
            "colorbar": {
             "outlinewidth": 0,
             "ticks": ""
            },
            "colorscale": [
             [
              0,
              "#0d0887"
             ],
             [
              0.1111111111111111,
              "#46039f"
             ],
             [
              0.2222222222222222,
              "#7201a8"
             ],
             [
              0.3333333333333333,
              "#9c179e"
             ],
             [
              0.4444444444444444,
              "#bd3786"
             ],
             [
              0.5555555555555556,
              "#d8576b"
             ],
             [
              0.6666666666666666,
              "#ed7953"
             ],
             [
              0.7777777777777778,
              "#fb9f3a"
             ],
             [
              0.8888888888888888,
              "#fdca26"
             ],
             [
              1,
              "#f0f921"
             ]
            ],
            "type": "histogram2d"
           }
          ],
          "histogram2dcontour": [
           {
            "colorbar": {
             "outlinewidth": 0,
             "ticks": ""
            },
            "colorscale": [
             [
              0,
              "#0d0887"
             ],
             [
              0.1111111111111111,
              "#46039f"
             ],
             [
              0.2222222222222222,
              "#7201a8"
             ],
             [
              0.3333333333333333,
              "#9c179e"
             ],
             [
              0.4444444444444444,
              "#bd3786"
             ],
             [
              0.5555555555555556,
              "#d8576b"
             ],
             [
              0.6666666666666666,
              "#ed7953"
             ],
             [
              0.7777777777777778,
              "#fb9f3a"
             ],
             [
              0.8888888888888888,
              "#fdca26"
             ],
             [
              1,
              "#f0f921"
             ]
            ],
            "type": "histogram2dcontour"
           }
          ],
          "mesh3d": [
           {
            "colorbar": {
             "outlinewidth": 0,
             "ticks": ""
            },
            "type": "mesh3d"
           }
          ],
          "parcoords": [
           {
            "line": {
             "colorbar": {
              "outlinewidth": 0,
              "ticks": ""
             }
            },
            "type": "parcoords"
           }
          ],
          "pie": [
           {
            "automargin": true,
            "type": "pie"
           }
          ],
          "scatter": [
           {
            "fillpattern": {
             "fillmode": "overlay",
             "size": 10,
             "solidity": 0.2
            },
            "type": "scatter"
           }
          ],
          "scatter3d": [
           {
            "line": {
             "colorbar": {
              "outlinewidth": 0,
              "ticks": ""
             }
            },
            "marker": {
             "colorbar": {
              "outlinewidth": 0,
              "ticks": ""
             }
            },
            "type": "scatter3d"
           }
          ],
          "scattercarpet": [
           {
            "marker": {
             "colorbar": {
              "outlinewidth": 0,
              "ticks": ""
             }
            },
            "type": "scattercarpet"
           }
          ],
          "scattergeo": [
           {
            "marker": {
             "colorbar": {
              "outlinewidth": 0,
              "ticks": ""
             }
            },
            "type": "scattergeo"
           }
          ],
          "scattergl": [
           {
            "marker": {
             "colorbar": {
              "outlinewidth": 0,
              "ticks": ""
             }
            },
            "type": "scattergl"
           }
          ],
          "scattermapbox": [
           {
            "marker": {
             "colorbar": {
              "outlinewidth": 0,
              "ticks": ""
             }
            },
            "type": "scattermapbox"
           }
          ],
          "scatterpolar": [
           {
            "marker": {
             "colorbar": {
              "outlinewidth": 0,
              "ticks": ""
             }
            },
            "type": "scatterpolar"
           }
          ],
          "scatterpolargl": [
           {
            "marker": {
             "colorbar": {
              "outlinewidth": 0,
              "ticks": ""
             }
            },
            "type": "scatterpolargl"
           }
          ],
          "scatterternary": [
           {
            "marker": {
             "colorbar": {
              "outlinewidth": 0,
              "ticks": ""
             }
            },
            "type": "scatterternary"
           }
          ],
          "surface": [
           {
            "colorbar": {
             "outlinewidth": 0,
             "ticks": ""
            },
            "colorscale": [
             [
              0,
              "#0d0887"
             ],
             [
              0.1111111111111111,
              "#46039f"
             ],
             [
              0.2222222222222222,
              "#7201a8"
             ],
             [
              0.3333333333333333,
              "#9c179e"
             ],
             [
              0.4444444444444444,
              "#bd3786"
             ],
             [
              0.5555555555555556,
              "#d8576b"
             ],
             [
              0.6666666666666666,
              "#ed7953"
             ],
             [
              0.7777777777777778,
              "#fb9f3a"
             ],
             [
              0.8888888888888888,
              "#fdca26"
             ],
             [
              1,
              "#f0f921"
             ]
            ],
            "type": "surface"
           }
          ],
          "table": [
           {
            "cells": {
             "fill": {
              "color": "#EBF0F8"
             },
             "line": {
              "color": "white"
             }
            },
            "header": {
             "fill": {
              "color": "#C8D4E3"
             },
             "line": {
              "color": "white"
             }
            },
            "type": "table"
           }
          ]
         },
         "layout": {
          "annotationdefaults": {
           "arrowcolor": "#2a3f5f",
           "arrowhead": 0,
           "arrowwidth": 1
          },
          "autotypenumbers": "strict",
          "coloraxis": {
           "colorbar": {
            "outlinewidth": 0,
            "ticks": ""
           }
          },
          "colorscale": {
           "diverging": [
            [
             0,
             "#8e0152"
            ],
            [
             0.1,
             "#c51b7d"
            ],
            [
             0.2,
             "#de77ae"
            ],
            [
             0.3,
             "#f1b6da"
            ],
            [
             0.4,
             "#fde0ef"
            ],
            [
             0.5,
             "#f7f7f7"
            ],
            [
             0.6,
             "#e6f5d0"
            ],
            [
             0.7,
             "#b8e186"
            ],
            [
             0.8,
             "#7fbc41"
            ],
            [
             0.9,
             "#4d9221"
            ],
            [
             1,
             "#276419"
            ]
           ],
           "sequential": [
            [
             0,
             "#0d0887"
            ],
            [
             0.1111111111111111,
             "#46039f"
            ],
            [
             0.2222222222222222,
             "#7201a8"
            ],
            [
             0.3333333333333333,
             "#9c179e"
            ],
            [
             0.4444444444444444,
             "#bd3786"
            ],
            [
             0.5555555555555556,
             "#d8576b"
            ],
            [
             0.6666666666666666,
             "#ed7953"
            ],
            [
             0.7777777777777778,
             "#fb9f3a"
            ],
            [
             0.8888888888888888,
             "#fdca26"
            ],
            [
             1,
             "#f0f921"
            ]
           ],
           "sequentialminus": [
            [
             0,
             "#0d0887"
            ],
            [
             0.1111111111111111,
             "#46039f"
            ],
            [
             0.2222222222222222,
             "#7201a8"
            ],
            [
             0.3333333333333333,
             "#9c179e"
            ],
            [
             0.4444444444444444,
             "#bd3786"
            ],
            [
             0.5555555555555556,
             "#d8576b"
            ],
            [
             0.6666666666666666,
             "#ed7953"
            ],
            [
             0.7777777777777778,
             "#fb9f3a"
            ],
            [
             0.8888888888888888,
             "#fdca26"
            ],
            [
             1,
             "#f0f921"
            ]
           ]
          },
          "colorway": [
           "#636efa",
           "#EF553B",
           "#00cc96",
           "#ab63fa",
           "#FFA15A",
           "#19d3f3",
           "#FF6692",
           "#B6E880",
           "#FF97FF",
           "#FECB52"
          ],
          "font": {
           "color": "#2a3f5f"
          },
          "geo": {
           "bgcolor": "white",
           "lakecolor": "white",
           "landcolor": "#E5ECF6",
           "showlakes": true,
           "showland": true,
           "subunitcolor": "white"
          },
          "hoverlabel": {
           "align": "left"
          },
          "hovermode": "closest",
          "mapbox": {
           "style": "light"
          },
          "paper_bgcolor": "white",
          "plot_bgcolor": "#E5ECF6",
          "polar": {
           "angularaxis": {
            "gridcolor": "white",
            "linecolor": "white",
            "ticks": ""
           },
           "bgcolor": "#E5ECF6",
           "radialaxis": {
            "gridcolor": "white",
            "linecolor": "white",
            "ticks": ""
           }
          },
          "scene": {
           "xaxis": {
            "backgroundcolor": "#E5ECF6",
            "gridcolor": "white",
            "gridwidth": 2,
            "linecolor": "white",
            "showbackground": true,
            "ticks": "",
            "zerolinecolor": "white"
           },
           "yaxis": {
            "backgroundcolor": "#E5ECF6",
            "gridcolor": "white",
            "gridwidth": 2,
            "linecolor": "white",
            "showbackground": true,
            "ticks": "",
            "zerolinecolor": "white"
           },
           "zaxis": {
            "backgroundcolor": "#E5ECF6",
            "gridcolor": "white",
            "gridwidth": 2,
            "linecolor": "white",
            "showbackground": true,
            "ticks": "",
            "zerolinecolor": "white"
           }
          },
          "shapedefaults": {
           "line": {
            "color": "#2a3f5f"
           }
          },
          "ternary": {
           "aaxis": {
            "gridcolor": "white",
            "linecolor": "white",
            "ticks": ""
           },
           "baxis": {
            "gridcolor": "white",
            "linecolor": "white",
            "ticks": ""
           },
           "bgcolor": "#E5ECF6",
           "caxis": {
            "gridcolor": "white",
            "linecolor": "white",
            "ticks": ""
           }
          },
          "title": {
           "x": 0.05
          },
          "xaxis": {
           "automargin": true,
           "gridcolor": "white",
           "linecolor": "white",
           "ticks": "",
           "title": {
            "standoff": 15
           },
           "zerolinecolor": "white",
           "zerolinewidth": 2
          },
          "yaxis": {
           "automargin": true,
           "gridcolor": "white",
           "linecolor": "white",
           "ticks": "",
           "title": {
            "standoff": 15
           },
           "zerolinecolor": "white",
           "zerolinewidth": 2
          }
         }
        },
        "title": {
         "text": "Количество людей по возрастам на Mamba"
        }
       }
      },
      "text/html": [
       "<div>                            <div id=\"c8480022-fe01-4400-b9f9-203b3078fc9f\" class=\"plotly-graph-div\" style=\"height:525px; width:100%;\"></div>            <script type=\"text/javascript\">                require([\"plotly\"], function(Plotly) {                    window.PLOTLYENV=window.PLOTLYENV || {};                                    if (document.getElementById(\"c8480022-fe01-4400-b9f9-203b3078fc9f\")) {                    Plotly.newPlot(                        \"c8480022-fe01-4400-b9f9-203b3078fc9f\",                        [{\"marker\":{\"color\":\"purple\"},\"name\":\"\\u041c\\u0443\\u0436\\u0447\\u0438\\u043d\\u044b\",\"visible\":true,\"x\":[18.0,19.0,20.0,21.0,22.0,23.0,24.0,25.0,26.0,27.0,28.0,29.0,30.0,31.0,32.0,33.0,34.0,35.0,36.0,37.0,38.0,39.0,40.0,41.0,42.0,43.0,44.0,45.0,46.0,47.0,48.0,49.0,50.0,51.0,52.0,53.0,54.0,55.0,56.0,57.0,58.0,59.0,60.0],\"y\":[2172,4001,3415,3904,5335,4293,4521,4612,4711,5140,4572,4442,4857,5534,6328,4714,5337,5268,5185,5211,4332,3915,3759,3379,4031,2674,2588,2510,2120,2006,1603,1392,1347,1206,1371,871,785,770,656,670,496,461,461],\"type\":\"bar\"},{\"marker\":{\"color\":\"purple\"},\"name\":\"\\u0416\\u0435\\u043d\\u0449\\u0438\\u043d\\u044b\",\"visible\":false,\"x\":[18.0,19.0,20.0,21.0,22.0,23.0,24.0,25.0,26.0,27.0,28.0,29.0,30.0,31.0,32.0,33.0,34.0,35.0,36.0,37.0,38.0,39.0,40.0,41.0,42.0,43.0,44.0,45.0,46.0,47.0,48.0,49.0,50.0,51.0,52.0,53.0,54.0,55.0,56.0,57.0,58.0,59.0,60.0,61.0,62.0],\"y\":[3912,5209,4364,4292,5933,5125,4448,4231,4354,4888,4679,4775,4717,5388,5461,6604,4779,4671,4275,4206,3457,3386,3128,2791,3213,2383,2314,2239,1889,1893,1559,1357,1438,1216,1235,831,781,727,708,689,548,537,442,418,444],\"type\":\"bar\"}],                        {\"template\":{\"data\":{\"histogram2dcontour\":[{\"type\":\"histogram2dcontour\",\"colorbar\":{\"outlinewidth\":0,\"ticks\":\"\"},\"colorscale\":[[0.0,\"#0d0887\"],[0.1111111111111111,\"#46039f\"],[0.2222222222222222,\"#7201a8\"],[0.3333333333333333,\"#9c179e\"],[0.4444444444444444,\"#bd3786\"],[0.5555555555555556,\"#d8576b\"],[0.6666666666666666,\"#ed7953\"],[0.7777777777777778,\"#fb9f3a\"],[0.8888888888888888,\"#fdca26\"],[1.0,\"#f0f921\"]]}],\"choropleth\":[{\"type\":\"choropleth\",\"colorbar\":{\"outlinewidth\":0,\"ticks\":\"\"}}],\"histogram2d\":[{\"type\":\"histogram2d\",\"colorbar\":{\"outlinewidth\":0,\"ticks\":\"\"},\"colorscale\":[[0.0,\"#0d0887\"],[0.1111111111111111,\"#46039f\"],[0.2222222222222222,\"#7201a8\"],[0.3333333333333333,\"#9c179e\"],[0.4444444444444444,\"#bd3786\"],[0.5555555555555556,\"#d8576b\"],[0.6666666666666666,\"#ed7953\"],[0.7777777777777778,\"#fb9f3a\"],[0.8888888888888888,\"#fdca26\"],[1.0,\"#f0f921\"]]}],\"heatmap\":[{\"type\":\"heatmap\",\"colorbar\":{\"outlinewidth\":0,\"ticks\":\"\"},\"colorscale\":[[0.0,\"#0d0887\"],[0.1111111111111111,\"#46039f\"],[0.2222222222222222,\"#7201a8\"],[0.3333333333333333,\"#9c179e\"],[0.4444444444444444,\"#bd3786\"],[0.5555555555555556,\"#d8576b\"],[0.6666666666666666,\"#ed7953\"],[0.7777777777777778,\"#fb9f3a\"],[0.8888888888888888,\"#fdca26\"],[1.0,\"#f0f921\"]]}],\"heatmapgl\":[{\"type\":\"heatmapgl\",\"colorbar\":{\"outlinewidth\":0,\"ticks\":\"\"},\"colorscale\":[[0.0,\"#0d0887\"],[0.1111111111111111,\"#46039f\"],[0.2222222222222222,\"#7201a8\"],[0.3333333333333333,\"#9c179e\"],[0.4444444444444444,\"#bd3786\"],[0.5555555555555556,\"#d8576b\"],[0.6666666666666666,\"#ed7953\"],[0.7777777777777778,\"#fb9f3a\"],[0.8888888888888888,\"#fdca26\"],[1.0,\"#f0f921\"]]}],\"contourcarpet\":[{\"type\":\"contourcarpet\",\"colorbar\":{\"outlinewidth\":0,\"ticks\":\"\"}}],\"contour\":[{\"type\":\"contour\",\"colorbar\":{\"outlinewidth\":0,\"ticks\":\"\"},\"colorscale\":[[0.0,\"#0d0887\"],[0.1111111111111111,\"#46039f\"],[0.2222222222222222,\"#7201a8\"],[0.3333333333333333,\"#9c179e\"],[0.4444444444444444,\"#bd3786\"],[0.5555555555555556,\"#d8576b\"],[0.6666666666666666,\"#ed7953\"],[0.7777777777777778,\"#fb9f3a\"],[0.8888888888888888,\"#fdca26\"],[1.0,\"#f0f921\"]]}],\"surface\":[{\"type\":\"surface\",\"colorbar\":{\"outlinewidth\":0,\"ticks\":\"\"},\"colorscale\":[[0.0,\"#0d0887\"],[0.1111111111111111,\"#46039f\"],[0.2222222222222222,\"#7201a8\"],[0.3333333333333333,\"#9c179e\"],[0.4444444444444444,\"#bd3786\"],[0.5555555555555556,\"#d8576b\"],[0.6666666666666666,\"#ed7953\"],[0.7777777777777778,\"#fb9f3a\"],[0.8888888888888888,\"#fdca26\"],[1.0,\"#f0f921\"]]}],\"mesh3d\":[{\"type\":\"mesh3d\",\"colorbar\":{\"outlinewidth\":0,\"ticks\":\"\"}}],\"scatter\":[{\"fillpattern\":{\"fillmode\":\"overlay\",\"size\":10,\"solidity\":0.2},\"type\":\"scatter\"}],\"parcoords\":[{\"type\":\"parcoords\",\"line\":{\"colorbar\":{\"outlinewidth\":0,\"ticks\":\"\"}}}],\"scatterpolargl\":[{\"type\":\"scatterpolargl\",\"marker\":{\"colorbar\":{\"outlinewidth\":0,\"ticks\":\"\"}}}],\"bar\":[{\"error_x\":{\"color\":\"#2a3f5f\"},\"error_y\":{\"color\":\"#2a3f5f\"},\"marker\":{\"line\":{\"color\":\"#E5ECF6\",\"width\":0.5},\"pattern\":{\"fillmode\":\"overlay\",\"size\":10,\"solidity\":0.2}},\"type\":\"bar\"}],\"scattergeo\":[{\"type\":\"scattergeo\",\"marker\":{\"colorbar\":{\"outlinewidth\":0,\"ticks\":\"\"}}}],\"scatterpolar\":[{\"type\":\"scatterpolar\",\"marker\":{\"colorbar\":{\"outlinewidth\":0,\"ticks\":\"\"}}}],\"histogram\":[{\"marker\":{\"pattern\":{\"fillmode\":\"overlay\",\"size\":10,\"solidity\":0.2}},\"type\":\"histogram\"}],\"scattergl\":[{\"type\":\"scattergl\",\"marker\":{\"colorbar\":{\"outlinewidth\":0,\"ticks\":\"\"}}}],\"scatter3d\":[{\"type\":\"scatter3d\",\"line\":{\"colorbar\":{\"outlinewidth\":0,\"ticks\":\"\"}},\"marker\":{\"colorbar\":{\"outlinewidth\":0,\"ticks\":\"\"}}}],\"scattermapbox\":[{\"type\":\"scattermapbox\",\"marker\":{\"colorbar\":{\"outlinewidth\":0,\"ticks\":\"\"}}}],\"scatterternary\":[{\"type\":\"scatterternary\",\"marker\":{\"colorbar\":{\"outlinewidth\":0,\"ticks\":\"\"}}}],\"scattercarpet\":[{\"type\":\"scattercarpet\",\"marker\":{\"colorbar\":{\"outlinewidth\":0,\"ticks\":\"\"}}}],\"carpet\":[{\"aaxis\":{\"endlinecolor\":\"#2a3f5f\",\"gridcolor\":\"white\",\"linecolor\":\"white\",\"minorgridcolor\":\"white\",\"startlinecolor\":\"#2a3f5f\"},\"baxis\":{\"endlinecolor\":\"#2a3f5f\",\"gridcolor\":\"white\",\"linecolor\":\"white\",\"minorgridcolor\":\"white\",\"startlinecolor\":\"#2a3f5f\"},\"type\":\"carpet\"}],\"table\":[{\"cells\":{\"fill\":{\"color\":\"#EBF0F8\"},\"line\":{\"color\":\"white\"}},\"header\":{\"fill\":{\"color\":\"#C8D4E3\"},\"line\":{\"color\":\"white\"}},\"type\":\"table\"}],\"barpolar\":[{\"marker\":{\"line\":{\"color\":\"#E5ECF6\",\"width\":0.5},\"pattern\":{\"fillmode\":\"overlay\",\"size\":10,\"solidity\":0.2}},\"type\":\"barpolar\"}],\"pie\":[{\"automargin\":true,\"type\":\"pie\"}]},\"layout\":{\"autotypenumbers\":\"strict\",\"colorway\":[\"#636efa\",\"#EF553B\",\"#00cc96\",\"#ab63fa\",\"#FFA15A\",\"#19d3f3\",\"#FF6692\",\"#B6E880\",\"#FF97FF\",\"#FECB52\"],\"font\":{\"color\":\"#2a3f5f\"},\"hovermode\":\"closest\",\"hoverlabel\":{\"align\":\"left\"},\"paper_bgcolor\":\"white\",\"plot_bgcolor\":\"#E5ECF6\",\"polar\":{\"bgcolor\":\"#E5ECF6\",\"angularaxis\":{\"gridcolor\":\"white\",\"linecolor\":\"white\",\"ticks\":\"\"},\"radialaxis\":{\"gridcolor\":\"white\",\"linecolor\":\"white\",\"ticks\":\"\"}},\"ternary\":{\"bgcolor\":\"#E5ECF6\",\"aaxis\":{\"gridcolor\":\"white\",\"linecolor\":\"white\",\"ticks\":\"\"},\"baxis\":{\"gridcolor\":\"white\",\"linecolor\":\"white\",\"ticks\":\"\"},\"caxis\":{\"gridcolor\":\"white\",\"linecolor\":\"white\",\"ticks\":\"\"}},\"coloraxis\":{\"colorbar\":{\"outlinewidth\":0,\"ticks\":\"\"}},\"colorscale\":{\"sequential\":[[0.0,\"#0d0887\"],[0.1111111111111111,\"#46039f\"],[0.2222222222222222,\"#7201a8\"],[0.3333333333333333,\"#9c179e\"],[0.4444444444444444,\"#bd3786\"],[0.5555555555555556,\"#d8576b\"],[0.6666666666666666,\"#ed7953\"],[0.7777777777777778,\"#fb9f3a\"],[0.8888888888888888,\"#fdca26\"],[1.0,\"#f0f921\"]],\"sequentialminus\":[[0.0,\"#0d0887\"],[0.1111111111111111,\"#46039f\"],[0.2222222222222222,\"#7201a8\"],[0.3333333333333333,\"#9c179e\"],[0.4444444444444444,\"#bd3786\"],[0.5555555555555556,\"#d8576b\"],[0.6666666666666666,\"#ed7953\"],[0.7777777777777778,\"#fb9f3a\"],[0.8888888888888888,\"#fdca26\"],[1.0,\"#f0f921\"]],\"diverging\":[[0,\"#8e0152\"],[0.1,\"#c51b7d\"],[0.2,\"#de77ae\"],[0.3,\"#f1b6da\"],[0.4,\"#fde0ef\"],[0.5,\"#f7f7f7\"],[0.6,\"#e6f5d0\"],[0.7,\"#b8e186\"],[0.8,\"#7fbc41\"],[0.9,\"#4d9221\"],[1,\"#276419\"]]},\"xaxis\":{\"gridcolor\":\"white\",\"linecolor\":\"white\",\"ticks\":\"\",\"title\":{\"standoff\":15},\"zerolinecolor\":\"white\",\"automargin\":true,\"zerolinewidth\":2},\"yaxis\":{\"gridcolor\":\"white\",\"linecolor\":\"white\",\"ticks\":\"\",\"title\":{\"standoff\":15},\"zerolinecolor\":\"white\",\"automargin\":true,\"zerolinewidth\":2},\"scene\":{\"xaxis\":{\"backgroundcolor\":\"#E5ECF6\",\"gridcolor\":\"white\",\"linecolor\":\"white\",\"showbackground\":true,\"ticks\":\"\",\"zerolinecolor\":\"white\",\"gridwidth\":2},\"yaxis\":{\"backgroundcolor\":\"#E5ECF6\",\"gridcolor\":\"white\",\"linecolor\":\"white\",\"showbackground\":true,\"ticks\":\"\",\"zerolinecolor\":\"white\",\"gridwidth\":2},\"zaxis\":{\"backgroundcolor\":\"#E5ECF6\",\"gridcolor\":\"white\",\"linecolor\":\"white\",\"showbackground\":true,\"ticks\":\"\",\"zerolinecolor\":\"white\",\"gridwidth\":2}},\"shapedefaults\":{\"line\":{\"color\":\"#2a3f5f\"}},\"annotationdefaults\":{\"arrowcolor\":\"#2a3f5f\",\"arrowhead\":0,\"arrowwidth\":1},\"geo\":{\"bgcolor\":\"white\",\"landcolor\":\"#E5ECF6\",\"subunitcolor\":\"white\",\"showland\":true,\"showlakes\":true,\"lakecolor\":\"white\"},\"title\":{\"x\":0.05},\"mapbox\":{\"style\":\"light\"}}},\"sliders\":[{\"steps\":[{\"args\":[{\"visible\":[true,false]},{\"title.text\":\"\\u041a\\u043e\\u043b\\u0438\\u0447\\u0435\\u0441\\u0442\\u0432\\u043e \\u043b\\u044e\\u0434\\u0435\\u0439 \\u043f\\u043e \\u0432\\u043e\\u0437\\u0440\\u0430\\u0441\\u0442\\u0430\\u043c \\u043d\\u0430 Mamba \\u041c\\u0443\\u0436\\u0447\\u0438\\u043d\\u044b\"}],\"label\":\"\\u041c\\u0443\\u0436\\u0447\\u0438\\u043d\\u044b\",\"method\":\"update\"},{\"args\":[{\"visible\":[false,true]},{\"title.text\":\"\\u041a\\u043e\\u043b\\u0438\\u0447\\u0435\\u0441\\u0442\\u0432\\u043e \\u043b\\u044e\\u0434\\u0435\\u0439 \\u043f\\u043e \\u0432\\u043e\\u0437\\u0440\\u0430\\u0441\\u0442\\u0430\\u043c \\u043d\\u0430 Mamba \\u0416\\u0435\\u043d\\u0449\\u0438\\u043d\\u044b\"}],\"label\":\"\\u0416\\u0435\\u043d\\u0449\\u0438\\u043d\\u044b\",\"method\":\"update\"}]}],\"title\":{\"text\":\"\\u041a\\u043e\\u043b\\u0438\\u0447\\u0435\\u0441\\u0442\\u0432\\u043e \\u043b\\u044e\\u0434\\u0435\\u0439 \\u043f\\u043e \\u0432\\u043e\\u0437\\u0440\\u0430\\u0441\\u0442\\u0430\\u043c \\u043d\\u0430 Mamba\"}},                        {\"responsive\": true}                    ).then(function(){\n",
       "                            \n",
       "var gd = document.getElementById('c8480022-fe01-4400-b9f9-203b3078fc9f');\n",
       "var x = new MutationObserver(function (mutations, observer) {{\n",
       "        var display = window.getComputedStyle(gd).display;\n",
       "        if (!display || display === 'none') {{\n",
       "            console.log([gd, 'removed!']);\n",
       "            Plotly.purge(gd);\n",
       "            observer.disconnect();\n",
       "        }}\n",
       "}});\n",
       "\n",
       "// Listen for the removal of the full notebook cells\n",
       "var notebookContainer = gd.closest('#notebook-container');\n",
       "if (notebookContainer) {{\n",
       "    x.observe(notebookContainer, {childList: true});\n",
       "}}\n",
       "\n",
       "// Listen for the clearing of the current output cell\n",
       "var outputEl = gd.closest('.output');\n",
       "if (outputEl) {{\n",
       "    x.observe(outputEl, {childList: true});\n",
       "}}\n",
       "\n",
       "                        })                };                });            </script>        </div>"
      ]
     },
     "metadata": {},
     "output_type": "display_data"
    }
   ],
   "source": [
    "post = go.Figure()\n",
    "genders = ['Мужчины', 'Женщины']\n",
    "for gen in genders: \n",
    "    visible = False \n",
    "    if gen == 'Мужчины':\n",
    "        visible = True\n",
    "    data = mambaNout.loc[mambaNout.gender == gen].groupby('age')['count'].count().reset_index()\n",
    "    post.add_trace(\n",
    "        go.Bar(x=data['age'], y=data['count'], visible = visible, name = gen, marker_color='purple'\n",
    "        )\n",
    "    )\n",
    "    \n",
    "steps = []\n",
    "for i in range(len(genders)):\n",
    "    to_add = []\n",
    "    for j in range(len(genders)): \n",
    "        if i == j:\n",
    "            to_add.append(True)\n",
    "        else:\n",
    "            to_add.append(False)\n",
    "    a_step = dict(\n",
    "        method='update',\n",
    "        args = [\n",
    "            {'visible' : to_add}, \n",
    "            {'title.text' : 'Количество людей по возрастам на Mamba ' + genders[i]}\n",
    "        ], \n",
    "        label = genders[i]\n",
    "    )\n",
    "    steps.append(a_step)\n",
    "\n",
    "post.update_layout(\n",
    "    sliders=[dict(\n",
    "        steps=steps\n",
    "    )]\n",
    ")\n",
    "\n",
    "post.update_layout(title='Количество людей по возрастам на Mamba')\n",
    "\n",
    "post.show()"
   ]
  },
  {
   "cell_type": "markdown",
   "metadata": {},
   "source": [
    "### Уберу хвосты в возрастах и положу их в отдельный датасет"
   ]
  },
  {
   "cell_type": "code",
   "execution_count": 72,
   "metadata": {},
   "outputs": [],
   "source": [
    "mamba_age45 = mambaNout.loc[(mambaNout['age'] >=18) & (mambaNout['age'] <=45)]\n",
    "mamba1845 = mambaNout.loc[(mambaNout['age'] < 18) & (mambaNout['age'] >45)]\n",
    "mamba_age45.to_csv('mambaNot18-45.csv', index=False)\n",
    "mamba1845.to_csv('mambaLess18More45.csv', index=False)\n"
   ]
  },
  {
   "cell_type": "code",
   "execution_count": 73,
   "metadata": {},
   "outputs": [
    {
     "data": {
      "application/vnd.plotly.v1+json": {
       "config": {
        "plotlyServerURL": "https://plot.ly"
       },
       "data": [
        {
         "marker": {
          "color": "purple"
         },
         "name": "Мужчины",
         "type": "bar",
         "visible": true,
         "x": [
          18,
          19,
          20,
          21,
          22,
          23,
          24,
          25,
          26,
          27,
          28,
          29,
          30,
          31,
          32,
          33,
          34,
          35,
          36,
          37,
          38,
          39,
          40,
          41,
          42,
          43,
          44,
          45
         ],
         "y": [
          2172,
          4001,
          3415,
          3904,
          5335,
          4293,
          4521,
          4612,
          4711,
          5140,
          4572,
          4442,
          4857,
          5534,
          6328,
          4714,
          5337,
          5268,
          5185,
          5211,
          4332,
          3915,
          3759,
          3379,
          4031,
          2674,
          2588,
          2510
         ]
        },
        {
         "marker": {
          "color": "purple"
         },
         "name": "Женщины",
         "type": "bar",
         "visible": false,
         "x": [
          18,
          19,
          20,
          21,
          22,
          23,
          24,
          25,
          26,
          27,
          28,
          29,
          30,
          31,
          32,
          33,
          34,
          35,
          36,
          37,
          38,
          39,
          40,
          41,
          42,
          43,
          44,
          45
         ],
         "y": [
          3912,
          5209,
          4364,
          4292,
          5933,
          5125,
          4448,
          4231,
          4354,
          4888,
          4679,
          4775,
          4717,
          5388,
          5461,
          6604,
          4779,
          4671,
          4275,
          4206,
          3457,
          3386,
          3128,
          2791,
          3213,
          2383,
          2314,
          2239
         ]
        }
       ],
       "layout": {
        "sliders": [
         {
          "steps": [
           {
            "args": [
             {
              "visible": [
               true,
               false
              ]
             },
             {
              "title.text": "Количество людей по возрастам на Mamba Мужчины"
             }
            ],
            "label": "Мужчины",
            "method": "update"
           },
           {
            "args": [
             {
              "visible": [
               false,
               true
              ]
             },
             {
              "title.text": "Количество людей по возрастам на Mamba Женщины"
             }
            ],
            "label": "Женщины",
            "method": "update"
           }
          ]
         }
        ],
        "template": {
         "data": {
          "bar": [
           {
            "error_x": {
             "color": "#2a3f5f"
            },
            "error_y": {
             "color": "#2a3f5f"
            },
            "marker": {
             "line": {
              "color": "#E5ECF6",
              "width": 0.5
             },
             "pattern": {
              "fillmode": "overlay",
              "size": 10,
              "solidity": 0.2
             }
            },
            "type": "bar"
           }
          ],
          "barpolar": [
           {
            "marker": {
             "line": {
              "color": "#E5ECF6",
              "width": 0.5
             },
             "pattern": {
              "fillmode": "overlay",
              "size": 10,
              "solidity": 0.2
             }
            },
            "type": "barpolar"
           }
          ],
          "carpet": [
           {
            "aaxis": {
             "endlinecolor": "#2a3f5f",
             "gridcolor": "white",
             "linecolor": "white",
             "minorgridcolor": "white",
             "startlinecolor": "#2a3f5f"
            },
            "baxis": {
             "endlinecolor": "#2a3f5f",
             "gridcolor": "white",
             "linecolor": "white",
             "minorgridcolor": "white",
             "startlinecolor": "#2a3f5f"
            },
            "type": "carpet"
           }
          ],
          "choropleth": [
           {
            "colorbar": {
             "outlinewidth": 0,
             "ticks": ""
            },
            "type": "choropleth"
           }
          ],
          "contour": [
           {
            "colorbar": {
             "outlinewidth": 0,
             "ticks": ""
            },
            "colorscale": [
             [
              0,
              "#0d0887"
             ],
             [
              0.1111111111111111,
              "#46039f"
             ],
             [
              0.2222222222222222,
              "#7201a8"
             ],
             [
              0.3333333333333333,
              "#9c179e"
             ],
             [
              0.4444444444444444,
              "#bd3786"
             ],
             [
              0.5555555555555556,
              "#d8576b"
             ],
             [
              0.6666666666666666,
              "#ed7953"
             ],
             [
              0.7777777777777778,
              "#fb9f3a"
             ],
             [
              0.8888888888888888,
              "#fdca26"
             ],
             [
              1,
              "#f0f921"
             ]
            ],
            "type": "contour"
           }
          ],
          "contourcarpet": [
           {
            "colorbar": {
             "outlinewidth": 0,
             "ticks": ""
            },
            "type": "contourcarpet"
           }
          ],
          "heatmap": [
           {
            "colorbar": {
             "outlinewidth": 0,
             "ticks": ""
            },
            "colorscale": [
             [
              0,
              "#0d0887"
             ],
             [
              0.1111111111111111,
              "#46039f"
             ],
             [
              0.2222222222222222,
              "#7201a8"
             ],
             [
              0.3333333333333333,
              "#9c179e"
             ],
             [
              0.4444444444444444,
              "#bd3786"
             ],
             [
              0.5555555555555556,
              "#d8576b"
             ],
             [
              0.6666666666666666,
              "#ed7953"
             ],
             [
              0.7777777777777778,
              "#fb9f3a"
             ],
             [
              0.8888888888888888,
              "#fdca26"
             ],
             [
              1,
              "#f0f921"
             ]
            ],
            "type": "heatmap"
           }
          ],
          "heatmapgl": [
           {
            "colorbar": {
             "outlinewidth": 0,
             "ticks": ""
            },
            "colorscale": [
             [
              0,
              "#0d0887"
             ],
             [
              0.1111111111111111,
              "#46039f"
             ],
             [
              0.2222222222222222,
              "#7201a8"
             ],
             [
              0.3333333333333333,
              "#9c179e"
             ],
             [
              0.4444444444444444,
              "#bd3786"
             ],
             [
              0.5555555555555556,
              "#d8576b"
             ],
             [
              0.6666666666666666,
              "#ed7953"
             ],
             [
              0.7777777777777778,
              "#fb9f3a"
             ],
             [
              0.8888888888888888,
              "#fdca26"
             ],
             [
              1,
              "#f0f921"
             ]
            ],
            "type": "heatmapgl"
           }
          ],
          "histogram": [
           {
            "marker": {
             "pattern": {
              "fillmode": "overlay",
              "size": 10,
              "solidity": 0.2
             }
            },
            "type": "histogram"
           }
          ],
          "histogram2d": [
           {
            "colorbar": {
             "outlinewidth": 0,
             "ticks": ""
            },
            "colorscale": [
             [
              0,
              "#0d0887"
             ],
             [
              0.1111111111111111,
              "#46039f"
             ],
             [
              0.2222222222222222,
              "#7201a8"
             ],
             [
              0.3333333333333333,
              "#9c179e"
             ],
             [
              0.4444444444444444,
              "#bd3786"
             ],
             [
              0.5555555555555556,
              "#d8576b"
             ],
             [
              0.6666666666666666,
              "#ed7953"
             ],
             [
              0.7777777777777778,
              "#fb9f3a"
             ],
             [
              0.8888888888888888,
              "#fdca26"
             ],
             [
              1,
              "#f0f921"
             ]
            ],
            "type": "histogram2d"
           }
          ],
          "histogram2dcontour": [
           {
            "colorbar": {
             "outlinewidth": 0,
             "ticks": ""
            },
            "colorscale": [
             [
              0,
              "#0d0887"
             ],
             [
              0.1111111111111111,
              "#46039f"
             ],
             [
              0.2222222222222222,
              "#7201a8"
             ],
             [
              0.3333333333333333,
              "#9c179e"
             ],
             [
              0.4444444444444444,
              "#bd3786"
             ],
             [
              0.5555555555555556,
              "#d8576b"
             ],
             [
              0.6666666666666666,
              "#ed7953"
             ],
             [
              0.7777777777777778,
              "#fb9f3a"
             ],
             [
              0.8888888888888888,
              "#fdca26"
             ],
             [
              1,
              "#f0f921"
             ]
            ],
            "type": "histogram2dcontour"
           }
          ],
          "mesh3d": [
           {
            "colorbar": {
             "outlinewidth": 0,
             "ticks": ""
            },
            "type": "mesh3d"
           }
          ],
          "parcoords": [
           {
            "line": {
             "colorbar": {
              "outlinewidth": 0,
              "ticks": ""
             }
            },
            "type": "parcoords"
           }
          ],
          "pie": [
           {
            "automargin": true,
            "type": "pie"
           }
          ],
          "scatter": [
           {
            "fillpattern": {
             "fillmode": "overlay",
             "size": 10,
             "solidity": 0.2
            },
            "type": "scatter"
           }
          ],
          "scatter3d": [
           {
            "line": {
             "colorbar": {
              "outlinewidth": 0,
              "ticks": ""
             }
            },
            "marker": {
             "colorbar": {
              "outlinewidth": 0,
              "ticks": ""
             }
            },
            "type": "scatter3d"
           }
          ],
          "scattercarpet": [
           {
            "marker": {
             "colorbar": {
              "outlinewidth": 0,
              "ticks": ""
             }
            },
            "type": "scattercarpet"
           }
          ],
          "scattergeo": [
           {
            "marker": {
             "colorbar": {
              "outlinewidth": 0,
              "ticks": ""
             }
            },
            "type": "scattergeo"
           }
          ],
          "scattergl": [
           {
            "marker": {
             "colorbar": {
              "outlinewidth": 0,
              "ticks": ""
             }
            },
            "type": "scattergl"
           }
          ],
          "scattermapbox": [
           {
            "marker": {
             "colorbar": {
              "outlinewidth": 0,
              "ticks": ""
             }
            },
            "type": "scattermapbox"
           }
          ],
          "scatterpolar": [
           {
            "marker": {
             "colorbar": {
              "outlinewidth": 0,
              "ticks": ""
             }
            },
            "type": "scatterpolar"
           }
          ],
          "scatterpolargl": [
           {
            "marker": {
             "colorbar": {
              "outlinewidth": 0,
              "ticks": ""
             }
            },
            "type": "scatterpolargl"
           }
          ],
          "scatterternary": [
           {
            "marker": {
             "colorbar": {
              "outlinewidth": 0,
              "ticks": ""
             }
            },
            "type": "scatterternary"
           }
          ],
          "surface": [
           {
            "colorbar": {
             "outlinewidth": 0,
             "ticks": ""
            },
            "colorscale": [
             [
              0,
              "#0d0887"
             ],
             [
              0.1111111111111111,
              "#46039f"
             ],
             [
              0.2222222222222222,
              "#7201a8"
             ],
             [
              0.3333333333333333,
              "#9c179e"
             ],
             [
              0.4444444444444444,
              "#bd3786"
             ],
             [
              0.5555555555555556,
              "#d8576b"
             ],
             [
              0.6666666666666666,
              "#ed7953"
             ],
             [
              0.7777777777777778,
              "#fb9f3a"
             ],
             [
              0.8888888888888888,
              "#fdca26"
             ],
             [
              1,
              "#f0f921"
             ]
            ],
            "type": "surface"
           }
          ],
          "table": [
           {
            "cells": {
             "fill": {
              "color": "#EBF0F8"
             },
             "line": {
              "color": "white"
             }
            },
            "header": {
             "fill": {
              "color": "#C8D4E3"
             },
             "line": {
              "color": "white"
             }
            },
            "type": "table"
           }
          ]
         },
         "layout": {
          "annotationdefaults": {
           "arrowcolor": "#2a3f5f",
           "arrowhead": 0,
           "arrowwidth": 1
          },
          "autotypenumbers": "strict",
          "coloraxis": {
           "colorbar": {
            "outlinewidth": 0,
            "ticks": ""
           }
          },
          "colorscale": {
           "diverging": [
            [
             0,
             "#8e0152"
            ],
            [
             0.1,
             "#c51b7d"
            ],
            [
             0.2,
             "#de77ae"
            ],
            [
             0.3,
             "#f1b6da"
            ],
            [
             0.4,
             "#fde0ef"
            ],
            [
             0.5,
             "#f7f7f7"
            ],
            [
             0.6,
             "#e6f5d0"
            ],
            [
             0.7,
             "#b8e186"
            ],
            [
             0.8,
             "#7fbc41"
            ],
            [
             0.9,
             "#4d9221"
            ],
            [
             1,
             "#276419"
            ]
           ],
           "sequential": [
            [
             0,
             "#0d0887"
            ],
            [
             0.1111111111111111,
             "#46039f"
            ],
            [
             0.2222222222222222,
             "#7201a8"
            ],
            [
             0.3333333333333333,
             "#9c179e"
            ],
            [
             0.4444444444444444,
             "#bd3786"
            ],
            [
             0.5555555555555556,
             "#d8576b"
            ],
            [
             0.6666666666666666,
             "#ed7953"
            ],
            [
             0.7777777777777778,
             "#fb9f3a"
            ],
            [
             0.8888888888888888,
             "#fdca26"
            ],
            [
             1,
             "#f0f921"
            ]
           ],
           "sequentialminus": [
            [
             0,
             "#0d0887"
            ],
            [
             0.1111111111111111,
             "#46039f"
            ],
            [
             0.2222222222222222,
             "#7201a8"
            ],
            [
             0.3333333333333333,
             "#9c179e"
            ],
            [
             0.4444444444444444,
             "#bd3786"
            ],
            [
             0.5555555555555556,
             "#d8576b"
            ],
            [
             0.6666666666666666,
             "#ed7953"
            ],
            [
             0.7777777777777778,
             "#fb9f3a"
            ],
            [
             0.8888888888888888,
             "#fdca26"
            ],
            [
             1,
             "#f0f921"
            ]
           ]
          },
          "colorway": [
           "#636efa",
           "#EF553B",
           "#00cc96",
           "#ab63fa",
           "#FFA15A",
           "#19d3f3",
           "#FF6692",
           "#B6E880",
           "#FF97FF",
           "#FECB52"
          ],
          "font": {
           "color": "#2a3f5f"
          },
          "geo": {
           "bgcolor": "white",
           "lakecolor": "white",
           "landcolor": "#E5ECF6",
           "showlakes": true,
           "showland": true,
           "subunitcolor": "white"
          },
          "hoverlabel": {
           "align": "left"
          },
          "hovermode": "closest",
          "mapbox": {
           "style": "light"
          },
          "paper_bgcolor": "white",
          "plot_bgcolor": "#E5ECF6",
          "polar": {
           "angularaxis": {
            "gridcolor": "white",
            "linecolor": "white",
            "ticks": ""
           },
           "bgcolor": "#E5ECF6",
           "radialaxis": {
            "gridcolor": "white",
            "linecolor": "white",
            "ticks": ""
           }
          },
          "scene": {
           "xaxis": {
            "backgroundcolor": "#E5ECF6",
            "gridcolor": "white",
            "gridwidth": 2,
            "linecolor": "white",
            "showbackground": true,
            "ticks": "",
            "zerolinecolor": "white"
           },
           "yaxis": {
            "backgroundcolor": "#E5ECF6",
            "gridcolor": "white",
            "gridwidth": 2,
            "linecolor": "white",
            "showbackground": true,
            "ticks": "",
            "zerolinecolor": "white"
           },
           "zaxis": {
            "backgroundcolor": "#E5ECF6",
            "gridcolor": "white",
            "gridwidth": 2,
            "linecolor": "white",
            "showbackground": true,
            "ticks": "",
            "zerolinecolor": "white"
           }
          },
          "shapedefaults": {
           "line": {
            "color": "#2a3f5f"
           }
          },
          "ternary": {
           "aaxis": {
            "gridcolor": "white",
            "linecolor": "white",
            "ticks": ""
           },
           "baxis": {
            "gridcolor": "white",
            "linecolor": "white",
            "ticks": ""
           },
           "bgcolor": "#E5ECF6",
           "caxis": {
            "gridcolor": "white",
            "linecolor": "white",
            "ticks": ""
           }
          },
          "title": {
           "x": 0.05
          },
          "xaxis": {
           "automargin": true,
           "gridcolor": "white",
           "linecolor": "white",
           "ticks": "",
           "title": {
            "standoff": 15
           },
           "zerolinecolor": "white",
           "zerolinewidth": 2
          },
          "yaxis": {
           "automargin": true,
           "gridcolor": "white",
           "linecolor": "white",
           "ticks": "",
           "title": {
            "standoff": 15
           },
           "zerolinecolor": "white",
           "zerolinewidth": 2
          }
         }
        },
        "title": {
         "text": "Количество людей по возрастам на Mamba"
        }
       }
      },
      "text/html": [
       "<div>                            <div id=\"71585e44-a75a-4e91-b09d-c791ddda06f3\" class=\"plotly-graph-div\" style=\"height:525px; width:100%;\"></div>            <script type=\"text/javascript\">                require([\"plotly\"], function(Plotly) {                    window.PLOTLYENV=window.PLOTLYENV || {};                                    if (document.getElementById(\"71585e44-a75a-4e91-b09d-c791ddda06f3\")) {                    Plotly.newPlot(                        \"71585e44-a75a-4e91-b09d-c791ddda06f3\",                        [{\"marker\":{\"color\":\"purple\"},\"name\":\"\\u041c\\u0443\\u0436\\u0447\\u0438\\u043d\\u044b\",\"visible\":true,\"x\":[18.0,19.0,20.0,21.0,22.0,23.0,24.0,25.0,26.0,27.0,28.0,29.0,30.0,31.0,32.0,33.0,34.0,35.0,36.0,37.0,38.0,39.0,40.0,41.0,42.0,43.0,44.0,45.0],\"y\":[2172,4001,3415,3904,5335,4293,4521,4612,4711,5140,4572,4442,4857,5534,6328,4714,5337,5268,5185,5211,4332,3915,3759,3379,4031,2674,2588,2510],\"type\":\"bar\"},{\"marker\":{\"color\":\"purple\"},\"name\":\"\\u0416\\u0435\\u043d\\u0449\\u0438\\u043d\\u044b\",\"visible\":false,\"x\":[18.0,19.0,20.0,21.0,22.0,23.0,24.0,25.0,26.0,27.0,28.0,29.0,30.0,31.0,32.0,33.0,34.0,35.0,36.0,37.0,38.0,39.0,40.0,41.0,42.0,43.0,44.0,45.0],\"y\":[3912,5209,4364,4292,5933,5125,4448,4231,4354,4888,4679,4775,4717,5388,5461,6604,4779,4671,4275,4206,3457,3386,3128,2791,3213,2383,2314,2239],\"type\":\"bar\"}],                        {\"template\":{\"data\":{\"histogram2dcontour\":[{\"type\":\"histogram2dcontour\",\"colorbar\":{\"outlinewidth\":0,\"ticks\":\"\"},\"colorscale\":[[0.0,\"#0d0887\"],[0.1111111111111111,\"#46039f\"],[0.2222222222222222,\"#7201a8\"],[0.3333333333333333,\"#9c179e\"],[0.4444444444444444,\"#bd3786\"],[0.5555555555555556,\"#d8576b\"],[0.6666666666666666,\"#ed7953\"],[0.7777777777777778,\"#fb9f3a\"],[0.8888888888888888,\"#fdca26\"],[1.0,\"#f0f921\"]]}],\"choropleth\":[{\"type\":\"choropleth\",\"colorbar\":{\"outlinewidth\":0,\"ticks\":\"\"}}],\"histogram2d\":[{\"type\":\"histogram2d\",\"colorbar\":{\"outlinewidth\":0,\"ticks\":\"\"},\"colorscale\":[[0.0,\"#0d0887\"],[0.1111111111111111,\"#46039f\"],[0.2222222222222222,\"#7201a8\"],[0.3333333333333333,\"#9c179e\"],[0.4444444444444444,\"#bd3786\"],[0.5555555555555556,\"#d8576b\"],[0.6666666666666666,\"#ed7953\"],[0.7777777777777778,\"#fb9f3a\"],[0.8888888888888888,\"#fdca26\"],[1.0,\"#f0f921\"]]}],\"heatmap\":[{\"type\":\"heatmap\",\"colorbar\":{\"outlinewidth\":0,\"ticks\":\"\"},\"colorscale\":[[0.0,\"#0d0887\"],[0.1111111111111111,\"#46039f\"],[0.2222222222222222,\"#7201a8\"],[0.3333333333333333,\"#9c179e\"],[0.4444444444444444,\"#bd3786\"],[0.5555555555555556,\"#d8576b\"],[0.6666666666666666,\"#ed7953\"],[0.7777777777777778,\"#fb9f3a\"],[0.8888888888888888,\"#fdca26\"],[1.0,\"#f0f921\"]]}],\"heatmapgl\":[{\"type\":\"heatmapgl\",\"colorbar\":{\"outlinewidth\":0,\"ticks\":\"\"},\"colorscale\":[[0.0,\"#0d0887\"],[0.1111111111111111,\"#46039f\"],[0.2222222222222222,\"#7201a8\"],[0.3333333333333333,\"#9c179e\"],[0.4444444444444444,\"#bd3786\"],[0.5555555555555556,\"#d8576b\"],[0.6666666666666666,\"#ed7953\"],[0.7777777777777778,\"#fb9f3a\"],[0.8888888888888888,\"#fdca26\"],[1.0,\"#f0f921\"]]}],\"contourcarpet\":[{\"type\":\"contourcarpet\",\"colorbar\":{\"outlinewidth\":0,\"ticks\":\"\"}}],\"contour\":[{\"type\":\"contour\",\"colorbar\":{\"outlinewidth\":0,\"ticks\":\"\"},\"colorscale\":[[0.0,\"#0d0887\"],[0.1111111111111111,\"#46039f\"],[0.2222222222222222,\"#7201a8\"],[0.3333333333333333,\"#9c179e\"],[0.4444444444444444,\"#bd3786\"],[0.5555555555555556,\"#d8576b\"],[0.6666666666666666,\"#ed7953\"],[0.7777777777777778,\"#fb9f3a\"],[0.8888888888888888,\"#fdca26\"],[1.0,\"#f0f921\"]]}],\"surface\":[{\"type\":\"surface\",\"colorbar\":{\"outlinewidth\":0,\"ticks\":\"\"},\"colorscale\":[[0.0,\"#0d0887\"],[0.1111111111111111,\"#46039f\"],[0.2222222222222222,\"#7201a8\"],[0.3333333333333333,\"#9c179e\"],[0.4444444444444444,\"#bd3786\"],[0.5555555555555556,\"#d8576b\"],[0.6666666666666666,\"#ed7953\"],[0.7777777777777778,\"#fb9f3a\"],[0.8888888888888888,\"#fdca26\"],[1.0,\"#f0f921\"]]}],\"mesh3d\":[{\"type\":\"mesh3d\",\"colorbar\":{\"outlinewidth\":0,\"ticks\":\"\"}}],\"scatter\":[{\"fillpattern\":{\"fillmode\":\"overlay\",\"size\":10,\"solidity\":0.2},\"type\":\"scatter\"}],\"parcoords\":[{\"type\":\"parcoords\",\"line\":{\"colorbar\":{\"outlinewidth\":0,\"ticks\":\"\"}}}],\"scatterpolargl\":[{\"type\":\"scatterpolargl\",\"marker\":{\"colorbar\":{\"outlinewidth\":0,\"ticks\":\"\"}}}],\"bar\":[{\"error_x\":{\"color\":\"#2a3f5f\"},\"error_y\":{\"color\":\"#2a3f5f\"},\"marker\":{\"line\":{\"color\":\"#E5ECF6\",\"width\":0.5},\"pattern\":{\"fillmode\":\"overlay\",\"size\":10,\"solidity\":0.2}},\"type\":\"bar\"}],\"scattergeo\":[{\"type\":\"scattergeo\",\"marker\":{\"colorbar\":{\"outlinewidth\":0,\"ticks\":\"\"}}}],\"scatterpolar\":[{\"type\":\"scatterpolar\",\"marker\":{\"colorbar\":{\"outlinewidth\":0,\"ticks\":\"\"}}}],\"histogram\":[{\"marker\":{\"pattern\":{\"fillmode\":\"overlay\",\"size\":10,\"solidity\":0.2}},\"type\":\"histogram\"}],\"scattergl\":[{\"type\":\"scattergl\",\"marker\":{\"colorbar\":{\"outlinewidth\":0,\"ticks\":\"\"}}}],\"scatter3d\":[{\"type\":\"scatter3d\",\"line\":{\"colorbar\":{\"outlinewidth\":0,\"ticks\":\"\"}},\"marker\":{\"colorbar\":{\"outlinewidth\":0,\"ticks\":\"\"}}}],\"scattermapbox\":[{\"type\":\"scattermapbox\",\"marker\":{\"colorbar\":{\"outlinewidth\":0,\"ticks\":\"\"}}}],\"scatterternary\":[{\"type\":\"scatterternary\",\"marker\":{\"colorbar\":{\"outlinewidth\":0,\"ticks\":\"\"}}}],\"scattercarpet\":[{\"type\":\"scattercarpet\",\"marker\":{\"colorbar\":{\"outlinewidth\":0,\"ticks\":\"\"}}}],\"carpet\":[{\"aaxis\":{\"endlinecolor\":\"#2a3f5f\",\"gridcolor\":\"white\",\"linecolor\":\"white\",\"minorgridcolor\":\"white\",\"startlinecolor\":\"#2a3f5f\"},\"baxis\":{\"endlinecolor\":\"#2a3f5f\",\"gridcolor\":\"white\",\"linecolor\":\"white\",\"minorgridcolor\":\"white\",\"startlinecolor\":\"#2a3f5f\"},\"type\":\"carpet\"}],\"table\":[{\"cells\":{\"fill\":{\"color\":\"#EBF0F8\"},\"line\":{\"color\":\"white\"}},\"header\":{\"fill\":{\"color\":\"#C8D4E3\"},\"line\":{\"color\":\"white\"}},\"type\":\"table\"}],\"barpolar\":[{\"marker\":{\"line\":{\"color\":\"#E5ECF6\",\"width\":0.5},\"pattern\":{\"fillmode\":\"overlay\",\"size\":10,\"solidity\":0.2}},\"type\":\"barpolar\"}],\"pie\":[{\"automargin\":true,\"type\":\"pie\"}]},\"layout\":{\"autotypenumbers\":\"strict\",\"colorway\":[\"#636efa\",\"#EF553B\",\"#00cc96\",\"#ab63fa\",\"#FFA15A\",\"#19d3f3\",\"#FF6692\",\"#B6E880\",\"#FF97FF\",\"#FECB52\"],\"font\":{\"color\":\"#2a3f5f\"},\"hovermode\":\"closest\",\"hoverlabel\":{\"align\":\"left\"},\"paper_bgcolor\":\"white\",\"plot_bgcolor\":\"#E5ECF6\",\"polar\":{\"bgcolor\":\"#E5ECF6\",\"angularaxis\":{\"gridcolor\":\"white\",\"linecolor\":\"white\",\"ticks\":\"\"},\"radialaxis\":{\"gridcolor\":\"white\",\"linecolor\":\"white\",\"ticks\":\"\"}},\"ternary\":{\"bgcolor\":\"#E5ECF6\",\"aaxis\":{\"gridcolor\":\"white\",\"linecolor\":\"white\",\"ticks\":\"\"},\"baxis\":{\"gridcolor\":\"white\",\"linecolor\":\"white\",\"ticks\":\"\"},\"caxis\":{\"gridcolor\":\"white\",\"linecolor\":\"white\",\"ticks\":\"\"}},\"coloraxis\":{\"colorbar\":{\"outlinewidth\":0,\"ticks\":\"\"}},\"colorscale\":{\"sequential\":[[0.0,\"#0d0887\"],[0.1111111111111111,\"#46039f\"],[0.2222222222222222,\"#7201a8\"],[0.3333333333333333,\"#9c179e\"],[0.4444444444444444,\"#bd3786\"],[0.5555555555555556,\"#d8576b\"],[0.6666666666666666,\"#ed7953\"],[0.7777777777777778,\"#fb9f3a\"],[0.8888888888888888,\"#fdca26\"],[1.0,\"#f0f921\"]],\"sequentialminus\":[[0.0,\"#0d0887\"],[0.1111111111111111,\"#46039f\"],[0.2222222222222222,\"#7201a8\"],[0.3333333333333333,\"#9c179e\"],[0.4444444444444444,\"#bd3786\"],[0.5555555555555556,\"#d8576b\"],[0.6666666666666666,\"#ed7953\"],[0.7777777777777778,\"#fb9f3a\"],[0.8888888888888888,\"#fdca26\"],[1.0,\"#f0f921\"]],\"diverging\":[[0,\"#8e0152\"],[0.1,\"#c51b7d\"],[0.2,\"#de77ae\"],[0.3,\"#f1b6da\"],[0.4,\"#fde0ef\"],[0.5,\"#f7f7f7\"],[0.6,\"#e6f5d0\"],[0.7,\"#b8e186\"],[0.8,\"#7fbc41\"],[0.9,\"#4d9221\"],[1,\"#276419\"]]},\"xaxis\":{\"gridcolor\":\"white\",\"linecolor\":\"white\",\"ticks\":\"\",\"title\":{\"standoff\":15},\"zerolinecolor\":\"white\",\"automargin\":true,\"zerolinewidth\":2},\"yaxis\":{\"gridcolor\":\"white\",\"linecolor\":\"white\",\"ticks\":\"\",\"title\":{\"standoff\":15},\"zerolinecolor\":\"white\",\"automargin\":true,\"zerolinewidth\":2},\"scene\":{\"xaxis\":{\"backgroundcolor\":\"#E5ECF6\",\"gridcolor\":\"white\",\"linecolor\":\"white\",\"showbackground\":true,\"ticks\":\"\",\"zerolinecolor\":\"white\",\"gridwidth\":2},\"yaxis\":{\"backgroundcolor\":\"#E5ECF6\",\"gridcolor\":\"white\",\"linecolor\":\"white\",\"showbackground\":true,\"ticks\":\"\",\"zerolinecolor\":\"white\",\"gridwidth\":2},\"zaxis\":{\"backgroundcolor\":\"#E5ECF6\",\"gridcolor\":\"white\",\"linecolor\":\"white\",\"showbackground\":true,\"ticks\":\"\",\"zerolinecolor\":\"white\",\"gridwidth\":2}},\"shapedefaults\":{\"line\":{\"color\":\"#2a3f5f\"}},\"annotationdefaults\":{\"arrowcolor\":\"#2a3f5f\",\"arrowhead\":0,\"arrowwidth\":1},\"geo\":{\"bgcolor\":\"white\",\"landcolor\":\"#E5ECF6\",\"subunitcolor\":\"white\",\"showland\":true,\"showlakes\":true,\"lakecolor\":\"white\"},\"title\":{\"x\":0.05},\"mapbox\":{\"style\":\"light\"}}},\"sliders\":[{\"steps\":[{\"args\":[{\"visible\":[true,false]},{\"title.text\":\"\\u041a\\u043e\\u043b\\u0438\\u0447\\u0435\\u0441\\u0442\\u0432\\u043e \\u043b\\u044e\\u0434\\u0435\\u0439 \\u043f\\u043e \\u0432\\u043e\\u0437\\u0440\\u0430\\u0441\\u0442\\u0430\\u043c \\u043d\\u0430 Mamba \\u041c\\u0443\\u0436\\u0447\\u0438\\u043d\\u044b\"}],\"label\":\"\\u041c\\u0443\\u0436\\u0447\\u0438\\u043d\\u044b\",\"method\":\"update\"},{\"args\":[{\"visible\":[false,true]},{\"title.text\":\"\\u041a\\u043e\\u043b\\u0438\\u0447\\u0435\\u0441\\u0442\\u0432\\u043e \\u043b\\u044e\\u0434\\u0435\\u0439 \\u043f\\u043e \\u0432\\u043e\\u0437\\u0440\\u0430\\u0441\\u0442\\u0430\\u043c \\u043d\\u0430 Mamba \\u0416\\u0435\\u043d\\u0449\\u0438\\u043d\\u044b\"}],\"label\":\"\\u0416\\u0435\\u043d\\u0449\\u0438\\u043d\\u044b\",\"method\":\"update\"}]}],\"title\":{\"text\":\"\\u041a\\u043e\\u043b\\u0438\\u0447\\u0435\\u0441\\u0442\\u0432\\u043e \\u043b\\u044e\\u0434\\u0435\\u0439 \\u043f\\u043e \\u0432\\u043e\\u0437\\u0440\\u0430\\u0441\\u0442\\u0430\\u043c \\u043d\\u0430 Mamba\"}},                        {\"responsive\": true}                    ).then(function(){\n",
       "                            \n",
       "var gd = document.getElementById('71585e44-a75a-4e91-b09d-c791ddda06f3');\n",
       "var x = new MutationObserver(function (mutations, observer) {{\n",
       "        var display = window.getComputedStyle(gd).display;\n",
       "        if (!display || display === 'none') {{\n",
       "            console.log([gd, 'removed!']);\n",
       "            Plotly.purge(gd);\n",
       "            observer.disconnect();\n",
       "        }}\n",
       "}});\n",
       "\n",
       "// Listen for the removal of the full notebook cells\n",
       "var notebookContainer = gd.closest('#notebook-container');\n",
       "if (notebookContainer) {{\n",
       "    x.observe(notebookContainer, {childList: true});\n",
       "}}\n",
       "\n",
       "// Listen for the clearing of the current output cell\n",
       "var outputEl = gd.closest('.output');\n",
       "if (outputEl) {{\n",
       "    x.observe(outputEl, {childList: true});\n",
       "}}\n",
       "\n",
       "                        })                };                });            </script>        </div>"
      ]
     },
     "metadata": {},
     "output_type": "display_data"
    }
   ],
   "source": [
    "post = go.Figure()\n",
    "genders = ['Мужчины', 'Женщины']\n",
    "for gen in genders: \n",
    "    visible = False \n",
    "    if gen == 'Мужчины':\n",
    "        visible = True\n",
    "    data = mamba_age45.loc[mamba_age45.gender == gen].groupby('age')['count'].count().reset_index()\n",
    "    post.add_trace(\n",
    "        go.Bar(x=data['age'], y=data['count'], visible = visible, name = gen, marker_color='purple'\n",
    "        )\n",
    "    )\n",
    "    \n",
    "steps = []\n",
    "for i in range(len(genders)):\n",
    "    to_add = []\n",
    "    for j in range(len(genders)): \n",
    "        if i == j:\n",
    "            to_add.append(True)\n",
    "        else:\n",
    "            to_add.append(False)\n",
    "    a_step = dict(\n",
    "        method='update',\n",
    "        args = [\n",
    "            {'visible' : to_add}, \n",
    "            {'title.text' : 'Количество людей по возрастам на Mamba ' + genders[i]}\n",
    "        ], \n",
    "        label = genders[i]\n",
    "    )\n",
    "    steps.append(a_step)\n",
    "\n",
    "post.update_layout(\n",
    "    sliders=[dict(\n",
    "        steps=steps\n",
    "    )]\n",
    ")\n",
    "\n",
    "post.update_layout(title='Количество людей по возрастам на Mamba')\n",
    "\n",
    "post.show()"
   ]
  },
  {
   "cell_type": "markdown",
   "metadata": {},
   "source": [
    "#### Добавлю вспомогательные столбцы"
   ]
  },
  {
   "cell_type": "code",
   "execution_count": 16,
   "metadata": {
    "scrolled": true
   },
   "outputs": [
    {
     "data": {
      "text/plain": [
       "Index(['about', 'age', 'aim', 'children', 'city', 'edu', 'gender', 'height',\n",
       "       'intrestedin', 'language', 'live', 'partnerage', 'photocount', 'smoke',\n",
       "       'weight', 'id', 'count'],\n",
       "      dtype='object')"
      ]
     },
     "metadata": {},
     "output_type": "display_data"
    },
    {
     "data": {
      "text/html": [
       "<div>\n",
       "<style scoped>\n",
       "    .dataframe tbody tr th:only-of-type {\n",
       "        vertical-align: middle;\n",
       "    }\n",
       "\n",
       "    .dataframe tbody tr th {\n",
       "        vertical-align: top;\n",
       "    }\n",
       "\n",
       "    .dataframe thead th {\n",
       "        text-align: right;\n",
       "    }\n",
       "</style>\n",
       "<table border=\"1\" class=\"dataframe\">\n",
       "  <thead>\n",
       "    <tr style=\"text-align: right;\">\n",
       "      <th></th>\n",
       "      <th>about</th>\n",
       "      <th>age</th>\n",
       "      <th>aim</th>\n",
       "      <th>children</th>\n",
       "      <th>city</th>\n",
       "      <th>edu</th>\n",
       "      <th>gender</th>\n",
       "      <th>height</th>\n",
       "      <th>intrestedin</th>\n",
       "      <th>language</th>\n",
       "      <th>live</th>\n",
       "      <th>partnerage</th>\n",
       "      <th>photocount</th>\n",
       "      <th>smoke</th>\n",
       "      <th>weight</th>\n",
       "      <th>id</th>\n",
       "      <th>count</th>\n",
       "    </tr>\n",
       "  </thead>\n",
       "  <tbody>\n",
       "    <tr>\n",
       "      <th>0</th>\n",
       "      <td>NaN</td>\n",
       "      <td>41.0</td>\n",
       "      <td>NaN</td>\n",
       "      <td>NaN</td>\n",
       "      <td>Старобельск</td>\n",
       "      <td>NaN</td>\n",
       "      <td>Женщины</td>\n",
       "      <td>165.0</td>\n",
       "      <td>парень</td>\n",
       "      <td>Русский, Укра</td>\n",
       "      <td>NaN</td>\n",
       "      <td>25 - 40</td>\n",
       "      <td>0.0</td>\n",
       "      <td>Курю</td>\n",
       "      <td>65.0</td>\n",
       "      <td>NaN</td>\n",
       "      <td>1</td>\n",
       "    </tr>\n",
       "    <tr>\n",
       "      <th>1</th>\n",
       "      <td>NaN</td>\n",
       "      <td>36.0</td>\n",
       "      <td>NaN</td>\n",
       "      <td>NaN</td>\n",
       "      <td>Краснодар</td>\n",
       "      <td>NaN</td>\n",
       "      <td>Женщины</td>\n",
       "      <td>NaN</td>\n",
       "      <td>парень</td>\n",
       "      <td>Русский</td>\n",
       "      <td>NaN</td>\n",
       "      <td>33 - 37</td>\n",
       "      <td>0.0</td>\n",
       "      <td>NaN</td>\n",
       "      <td>NaN</td>\n",
       "      <td>NaN</td>\n",
       "      <td>1</td>\n",
       "    </tr>\n",
       "    <tr>\n",
       "      <th>2</th>\n",
       "      <td>Не ищу приключений.\\nНе ищу спонсоров, альфонс...</td>\n",
       "      <td>39.0</td>\n",
       "      <td>переписка, флирт, дружба, общение, отношения, ...</td>\n",
       "      <td>Детей нет</td>\n",
       "      <td>Дюссельдорф</td>\n",
       "      <td>NaN</td>\n",
       "      <td>Женщины</td>\n",
       "      <td>167.0</td>\n",
       "      <td>парень</td>\n",
       "      <td>Deutsch</td>\n",
       "      <td>Отдельная квартира</td>\n",
       "      <td>36 - 40</td>\n",
       "      <td>0.0</td>\n",
       "      <td>Не курю</td>\n",
       "      <td>NaN</td>\n",
       "      <td>NaN</td>\n",
       "      <td>1</td>\n",
       "    </tr>\n",
       "  </tbody>\n",
       "</table>\n",
       "</div>"
      ],
      "text/plain": [
       "                                               about   age  \\\n",
       "0                                                NaN  41.0   \n",
       "1                                                NaN  36.0   \n",
       "2  Не ищу приключений.\\nНе ищу спонсоров, альфонс...  39.0   \n",
       "\n",
       "                                                 aim   children         city  \\\n",
       "0                                                NaN        NaN  Старобельск   \n",
       "1                                                NaN        NaN    Краснодар   \n",
       "2  переписка, флирт, дружба, общение, отношения, ...  Детей нет  Дюссельдорф   \n",
       "\n",
       "   edu   gender  height intrestedin       language                live  \\\n",
       "0  NaN  Женщины   165.0      парень  Русский, Укра                 NaN   \n",
       "1  NaN  Женщины     NaN      парень        Русский                 NaN   \n",
       "2  NaN  Женщины   167.0      парень        Deutsch  Отдельная квартира   \n",
       "\n",
       "  partnerage  photocount    smoke  weight  id  count  \n",
       "0    25 - 40         0.0     Курю    65.0 NaN      1  \n",
       "1    33 - 37         0.0      NaN     NaN NaN      1  \n",
       "2    36 - 40         0.0  Не курю     NaN NaN      1  "
      ]
     },
     "execution_count": 16,
     "metadata": {},
     "output_type": "execute_result"
    }
   ],
   "source": [
    "mambadf = pd.read_csv('mambaNot18-45.csv')\n",
    "display(mambadf.columns)\n",
    "mambadf.head(3)"
   ]
  },
  {
   "cell_type": "code",
   "execution_count": 17,
   "metadata": {},
   "outputs": [],
   "source": [
    "#Функция считает диапазон возраста партнера\n",
    "\n",
    "def get_partnerage(agik):\n",
    "    agik = str(agik)\n",
    "    start_age = agik[:2]\n",
    "    end_age = agik[-2:]\n",
    "    return start_age, end_age \n",
    "\n",
    "par_ages = pd.Series(np.array(mambadf.partnerage))\n",
    "mambadf['range_partner_age'] = par_ages.apply(get_partnerage)"
   ]
  },
  {
   "cell_type": "code",
   "execution_count": 18,
   "metadata": {},
   "outputs": [],
   "source": [
    "#функция считает диапазон возраста партнера, который указывает владелец анкеты \n",
    "\n",
    "def partner_age_range(agik):\n",
    "    try:\n",
    "        end_age = agik[1]\n",
    "        start_age = agik[0]\n",
    "        rangeAge = int(end_age) - int(start_age)\n",
    "    except:\n",
    "        rangeAge = np.nan\n",
    "    return rangeAge\n",
    "\n",
    "age_range = pd.Series(np.array(mambadf.range_partner_age))\n",
    "mambadf['rangeAge'] = age_range.apply(partner_age_range) "
   ]
  },
  {
   "cell_type": "code",
   "execution_count": 19,
   "metadata": {},
   "outputs": [
    {
     "data": {
      "text/plain": [
       "отношения                                                                           43225\n",
       "встреча, свидание                                                                   25850\n",
       "флирт                                                                               19086\n",
       "флирт, отношения, встреча, свидание                                                  3039\n",
       "дружба, общение                                                                      2728\n",
       "флирт, встреча, свидание                                                             2198\n",
       "переписка, дружба, общение                                                           1924\n",
       "переписка, флирт, дружба, общение, отношения, встреча, свидание                      1766\n",
       "отношения, встреча, свидание                                                         1636\n",
       "брак, создание семьи, отношения                                                      1605\n",
       "дружба, общение, отношения                                                           1124\n",
       "дружба, общение, отношения, встреча, свидание                                        1082\n",
       "переписка, флирт, встреча, свидание                                                  1034\n",
       "брак, создание семьи                                                                  994\n",
       "переписка, дружба, общение, отношения                                                 915\n",
       "переписка, флирт, дружба, общение, встреча, свидание                                  880\n",
       "дружба, общение, встреча, свидание                                                    814\n",
       "переписка, дружба, общение, отношения, встреча, свидание                              814\n",
       "переписка, брак, создание семьи, дружба, общение, отношения, встреча, свидание        768\n",
       "брак, создание семьи, отношения, встреча, свидание                                    744\n",
       "переписка, флирт, дружба, общение                                                     729\n",
       "переписка, брак, создание семьи, флирт, дружба, общение, отношения                    696\n",
       "переписка, дружба, общение, встреча, свидание                                         679\n",
       "флирт, дружба, общение, встреча, свидание                                             662\n",
       "брак, создание семьи, дружба, общение, отношения, встреча, свидание                   626\n",
       "флирт, дружба, общение, отношения, встреча, свидание                                  609\n",
       "брак, создание семьи, дружба, общение, отношения                                      607\n",
       "переписка, флирт, дружба, общение, отношения                                          597\n",
       "брак, создание семьи, флирт, дружба, общение, отношения, встреча, свидание            580\n",
       "флирт, отношения                                                                      483\n",
       "переписка                                                                             389\n",
       "брак, создание семьи, дружба, общение, отношения, встреча, свидание, путешествия      366\n",
       "переписка, дружба, общение, отношения, встреча, свидание, путешествия                 342\n",
       "переписка, брак, создание семьи, дружба, общение, отношения                           335\n",
       "флирт, дружба, общение                                                                329\n",
       "флирт, дружба, общение, отношения, встреча, свидание, путешествия                     280\n",
       "брак, создание семьи, флирт, отношения, встреча, свидание                             278\n",
       "переписка, флирт, отношения, встреча, свидание                                        264\n",
       "переписка, флирт, дружба, общение, встреча, свидание, путешествия                     239\n",
       "переписка, флирт                                                                      237\n",
       "Name: aim, dtype: int64"
      ]
     },
     "execution_count": 19,
     "metadata": {},
     "output_type": "execute_result"
    }
   ],
   "source": [
    "mambadf.aim.value_counts()[:40]"
   ]
  },
  {
   "cell_type": "code",
   "execution_count": 20,
   "metadata": {},
   "outputs": [],
   "source": [
    "#цели слишком разнородны, поэтому \"сожму\" эту разнородность до 5 устойчивых целей\n",
    "\n",
    "def determine_aim(aims): \n",
    "    try: \n",
    "        if len(aims.split(',')) > 3 or len(aims.split(' ')) > 3:\n",
    "            return 'unsure'\n",
    "        elif 'брак' in aims or 'создание семьи' in aims: \n",
    "            return 'family-person'\n",
    "        elif aims == 'отношения':\n",
    "            return 'relationships'\n",
    "        elif 'флирт' in aims or'свидание' in aims or'встреча' in aims: \n",
    "            return 'casual'\n",
    "        elif 'дружба' in aims or 'общение' in aims or 'переписка' in aims:\n",
    "            return 'friendy'\n",
    "        else:\n",
    "            return aims\n",
    "    except:\n",
    "        return 'failed'\n",
    "    \n",
    "all_aims = pd.Series(np.array(mambadf.aim))\n",
    "all_aims = all_aims.fillna('unknown')\n",
    "mambadf['simpleaim'] = all_aims.apply(determine_aim)"
   ]
  },
  {
   "cell_type": "code",
   "execution_count": 21,
   "metadata": {},
   "outputs": [],
   "source": [
    "#добавлю столбец, где показано, сколько в процентах от общего числа приходится на 1 женщину и 1 мужчину для будущих расчетов\n",
    "\n",
    "mambadf['percent'] = 0.01\n",
    "mambadf.loc[mambadf.gender == 'Женщины', 'percent'] = 100 / mambadf.gender.value_counts()['Женщины']\n",
    "mambadf.loc[mambadf.gender == 'Мужчины', 'percent'] = 100 / mambadf.gender.value_counts()['Мужчины']"
   ]
  },
  {
   "cell_type": "code",
   "execution_count": 22,
   "metadata": {},
   "outputs": [],
   "source": [
    "#добавляю младший возраст диапазона у тех, кого ищут\n",
    "\n",
    "def get_start_age(agik):\n",
    "    try:\n",
    "        start_age = int(agik[0]) #because in a column there is tuple in a string and in tuple are string too\n",
    "    except:\n",
    "        start_age = np.nan\n",
    "    return start_age\n",
    "\n",
    "age_range = pd.Series(np.array(mambadf.range_partner_age))\n",
    "mambadf['start_age'] = age_range.apply(get_start_age)"
   ]
  },
  {
   "cell_type": "code",
   "execution_count": 23,
   "metadata": {},
   "outputs": [
    {
     "data": {
      "text/plain": [
       "Index(['about', 'age', 'aim', 'children', 'city', 'edu', 'gender', 'height',\n",
       "       'intrestedin', 'language', 'live', 'partnerage', 'photocount', 'smoke',\n",
       "       'weight', 'id', 'count', 'range_partner_age', 'rangeAge', 'simpleaim',\n",
       "       'percent', 'start_age'],\n",
       "      dtype='object')"
      ]
     },
     "metadata": {},
     "output_type": "display_data"
    },
    {
     "data": {
      "text/html": [
       "<div>\n",
       "<style scoped>\n",
       "    .dataframe tbody tr th:only-of-type {\n",
       "        vertical-align: middle;\n",
       "    }\n",
       "\n",
       "    .dataframe tbody tr th {\n",
       "        vertical-align: top;\n",
       "    }\n",
       "\n",
       "    .dataframe thead th {\n",
       "        text-align: right;\n",
       "    }\n",
       "</style>\n",
       "<table border=\"1\" class=\"dataframe\">\n",
       "  <thead>\n",
       "    <tr style=\"text-align: right;\">\n",
       "      <th></th>\n",
       "      <th>about</th>\n",
       "      <th>age</th>\n",
       "      <th>aim</th>\n",
       "      <th>children</th>\n",
       "      <th>city</th>\n",
       "      <th>edu</th>\n",
       "      <th>gender</th>\n",
       "      <th>height</th>\n",
       "      <th>intrestedin</th>\n",
       "      <th>language</th>\n",
       "      <th>...</th>\n",
       "      <th>photocount</th>\n",
       "      <th>smoke</th>\n",
       "      <th>weight</th>\n",
       "      <th>id</th>\n",
       "      <th>count</th>\n",
       "      <th>range_partner_age</th>\n",
       "      <th>rangeAge</th>\n",
       "      <th>simpleaim</th>\n",
       "      <th>percent</th>\n",
       "      <th>start_age</th>\n",
       "    </tr>\n",
       "  </thead>\n",
       "  <tbody>\n",
       "    <tr>\n",
       "      <th>0</th>\n",
       "      <td>NaN</td>\n",
       "      <td>41.0</td>\n",
       "      <td>NaN</td>\n",
       "      <td>NaN</td>\n",
       "      <td>Старобельск</td>\n",
       "      <td>NaN</td>\n",
       "      <td>Женщины</td>\n",
       "      <td>165.0</td>\n",
       "      <td>парень</td>\n",
       "      <td>Русский, Укра</td>\n",
       "      <td>...</td>\n",
       "      <td>0.0</td>\n",
       "      <td>Курю</td>\n",
       "      <td>65.0</td>\n",
       "      <td>NaN</td>\n",
       "      <td>1</td>\n",
       "      <td>(25, 40)</td>\n",
       "      <td>15.0</td>\n",
       "      <td>unknown</td>\n",
       "      <td>0.000839</td>\n",
       "      <td>25.0</td>\n",
       "    </tr>\n",
       "    <tr>\n",
       "      <th>1</th>\n",
       "      <td>NaN</td>\n",
       "      <td>36.0</td>\n",
       "      <td>NaN</td>\n",
       "      <td>NaN</td>\n",
       "      <td>Краснодар</td>\n",
       "      <td>NaN</td>\n",
       "      <td>Женщины</td>\n",
       "      <td>NaN</td>\n",
       "      <td>парень</td>\n",
       "      <td>Русский</td>\n",
       "      <td>...</td>\n",
       "      <td>0.0</td>\n",
       "      <td>NaN</td>\n",
       "      <td>NaN</td>\n",
       "      <td>NaN</td>\n",
       "      <td>1</td>\n",
       "      <td>(33, 37)</td>\n",
       "      <td>4.0</td>\n",
       "      <td>unknown</td>\n",
       "      <td>0.000839</td>\n",
       "      <td>33.0</td>\n",
       "    </tr>\n",
       "    <tr>\n",
       "      <th>2</th>\n",
       "      <td>Не ищу приключений.\\nНе ищу спонсоров, альфонс...</td>\n",
       "      <td>39.0</td>\n",
       "      <td>переписка, флирт, дружба, общение, отношения, ...</td>\n",
       "      <td>Детей нет</td>\n",
       "      <td>Дюссельдорф</td>\n",
       "      <td>NaN</td>\n",
       "      <td>Женщины</td>\n",
       "      <td>167.0</td>\n",
       "      <td>парень</td>\n",
       "      <td>Deutsch</td>\n",
       "      <td>...</td>\n",
       "      <td>0.0</td>\n",
       "      <td>Не курю</td>\n",
       "      <td>NaN</td>\n",
       "      <td>NaN</td>\n",
       "      <td>1</td>\n",
       "      <td>(36, 40)</td>\n",
       "      <td>4.0</td>\n",
       "      <td>unsure</td>\n",
       "      <td>0.000839</td>\n",
       "      <td>36.0</td>\n",
       "    </tr>\n",
       "    <tr>\n",
       "      <th>3</th>\n",
       "      <td>NaN</td>\n",
       "      <td>28.0</td>\n",
       "      <td>брак, создание семьи, дружба, общение, отношения</td>\n",
       "      <td>NaN</td>\n",
       "      <td>Кременчуг</td>\n",
       "      <td>NaN</td>\n",
       "      <td>Женщины</td>\n",
       "      <td>163.0</td>\n",
       "      <td>парень</td>\n",
       "      <td>Русский</td>\n",
       "      <td>...</td>\n",
       "      <td>0.0</td>\n",
       "      <td>NaN</td>\n",
       "      <td>85.0</td>\n",
       "      <td>NaN</td>\n",
       "      <td>1</td>\n",
       "      <td>(25, 31)</td>\n",
       "      <td>6.0</td>\n",
       "      <td>unsure</td>\n",
       "      <td>0.000839</td>\n",
       "      <td>25.0</td>\n",
       "    </tr>\n",
       "    <tr>\n",
       "      <th>4</th>\n",
       "      <td>NaN</td>\n",
       "      <td>44.0</td>\n",
       "      <td>встреча, свидание</td>\n",
       "      <td>NaN</td>\n",
       "      <td>Донецк</td>\n",
       "      <td>NaN</td>\n",
       "      <td>Женщины</td>\n",
       "      <td>NaN</td>\n",
       "      <td>парень</td>\n",
       "      <td>Русский</td>\n",
       "      <td>...</td>\n",
       "      <td>0.0</td>\n",
       "      <td>NaN</td>\n",
       "      <td>NaN</td>\n",
       "      <td>NaN</td>\n",
       "      <td>1</td>\n",
       "      <td>(41, 45)</td>\n",
       "      <td>4.0</td>\n",
       "      <td>casual</td>\n",
       "      <td>0.000839</td>\n",
       "      <td>41.0</td>\n",
       "    </tr>\n",
       "    <tr>\n",
       "      <th>5</th>\n",
       "      <td>Я МАМА</td>\n",
       "      <td>24.0</td>\n",
       "      <td>дружба, общение</td>\n",
       "      <td>Дети есть, живем вместе</td>\n",
       "      <td>Кременчуг</td>\n",
       "      <td>Среднее</td>\n",
       "      <td>Женщины</td>\n",
       "      <td>NaN</td>\n",
       "      <td>парень</td>\n",
       "      <td>Русский</td>\n",
       "      <td>...</td>\n",
       "      <td>0.0</td>\n",
       "      <td>Курю</td>\n",
       "      <td>NaN</td>\n",
       "      <td>NaN</td>\n",
       "      <td>1</td>\n",
       "      <td>(24, 27)</td>\n",
       "      <td>3.0</td>\n",
       "      <td>friendy</td>\n",
       "      <td>0.000839</td>\n",
       "      <td>24.0</td>\n",
       "    </tr>\n",
       "    <tr>\n",
       "      <th>6</th>\n",
       "      <td>NaN</td>\n",
       "      <td>26.0</td>\n",
       "      <td>переписка, дружба, общение</td>\n",
       "      <td>Дети есть, живем вместе</td>\n",
       "      <td>Херсон</td>\n",
       "      <td>Среднее</td>\n",
       "      <td>Женщины</td>\n",
       "      <td>158.0</td>\n",
       "      <td>парень</td>\n",
       "      <td>Русский</td>\n",
       "      <td>...</td>\n",
       "      <td>0.0</td>\n",
       "      <td>Курю</td>\n",
       "      <td>NaN</td>\n",
       "      <td>NaN</td>\n",
       "      <td>1</td>\n",
       "      <td>(23, 27)</td>\n",
       "      <td>4.0</td>\n",
       "      <td>friendy</td>\n",
       "      <td>0.000839</td>\n",
       "      <td>23.0</td>\n",
       "    </tr>\n",
       "    <tr>\n",
       "      <th>7</th>\n",
       "      <td>NaN</td>\n",
       "      <td>23.0</td>\n",
       "      <td>отношения</td>\n",
       "      <td>Детей нет</td>\n",
       "      <td>Волжский</td>\n",
       "      <td>Высшее</td>\n",
       "      <td>Женщины</td>\n",
       "      <td>171.0</td>\n",
       "      <td>парень</td>\n",
       "      <td>English, Fran</td>\n",
       "      <td>...</td>\n",
       "      <td>0.0</td>\n",
       "      <td>Не курю</td>\n",
       "      <td>NaN</td>\n",
       "      <td>NaN</td>\n",
       "      <td>1</td>\n",
       "      <td>(20, 24)</td>\n",
       "      <td>4.0</td>\n",
       "      <td>relationships</td>\n",
       "      <td>0.000839</td>\n",
       "      <td>20.0</td>\n",
       "    </tr>\n",
       "    <tr>\n",
       "      <th>8</th>\n",
       "      <td>NaN</td>\n",
       "      <td>45.0</td>\n",
       "      <td>переписка, дружба, общение, отношения</td>\n",
       "      <td>Дети есть, живем вместе</td>\n",
       "      <td>Бабаево</td>\n",
       "      <td>Высшее</td>\n",
       "      <td>Женщины</td>\n",
       "      <td>158.0</td>\n",
       "      <td>парень</td>\n",
       "      <td>Русский</td>\n",
       "      <td>...</td>\n",
       "      <td>0.0</td>\n",
       "      <td>Не курю</td>\n",
       "      <td>75.0</td>\n",
       "      <td>NaN</td>\n",
       "      <td>1</td>\n",
       "      <td>(42, 46)</td>\n",
       "      <td>4.0</td>\n",
       "      <td>unsure</td>\n",
       "      <td>0.000839</td>\n",
       "      <td>42.0</td>\n",
       "    </tr>\n",
       "    <tr>\n",
       "      <th>9</th>\n",
       "      <td>Познавая любовь, мы рисуем познать боль разоча...</td>\n",
       "      <td>26.0</td>\n",
       "      <td>флирт, отношениямузыкаспортфутбол</td>\n",
       "      <td>Детей нет</td>\n",
       "      <td>Запорожье</td>\n",
       "      <td>Высшее</td>\n",
       "      <td>Женщины</td>\n",
       "      <td>170.0</td>\n",
       "      <td>девушка</td>\n",
       "      <td>Русский</td>\n",
       "      <td>...</td>\n",
       "      <td>0.0</td>\n",
       "      <td>NaN</td>\n",
       "      <td>46.0</td>\n",
       "      <td>NaN</td>\n",
       "      <td>1</td>\n",
       "      <td>(23, 30)</td>\n",
       "      <td>7.0</td>\n",
       "      <td>casual</td>\n",
       "      <td>0.000839</td>\n",
       "      <td>23.0</td>\n",
       "    </tr>\n",
       "  </tbody>\n",
       "</table>\n",
       "<p>10 rows × 22 columns</p>\n",
       "</div>"
      ],
      "text/plain": [
       "                                               about   age  \\\n",
       "0                                                NaN  41.0   \n",
       "1                                                NaN  36.0   \n",
       "2  Не ищу приключений.\\nНе ищу спонсоров, альфонс...  39.0   \n",
       "3                                                NaN  28.0   \n",
       "4                                                NaN  44.0   \n",
       "5                                             Я МАМА  24.0   \n",
       "6                                                NaN  26.0   \n",
       "7                                                NaN  23.0   \n",
       "8                                                NaN  45.0   \n",
       "9  Познавая любовь, мы рисуем познать боль разоча...  26.0   \n",
       "\n",
       "                                                 aim                 children  \\\n",
       "0                                                NaN                      NaN   \n",
       "1                                                NaN                      NaN   \n",
       "2  переписка, флирт, дружба, общение, отношения, ...                Детей нет   \n",
       "3   брак, создание семьи, дружба, общение, отношения                      NaN   \n",
       "4                                  встреча, свидание                      NaN   \n",
       "5                                    дружба, общение  Дети есть, живем вместе   \n",
       "6                         переписка, дружба, общение  Дети есть, живем вместе   \n",
       "7                                          отношения                Детей нет   \n",
       "8              переписка, дружба, общение, отношения  Дети есть, живем вместе   \n",
       "9                  флирт, отношениямузыкаспортфутбол                Детей нет   \n",
       "\n",
       "          city      edu   gender  height intrestedin       language  ...  \\\n",
       "0  Старобельск      NaN  Женщины   165.0      парень  Русский, Укра  ...   \n",
       "1    Краснодар      NaN  Женщины     NaN      парень        Русский  ...   \n",
       "2  Дюссельдорф      NaN  Женщины   167.0      парень        Deutsch  ...   \n",
       "3    Кременчуг      NaN  Женщины   163.0      парень        Русский  ...   \n",
       "4       Донецк      NaN  Женщины     NaN      парень        Русский  ...   \n",
       "5    Кременчуг  Среднее  Женщины     NaN      парень        Русский  ...   \n",
       "6       Херсон  Среднее  Женщины   158.0      парень        Русский  ...   \n",
       "7     Волжский   Высшее  Женщины   171.0      парень  English, Fran  ...   \n",
       "8      Бабаево   Высшее  Женщины   158.0      парень        Русский  ...   \n",
       "9    Запорожье   Высшее  Женщины   170.0     девушка        Русский  ...   \n",
       "\n",
       "  photocount    smoke  weight  id  count  range_partner_age  rangeAge  \\\n",
       "0        0.0     Курю    65.0 NaN      1           (25, 40)      15.0   \n",
       "1        0.0      NaN     NaN NaN      1           (33, 37)       4.0   \n",
       "2        0.0  Не курю     NaN NaN      1           (36, 40)       4.0   \n",
       "3        0.0      NaN    85.0 NaN      1           (25, 31)       6.0   \n",
       "4        0.0      NaN     NaN NaN      1           (41, 45)       4.0   \n",
       "5        0.0     Курю     NaN NaN      1           (24, 27)       3.0   \n",
       "6        0.0     Курю     NaN NaN      1           (23, 27)       4.0   \n",
       "7        0.0  Не курю     NaN NaN      1           (20, 24)       4.0   \n",
       "8        0.0  Не курю    75.0 NaN      1           (42, 46)       4.0   \n",
       "9        0.0      NaN    46.0 NaN      1           (23, 30)       7.0   \n",
       "\n",
       "       simpleaim   percent start_age  \n",
       "0        unknown  0.000839      25.0  \n",
       "1        unknown  0.000839      33.0  \n",
       "2         unsure  0.000839      36.0  \n",
       "3         unsure  0.000839      25.0  \n",
       "4         casual  0.000839      41.0  \n",
       "5        friendy  0.000839      24.0  \n",
       "6        friendy  0.000839      23.0  \n",
       "7  relationships  0.000839      20.0  \n",
       "8         unsure  0.000839      42.0  \n",
       "9         casual  0.000839      23.0  \n",
       "\n",
       "[10 rows x 22 columns]"
      ]
     },
     "execution_count": 23,
     "metadata": {},
     "output_type": "execute_result"
    }
   ],
   "source": [
    "display(mambadf.columns)\n",
    "mambadf.head(10)"
   ]
  },
  {
   "cell_type": "markdown",
   "metadata": {},
   "source": [
    "#### И запишу датафрейм с новыми столбцами"
   ]
  },
  {
   "cell_type": "code",
   "execution_count": 24,
   "metadata": {},
   "outputs": [],
   "source": [
    "mambadf.to_csv('mamba18-45newColumns.csv', index=False)"
   ]
  },
  {
   "cell_type": "code",
   "execution_count": 74,
   "metadata": {},
   "outputs": [
    {
     "data": {
      "text/html": [
       "<div>\n",
       "<style scoped>\n",
       "    .dataframe tbody tr th:only-of-type {\n",
       "        vertical-align: middle;\n",
       "    }\n",
       "\n",
       "    .dataframe tbody tr th {\n",
       "        vertical-align: top;\n",
       "    }\n",
       "\n",
       "    .dataframe thead th {\n",
       "        text-align: right;\n",
       "    }\n",
       "</style>\n",
       "<table border=\"1\" class=\"dataframe\">\n",
       "  <thead>\n",
       "    <tr style=\"text-align: right;\">\n",
       "      <th></th>\n",
       "      <th>about</th>\n",
       "      <th>age</th>\n",
       "      <th>aim</th>\n",
       "      <th>children</th>\n",
       "      <th>city</th>\n",
       "      <th>edu</th>\n",
       "      <th>gender</th>\n",
       "      <th>height</th>\n",
       "      <th>intrestedin</th>\n",
       "      <th>language</th>\n",
       "      <th>...</th>\n",
       "      <th>photocount</th>\n",
       "      <th>smoke</th>\n",
       "      <th>weight</th>\n",
       "      <th>id</th>\n",
       "      <th>count</th>\n",
       "      <th>range_partner_age</th>\n",
       "      <th>rangeAge</th>\n",
       "      <th>simpleaim</th>\n",
       "      <th>percent</th>\n",
       "      <th>start_age</th>\n",
       "    </tr>\n",
       "  </thead>\n",
       "  <tbody>\n",
       "    <tr>\n",
       "      <th>0</th>\n",
       "      <td>NaN</td>\n",
       "      <td>41.0</td>\n",
       "      <td>NaN</td>\n",
       "      <td>NaN</td>\n",
       "      <td>Старобельск</td>\n",
       "      <td>NaN</td>\n",
       "      <td>Женщины</td>\n",
       "      <td>165.0</td>\n",
       "      <td>парень</td>\n",
       "      <td>Русский, Укра</td>\n",
       "      <td>...</td>\n",
       "      <td>0.0</td>\n",
       "      <td>Курю</td>\n",
       "      <td>65.0</td>\n",
       "      <td>NaN</td>\n",
       "      <td>1</td>\n",
       "      <td>('25', '40')</td>\n",
       "      <td>15.0</td>\n",
       "      <td>unknown</td>\n",
       "      <td>0.000839</td>\n",
       "      <td>25.0</td>\n",
       "    </tr>\n",
       "    <tr>\n",
       "      <th>1</th>\n",
       "      <td>NaN</td>\n",
       "      <td>36.0</td>\n",
       "      <td>NaN</td>\n",
       "      <td>NaN</td>\n",
       "      <td>Краснодар</td>\n",
       "      <td>NaN</td>\n",
       "      <td>Женщины</td>\n",
       "      <td>NaN</td>\n",
       "      <td>парень</td>\n",
       "      <td>Русский</td>\n",
       "      <td>...</td>\n",
       "      <td>0.0</td>\n",
       "      <td>NaN</td>\n",
       "      <td>NaN</td>\n",
       "      <td>NaN</td>\n",
       "      <td>1</td>\n",
       "      <td>('33', '37')</td>\n",
       "      <td>4.0</td>\n",
       "      <td>unknown</td>\n",
       "      <td>0.000839</td>\n",
       "      <td>33.0</td>\n",
       "    </tr>\n",
       "    <tr>\n",
       "      <th>2</th>\n",
       "      <td>Не ищу приключений.\\nНе ищу спонсоров, альфонс...</td>\n",
       "      <td>39.0</td>\n",
       "      <td>переписка, флирт, дружба, общение, отношения, ...</td>\n",
       "      <td>Детей нет</td>\n",
       "      <td>Дюссельдорф</td>\n",
       "      <td>NaN</td>\n",
       "      <td>Женщины</td>\n",
       "      <td>167.0</td>\n",
       "      <td>парень</td>\n",
       "      <td>Deutsch</td>\n",
       "      <td>...</td>\n",
       "      <td>0.0</td>\n",
       "      <td>Не курю</td>\n",
       "      <td>NaN</td>\n",
       "      <td>NaN</td>\n",
       "      <td>1</td>\n",
       "      <td>('36', '40')</td>\n",
       "      <td>4.0</td>\n",
       "      <td>unsure</td>\n",
       "      <td>0.000839</td>\n",
       "      <td>36.0</td>\n",
       "    </tr>\n",
       "  </tbody>\n",
       "</table>\n",
       "<p>3 rows × 22 columns</p>\n",
       "</div>"
      ],
      "text/plain": [
       "                                               about   age  \\\n",
       "0                                                NaN  41.0   \n",
       "1                                                NaN  36.0   \n",
       "2  Не ищу приключений.\\nНе ищу спонсоров, альфонс...  39.0   \n",
       "\n",
       "                                                 aim   children         city  \\\n",
       "0                                                NaN        NaN  Старобельск   \n",
       "1                                                NaN        NaN    Краснодар   \n",
       "2  переписка, флирт, дружба, общение, отношения, ...  Детей нет  Дюссельдорф   \n",
       "\n",
       "   edu   gender  height intrestedin       language  ... photocount    smoke  \\\n",
       "0  NaN  Женщины   165.0      парень  Русский, Укра  ...        0.0     Курю   \n",
       "1  NaN  Женщины     NaN      парень        Русский  ...        0.0      NaN   \n",
       "2  NaN  Женщины   167.0      парень        Deutsch  ...        0.0  Не курю   \n",
       "\n",
       "   weight  id  count  range_partner_age  rangeAge simpleaim   percent  \\\n",
       "0    65.0 NaN      1       ('25', '40')      15.0   unknown  0.000839   \n",
       "1     NaN NaN      1       ('33', '37')       4.0   unknown  0.000839   \n",
       "2     NaN NaN      1       ('36', '40')       4.0    unsure  0.000839   \n",
       "\n",
       "  start_age  \n",
       "0      25.0  \n",
       "1      33.0  \n",
       "2      36.0  \n",
       "\n",
       "[3 rows x 22 columns]"
      ]
     },
     "execution_count": 74,
     "metadata": {},
     "output_type": "execute_result"
    }
   ],
   "source": [
    "import pandas as pd\n",
    "import numpy as np \n",
    "import matplotlib.pyplot as plt\n",
    "import seaborn as sns \n",
    "import plotly.graph_objects as go\n",
    "import plotly.express as px\n",
    "\n",
    "mambadf = pd.read_csv('mamba18-45newColumns.csv')\n",
    "mambadf.head(3)"
   ]
  },
  {
   "cell_type": "code",
   "execution_count": 75,
   "metadata": {
    "scrolled": true
   },
   "outputs": [
    {
     "data": {
      "text/html": [
       "<div>\n",
       "<style scoped>\n",
       "    .dataframe tbody tr th:only-of-type {\n",
       "        vertical-align: middle;\n",
       "    }\n",
       "\n",
       "    .dataframe tbody tr th {\n",
       "        vertical-align: top;\n",
       "    }\n",
       "\n",
       "    .dataframe thead th {\n",
       "        text-align: right;\n",
       "    }\n",
       "</style>\n",
       "<table border=\"1\" class=\"dataframe\">\n",
       "  <thead>\n",
       "    <tr style=\"text-align: right;\">\n",
       "      <th></th>\n",
       "      <th>age</th>\n",
       "      <th>height</th>\n",
       "      <th>photocount</th>\n",
       "      <th>weight</th>\n",
       "      <th>id</th>\n",
       "      <th>count</th>\n",
       "      <th>rangeAge</th>\n",
       "      <th>percent</th>\n",
       "      <th>start_age</th>\n",
       "    </tr>\n",
       "  </thead>\n",
       "  <tbody>\n",
       "    <tr>\n",
       "      <th>count</th>\n",
       "      <td>239987.000000</td>\n",
       "      <td>70751.000000</td>\n",
       "      <td>239987.000000</td>\n",
       "      <td>52288.000000</td>\n",
       "      <td>2.387810e+05</td>\n",
       "      <td>239987.0</td>\n",
       "      <td>239253.000000</td>\n",
       "      <td>239987.000000</td>\n",
       "      <td>239253.000000</td>\n",
       "    </tr>\n",
       "    <tr>\n",
       "      <th>mean</th>\n",
       "      <td>30.677870</td>\n",
       "      <td>172.113737</td>\n",
       "      <td>0.500327</td>\n",
       "      <td>69.884237</td>\n",
       "      <td>1.795171e+09</td>\n",
       "      <td>1.0</td>\n",
       "      <td>7.802460</td>\n",
       "      <td>0.000833</td>\n",
       "      <td>27.377003</td>\n",
       "    </tr>\n",
       "    <tr>\n",
       "      <th>std</th>\n",
       "      <td>7.400027</td>\n",
       "      <td>9.245611</td>\n",
       "      <td>1.208410</td>\n",
       "      <td>15.436486</td>\n",
       "      <td>3.620405e+06</td>\n",
       "      <td>0.0</td>\n",
       "      <td>9.281938</td>\n",
       "      <td>0.000005</td>\n",
       "      <td>7.271670</td>\n",
       "    </tr>\n",
       "    <tr>\n",
       "      <th>min</th>\n",
       "      <td>18.000000</td>\n",
       "      <td>150.000000</td>\n",
       "      <td>0.000000</td>\n",
       "      <td>40.000000</td>\n",
       "      <td>1.790103e+09</td>\n",
       "      <td>1.0</td>\n",
       "      <td>1.000000</td>\n",
       "      <td>0.000828</td>\n",
       "      <td>18.000000</td>\n",
       "    </tr>\n",
       "    <tr>\n",
       "      <th>25%</th>\n",
       "      <td>24.000000</td>\n",
       "      <td>165.000000</td>\n",
       "      <td>0.000000</td>\n",
       "      <td>58.000000</td>\n",
       "      <td>1.791374e+09</td>\n",
       "      <td>1.0</td>\n",
       "      <td>4.000000</td>\n",
       "      <td>0.000828</td>\n",
       "      <td>20.000000</td>\n",
       "    </tr>\n",
       "    <tr>\n",
       "      <th>50%</th>\n",
       "      <td>31.000000</td>\n",
       "      <td>172.000000</td>\n",
       "      <td>0.000000</td>\n",
       "      <td>70.000000</td>\n",
       "      <td>1.795514e+09</td>\n",
       "      <td>1.0</td>\n",
       "      <td>4.000000</td>\n",
       "      <td>0.000828</td>\n",
       "      <td>27.000000</td>\n",
       "    </tr>\n",
       "    <tr>\n",
       "      <th>75%</th>\n",
       "      <td>36.000000</td>\n",
       "      <td>178.000000</td>\n",
       "      <td>0.000000</td>\n",
       "      <td>80.000000</td>\n",
       "      <td>1.798170e+09</td>\n",
       "      <td>1.0</td>\n",
       "      <td>7.000000</td>\n",
       "      <td>0.000839</td>\n",
       "      <td>33.000000</td>\n",
       "    </tr>\n",
       "    <tr>\n",
       "      <th>max</th>\n",
       "      <td>45.000000</td>\n",
       "      <td>220.000000</td>\n",
       "      <td>16.000000</td>\n",
       "      <td>160.000000</td>\n",
       "      <td>1.800291e+09</td>\n",
       "      <td>1.0</td>\n",
       "      <td>62.000000</td>\n",
       "      <td>0.000839</td>\n",
       "      <td>79.000000</td>\n",
       "    </tr>\n",
       "  </tbody>\n",
       "</table>\n",
       "</div>"
      ],
      "text/plain": [
       "                 age        height     photocount        weight            id  \\\n",
       "count  239987.000000  70751.000000  239987.000000  52288.000000  2.387810e+05   \n",
       "mean       30.677870    172.113737       0.500327     69.884237  1.795171e+09   \n",
       "std         7.400027      9.245611       1.208410     15.436486  3.620405e+06   \n",
       "min        18.000000    150.000000       0.000000     40.000000  1.790103e+09   \n",
       "25%        24.000000    165.000000       0.000000     58.000000  1.791374e+09   \n",
       "50%        31.000000    172.000000       0.000000     70.000000  1.795514e+09   \n",
       "75%        36.000000    178.000000       0.000000     80.000000  1.798170e+09   \n",
       "max        45.000000    220.000000      16.000000    160.000000  1.800291e+09   \n",
       "\n",
       "          count       rangeAge        percent      start_age  \n",
       "count  239987.0  239253.000000  239987.000000  239253.000000  \n",
       "mean        1.0       7.802460       0.000833      27.377003  \n",
       "std         0.0       9.281938       0.000005       7.271670  \n",
       "min         1.0       1.000000       0.000828      18.000000  \n",
       "25%         1.0       4.000000       0.000828      20.000000  \n",
       "50%         1.0       4.000000       0.000828      27.000000  \n",
       "75%         1.0       7.000000       0.000839      33.000000  \n",
       "max         1.0      62.000000       0.000839      79.000000  "
      ]
     },
     "execution_count": 75,
     "metadata": {},
     "output_type": "execute_result"
    }
   ],
   "source": [
    "mambadf.describe()"
   ]
  },
  {
   "cell_type": "code",
   "execution_count": 76,
   "metadata": {
    "scrolled": true
   },
   "outputs": [
    {
     "data": {
      "text/plain": [
       "gender\n",
       "Женщины    119222\n",
       "Мужчины    120765\n",
       "Name: count, dtype: int64"
      ]
     },
     "execution_count": 76,
     "metadata": {},
     "output_type": "execute_result"
    }
   ],
   "source": [
    "mambadf.groupby('gender')['count'].sum()"
   ]
  },
  {
   "cell_type": "markdown",
   "metadata": {},
   "source": [
    "Ну вот, теперь мужчин и женщин примерно одинаково\n",
    "### Теперь посмотрю, есть ли зависимости в возрастах между тем, кто ищет и кого ищут\n",
    "очень логичная корреляция: люди более старшего возраста подавляюще часто ищут тоже более старших людей"
   ]
  },
  {
   "cell_type": "code",
   "execution_count": 77,
   "metadata": {},
   "outputs": [
    {
     "data": {
      "text/html": [
       "<div>\n",
       "<style scoped>\n",
       "    .dataframe tbody tr th:only-of-type {\n",
       "        vertical-align: middle;\n",
       "    }\n",
       "\n",
       "    .dataframe tbody tr th {\n",
       "        vertical-align: top;\n",
       "    }\n",
       "\n",
       "    .dataframe thead th {\n",
       "        text-align: right;\n",
       "    }\n",
       "</style>\n",
       "<table border=\"1\" class=\"dataframe\">\n",
       "  <thead>\n",
       "    <tr style=\"text-align: right;\">\n",
       "      <th></th>\n",
       "      <th>search</th>\n",
       "      <th>to_search_for</th>\n",
       "    </tr>\n",
       "  </thead>\n",
       "  <tbody>\n",
       "    <tr>\n",
       "      <th>search</th>\n",
       "      <td>1.000000</td>\n",
       "      <td>0.831896</td>\n",
       "    </tr>\n",
       "    <tr>\n",
       "      <th>to_search_for</th>\n",
       "      <td>0.831896</td>\n",
       "      <td>1.000000</td>\n",
       "    </tr>\n",
       "  </tbody>\n",
       "</table>\n",
       "</div>"
      ],
      "text/plain": [
       "                 search  to_search_for\n",
       "search         1.000000       0.831896\n",
       "to_search_for  0.831896       1.000000"
      ]
     },
     "execution_count": 77,
     "metadata": {},
     "output_type": "execute_result"
    }
   ],
   "source": [
    "corr_ages = pd.DataFrame({'search' : mambadf['age'], 'to_search_for' : mambadf['start_age']})\n",
    "corr_ages.corr()"
   ]
  },
  {
   "cell_type": "markdown",
   "metadata": {},
   "source": [
    "### Дальше гляжу типы отношений, кому что надо в зависимости от пола и возраста\n"
   ]
  },
  {
   "cell_type": "code",
   "execution_count": 78,
   "metadata": {},
   "outputs": [
    {
     "data": {
      "text/html": [
       "<div>\n",
       "<style scoped>\n",
       "    .dataframe tbody tr th:only-of-type {\n",
       "        vertical-align: middle;\n",
       "    }\n",
       "\n",
       "    .dataframe tbody tr th {\n",
       "        vertical-align: top;\n",
       "    }\n",
       "\n",
       "    .dataframe thead th {\n",
       "        text-align: right;\n",
       "    }\n",
       "</style>\n",
       "<table border=\"1\" class=\"dataframe\">\n",
       "  <thead>\n",
       "    <tr style=\"text-align: right;\">\n",
       "      <th></th>\n",
       "      <th>gender</th>\n",
       "      <th>simpleaim</th>\n",
       "      <th>percent</th>\n",
       "      <th>count</th>\n",
       "    </tr>\n",
       "  </thead>\n",
       "  <tbody>\n",
       "    <tr>\n",
       "      <th>4</th>\n",
       "      <td>Женщины</td>\n",
       "      <td>unknown</td>\n",
       "      <td>45.067186</td>\n",
       "      <td>53730</td>\n",
       "    </tr>\n",
       "    <tr>\n",
       "      <th>642</th>\n",
       "      <td>Мужчины</td>\n",
       "      <td>unknown</td>\n",
       "      <td>38.769511</td>\n",
       "      <td>46820</td>\n",
       "    </tr>\n",
       "    <tr>\n",
       "      <th>638</th>\n",
       "      <td>Мужчины</td>\n",
       "      <td>casual</td>\n",
       "      <td>25.929698</td>\n",
       "      <td>31314</td>\n",
       "    </tr>\n",
       "    <tr>\n",
       "      <th>3</th>\n",
       "      <td>Женщины</td>\n",
       "      <td>relationships</td>\n",
       "      <td>18.530137</td>\n",
       "      <td>22092</td>\n",
       "    </tr>\n",
       "    <tr>\n",
       "      <th>641</th>\n",
       "      <td>Мужчины</td>\n",
       "      <td>relationships</td>\n",
       "      <td>17.499275</td>\n",
       "      <td>21133</td>\n",
       "    </tr>\n",
       "    <tr>\n",
       "      <th>0</th>\n",
       "      <td>Женщины</td>\n",
       "      <td>casual</td>\n",
       "      <td>16.982604</td>\n",
       "      <td>20247</td>\n",
       "    </tr>\n",
       "    <tr>\n",
       "      <th>643</th>\n",
       "      <td>Мужчины</td>\n",
       "      <td>unsure</td>\n",
       "      <td>15.413406</td>\n",
       "      <td>18614</td>\n",
       "    </tr>\n",
       "    <tr>\n",
       "      <th>5</th>\n",
       "      <td>Женщины</td>\n",
       "      <td>unsure</td>\n",
       "      <td>14.169365</td>\n",
       "      <td>16893</td>\n",
       "    </tr>\n",
       "    <tr>\n",
       "      <th>2</th>\n",
       "      <td>Женщины</td>\n",
       "      <td>friendy</td>\n",
       "      <td>4.097398</td>\n",
       "      <td>4885</td>\n",
       "    </tr>\n",
       "    <tr>\n",
       "      <th>640</th>\n",
       "      <td>Мужчины</td>\n",
       "      <td>friendy</td>\n",
       "      <td>1.510371</td>\n",
       "      <td>1824</td>\n",
       "    </tr>\n",
       "    <tr>\n",
       "      <th>1</th>\n",
       "      <td>Женщины</td>\n",
       "      <td>family-person</td>\n",
       "      <td>0.483971</td>\n",
       "      <td>577</td>\n",
       "    </tr>\n",
       "    <tr>\n",
       "      <th>639</th>\n",
       "      <td>Мужчины</td>\n",
       "      <td>family-person</td>\n",
       "      <td>0.399950</td>\n",
       "      <td>483</td>\n",
       "    </tr>\n",
       "  </tbody>\n",
       "</table>\n",
       "</div>"
      ],
      "text/plain": [
       "      gender      simpleaim    percent  count\n",
       "4    Женщины        unknown  45.067186  53730\n",
       "642  Мужчины        unknown  38.769511  46820\n",
       "638  Мужчины         casual  25.929698  31314\n",
       "3    Женщины  relationships  18.530137  22092\n",
       "641  Мужчины  relationships  17.499275  21133\n",
       "0    Женщины         casual  16.982604  20247\n",
       "643  Мужчины         unsure  15.413406  18614\n",
       "5    Женщины         unsure  14.169365  16893\n",
       "2    Женщины        friendy   4.097398   4885\n",
       "640  Мужчины        friendy   1.510371   1824\n",
       "1    Женщины  family-person   0.483971    577\n",
       "639  Мужчины  family-person   0.399950    483"
      ]
     },
     "execution_count": 78,
     "metadata": {},
     "output_type": "execute_result"
    }
   ],
   "source": [
    "genders_aims = mambadf.groupby(['gender','simpleaim'])[['percent', 'count']].sum().reset_index().sort_values(by='percent', ascending=False)\n",
    "genders_aims = genders_aims.loc[genders_aims['percent'] > 0.1]\n",
    "genders_aims"
   ]
  },
  {
   "cell_type": "code",
   "execution_count": 83,
   "metadata": {
    "scrolled": true
   },
   "outputs": [
    {
     "data": {
      "application/vnd.plotly.v1+json": {
       "config": {
        "plotlyServerURL": "https://plot.ly"
       },
       "data": [
        {
         "alignmentgroup": "True",
         "hovertemplate": "gender=Женщины<br>Aim=%{x}<br>Percent of a sample=%{y}<extra></extra>",
         "legendgroup": "Женщины",
         "marker": {
          "color": "lightpink",
          "pattern": {
           "shape": ""
          }
         },
         "name": "Женщины",
         "offsetgroup": "Женщины",
         "orientation": "v",
         "showlegend": true,
         "textposition": "auto",
         "type": "bar",
         "x": [
          "unknown",
          "relationships",
          "casual",
          "unsure",
          "friendy",
          "family-person"
         ],
         "xaxis": "x",
         "y": [
          45.067185586592714,
          18.530137055236064,
          16.982603881829057,
          14.169364714562334,
          4.097398131217432,
          0.483971079163187
         ],
         "yaxis": "y"
        },
        {
         "alignmentgroup": "True",
         "hovertemplate": "gender=Мужчины<br>Aim=%{x}<br>Percent of a sample=%{y}<extra></extra>",
         "legendgroup": "Мужчины",
         "marker": {
          "color": "lightblue",
          "pattern": {
           "shape": ""
          }
         },
         "name": "Мужчины",
         "offsetgroup": "Мужчины",
         "orientation": "v",
         "showlegend": true,
         "textposition": "auto",
         "type": "bar",
         "x": [
          "unknown",
          "casual",
          "relationships",
          "unsure",
          "friendy",
          "family-person"
         ],
         "xaxis": "x",
         "y": [
          38.769511033845895,
          25.929698174150484,
          17.499275452329318,
          15.413406202131153,
          1.5103713824368352,
          0.39995031673080556
         ],
         "yaxis": "y"
        }
       ],
       "layout": {
        "barmode": "group",
        "legend": {
         "title": {
          "text": "gender"
         },
         "tracegroupgap": 0
        },
        "template": {
         "data": {
          "bar": [
           {
            "error_x": {
             "color": "#2a3f5f"
            },
            "error_y": {
             "color": "#2a3f5f"
            },
            "marker": {
             "line": {
              "color": "#E5ECF6",
              "width": 0.5
             },
             "pattern": {
              "fillmode": "overlay",
              "size": 10,
              "solidity": 0.2
             }
            },
            "type": "bar"
           }
          ],
          "barpolar": [
           {
            "marker": {
             "line": {
              "color": "#E5ECF6",
              "width": 0.5
             },
             "pattern": {
              "fillmode": "overlay",
              "size": 10,
              "solidity": 0.2
             }
            },
            "type": "barpolar"
           }
          ],
          "carpet": [
           {
            "aaxis": {
             "endlinecolor": "#2a3f5f",
             "gridcolor": "white",
             "linecolor": "white",
             "minorgridcolor": "white",
             "startlinecolor": "#2a3f5f"
            },
            "baxis": {
             "endlinecolor": "#2a3f5f",
             "gridcolor": "white",
             "linecolor": "white",
             "minorgridcolor": "white",
             "startlinecolor": "#2a3f5f"
            },
            "type": "carpet"
           }
          ],
          "choropleth": [
           {
            "colorbar": {
             "outlinewidth": 0,
             "ticks": ""
            },
            "type": "choropleth"
           }
          ],
          "contour": [
           {
            "colorbar": {
             "outlinewidth": 0,
             "ticks": ""
            },
            "colorscale": [
             [
              0,
              "#0d0887"
             ],
             [
              0.1111111111111111,
              "#46039f"
             ],
             [
              0.2222222222222222,
              "#7201a8"
             ],
             [
              0.3333333333333333,
              "#9c179e"
             ],
             [
              0.4444444444444444,
              "#bd3786"
             ],
             [
              0.5555555555555556,
              "#d8576b"
             ],
             [
              0.6666666666666666,
              "#ed7953"
             ],
             [
              0.7777777777777778,
              "#fb9f3a"
             ],
             [
              0.8888888888888888,
              "#fdca26"
             ],
             [
              1,
              "#f0f921"
             ]
            ],
            "type": "contour"
           }
          ],
          "contourcarpet": [
           {
            "colorbar": {
             "outlinewidth": 0,
             "ticks": ""
            },
            "type": "contourcarpet"
           }
          ],
          "heatmap": [
           {
            "colorbar": {
             "outlinewidth": 0,
             "ticks": ""
            },
            "colorscale": [
             [
              0,
              "#0d0887"
             ],
             [
              0.1111111111111111,
              "#46039f"
             ],
             [
              0.2222222222222222,
              "#7201a8"
             ],
             [
              0.3333333333333333,
              "#9c179e"
             ],
             [
              0.4444444444444444,
              "#bd3786"
             ],
             [
              0.5555555555555556,
              "#d8576b"
             ],
             [
              0.6666666666666666,
              "#ed7953"
             ],
             [
              0.7777777777777778,
              "#fb9f3a"
             ],
             [
              0.8888888888888888,
              "#fdca26"
             ],
             [
              1,
              "#f0f921"
             ]
            ],
            "type": "heatmap"
           }
          ],
          "heatmapgl": [
           {
            "colorbar": {
             "outlinewidth": 0,
             "ticks": ""
            },
            "colorscale": [
             [
              0,
              "#0d0887"
             ],
             [
              0.1111111111111111,
              "#46039f"
             ],
             [
              0.2222222222222222,
              "#7201a8"
             ],
             [
              0.3333333333333333,
              "#9c179e"
             ],
             [
              0.4444444444444444,
              "#bd3786"
             ],
             [
              0.5555555555555556,
              "#d8576b"
             ],
             [
              0.6666666666666666,
              "#ed7953"
             ],
             [
              0.7777777777777778,
              "#fb9f3a"
             ],
             [
              0.8888888888888888,
              "#fdca26"
             ],
             [
              1,
              "#f0f921"
             ]
            ],
            "type": "heatmapgl"
           }
          ],
          "histogram": [
           {
            "marker": {
             "pattern": {
              "fillmode": "overlay",
              "size": 10,
              "solidity": 0.2
             }
            },
            "type": "histogram"
           }
          ],
          "histogram2d": [
           {
            "colorbar": {
             "outlinewidth": 0,
             "ticks": ""
            },
            "colorscale": [
             [
              0,
              "#0d0887"
             ],
             [
              0.1111111111111111,
              "#46039f"
             ],
             [
              0.2222222222222222,
              "#7201a8"
             ],
             [
              0.3333333333333333,
              "#9c179e"
             ],
             [
              0.4444444444444444,
              "#bd3786"
             ],
             [
              0.5555555555555556,
              "#d8576b"
             ],
             [
              0.6666666666666666,
              "#ed7953"
             ],
             [
              0.7777777777777778,
              "#fb9f3a"
             ],
             [
              0.8888888888888888,
              "#fdca26"
             ],
             [
              1,
              "#f0f921"
             ]
            ],
            "type": "histogram2d"
           }
          ],
          "histogram2dcontour": [
           {
            "colorbar": {
             "outlinewidth": 0,
             "ticks": ""
            },
            "colorscale": [
             [
              0,
              "#0d0887"
             ],
             [
              0.1111111111111111,
              "#46039f"
             ],
             [
              0.2222222222222222,
              "#7201a8"
             ],
             [
              0.3333333333333333,
              "#9c179e"
             ],
             [
              0.4444444444444444,
              "#bd3786"
             ],
             [
              0.5555555555555556,
              "#d8576b"
             ],
             [
              0.6666666666666666,
              "#ed7953"
             ],
             [
              0.7777777777777778,
              "#fb9f3a"
             ],
             [
              0.8888888888888888,
              "#fdca26"
             ],
             [
              1,
              "#f0f921"
             ]
            ],
            "type": "histogram2dcontour"
           }
          ],
          "mesh3d": [
           {
            "colorbar": {
             "outlinewidth": 0,
             "ticks": ""
            },
            "type": "mesh3d"
           }
          ],
          "parcoords": [
           {
            "line": {
             "colorbar": {
              "outlinewidth": 0,
              "ticks": ""
             }
            },
            "type": "parcoords"
           }
          ],
          "pie": [
           {
            "automargin": true,
            "type": "pie"
           }
          ],
          "scatter": [
           {
            "fillpattern": {
             "fillmode": "overlay",
             "size": 10,
             "solidity": 0.2
            },
            "type": "scatter"
           }
          ],
          "scatter3d": [
           {
            "line": {
             "colorbar": {
              "outlinewidth": 0,
              "ticks": ""
             }
            },
            "marker": {
             "colorbar": {
              "outlinewidth": 0,
              "ticks": ""
             }
            },
            "type": "scatter3d"
           }
          ],
          "scattercarpet": [
           {
            "marker": {
             "colorbar": {
              "outlinewidth": 0,
              "ticks": ""
             }
            },
            "type": "scattercarpet"
           }
          ],
          "scattergeo": [
           {
            "marker": {
             "colorbar": {
              "outlinewidth": 0,
              "ticks": ""
             }
            },
            "type": "scattergeo"
           }
          ],
          "scattergl": [
           {
            "marker": {
             "colorbar": {
              "outlinewidth": 0,
              "ticks": ""
             }
            },
            "type": "scattergl"
           }
          ],
          "scattermapbox": [
           {
            "marker": {
             "colorbar": {
              "outlinewidth": 0,
              "ticks": ""
             }
            },
            "type": "scattermapbox"
           }
          ],
          "scatterpolar": [
           {
            "marker": {
             "colorbar": {
              "outlinewidth": 0,
              "ticks": ""
             }
            },
            "type": "scatterpolar"
           }
          ],
          "scatterpolargl": [
           {
            "marker": {
             "colorbar": {
              "outlinewidth": 0,
              "ticks": ""
             }
            },
            "type": "scatterpolargl"
           }
          ],
          "scatterternary": [
           {
            "marker": {
             "colorbar": {
              "outlinewidth": 0,
              "ticks": ""
             }
            },
            "type": "scatterternary"
           }
          ],
          "surface": [
           {
            "colorbar": {
             "outlinewidth": 0,
             "ticks": ""
            },
            "colorscale": [
             [
              0,
              "#0d0887"
             ],
             [
              0.1111111111111111,
              "#46039f"
             ],
             [
              0.2222222222222222,
              "#7201a8"
             ],
             [
              0.3333333333333333,
              "#9c179e"
             ],
             [
              0.4444444444444444,
              "#bd3786"
             ],
             [
              0.5555555555555556,
              "#d8576b"
             ],
             [
              0.6666666666666666,
              "#ed7953"
             ],
             [
              0.7777777777777778,
              "#fb9f3a"
             ],
             [
              0.8888888888888888,
              "#fdca26"
             ],
             [
              1,
              "#f0f921"
             ]
            ],
            "type": "surface"
           }
          ],
          "table": [
           {
            "cells": {
             "fill": {
              "color": "#EBF0F8"
             },
             "line": {
              "color": "white"
             }
            },
            "header": {
             "fill": {
              "color": "#C8D4E3"
             },
             "line": {
              "color": "white"
             }
            },
            "type": "table"
           }
          ]
         },
         "layout": {
          "annotationdefaults": {
           "arrowcolor": "#2a3f5f",
           "arrowhead": 0,
           "arrowwidth": 1
          },
          "autotypenumbers": "strict",
          "coloraxis": {
           "colorbar": {
            "outlinewidth": 0,
            "ticks": ""
           }
          },
          "colorscale": {
           "diverging": [
            [
             0,
             "#8e0152"
            ],
            [
             0.1,
             "#c51b7d"
            ],
            [
             0.2,
             "#de77ae"
            ],
            [
             0.3,
             "#f1b6da"
            ],
            [
             0.4,
             "#fde0ef"
            ],
            [
             0.5,
             "#f7f7f7"
            ],
            [
             0.6,
             "#e6f5d0"
            ],
            [
             0.7,
             "#b8e186"
            ],
            [
             0.8,
             "#7fbc41"
            ],
            [
             0.9,
             "#4d9221"
            ],
            [
             1,
             "#276419"
            ]
           ],
           "sequential": [
            [
             0,
             "#0d0887"
            ],
            [
             0.1111111111111111,
             "#46039f"
            ],
            [
             0.2222222222222222,
             "#7201a8"
            ],
            [
             0.3333333333333333,
             "#9c179e"
            ],
            [
             0.4444444444444444,
             "#bd3786"
            ],
            [
             0.5555555555555556,
             "#d8576b"
            ],
            [
             0.6666666666666666,
             "#ed7953"
            ],
            [
             0.7777777777777778,
             "#fb9f3a"
            ],
            [
             0.8888888888888888,
             "#fdca26"
            ],
            [
             1,
             "#f0f921"
            ]
           ],
           "sequentialminus": [
            [
             0,
             "#0d0887"
            ],
            [
             0.1111111111111111,
             "#46039f"
            ],
            [
             0.2222222222222222,
             "#7201a8"
            ],
            [
             0.3333333333333333,
             "#9c179e"
            ],
            [
             0.4444444444444444,
             "#bd3786"
            ],
            [
             0.5555555555555556,
             "#d8576b"
            ],
            [
             0.6666666666666666,
             "#ed7953"
            ],
            [
             0.7777777777777778,
             "#fb9f3a"
            ],
            [
             0.8888888888888888,
             "#fdca26"
            ],
            [
             1,
             "#f0f921"
            ]
           ]
          },
          "colorway": [
           "#636efa",
           "#EF553B",
           "#00cc96",
           "#ab63fa",
           "#FFA15A",
           "#19d3f3",
           "#FF6692",
           "#B6E880",
           "#FF97FF",
           "#FECB52"
          ],
          "font": {
           "color": "#2a3f5f"
          },
          "geo": {
           "bgcolor": "white",
           "lakecolor": "white",
           "landcolor": "#E5ECF6",
           "showlakes": true,
           "showland": true,
           "subunitcolor": "white"
          },
          "hoverlabel": {
           "align": "left"
          },
          "hovermode": "closest",
          "mapbox": {
           "style": "light"
          },
          "paper_bgcolor": "white",
          "plot_bgcolor": "#E5ECF6",
          "polar": {
           "angularaxis": {
            "gridcolor": "white",
            "linecolor": "white",
            "ticks": ""
           },
           "bgcolor": "#E5ECF6",
           "radialaxis": {
            "gridcolor": "white",
            "linecolor": "white",
            "ticks": ""
           }
          },
          "scene": {
           "xaxis": {
            "backgroundcolor": "#E5ECF6",
            "gridcolor": "white",
            "gridwidth": 2,
            "linecolor": "white",
            "showbackground": true,
            "ticks": "",
            "zerolinecolor": "white"
           },
           "yaxis": {
            "backgroundcolor": "#E5ECF6",
            "gridcolor": "white",
            "gridwidth": 2,
            "linecolor": "white",
            "showbackground": true,
            "ticks": "",
            "zerolinecolor": "white"
           },
           "zaxis": {
            "backgroundcolor": "#E5ECF6",
            "gridcolor": "white",
            "gridwidth": 2,
            "linecolor": "white",
            "showbackground": true,
            "ticks": "",
            "zerolinecolor": "white"
           }
          },
          "shapedefaults": {
           "line": {
            "color": "#2a3f5f"
           }
          },
          "ternary": {
           "aaxis": {
            "gridcolor": "white",
            "linecolor": "white",
            "ticks": ""
           },
           "baxis": {
            "gridcolor": "white",
            "linecolor": "white",
            "ticks": ""
           },
           "bgcolor": "#E5ECF6",
           "caxis": {
            "gridcolor": "white",
            "linecolor": "white",
            "ticks": ""
           }
          },
          "title": {
           "x": 0.05
          },
          "xaxis": {
           "automargin": true,
           "gridcolor": "white",
           "linecolor": "white",
           "ticks": "",
           "title": {
            "standoff": 15
           },
           "zerolinecolor": "white",
           "zerolinewidth": 2
          },
          "yaxis": {
           "automargin": true,
           "gridcolor": "white",
           "linecolor": "white",
           "ticks": "",
           "title": {
            "standoff": 15
           },
           "zerolinecolor": "white",
           "zerolinewidth": 2
          }
         }
        },
        "title": {
         "text": "Distribution of aims among women and men"
        },
        "xaxis": {
         "anchor": "y",
         "domain": [
          0,
          1
         ],
         "title": {
          "text": "Aim"
         }
        },
        "yaxis": {
         "anchor": "x",
         "domain": [
          0,
          1
         ],
         "title": {
          "text": "Percent of a sample"
         }
        }
       }
      },
      "text/html": [
       "<div>                            <div id=\"1c560385-6203-4fc2-8f20-2956788b3b03\" class=\"plotly-graph-div\" style=\"height:525px; width:100%;\"></div>            <script type=\"text/javascript\">                require([\"plotly\"], function(Plotly) {                    window.PLOTLYENV=window.PLOTLYENV || {};                                    if (document.getElementById(\"1c560385-6203-4fc2-8f20-2956788b3b03\")) {                    Plotly.newPlot(                        \"1c560385-6203-4fc2-8f20-2956788b3b03\",                        [{\"alignmentgroup\":\"True\",\"hovertemplate\":\"gender=\\u0416\\u0435\\u043d\\u0449\\u0438\\u043d\\u044b<br>Aim=%{x}<br>Percent of a sample=%{y}<extra></extra>\",\"legendgroup\":\"\\u0416\\u0435\\u043d\\u0449\\u0438\\u043d\\u044b\",\"marker\":{\"color\":\"lightpink\",\"pattern\":{\"shape\":\"\"}},\"name\":\"\\u0416\\u0435\\u043d\\u0449\\u0438\\u043d\\u044b\",\"offsetgroup\":\"\\u0416\\u0435\\u043d\\u0449\\u0438\\u043d\\u044b\",\"orientation\":\"v\",\"showlegend\":true,\"textposition\":\"auto\",\"x\":[\"unknown\",\"relationships\",\"casual\",\"unsure\",\"friendy\",\"family-person\"],\"xaxis\":\"x\",\"y\":[45.067185586592714,18.530137055236064,16.982603881829057,14.169364714562334,4.097398131217432,0.483971079163187],\"yaxis\":\"y\",\"type\":\"bar\"},{\"alignmentgroup\":\"True\",\"hovertemplate\":\"gender=\\u041c\\u0443\\u0436\\u0447\\u0438\\u043d\\u044b<br>Aim=%{x}<br>Percent of a sample=%{y}<extra></extra>\",\"legendgroup\":\"\\u041c\\u0443\\u0436\\u0447\\u0438\\u043d\\u044b\",\"marker\":{\"color\":\"lightblue\",\"pattern\":{\"shape\":\"\"}},\"name\":\"\\u041c\\u0443\\u0436\\u0447\\u0438\\u043d\\u044b\",\"offsetgroup\":\"\\u041c\\u0443\\u0436\\u0447\\u0438\\u043d\\u044b\",\"orientation\":\"v\",\"showlegend\":true,\"textposition\":\"auto\",\"x\":[\"unknown\",\"casual\",\"relationships\",\"unsure\",\"friendy\",\"family-person\"],\"xaxis\":\"x\",\"y\":[38.769511033845895,25.929698174150484,17.499275452329318,15.413406202131153,1.5103713824368352,0.39995031673080556],\"yaxis\":\"y\",\"type\":\"bar\"}],                        {\"template\":{\"data\":{\"histogram2dcontour\":[{\"type\":\"histogram2dcontour\",\"colorbar\":{\"outlinewidth\":0,\"ticks\":\"\"},\"colorscale\":[[0.0,\"#0d0887\"],[0.1111111111111111,\"#46039f\"],[0.2222222222222222,\"#7201a8\"],[0.3333333333333333,\"#9c179e\"],[0.4444444444444444,\"#bd3786\"],[0.5555555555555556,\"#d8576b\"],[0.6666666666666666,\"#ed7953\"],[0.7777777777777778,\"#fb9f3a\"],[0.8888888888888888,\"#fdca26\"],[1.0,\"#f0f921\"]]}],\"choropleth\":[{\"type\":\"choropleth\",\"colorbar\":{\"outlinewidth\":0,\"ticks\":\"\"}}],\"histogram2d\":[{\"type\":\"histogram2d\",\"colorbar\":{\"outlinewidth\":0,\"ticks\":\"\"},\"colorscale\":[[0.0,\"#0d0887\"],[0.1111111111111111,\"#46039f\"],[0.2222222222222222,\"#7201a8\"],[0.3333333333333333,\"#9c179e\"],[0.4444444444444444,\"#bd3786\"],[0.5555555555555556,\"#d8576b\"],[0.6666666666666666,\"#ed7953\"],[0.7777777777777778,\"#fb9f3a\"],[0.8888888888888888,\"#fdca26\"],[1.0,\"#f0f921\"]]}],\"heatmap\":[{\"type\":\"heatmap\",\"colorbar\":{\"outlinewidth\":0,\"ticks\":\"\"},\"colorscale\":[[0.0,\"#0d0887\"],[0.1111111111111111,\"#46039f\"],[0.2222222222222222,\"#7201a8\"],[0.3333333333333333,\"#9c179e\"],[0.4444444444444444,\"#bd3786\"],[0.5555555555555556,\"#d8576b\"],[0.6666666666666666,\"#ed7953\"],[0.7777777777777778,\"#fb9f3a\"],[0.8888888888888888,\"#fdca26\"],[1.0,\"#f0f921\"]]}],\"heatmapgl\":[{\"type\":\"heatmapgl\",\"colorbar\":{\"outlinewidth\":0,\"ticks\":\"\"},\"colorscale\":[[0.0,\"#0d0887\"],[0.1111111111111111,\"#46039f\"],[0.2222222222222222,\"#7201a8\"],[0.3333333333333333,\"#9c179e\"],[0.4444444444444444,\"#bd3786\"],[0.5555555555555556,\"#d8576b\"],[0.6666666666666666,\"#ed7953\"],[0.7777777777777778,\"#fb9f3a\"],[0.8888888888888888,\"#fdca26\"],[1.0,\"#f0f921\"]]}],\"contourcarpet\":[{\"type\":\"contourcarpet\",\"colorbar\":{\"outlinewidth\":0,\"ticks\":\"\"}}],\"contour\":[{\"type\":\"contour\",\"colorbar\":{\"outlinewidth\":0,\"ticks\":\"\"},\"colorscale\":[[0.0,\"#0d0887\"],[0.1111111111111111,\"#46039f\"],[0.2222222222222222,\"#7201a8\"],[0.3333333333333333,\"#9c179e\"],[0.4444444444444444,\"#bd3786\"],[0.5555555555555556,\"#d8576b\"],[0.6666666666666666,\"#ed7953\"],[0.7777777777777778,\"#fb9f3a\"],[0.8888888888888888,\"#fdca26\"],[1.0,\"#f0f921\"]]}],\"surface\":[{\"type\":\"surface\",\"colorbar\":{\"outlinewidth\":0,\"ticks\":\"\"},\"colorscale\":[[0.0,\"#0d0887\"],[0.1111111111111111,\"#46039f\"],[0.2222222222222222,\"#7201a8\"],[0.3333333333333333,\"#9c179e\"],[0.4444444444444444,\"#bd3786\"],[0.5555555555555556,\"#d8576b\"],[0.6666666666666666,\"#ed7953\"],[0.7777777777777778,\"#fb9f3a\"],[0.8888888888888888,\"#fdca26\"],[1.0,\"#f0f921\"]]}],\"mesh3d\":[{\"type\":\"mesh3d\",\"colorbar\":{\"outlinewidth\":0,\"ticks\":\"\"}}],\"scatter\":[{\"fillpattern\":{\"fillmode\":\"overlay\",\"size\":10,\"solidity\":0.2},\"type\":\"scatter\"}],\"parcoords\":[{\"type\":\"parcoords\",\"line\":{\"colorbar\":{\"outlinewidth\":0,\"ticks\":\"\"}}}],\"scatterpolargl\":[{\"type\":\"scatterpolargl\",\"marker\":{\"colorbar\":{\"outlinewidth\":0,\"ticks\":\"\"}}}],\"bar\":[{\"error_x\":{\"color\":\"#2a3f5f\"},\"error_y\":{\"color\":\"#2a3f5f\"},\"marker\":{\"line\":{\"color\":\"#E5ECF6\",\"width\":0.5},\"pattern\":{\"fillmode\":\"overlay\",\"size\":10,\"solidity\":0.2}},\"type\":\"bar\"}],\"scattergeo\":[{\"type\":\"scattergeo\",\"marker\":{\"colorbar\":{\"outlinewidth\":0,\"ticks\":\"\"}}}],\"scatterpolar\":[{\"type\":\"scatterpolar\",\"marker\":{\"colorbar\":{\"outlinewidth\":0,\"ticks\":\"\"}}}],\"histogram\":[{\"marker\":{\"pattern\":{\"fillmode\":\"overlay\",\"size\":10,\"solidity\":0.2}},\"type\":\"histogram\"}],\"scattergl\":[{\"type\":\"scattergl\",\"marker\":{\"colorbar\":{\"outlinewidth\":0,\"ticks\":\"\"}}}],\"scatter3d\":[{\"type\":\"scatter3d\",\"line\":{\"colorbar\":{\"outlinewidth\":0,\"ticks\":\"\"}},\"marker\":{\"colorbar\":{\"outlinewidth\":0,\"ticks\":\"\"}}}],\"scattermapbox\":[{\"type\":\"scattermapbox\",\"marker\":{\"colorbar\":{\"outlinewidth\":0,\"ticks\":\"\"}}}],\"scatterternary\":[{\"type\":\"scatterternary\",\"marker\":{\"colorbar\":{\"outlinewidth\":0,\"ticks\":\"\"}}}],\"scattercarpet\":[{\"type\":\"scattercarpet\",\"marker\":{\"colorbar\":{\"outlinewidth\":0,\"ticks\":\"\"}}}],\"carpet\":[{\"aaxis\":{\"endlinecolor\":\"#2a3f5f\",\"gridcolor\":\"white\",\"linecolor\":\"white\",\"minorgridcolor\":\"white\",\"startlinecolor\":\"#2a3f5f\"},\"baxis\":{\"endlinecolor\":\"#2a3f5f\",\"gridcolor\":\"white\",\"linecolor\":\"white\",\"minorgridcolor\":\"white\",\"startlinecolor\":\"#2a3f5f\"},\"type\":\"carpet\"}],\"table\":[{\"cells\":{\"fill\":{\"color\":\"#EBF0F8\"},\"line\":{\"color\":\"white\"}},\"header\":{\"fill\":{\"color\":\"#C8D4E3\"},\"line\":{\"color\":\"white\"}},\"type\":\"table\"}],\"barpolar\":[{\"marker\":{\"line\":{\"color\":\"#E5ECF6\",\"width\":0.5},\"pattern\":{\"fillmode\":\"overlay\",\"size\":10,\"solidity\":0.2}},\"type\":\"barpolar\"}],\"pie\":[{\"automargin\":true,\"type\":\"pie\"}]},\"layout\":{\"autotypenumbers\":\"strict\",\"colorway\":[\"#636efa\",\"#EF553B\",\"#00cc96\",\"#ab63fa\",\"#FFA15A\",\"#19d3f3\",\"#FF6692\",\"#B6E880\",\"#FF97FF\",\"#FECB52\"],\"font\":{\"color\":\"#2a3f5f\"},\"hovermode\":\"closest\",\"hoverlabel\":{\"align\":\"left\"},\"paper_bgcolor\":\"white\",\"plot_bgcolor\":\"#E5ECF6\",\"polar\":{\"bgcolor\":\"#E5ECF6\",\"angularaxis\":{\"gridcolor\":\"white\",\"linecolor\":\"white\",\"ticks\":\"\"},\"radialaxis\":{\"gridcolor\":\"white\",\"linecolor\":\"white\",\"ticks\":\"\"}},\"ternary\":{\"bgcolor\":\"#E5ECF6\",\"aaxis\":{\"gridcolor\":\"white\",\"linecolor\":\"white\",\"ticks\":\"\"},\"baxis\":{\"gridcolor\":\"white\",\"linecolor\":\"white\",\"ticks\":\"\"},\"caxis\":{\"gridcolor\":\"white\",\"linecolor\":\"white\",\"ticks\":\"\"}},\"coloraxis\":{\"colorbar\":{\"outlinewidth\":0,\"ticks\":\"\"}},\"colorscale\":{\"sequential\":[[0.0,\"#0d0887\"],[0.1111111111111111,\"#46039f\"],[0.2222222222222222,\"#7201a8\"],[0.3333333333333333,\"#9c179e\"],[0.4444444444444444,\"#bd3786\"],[0.5555555555555556,\"#d8576b\"],[0.6666666666666666,\"#ed7953\"],[0.7777777777777778,\"#fb9f3a\"],[0.8888888888888888,\"#fdca26\"],[1.0,\"#f0f921\"]],\"sequentialminus\":[[0.0,\"#0d0887\"],[0.1111111111111111,\"#46039f\"],[0.2222222222222222,\"#7201a8\"],[0.3333333333333333,\"#9c179e\"],[0.4444444444444444,\"#bd3786\"],[0.5555555555555556,\"#d8576b\"],[0.6666666666666666,\"#ed7953\"],[0.7777777777777778,\"#fb9f3a\"],[0.8888888888888888,\"#fdca26\"],[1.0,\"#f0f921\"]],\"diverging\":[[0,\"#8e0152\"],[0.1,\"#c51b7d\"],[0.2,\"#de77ae\"],[0.3,\"#f1b6da\"],[0.4,\"#fde0ef\"],[0.5,\"#f7f7f7\"],[0.6,\"#e6f5d0\"],[0.7,\"#b8e186\"],[0.8,\"#7fbc41\"],[0.9,\"#4d9221\"],[1,\"#276419\"]]},\"xaxis\":{\"gridcolor\":\"white\",\"linecolor\":\"white\",\"ticks\":\"\",\"title\":{\"standoff\":15},\"zerolinecolor\":\"white\",\"automargin\":true,\"zerolinewidth\":2},\"yaxis\":{\"gridcolor\":\"white\",\"linecolor\":\"white\",\"ticks\":\"\",\"title\":{\"standoff\":15},\"zerolinecolor\":\"white\",\"automargin\":true,\"zerolinewidth\":2},\"scene\":{\"xaxis\":{\"backgroundcolor\":\"#E5ECF6\",\"gridcolor\":\"white\",\"linecolor\":\"white\",\"showbackground\":true,\"ticks\":\"\",\"zerolinecolor\":\"white\",\"gridwidth\":2},\"yaxis\":{\"backgroundcolor\":\"#E5ECF6\",\"gridcolor\":\"white\",\"linecolor\":\"white\",\"showbackground\":true,\"ticks\":\"\",\"zerolinecolor\":\"white\",\"gridwidth\":2},\"zaxis\":{\"backgroundcolor\":\"#E5ECF6\",\"gridcolor\":\"white\",\"linecolor\":\"white\",\"showbackground\":true,\"ticks\":\"\",\"zerolinecolor\":\"white\",\"gridwidth\":2}},\"shapedefaults\":{\"line\":{\"color\":\"#2a3f5f\"}},\"annotationdefaults\":{\"arrowcolor\":\"#2a3f5f\",\"arrowhead\":0,\"arrowwidth\":1},\"geo\":{\"bgcolor\":\"white\",\"landcolor\":\"#E5ECF6\",\"subunitcolor\":\"white\",\"showland\":true,\"showlakes\":true,\"lakecolor\":\"white\"},\"title\":{\"x\":0.05},\"mapbox\":{\"style\":\"light\"}}},\"xaxis\":{\"anchor\":\"y\",\"domain\":[0.0,1.0],\"title\":{\"text\":\"Aim\"}},\"yaxis\":{\"anchor\":\"x\",\"domain\":[0.0,1.0],\"title\":{\"text\":\"Percent of a sample\"}},\"legend\":{\"title\":{\"text\":\"gender\"},\"tracegroupgap\":0},\"title\":{\"text\":\"Distribution of aims among women and men\"},\"barmode\":\"group\"},                        {\"responsive\": true}                    ).then(function(){\n",
       "                            \n",
       "var gd = document.getElementById('1c560385-6203-4fc2-8f20-2956788b3b03');\n",
       "var x = new MutationObserver(function (mutations, observer) {{\n",
       "        var display = window.getComputedStyle(gd).display;\n",
       "        if (!display || display === 'none') {{\n",
       "            console.log([gd, 'removed!']);\n",
       "            Plotly.purge(gd);\n",
       "            observer.disconnect();\n",
       "        }}\n",
       "}});\n",
       "\n",
       "// Listen for the removal of the full notebook cells\n",
       "var notebookContainer = gd.closest('#notebook-container');\n",
       "if (notebookContainer) {{\n",
       "    x.observe(notebookContainer, {childList: true});\n",
       "}}\n",
       "\n",
       "// Listen for the clearing of the current output cell\n",
       "var outputEl = gd.closest('.output');\n",
       "if (outputEl) {{\n",
       "    x.observe(outputEl, {childList: true});\n",
       "}}\n",
       "\n",
       "                        })                };                });            </script>        </div>"
      ]
     },
     "metadata": {},
     "output_type": "display_data"
    }
   ],
   "source": [
    "fig = px.bar(genders_aims, x=\"simpleaim\", y=\"percent\",\n",
    "             color='gender', barmode='group', title='Distribution of aims among women and men',\n",
    "             color_discrete_map={'Мужчины': 'lightblue', 'Женщины': 'lightpink'}, \n",
    "             labels={'simpleaim': 'Aim', 'percent':'Percent of a sample'})\n",
    "fig.show()"
   ]
  },
  {
   "cell_type": "code",
   "execution_count": 84,
   "metadata": {
    "scrolled": false
   },
   "outputs": [
    {
     "data": {
      "text/html": [
       "<div>\n",
       "<style scoped>\n",
       "    .dataframe tbody tr th:only-of-type {\n",
       "        vertical-align: middle;\n",
       "    }\n",
       "\n",
       "    .dataframe tbody tr th {\n",
       "        vertical-align: top;\n",
       "    }\n",
       "\n",
       "    .dataframe thead th {\n",
       "        text-align: right;\n",
       "    }\n",
       "</style>\n",
       "<table border=\"1\" class=\"dataframe\">\n",
       "  <thead>\n",
       "    <tr style=\"text-align: right;\">\n",
       "      <th></th>\n",
       "      <th>casual</th>\n",
       "      <th>family-person</th>\n",
       "      <th>friendy</th>\n",
       "      <th>relationships</th>\n",
       "      <th>unknown</th>\n",
       "      <th>unsure</th>\n",
       "      <th>total</th>\n",
       "      <th>index</th>\n",
       "    </tr>\n",
       "  </thead>\n",
       "  <tbody>\n",
       "    <tr>\n",
       "      <th>0</th>\n",
       "      <td>20247</td>\n",
       "      <td>577</td>\n",
       "      <td>4885</td>\n",
       "      <td>22092</td>\n",
       "      <td>53730</td>\n",
       "      <td>16893</td>\n",
       "      <td>118424</td>\n",
       "      <td>women</td>\n",
       "    </tr>\n",
       "    <tr>\n",
       "      <th>1</th>\n",
       "      <td>31314</td>\n",
       "      <td>483</td>\n",
       "      <td>1824</td>\n",
       "      <td>21133</td>\n",
       "      <td>46820</td>\n",
       "      <td>18614</td>\n",
       "      <td>120188</td>\n",
       "      <td>men</td>\n",
       "    </tr>\n",
       "    <tr>\n",
       "      <th>2</th>\n",
       "      <td>51561</td>\n",
       "      <td>1060</td>\n",
       "      <td>6709</td>\n",
       "      <td>43225</td>\n",
       "      <td>100550</td>\n",
       "      <td>35507</td>\n",
       "      <td>238612</td>\n",
       "      <td>all</td>\n",
       "    </tr>\n",
       "  </tbody>\n",
       "</table>\n",
       "</div>"
      ],
      "text/plain": [
       "   casual  family-person  friendy  relationships  unknown  unsure   total  \\\n",
       "0   20247            577     4885          22092    53730   16893  118424   \n",
       "1   31314            483     1824          21133    46820   18614  120188   \n",
       "2   51561           1060     6709          43225   100550   35507  238612   \n",
       "\n",
       "   index  \n",
       "0  women  \n",
       "1    men  \n",
       "2    all  "
      ]
     },
     "execution_count": 84,
     "metadata": {},
     "output_type": "execute_result"
    }
   ],
   "source": [
    "aims_count = pd.pivot_table(data=genders_aims, columns='simpleaim', index='gender', values='count')\n",
    "aims_count['total'] = aims_count.sum(axis=1).values\n",
    "\n",
    "dictaim = {}\n",
    "for aim, count in zip(list(aims_count.columns), list(aims_count.sum())):\n",
    "    dictaim[aim] = count\n",
    "    \n",
    "aims_count = aims_count.append(dictaim, ignore_index=True)\n",
    "aims_count['index'] = ['women', 'men', 'all']\n",
    "aims_count"
   ]
  },
  {
   "cell_type": "code",
   "execution_count": 85,
   "metadata": {
    "scrolled": true
   },
   "outputs": [],
   "source": [
    "expected_values = np.outer(aims_count['total'][0:2], aims_count.loc[aims_count['index'] == 'all', \n",
    "                                                                    ['casual', 'family-person', 'friendy', 'relationships', 'unknown', 'unsure']])/238612\n",
    "observed = aims_count.iloc[0:2, 0:6]"
   ]
  },
  {
   "cell_type": "code",
   "execution_count": 86,
   "metadata": {},
   "outputs": [
    {
     "data": {
      "text/plain": [
       "4347.0934220318195"
      ]
     },
     "execution_count": 86,
     "metadata": {},
     "output_type": "execute_result"
    }
   ],
   "source": [
    "((observed-expected_values)**2/expected_values).sum().sum()"
   ]
  },
  {
   "cell_type": "code",
   "execution_count": null,
   "metadata": {},
   "outputs": [],
   "source": []
  },
  {
   "cell_type": "code",
   "execution_count": 87,
   "metadata": {},
   "outputs": [
    {
     "data": {
      "image/png": "[encoded data removed]",
      "text/plain": [
       "<Figure size 1152x432 with 12 Axes>"
      ]
     },
     "metadata": {
      "needs_background": "light"
     },
     "output_type": "display_data"
    }
   ],
   "source": [
    "fig, axs = plt.subplots(figsize=(16, 6), nrows=2, ncols=6, sharey=False, sharex=True)\n",
    "\n",
    "for ax1, gen in enumerate(['Мужчины', 'Женщины']): \n",
    "    for ax2, aim in enumerate(['casual', 'relationships', 'friendy', 'family-person', 'unsure', 'unknown']): \n",
    "        data = mambadf.loc[(mambadf['gender'] == gen) & (mambadf['simpleaim'] == aim)]['age']\n",
    "        ax = axs[ax1][ax2] #this is the instance of the axs class (one plot)\n",
    "        ax.hist(data)\n",
    "   \n",
    "        if ax2 == 0:\n",
    "            ax.set_ylabel(gen)\n",
    " \n",
    "        if ax1 == 1: \n",
    "            ax.set_xlabel(aim) \n",
    "        \n",
    "fig.suptitle(\"distribution of ages in dating aims\", y=0.96) \n",
    "\n",
    "plt.savefig('aim_age_gender_dist.png')"
   ]
  },
  {
   "cell_type": "code",
   "execution_count": 88,
   "metadata": {},
   "outputs": [
    {
     "name": "stdout",
     "output_type": "stream",
     "text": [
      "Коэффициенты ассиметрии в данных\n",
      "Мужчины casual= 0.0912996192028004 simetrical\n",
      "Мужчины relationships= 0.056028668813815026 simetrical\n",
      "Мужчины friendy= 0.10358849575301493 simetrical\n",
      "Мужчины family-person= -0.437225818017187 simetrical\n",
      "Мужчины unsure= -0.11019061768856385 simetrical\n",
      "Мужчины unknown= 0.04728352635583831 simetrical\n",
      "Женщины casual= 0.3945912528244827 simetrical\n",
      "Женщины relationships= -0.08176519733471514 simetrical\n",
      "Женщины friendy= 0.21883354476410555 simetrical\n",
      "Женщины family-person= -0.3850568026532787 simetrical\n",
      "Женщины unsure= -0.003097769466883075 simetrical\n",
      "Женщины unknown= 0.1941973913088004 simetrical\n"
     ]
    }
   ],
   "source": [
    "from scipy.stats import skew\n",
    "print('Коэффициенты ассиметрии в данных')\n",
    "for gen in ['Мужчины', 'Женщины']: \n",
    "    for aim in ['casual', 'relationships', 'friendy', 'family-person', 'unsure', 'unknown']: \n",
    "        data = mambadf.loc[(mambadf['gender'] == gen) & (mambadf['simpleaim'] == aim)]['age']\n",
    "        skew1 = skew(data) \n",
    "        if skew1 < 0.5 and skew1 > -0.5:\n",
    "            simetry = ' simetrical'\n",
    "        else:\n",
    "            simetry = ' not simetrical'\n",
    "        print(gen, aim + '= ' + str(skew1) + simetry)"
   ]
  },
  {
   "cell_type": "code",
   "execution_count": 89,
   "metadata": {},
   "outputs": [
    {
     "name": "stdout",
     "output_type": "stream",
     "text": [
      "Коэффициенты распределенности в группах\n",
      "Мужчины casual= -0.9914653650791005 too flat\n",
      "Мужчины relationships= -1.0511594931800443 too flat\n",
      "Мужчины friendy= -1.1297156930863375 too flat\n",
      "Мужчины family-person= -0.8004287614390124 too flat\n",
      "Мужчины unsure= -0.947887100352387 too flat\n",
      "Мужчины unknown= -1.0289686495843213 too flat\n",
      "Женщины casual= -0.9084437342937419 too flat\n",
      "Женщины relationships= -1.0537513043410298 too flat\n",
      "Женщины friendy= -1.0687844187168007 too flat\n",
      "Женщины family-person= -0.5855359237610935 moderately normal\n",
      "Женщины unsure= -1.0595640051279969 too flat\n",
      "Женщины unknown= -0.8791107224244703 too flat\n"
     ]
    }
   ],
   "source": [
    "from scipy.stats import kurtosis\n",
    "print('Коэффициенты распределенности в группах')\n",
    "for gen in ['Мужчины', 'Женщины']: \n",
    "    for aim in ['casual', 'relationships', 'friendy', 'family-person', 'unsure', 'unknown']: \n",
    "        data = mambadf.loc[(mambadf['gender'] == gen) & (mambadf['simpleaim'] == aim)]['age']\n",
    "        skew1 = kurtosis(data) \n",
    "        if skew1 > 0.7:\n",
    "            simetry = ' too peaked'\n",
    "        elif skew1 < -0.7:\n",
    "            simetry = ' too flat'\n",
    "        else:\n",
    "            simetry = ' moderately normal'\n",
    "        print(gen, aim + '= ' + str(skew1) + simetry)"
   ]
  },
  {
   "cell_type": "code",
   "execution_count": 90,
   "metadata": {},
   "outputs": [
    {
     "name": "stdout",
     "output_type": "stream",
     "text": [
      "casual Ttest_indResult(statistic=33.244374696449334, pvalue=8.546000331906937e-240)\n",
      "mean for men:  30.7031040429201 mean for women:  28.516027065738133\n",
      "relationships Ttest_indResult(statistic=-7.939323179687635, pvalue=2.0815910298532346e-15)\n",
      "mean for men:  30.866890644962854 mean for women:  31.4448216548977\n",
      "friendy Ttest_indResult(statistic=3.3425683274888685, pvalue=0.0008346128376344849)\n",
      "mean for men:  30.28892543859649 mean for women:  29.57871033776868\n",
      "family-person Ttest_indResult(statistic=1.4095475928723162, pvalue=0.15896717927263332)\n",
      "mean for men:  35.0 mean for women:  34.4263431542461\n",
      "unsure Ttest_indResult(statistic=11.778254218771881, pvalue=5.795371905773976e-32)\n",
      "mean for men:  32.136295261631034 mean for women:  31.21819688628426\n",
      "unknown Ttest_indResult(statistic=24.92998706372192, pvalue=9.189945528911769e-137)\n",
      "mean for men:  31.15333190944041 mean for women:  30.012283640424343\n"
     ]
    }
   ],
   "source": [
    "from scipy.stats import ttest_ind\n",
    "for aim in ['casual', 'relationships', 'friendy', 'family-person', 'unsure', 'unknown']:\n",
    "    datamen = mambadf.loc[(mambadf['gender'] == 'Мужчины') & (mambadf['simpleaim'] == aim)]['age']\n",
    "    datawomen = mambadf.loc[(mambadf['gender'] == 'Женщины') & (mambadf['simpleaim'] == aim)]['age']\n",
    "    print(aim, ttest_ind(datamen, datawomen))\n",
    "    print('mean for men: ', np.mean(datamen), 'mean for women: ', np.mean(datawomen))"
   ]
  },
  {
   "cell_type": "code",
   "execution_count": 91,
   "metadata": {
    "scrolled": true
   },
   "outputs": [
    {
     "name": "stderr",
     "output_type": "stream",
     "text": [
      "<ipython-input-91-44b0929acff2>:8: UserWarning:\n",
      "\n",
      "Matplotlib is currently using module://ipykernel.pylab.backend_inline, which is a non-GUI backend, so cannot show the figure.\n",
      "\n"
     ]
    },
    {
     "data": {
      "image/png": "[encoded data removed]",
      "text/plain": [
       "<Figure size 432x288 with 1 Axes>"
      ]
     },
     "metadata": {
      "needs_background": "light"
     },
     "output_type": "display_data"
    },
    {
     "data": {
      "image/png": "[encoded data removed]",
      "text/plain": [
       "<Figure size 432x288 with 1 Axes>"
      ]
     },
     "metadata": {
      "needs_background": "light"
     },
     "output_type": "display_data"
    }
   ],
   "source": [
    "#проверила по qq-plot, что действительно лучше т-тест, видно, что распределение нормальное, но сплющенное\n",
    "\n",
    "import statsmodels.api as sm\n",
    "figmen = sm.qqplot(mambadf.loc[(mambadf['gender'] == 'Мужчины') & (mambadf['simpleaim'] == 'casual')]['age'])\n",
    "figwomen = sm.qqplot(mambadf.loc[(mambadf['gender'] == 'Женщины') & (mambadf['simpleaim'] == 'casual')]['age'])\n",
    "figmen.suptitle('check normal distribution for men' )\n",
    "figwomen.suptitle('check normal distribution for women')\n",
    "fig.show()"
   ]
  },
  {
   "cell_type": "markdown",
   "metadata": {},
   "source": [
    "#### а теперь можно проверить разницу между возрастами мужчин и женщин по разным целям. \n",
    "провожу последовательные т-тесты, потому что у всех почти групп распределение приплюснутое и симметричное.  \n",
    "\n",
    "<br> разницы в распределениях возрастов мужчин и женщин есть кроме family-person - там оба возраста ~ 34,5\n",
    "<b> Средние возраста по целям </b>\n",
    "* флиртовать, встречаться: м 31, ж 29\n",
    "* быть в отношениях: м 31, ж 32\n",
    "* дружить: м 30, ж 30 \n",
    "* хочу все подряд: м 32, ж 31\n",
    "* не указали цель: м 31, ж 30 \n",
    "* семья: м, ж ~ 34,5\n",
    "<br> <br>в целом, выборка настолько большая, что все меры можно было бы исчислять просто по центральной предельной теореме и закону больших чисел. \n",
    "<br> <br>общий вывод - средний возраст колеблется от 29 до 32 с маленькими различиями. Самый большой разрыв в 2 года - мужчины хотят флиртовать около 31, женщины 29. \n",
    "<br> <br> В целом, единственная прямо очевидная закономерность - что около 30 все хотят \"гулять\", к семье приходят к 35, и, в целом, мало кто сидит на сайте с целью семьи, в целом, люди ищут партнера (романтического, сексуального, дружеского).\n",
    "### Как распределяются по количеству на разные цели мужчины и женщины?\n",
    "Женщин на 10% меньше в группе Флиртовать-встречаться, в три раза больше в группе Семья, почти в три раза больше в группе Дружить, немного больше в группе с неизвестной целью, в группе Отношения примерно равное количество людей по полу. "
   ]
  },
  {
   "cell_type": "code",
   "execution_count": 92,
   "metadata": {},
   "outputs": [
    {
     "data": {
      "text/plain": [
       "встреча            24705\n",
       "отношения          23477\n",
       "дружба             22250\n",
       "общение            21854\n",
       "свидание           21272\n",
       "флирт              17288\n",
       "переписка          15275\n",
       "брак               11265\n",
       "создание семьи     11136\n",
       "путешествия         4858\n",
       "занятия спортом     3507\n",
       "свиданиеобщение        9\n",
       "dtype: int64"
      ]
     },
     "execution_count": 92,
     "metadata": {},
     "output_type": "execute_result"
    }
   ],
   "source": [
    "# неуверенные, похоже, просто хотят пообщаться-повстречаться, короче, развлечься.\n",
    "arr_aims = list(mambadf.loc[mambadf['simpleaim'] == 'unsure']['aim'])\n",
    "aims_unsure = []\n",
    "for item in arr_aims:\n",
    "    lst = item.split(', ')\n",
    "    for aim in lst:\n",
    "        aims_unsure.append(aim)\n",
    "    \n",
    "aims_unsure = pd.Series(aims_unsure)\n",
    "aims_unsure.value_counts()[:12]\n"
   ]
  },
  {
   "cell_type": "markdown",
   "metadata": {},
   "source": [
    "## Есть ли разница между теми, кто пишет о себе, и теми, кто нет? По целям. \n",
    "Чисто в базовых статистиках - вообще никакой разницы. \n",
    "\n",
    "<br><b>Но в целом, чтобы сравнивать, стоит уравнять немного выборки </b>\n",
    "* Буду смотреть разницу по полу\n",
    "* Разницу по цели \n",
    "* Опять-таки есть разница по диапазону возраста партнера: похоже, у тех, кто пишет, диапазон шире.\n",
    "* У тех, кто пишет, начальны возраст партнера будто поменьше. "
   ]
  },
  {
   "cell_type": "code",
   "execution_count": 93,
   "metadata": {},
   "outputs": [
    {
     "data": {
      "text/html": [
       "<div>\n",
       "<style scoped>\n",
       "    .dataframe tbody tr th:only-of-type {\n",
       "        vertical-align: middle;\n",
       "    }\n",
       "\n",
       "    .dataframe tbody tr th {\n",
       "        vertical-align: top;\n",
       "    }\n",
       "\n",
       "    .dataframe thead th {\n",
       "        text-align: right;\n",
       "    }\n",
       "</style>\n",
       "<table border=\"1\" class=\"dataframe\">\n",
       "  <thead>\n",
       "    <tr style=\"text-align: right;\">\n",
       "      <th></th>\n",
       "      <th>age</th>\n",
       "      <th>height</th>\n",
       "      <th>photocount</th>\n",
       "      <th>weight</th>\n",
       "      <th>id</th>\n",
       "      <th>count</th>\n",
       "      <th>rangeAge</th>\n",
       "      <th>percent</th>\n",
       "      <th>start_age</th>\n",
       "    </tr>\n",
       "  </thead>\n",
       "  <tbody>\n",
       "    <tr>\n",
       "      <th>count</th>\n",
       "      <td>16490.000000</td>\n",
       "      <td>13709.000000</td>\n",
       "      <td>16490.000000</td>\n",
       "      <td>10882.000000</td>\n",
       "      <td>1.638700e+04</td>\n",
       "      <td>16490.0</td>\n",
       "      <td>16413.000000</td>\n",
       "      <td>16490.000000</td>\n",
       "      <td>16413.000000</td>\n",
       "    </tr>\n",
       "    <tr>\n",
       "      <th>mean</th>\n",
       "      <td>31.500243</td>\n",
       "      <td>171.786272</td>\n",
       "      <td>1.342814</td>\n",
       "      <td>68.866844</td>\n",
       "      <td>1.795362e+09</td>\n",
       "      <td>1.0</td>\n",
       "      <td>14.326266</td>\n",
       "      <td>0.000834</td>\n",
       "      <td>26.881192</td>\n",
       "    </tr>\n",
       "    <tr>\n",
       "      <th>std</th>\n",
       "      <td>7.614891</td>\n",
       "      <td>9.116844</td>\n",
       "      <td>1.915383</td>\n",
       "      <td>15.717383</td>\n",
       "      <td>3.668534e+06</td>\n",
       "      <td>0.0</td>\n",
       "      <td>12.660974</td>\n",
       "      <td>0.000005</td>\n",
       "      <td>7.523569</td>\n",
       "    </tr>\n",
       "    <tr>\n",
       "      <th>min</th>\n",
       "      <td>18.000000</td>\n",
       "      <td>150.000000</td>\n",
       "      <td>0.000000</td>\n",
       "      <td>40.000000</td>\n",
       "      <td>1.790103e+09</td>\n",
       "      <td>1.0</td>\n",
       "      <td>1.000000</td>\n",
       "      <td>0.000828</td>\n",
       "      <td>18.000000</td>\n",
       "    </tr>\n",
       "    <tr>\n",
       "      <th>25%</th>\n",
       "      <td>25.000000</td>\n",
       "      <td>165.000000</td>\n",
       "      <td>0.000000</td>\n",
       "      <td>57.000000</td>\n",
       "      <td>1.791379e+09</td>\n",
       "      <td>1.0</td>\n",
       "      <td>4.000000</td>\n",
       "      <td>0.000828</td>\n",
       "      <td>20.000000</td>\n",
       "    </tr>\n",
       "    <tr>\n",
       "      <th>50%</th>\n",
       "      <td>32.000000</td>\n",
       "      <td>171.000000</td>\n",
       "      <td>0.000000</td>\n",
       "      <td>68.000000</td>\n",
       "      <td>1.795527e+09</td>\n",
       "      <td>1.0</td>\n",
       "      <td>10.000000</td>\n",
       "      <td>0.000839</td>\n",
       "      <td>26.000000</td>\n",
       "    </tr>\n",
       "    <tr>\n",
       "      <th>75%</th>\n",
       "      <td>38.000000</td>\n",
       "      <td>178.000000</td>\n",
       "      <td>2.000000</td>\n",
       "      <td>80.000000</td>\n",
       "      <td>1.798180e+09</td>\n",
       "      <td>1.0</td>\n",
       "      <td>19.000000</td>\n",
       "      <td>0.000839</td>\n",
       "      <td>32.000000</td>\n",
       "    </tr>\n",
       "    <tr>\n",
       "      <th>max</th>\n",
       "      <td>45.000000</td>\n",
       "      <td>220.000000</td>\n",
       "      <td>16.000000</td>\n",
       "      <td>160.000000</td>\n",
       "      <td>1.800291e+09</td>\n",
       "      <td>1.0</td>\n",
       "      <td>62.000000</td>\n",
       "      <td>0.000839</td>\n",
       "      <td>70.000000</td>\n",
       "    </tr>\n",
       "  </tbody>\n",
       "</table>\n",
       "</div>"
      ],
      "text/plain": [
       "                age        height    photocount        weight            id  \\\n",
       "count  16490.000000  13709.000000  16490.000000  10882.000000  1.638700e+04   \n",
       "mean      31.500243    171.786272      1.342814     68.866844  1.795362e+09   \n",
       "std        7.614891      9.116844      1.915383     15.717383  3.668534e+06   \n",
       "min       18.000000    150.000000      0.000000     40.000000  1.790103e+09   \n",
       "25%       25.000000    165.000000      0.000000     57.000000  1.791379e+09   \n",
       "50%       32.000000    171.000000      0.000000     68.000000  1.795527e+09   \n",
       "75%       38.000000    178.000000      2.000000     80.000000  1.798180e+09   \n",
       "max       45.000000    220.000000     16.000000    160.000000  1.800291e+09   \n",
       "\n",
       "         count      rangeAge       percent     start_age  \n",
       "count  16490.0  16413.000000  16490.000000  16413.000000  \n",
       "mean       1.0     14.326266      0.000834     26.881192  \n",
       "std        0.0     12.660974      0.000005      7.523569  \n",
       "min        1.0      1.000000      0.000828     18.000000  \n",
       "25%        1.0      4.000000      0.000828     20.000000  \n",
       "50%        1.0     10.000000      0.000839     26.000000  \n",
       "75%        1.0     19.000000      0.000839     32.000000  \n",
       "max        1.0     62.000000      0.000839     70.000000  "
      ]
     },
     "metadata": {},
     "output_type": "display_data"
    },
    {
     "data": {
      "text/html": [
       "<div>\n",
       "<style scoped>\n",
       "    .dataframe tbody tr th:only-of-type {\n",
       "        vertical-align: middle;\n",
       "    }\n",
       "\n",
       "    .dataframe tbody tr th {\n",
       "        vertical-align: top;\n",
       "    }\n",
       "\n",
       "    .dataframe thead th {\n",
       "        text-align: right;\n",
       "    }\n",
       "</style>\n",
       "<table border=\"1\" class=\"dataframe\">\n",
       "  <thead>\n",
       "    <tr style=\"text-align: right;\">\n",
       "      <th></th>\n",
       "      <th>age</th>\n",
       "      <th>height</th>\n",
       "      <th>photocount</th>\n",
       "      <th>weight</th>\n",
       "      <th>id</th>\n",
       "      <th>count</th>\n",
       "      <th>rangeAge</th>\n",
       "      <th>percent</th>\n",
       "      <th>start_age</th>\n",
       "    </tr>\n",
       "  </thead>\n",
       "  <tbody>\n",
       "    <tr>\n",
       "      <th>count</th>\n",
       "      <td>223497.000000</td>\n",
       "      <td>57042.000000</td>\n",
       "      <td>223497.000000</td>\n",
       "      <td>41406.000000</td>\n",
       "      <td>2.223940e+05</td>\n",
       "      <td>223497.0</td>\n",
       "      <td>222840.000000</td>\n",
       "      <td>223497.000000</td>\n",
       "      <td>222840.000000</td>\n",
       "    </tr>\n",
       "    <tr>\n",
       "      <th>mean</th>\n",
       "      <td>30.617194</td>\n",
       "      <td>172.192437</td>\n",
       "      <td>0.438167</td>\n",
       "      <td>70.151621</td>\n",
       "      <td>1.795157e+09</td>\n",
       "      <td>1.0</td>\n",
       "      <td>7.321957</td>\n",
       "      <td>0.000833</td>\n",
       "      <td>27.413521</td>\n",
       "    </tr>\n",
       "    <tr>\n",
       "      <th>std</th>\n",
       "      <td>7.380314</td>\n",
       "      <td>9.274647</td>\n",
       "      <td>1.114044</td>\n",
       "      <td>15.350817</td>\n",
       "      <td>3.616441e+06</td>\n",
       "      <td>0.0</td>\n",
       "      <td>8.793654</td>\n",
       "      <td>0.000005</td>\n",
       "      <td>7.251448</td>\n",
       "    </tr>\n",
       "    <tr>\n",
       "      <th>min</th>\n",
       "      <td>18.000000</td>\n",
       "      <td>150.000000</td>\n",
       "      <td>0.000000</td>\n",
       "      <td>40.000000</td>\n",
       "      <td>1.790103e+09</td>\n",
       "      <td>1.0</td>\n",
       "      <td>1.000000</td>\n",
       "      <td>0.000828</td>\n",
       "      <td>18.000000</td>\n",
       "    </tr>\n",
       "    <tr>\n",
       "      <th>25%</th>\n",
       "      <td>24.000000</td>\n",
       "      <td>165.000000</td>\n",
       "      <td>0.000000</td>\n",
       "      <td>58.000000</td>\n",
       "      <td>1.791374e+09</td>\n",
       "      <td>1.0</td>\n",
       "      <td>4.000000</td>\n",
       "      <td>0.000828</td>\n",
       "      <td>21.000000</td>\n",
       "    </tr>\n",
       "    <tr>\n",
       "      <th>50%</th>\n",
       "      <td>31.000000</td>\n",
       "      <td>172.000000</td>\n",
       "      <td>0.000000</td>\n",
       "      <td>70.000000</td>\n",
       "      <td>1.795513e+09</td>\n",
       "      <td>1.0</td>\n",
       "      <td>4.000000</td>\n",
       "      <td>0.000828</td>\n",
       "      <td>27.000000</td>\n",
       "    </tr>\n",
       "    <tr>\n",
       "      <th>75%</th>\n",
       "      <td>36.000000</td>\n",
       "      <td>179.000000</td>\n",
       "      <td>0.000000</td>\n",
       "      <td>80.000000</td>\n",
       "      <td>1.798169e+09</td>\n",
       "      <td>1.0</td>\n",
       "      <td>5.000000</td>\n",
       "      <td>0.000839</td>\n",
       "      <td>33.000000</td>\n",
       "    </tr>\n",
       "    <tr>\n",
       "      <th>max</th>\n",
       "      <td>45.000000</td>\n",
       "      <td>220.000000</td>\n",
       "      <td>13.000000</td>\n",
       "      <td>160.000000</td>\n",
       "      <td>1.800291e+09</td>\n",
       "      <td>1.0</td>\n",
       "      <td>62.000000</td>\n",
       "      <td>0.000839</td>\n",
       "      <td>79.000000</td>\n",
       "    </tr>\n",
       "  </tbody>\n",
       "</table>\n",
       "</div>"
      ],
      "text/plain": [
       "                 age        height     photocount        weight            id  \\\n",
       "count  223497.000000  57042.000000  223497.000000  41406.000000  2.223940e+05   \n",
       "mean       30.617194    172.192437       0.438167     70.151621  1.795157e+09   \n",
       "std         7.380314      9.274647       1.114044     15.350817  3.616441e+06   \n",
       "min        18.000000    150.000000       0.000000     40.000000  1.790103e+09   \n",
       "25%        24.000000    165.000000       0.000000     58.000000  1.791374e+09   \n",
       "50%        31.000000    172.000000       0.000000     70.000000  1.795513e+09   \n",
       "75%        36.000000    179.000000       0.000000     80.000000  1.798169e+09   \n",
       "max        45.000000    220.000000      13.000000    160.000000  1.800291e+09   \n",
       "\n",
       "          count       rangeAge        percent      start_age  \n",
       "count  223497.0  222840.000000  223497.000000  222840.000000  \n",
       "mean        1.0       7.321957       0.000833      27.413521  \n",
       "std         0.0       8.793654       0.000005       7.251448  \n",
       "min         1.0       1.000000       0.000828      18.000000  \n",
       "25%         1.0       4.000000       0.000828      21.000000  \n",
       "50%         1.0       4.000000       0.000828      27.000000  \n",
       "75%         1.0       5.000000       0.000839      33.000000  \n",
       "max         1.0      62.000000       0.000839      79.000000  "
      ]
     },
     "execution_count": 93,
     "metadata": {},
     "output_type": "execute_result"
    }
   ],
   "source": [
    "aboutyes = mambadf.loc[mambadf['about'].isna() == False]\n",
    "aboutno = mambadf.loc[mambadf['about'].isna() == True]\n",
    "display(aboutyes.describe())\n",
    "aboutno.describe()"
   ]
  },
  {
   "cell_type": "code",
   "execution_count": 94,
   "metadata": {},
   "outputs": [],
   "source": [
    "import random\n",
    "aboutnoLess = random.sample(list(aboutno.index), aboutyes.shape[0])"
   ]
  },
  {
   "cell_type": "code",
   "execution_count": 95,
   "metadata": {},
   "outputs": [
    {
     "name": "stderr",
     "output_type": "stream",
     "text": [
      "<ipython-input-95-4d8dde5713ee>:2: SettingWithCopyWarning:\n",
      "\n",
      "\n",
      "A value is trying to be set on a copy of a slice from a DataFrame.\n",
      "Try using .loc[row_indexer,col_indexer] = value instead\n",
      "\n",
      "See the caveats in the documentation: https://pandas.pydata.org/pandas-docs/stable/user_guide/indexing.html#returning-a-view-versus-a-copy\n",
      "\n",
      "<ipython-input-95-4d8dde5713ee>:3: SettingWithCopyWarning:\n",
      "\n",
      "\n",
      "A value is trying to be set on a copy of a slice from a DataFrame.\n",
      "Try using .loc[row_indexer,col_indexer] = value instead\n",
      "\n",
      "See the caveats in the documentation: https://pandas.pydata.org/pandas-docs/stable/user_guide/indexing.html#returning-a-view-versus-a-copy\n",
      "\n"
     ]
    },
    {
     "data": {
      "text/html": [
       "<div>\n",
       "<style scoped>\n",
       "    .dataframe tbody tr th:only-of-type {\n",
       "        vertical-align: middle;\n",
       "    }\n",
       "\n",
       "    .dataframe tbody tr th {\n",
       "        vertical-align: top;\n",
       "    }\n",
       "\n",
       "    .dataframe thead th {\n",
       "        text-align: right;\n",
       "    }\n",
       "</style>\n",
       "<table border=\"1\" class=\"dataframe\">\n",
       "  <thead>\n",
       "    <tr style=\"text-align: right;\">\n",
       "      <th></th>\n",
       "      <th>about</th>\n",
       "      <th>age</th>\n",
       "      <th>aim</th>\n",
       "      <th>children</th>\n",
       "      <th>city</th>\n",
       "      <th>edu</th>\n",
       "      <th>gender</th>\n",
       "      <th>height</th>\n",
       "      <th>intrestedin</th>\n",
       "      <th>language</th>\n",
       "      <th>...</th>\n",
       "      <th>smoke</th>\n",
       "      <th>weight</th>\n",
       "      <th>id</th>\n",
       "      <th>count</th>\n",
       "      <th>range_partner_age</th>\n",
       "      <th>rangeAge</th>\n",
       "      <th>simpleaim</th>\n",
       "      <th>percent</th>\n",
       "      <th>start_age</th>\n",
       "      <th>isabout</th>\n",
       "    </tr>\n",
       "  </thead>\n",
       "  <tbody>\n",
       "    <tr>\n",
       "      <th>17</th>\n",
       "      <td>NaN</td>\n",
       "      <td>25.0</td>\n",
       "      <td>переписка, дружба, общение, отношения, встреча...</td>\n",
       "      <td>Детей нет</td>\n",
       "      <td>Киев</td>\n",
       "      <td>Среднее</td>\n",
       "      <td>Женщины</td>\n",
       "      <td>166.0</td>\n",
       "      <td>парень</td>\n",
       "      <td>Русский</td>\n",
       "      <td>...</td>\n",
       "      <td>NaN</td>\n",
       "      <td>55.0</td>\n",
       "      <td>NaN</td>\n",
       "      <td>1</td>\n",
       "      <td>('25', '35')</td>\n",
       "      <td>10.0</td>\n",
       "      <td>unsure</td>\n",
       "      <td>0.000839</td>\n",
       "      <td>25.0</td>\n",
       "      <td>no description</td>\n",
       "    </tr>\n",
       "    <tr>\n",
       "      <th>29</th>\n",
       "      <td>NaN</td>\n",
       "      <td>40.0</td>\n",
       "      <td>NaN</td>\n",
       "      <td>NaN</td>\n",
       "      <td>Санкт-Петербург</td>\n",
       "      <td>NaN</td>\n",
       "      <td>Женщины</td>\n",
       "      <td>NaN</td>\n",
       "      <td>парень</td>\n",
       "      <td>Русский</td>\n",
       "      <td>...</td>\n",
       "      <td>NaN</td>\n",
       "      <td>NaN</td>\n",
       "      <td>NaN</td>\n",
       "      <td>1</td>\n",
       "      <td>('37', '41')</td>\n",
       "      <td>4.0</td>\n",
       "      <td>unknown</td>\n",
       "      <td>0.000839</td>\n",
       "      <td>37.0</td>\n",
       "      <td>no description</td>\n",
       "    </tr>\n",
       "    <tr>\n",
       "      <th>46</th>\n",
       "      <td>NaN</td>\n",
       "      <td>36.0</td>\n",
       "      <td>NaN</td>\n",
       "      <td>NaN</td>\n",
       "      <td>Санкт-Петербург</td>\n",
       "      <td>NaN</td>\n",
       "      <td>Женщины</td>\n",
       "      <td>NaN</td>\n",
       "      <td>парень</td>\n",
       "      <td>Русский</td>\n",
       "      <td>...</td>\n",
       "      <td>NaN</td>\n",
       "      <td>NaN</td>\n",
       "      <td>NaN</td>\n",
       "      <td>1</td>\n",
       "      <td>('33', '37')</td>\n",
       "      <td>4.0</td>\n",
       "      <td>unknown</td>\n",
       "      <td>0.000839</td>\n",
       "      <td>33.0</td>\n",
       "      <td>no description</td>\n",
       "    </tr>\n",
       "    <tr>\n",
       "      <th>63</th>\n",
       "      <td>NaN</td>\n",
       "      <td>24.0</td>\n",
       "      <td>переписка, дружба, общение, отношениявзаимност...</td>\n",
       "      <td>Детей нет, но хочу</td>\n",
       "      <td>Одесса</td>\n",
       "      <td>Высшее</td>\n",
       "      <td>Женщины</td>\n",
       "      <td>156.0</td>\n",
       "      <td>парень</td>\n",
       "      <td>Русский</td>\n",
       "      <td>...</td>\n",
       "      <td>Не курю</td>\n",
       "      <td>50.0</td>\n",
       "      <td>NaN</td>\n",
       "      <td>1</td>\n",
       "      <td>('21', '25')</td>\n",
       "      <td>4.0</td>\n",
       "      <td>unsure</td>\n",
       "      <td>0.000839</td>\n",
       "      <td>21.0</td>\n",
       "      <td>no description</td>\n",
       "    </tr>\n",
       "    <tr>\n",
       "      <th>97</th>\n",
       "      <td>NaN</td>\n",
       "      <td>42.0</td>\n",
       "      <td>NaN</td>\n",
       "      <td>Дети есть, живем порознь</td>\n",
       "      <td>Биробиджан</td>\n",
       "      <td>Два или более высших</td>\n",
       "      <td>Женщины</td>\n",
       "      <td>158.0</td>\n",
       "      <td>парень</td>\n",
       "      <td>Русский</td>\n",
       "      <td>...</td>\n",
       "      <td>Не курю</td>\n",
       "      <td>64.0</td>\n",
       "      <td>NaN</td>\n",
       "      <td>1</td>\n",
       "      <td>('39', '50')</td>\n",
       "      <td>11.0</td>\n",
       "      <td>unknown</td>\n",
       "      <td>0.000839</td>\n",
       "      <td>39.0</td>\n",
       "      <td>no description</td>\n",
       "    </tr>\n",
       "  </tbody>\n",
       "</table>\n",
       "<p>5 rows × 23 columns</p>\n",
       "</div>"
      ],
      "text/plain": [
       "   about   age                                                aim  \\\n",
       "17   NaN  25.0  переписка, дружба, общение, отношения, встреча...   \n",
       "29   NaN  40.0                                                NaN   \n",
       "46   NaN  36.0                                                NaN   \n",
       "63   NaN  24.0  переписка, дружба, общение, отношениявзаимност...   \n",
       "97   NaN  42.0                                                NaN   \n",
       "\n",
       "                    children             city                   edu   gender  \\\n",
       "17                 Детей нет             Киев               Среднее  Женщины   \n",
       "29                       NaN  Санкт-Петербург                   NaN  Женщины   \n",
       "46                       NaN  Санкт-Петербург                   NaN  Женщины   \n",
       "63        Детей нет, но хочу           Одесса                Высшее  Женщины   \n",
       "97  Дети есть, живем порознь       Биробиджан  Два или более высших  Женщины   \n",
       "\n",
       "    height intrestedin language  ...    smoke weight  id count  \\\n",
       "17   166.0      парень  Русский  ...      NaN   55.0 NaN     1   \n",
       "29     NaN      парень  Русский  ...      NaN    NaN NaN     1   \n",
       "46     NaN      парень  Русский  ...      NaN    NaN NaN     1   \n",
       "63   156.0      парень  Русский  ...  Не курю   50.0 NaN     1   \n",
       "97   158.0      парень  Русский  ...  Не курю   64.0 NaN     1   \n",
       "\n",
       "    range_partner_age  rangeAge  simpleaim   percent  start_age  \\\n",
       "17       ('25', '35')      10.0     unsure  0.000839       25.0   \n",
       "29       ('37', '41')       4.0    unknown  0.000839       37.0   \n",
       "46       ('33', '37')       4.0    unknown  0.000839       33.0   \n",
       "63       ('21', '25')       4.0     unsure  0.000839       21.0   \n",
       "97       ('39', '50')      11.0    unknown  0.000839       39.0   \n",
       "\n",
       "           isabout  \n",
       "17  no description  \n",
       "29  no description  \n",
       "46  no description  \n",
       "63  no description  \n",
       "97  no description  \n",
       "\n",
       "[5 rows x 23 columns]"
      ]
     },
     "execution_count": 95,
     "metadata": {},
     "output_type": "execute_result"
    }
   ],
   "source": [
    "aboutno1 = aboutno.loc[aboutno.index.isin(aboutnoLess)]\n",
    "aboutno1['isabout'] = 'no description'\n",
    "aboutyes['isabout'] = 'yes description'\n",
    "aboutno1.head()"
   ]
  },
  {
   "cell_type": "code",
   "execution_count": 96,
   "metadata": {
    "scrolled": true
   },
   "outputs": [
    {
     "data": {
      "text/html": [
       "<div>\n",
       "<style scoped>\n",
       "    .dataframe tbody tr th:only-of-type {\n",
       "        vertical-align: middle;\n",
       "    }\n",
       "\n",
       "    .dataframe tbody tr th {\n",
       "        vertical-align: top;\n",
       "    }\n",
       "\n",
       "    .dataframe thead th {\n",
       "        text-align: right;\n",
       "    }\n",
       "</style>\n",
       "<table border=\"1\" class=\"dataframe\">\n",
       "  <thead>\n",
       "    <tr style=\"text-align: right;\">\n",
       "      <th></th>\n",
       "      <th>age</th>\n",
       "      <th>height</th>\n",
       "      <th>photocount</th>\n",
       "      <th>weight</th>\n",
       "      <th>id</th>\n",
       "      <th>count</th>\n",
       "      <th>rangeAge</th>\n",
       "      <th>percent</th>\n",
       "      <th>start_age</th>\n",
       "    </tr>\n",
       "  </thead>\n",
       "  <tbody>\n",
       "    <tr>\n",
       "      <th>count</th>\n",
       "      <td>16490.000000</td>\n",
       "      <td>13709.000000</td>\n",
       "      <td>16490.000000</td>\n",
       "      <td>10882.000000</td>\n",
       "      <td>1.638700e+04</td>\n",
       "      <td>16490.0</td>\n",
       "      <td>16413.000000</td>\n",
       "      <td>16490.000000</td>\n",
       "      <td>16413.000000</td>\n",
       "    </tr>\n",
       "    <tr>\n",
       "      <th>mean</th>\n",
       "      <td>31.500243</td>\n",
       "      <td>171.786272</td>\n",
       "      <td>1.342814</td>\n",
       "      <td>68.866844</td>\n",
       "      <td>1.795362e+09</td>\n",
       "      <td>1.0</td>\n",
       "      <td>14.326266</td>\n",
       "      <td>0.000834</td>\n",
       "      <td>26.881192</td>\n",
       "    </tr>\n",
       "    <tr>\n",
       "      <th>std</th>\n",
       "      <td>7.614891</td>\n",
       "      <td>9.116844</td>\n",
       "      <td>1.915383</td>\n",
       "      <td>15.717383</td>\n",
       "      <td>3.668534e+06</td>\n",
       "      <td>0.0</td>\n",
       "      <td>12.660974</td>\n",
       "      <td>0.000005</td>\n",
       "      <td>7.523569</td>\n",
       "    </tr>\n",
       "    <tr>\n",
       "      <th>min</th>\n",
       "      <td>18.000000</td>\n",
       "      <td>150.000000</td>\n",
       "      <td>0.000000</td>\n",
       "      <td>40.000000</td>\n",
       "      <td>1.790103e+09</td>\n",
       "      <td>1.0</td>\n",
       "      <td>1.000000</td>\n",
       "      <td>0.000828</td>\n",
       "      <td>18.000000</td>\n",
       "    </tr>\n",
       "    <tr>\n",
       "      <th>25%</th>\n",
       "      <td>25.000000</td>\n",
       "      <td>165.000000</td>\n",
       "      <td>0.000000</td>\n",
       "      <td>57.000000</td>\n",
       "      <td>1.791379e+09</td>\n",
       "      <td>1.0</td>\n",
       "      <td>4.000000</td>\n",
       "      <td>0.000828</td>\n",
       "      <td>20.000000</td>\n",
       "    </tr>\n",
       "    <tr>\n",
       "      <th>50%</th>\n",
       "      <td>32.000000</td>\n",
       "      <td>171.000000</td>\n",
       "      <td>0.000000</td>\n",
       "      <td>68.000000</td>\n",
       "      <td>1.795527e+09</td>\n",
       "      <td>1.0</td>\n",
       "      <td>10.000000</td>\n",
       "      <td>0.000839</td>\n",
       "      <td>26.000000</td>\n",
       "    </tr>\n",
       "    <tr>\n",
       "      <th>75%</th>\n",
       "      <td>38.000000</td>\n",
       "      <td>178.000000</td>\n",
       "      <td>2.000000</td>\n",
       "      <td>80.000000</td>\n",
       "      <td>1.798180e+09</td>\n",
       "      <td>1.0</td>\n",
       "      <td>19.000000</td>\n",
       "      <td>0.000839</td>\n",
       "      <td>32.000000</td>\n",
       "    </tr>\n",
       "    <tr>\n",
       "      <th>max</th>\n",
       "      <td>45.000000</td>\n",
       "      <td>220.000000</td>\n",
       "      <td>16.000000</td>\n",
       "      <td>160.000000</td>\n",
       "      <td>1.800291e+09</td>\n",
       "      <td>1.0</td>\n",
       "      <td>62.000000</td>\n",
       "      <td>0.000839</td>\n",
       "      <td>70.000000</td>\n",
       "    </tr>\n",
       "  </tbody>\n",
       "</table>\n",
       "</div>"
      ],
      "text/plain": [
       "                age        height    photocount        weight            id  \\\n",
       "count  16490.000000  13709.000000  16490.000000  10882.000000  1.638700e+04   \n",
       "mean      31.500243    171.786272      1.342814     68.866844  1.795362e+09   \n",
       "std        7.614891      9.116844      1.915383     15.717383  3.668534e+06   \n",
       "min       18.000000    150.000000      0.000000     40.000000  1.790103e+09   \n",
       "25%       25.000000    165.000000      0.000000     57.000000  1.791379e+09   \n",
       "50%       32.000000    171.000000      0.000000     68.000000  1.795527e+09   \n",
       "75%       38.000000    178.000000      2.000000     80.000000  1.798180e+09   \n",
       "max       45.000000    220.000000     16.000000    160.000000  1.800291e+09   \n",
       "\n",
       "         count      rangeAge       percent     start_age  \n",
       "count  16490.0  16413.000000  16490.000000  16413.000000  \n",
       "mean       1.0     14.326266      0.000834     26.881192  \n",
       "std        0.0     12.660974      0.000005      7.523569  \n",
       "min        1.0      1.000000      0.000828     18.000000  \n",
       "25%        1.0      4.000000      0.000828     20.000000  \n",
       "50%        1.0     10.000000      0.000839     26.000000  \n",
       "75%        1.0     19.000000      0.000839     32.000000  \n",
       "max        1.0     62.000000      0.000839     70.000000  "
      ]
     },
     "metadata": {},
     "output_type": "display_data"
    },
    {
     "data": {
      "text/html": [
       "<div>\n",
       "<style scoped>\n",
       "    .dataframe tbody tr th:only-of-type {\n",
       "        vertical-align: middle;\n",
       "    }\n",
       "\n",
       "    .dataframe tbody tr th {\n",
       "        vertical-align: top;\n",
       "    }\n",
       "\n",
       "    .dataframe thead th {\n",
       "        text-align: right;\n",
       "    }\n",
       "</style>\n",
       "<table border=\"1\" class=\"dataframe\">\n",
       "  <thead>\n",
       "    <tr style=\"text-align: right;\">\n",
       "      <th></th>\n",
       "      <th>age</th>\n",
       "      <th>height</th>\n",
       "      <th>photocount</th>\n",
       "      <th>weight</th>\n",
       "      <th>id</th>\n",
       "      <th>count</th>\n",
       "      <th>rangeAge</th>\n",
       "      <th>percent</th>\n",
       "      <th>start_age</th>\n",
       "    </tr>\n",
       "  </thead>\n",
       "  <tbody>\n",
       "    <tr>\n",
       "      <th>count</th>\n",
       "      <td>16490.000000</td>\n",
       "      <td>4141.000000</td>\n",
       "      <td>16490.000000</td>\n",
       "      <td>3015.000000</td>\n",
       "      <td>1.642100e+04</td>\n",
       "      <td>16490.0</td>\n",
       "      <td>16430.000000</td>\n",
       "      <td>16490.000000</td>\n",
       "      <td>16430.000000</td>\n",
       "    </tr>\n",
       "    <tr>\n",
       "      <th>mean</th>\n",
       "      <td>30.601334</td>\n",
       "      <td>172.273364</td>\n",
       "      <td>0.447726</td>\n",
       "      <td>70.043781</td>\n",
       "      <td>1.795155e+09</td>\n",
       "      <td>1.0</td>\n",
       "      <td>7.307060</td>\n",
       "      <td>0.000833</td>\n",
       "      <td>27.446257</td>\n",
       "    </tr>\n",
       "    <tr>\n",
       "      <th>std</th>\n",
       "      <td>7.439322</td>\n",
       "      <td>9.372595</td>\n",
       "      <td>1.125446</td>\n",
       "      <td>15.312713</td>\n",
       "      <td>3.610703e+06</td>\n",
       "      <td>0.0</td>\n",
       "      <td>8.759812</td>\n",
       "      <td>0.000005</td>\n",
       "      <td>7.279412</td>\n",
       "    </tr>\n",
       "    <tr>\n",
       "      <th>min</th>\n",
       "      <td>18.000000</td>\n",
       "      <td>150.000000</td>\n",
       "      <td>0.000000</td>\n",
       "      <td>40.000000</td>\n",
       "      <td>1.790103e+09</td>\n",
       "      <td>1.0</td>\n",
       "      <td>1.000000</td>\n",
       "      <td>0.000828</td>\n",
       "      <td>18.000000</td>\n",
       "    </tr>\n",
       "    <tr>\n",
       "      <th>25%</th>\n",
       "      <td>24.000000</td>\n",
       "      <td>165.000000</td>\n",
       "      <td>0.000000</td>\n",
       "      <td>58.000000</td>\n",
       "      <td>1.791375e+09</td>\n",
       "      <td>1.0</td>\n",
       "      <td>4.000000</td>\n",
       "      <td>0.000828</td>\n",
       "      <td>21.000000</td>\n",
       "    </tr>\n",
       "    <tr>\n",
       "      <th>50%</th>\n",
       "      <td>31.000000</td>\n",
       "      <td>172.000000</td>\n",
       "      <td>0.000000</td>\n",
       "      <td>70.000000</td>\n",
       "      <td>1.795511e+09</td>\n",
       "      <td>1.0</td>\n",
       "      <td>4.000000</td>\n",
       "      <td>0.000828</td>\n",
       "      <td>27.000000</td>\n",
       "    </tr>\n",
       "    <tr>\n",
       "      <th>75%</th>\n",
       "      <td>36.000000</td>\n",
       "      <td>179.000000</td>\n",
       "      <td>0.000000</td>\n",
       "      <td>80.000000</td>\n",
       "      <td>1.798170e+09</td>\n",
       "      <td>1.0</td>\n",
       "      <td>4.000000</td>\n",
       "      <td>0.000839</td>\n",
       "      <td>33.000000</td>\n",
       "    </tr>\n",
       "    <tr>\n",
       "      <th>max</th>\n",
       "      <td>45.000000</td>\n",
       "      <td>220.000000</td>\n",
       "      <td>10.000000</td>\n",
       "      <td>160.000000</td>\n",
       "      <td>1.800291e+09</td>\n",
       "      <td>1.0</td>\n",
       "      <td>62.000000</td>\n",
       "      <td>0.000839</td>\n",
       "      <td>70.000000</td>\n",
       "    </tr>\n",
       "  </tbody>\n",
       "</table>\n",
       "</div>"
      ],
      "text/plain": [
       "                age       height    photocount       weight            id  \\\n",
       "count  16490.000000  4141.000000  16490.000000  3015.000000  1.642100e+04   \n",
       "mean      30.601334   172.273364      0.447726    70.043781  1.795155e+09   \n",
       "std        7.439322     9.372595      1.125446    15.312713  3.610703e+06   \n",
       "min       18.000000   150.000000      0.000000    40.000000  1.790103e+09   \n",
       "25%       24.000000   165.000000      0.000000    58.000000  1.791375e+09   \n",
       "50%       31.000000   172.000000      0.000000    70.000000  1.795511e+09   \n",
       "75%       36.000000   179.000000      0.000000    80.000000  1.798170e+09   \n",
       "max       45.000000   220.000000     10.000000   160.000000  1.800291e+09   \n",
       "\n",
       "         count      rangeAge       percent     start_age  \n",
       "count  16490.0  16430.000000  16490.000000  16430.000000  \n",
       "mean       1.0      7.307060      0.000833     27.446257  \n",
       "std        0.0      8.759812      0.000005      7.279412  \n",
       "min        1.0      1.000000      0.000828     18.000000  \n",
       "25%        1.0      4.000000      0.000828     21.000000  \n",
       "50%        1.0      4.000000      0.000828     27.000000  \n",
       "75%        1.0      4.000000      0.000839     33.000000  \n",
       "max        1.0     62.000000      0.000839     70.000000  "
      ]
     },
     "execution_count": 96,
     "metadata": {},
     "output_type": "execute_result"
    }
   ],
   "source": [
    "display(aboutyes.describe())\n",
    "aboutno1.describe()"
   ]
  },
  {
   "cell_type": "code",
   "execution_count": 97,
   "metadata": {},
   "outputs": [],
   "source": [
    "aboutYN = pd.concat([aboutno1, aboutyes])\n",
    "aboutaims = aboutYN.loc[aboutYN.simpleaim.isin(['casual', 'relationships', 'friendy', 'family-person', 'unsure', 'unknown'])]"
   ]
  },
  {
   "cell_type": "code",
   "execution_count": 98,
   "metadata": {
    "scrolled": false
   },
   "outputs": [
    {
     "data": {
      "text/html": [
       "<div>\n",
       "<style scoped>\n",
       "    .dataframe tbody tr th:only-of-type {\n",
       "        vertical-align: middle;\n",
       "    }\n",
       "\n",
       "    .dataframe tbody tr th {\n",
       "        vertical-align: top;\n",
       "    }\n",
       "\n",
       "    .dataframe thead th {\n",
       "        text-align: right;\n",
       "    }\n",
       "</style>\n",
       "<table border=\"1\" class=\"dataframe\">\n",
       "  <thead>\n",
       "    <tr style=\"text-align: right;\">\n",
       "      <th></th>\n",
       "      <th>about</th>\n",
       "      <th>age</th>\n",
       "      <th>aim</th>\n",
       "      <th>children</th>\n",
       "      <th>city</th>\n",
       "      <th>edu</th>\n",
       "      <th>gender</th>\n",
       "      <th>height</th>\n",
       "      <th>intrestedin</th>\n",
       "      <th>language</th>\n",
       "      <th>...</th>\n",
       "      <th>smoke</th>\n",
       "      <th>weight</th>\n",
       "      <th>id</th>\n",
       "      <th>count</th>\n",
       "      <th>range_partner_age</th>\n",
       "      <th>rangeAge</th>\n",
       "      <th>simpleaim</th>\n",
       "      <th>percent</th>\n",
       "      <th>start_age</th>\n",
       "      <th>isabout</th>\n",
       "    </tr>\n",
       "  </thead>\n",
       "  <tbody>\n",
       "    <tr>\n",
       "      <th>17</th>\n",
       "      <td>NaN</td>\n",
       "      <td>25.0</td>\n",
       "      <td>переписка, дружба, общение, отношения, встреча...</td>\n",
       "      <td>Детей нет</td>\n",
       "      <td>Киев</td>\n",
       "      <td>Среднее</td>\n",
       "      <td>Женщины</td>\n",
       "      <td>166.0</td>\n",
       "      <td>парень</td>\n",
       "      <td>Русский</td>\n",
       "      <td>...</td>\n",
       "      <td>NaN</td>\n",
       "      <td>55.0</td>\n",
       "      <td>NaN</td>\n",
       "      <td>1</td>\n",
       "      <td>('25', '35')</td>\n",
       "      <td>10.0</td>\n",
       "      <td>unsure</td>\n",
       "      <td>0.000839</td>\n",
       "      <td>25.0</td>\n",
       "      <td>no description</td>\n",
       "    </tr>\n",
       "    <tr>\n",
       "      <th>29</th>\n",
       "      <td>NaN</td>\n",
       "      <td>40.0</td>\n",
       "      <td>NaN</td>\n",
       "      <td>NaN</td>\n",
       "      <td>Санкт-Петербург</td>\n",
       "      <td>NaN</td>\n",
       "      <td>Женщины</td>\n",
       "      <td>NaN</td>\n",
       "      <td>парень</td>\n",
       "      <td>Русский</td>\n",
       "      <td>...</td>\n",
       "      <td>NaN</td>\n",
       "      <td>NaN</td>\n",
       "      <td>NaN</td>\n",
       "      <td>1</td>\n",
       "      <td>('37', '41')</td>\n",
       "      <td>4.0</td>\n",
       "      <td>unknown</td>\n",
       "      <td>0.000839</td>\n",
       "      <td>37.0</td>\n",
       "      <td>no description</td>\n",
       "    </tr>\n",
       "    <tr>\n",
       "      <th>46</th>\n",
       "      <td>NaN</td>\n",
       "      <td>36.0</td>\n",
       "      <td>NaN</td>\n",
       "      <td>NaN</td>\n",
       "      <td>Санкт-Петербург</td>\n",
       "      <td>NaN</td>\n",
       "      <td>Женщины</td>\n",
       "      <td>NaN</td>\n",
       "      <td>парень</td>\n",
       "      <td>Русский</td>\n",
       "      <td>...</td>\n",
       "      <td>NaN</td>\n",
       "      <td>NaN</td>\n",
       "      <td>NaN</td>\n",
       "      <td>1</td>\n",
       "      <td>('33', '37')</td>\n",
       "      <td>4.0</td>\n",
       "      <td>unknown</td>\n",
       "      <td>0.000839</td>\n",
       "      <td>33.0</td>\n",
       "      <td>no description</td>\n",
       "    </tr>\n",
       "    <tr>\n",
       "      <th>63</th>\n",
       "      <td>NaN</td>\n",
       "      <td>24.0</td>\n",
       "      <td>переписка, дружба, общение, отношениявзаимност...</td>\n",
       "      <td>Детей нет, но хочу</td>\n",
       "      <td>Одесса</td>\n",
       "      <td>Высшее</td>\n",
       "      <td>Женщины</td>\n",
       "      <td>156.0</td>\n",
       "      <td>парень</td>\n",
       "      <td>Русский</td>\n",
       "      <td>...</td>\n",
       "      <td>Не курю</td>\n",
       "      <td>50.0</td>\n",
       "      <td>NaN</td>\n",
       "      <td>1</td>\n",
       "      <td>('21', '25')</td>\n",
       "      <td>4.0</td>\n",
       "      <td>unsure</td>\n",
       "      <td>0.000839</td>\n",
       "      <td>21.0</td>\n",
       "      <td>no description</td>\n",
       "    </tr>\n",
       "    <tr>\n",
       "      <th>97</th>\n",
       "      <td>NaN</td>\n",
       "      <td>42.0</td>\n",
       "      <td>NaN</td>\n",
       "      <td>Дети есть, живем порознь</td>\n",
       "      <td>Биробиджан</td>\n",
       "      <td>Два или более высших</td>\n",
       "      <td>Женщины</td>\n",
       "      <td>158.0</td>\n",
       "      <td>парень</td>\n",
       "      <td>Русский</td>\n",
       "      <td>...</td>\n",
       "      <td>Не курю</td>\n",
       "      <td>64.0</td>\n",
       "      <td>NaN</td>\n",
       "      <td>1</td>\n",
       "      <td>('39', '50')</td>\n",
       "      <td>11.0</td>\n",
       "      <td>unknown</td>\n",
       "      <td>0.000839</td>\n",
       "      <td>39.0</td>\n",
       "      <td>no description</td>\n",
       "    </tr>\n",
       "  </tbody>\n",
       "</table>\n",
       "<p>5 rows × 23 columns</p>\n",
       "</div>"
      ],
      "text/plain": [
       "   about   age                                                aim  \\\n",
       "17   NaN  25.0  переписка, дружба, общение, отношения, встреча...   \n",
       "29   NaN  40.0                                                NaN   \n",
       "46   NaN  36.0                                                NaN   \n",
       "63   NaN  24.0  переписка, дружба, общение, отношениявзаимност...   \n",
       "97   NaN  42.0                                                NaN   \n",
       "\n",
       "                    children             city                   edu   gender  \\\n",
       "17                 Детей нет             Киев               Среднее  Женщины   \n",
       "29                       NaN  Санкт-Петербург                   NaN  Женщины   \n",
       "46                       NaN  Санкт-Петербург                   NaN  Женщины   \n",
       "63        Детей нет, но хочу           Одесса                Высшее  Женщины   \n",
       "97  Дети есть, живем порознь       Биробиджан  Два или более высших  Женщины   \n",
       "\n",
       "    height intrestedin language  ...    smoke weight  id count  \\\n",
       "17   166.0      парень  Русский  ...      NaN   55.0 NaN     1   \n",
       "29     NaN      парень  Русский  ...      NaN    NaN NaN     1   \n",
       "46     NaN      парень  Русский  ...      NaN    NaN NaN     1   \n",
       "63   156.0      парень  Русский  ...  Не курю   50.0 NaN     1   \n",
       "97   158.0      парень  Русский  ...  Не курю   64.0 NaN     1   \n",
       "\n",
       "    range_partner_age  rangeAge  simpleaim   percent  start_age  \\\n",
       "17       ('25', '35')      10.0     unsure  0.000839       25.0   \n",
       "29       ('37', '41')       4.0    unknown  0.000839       37.0   \n",
       "46       ('33', '37')       4.0    unknown  0.000839       33.0   \n",
       "63       ('21', '25')       4.0     unsure  0.000839       21.0   \n",
       "97       ('39', '50')      11.0    unknown  0.000839       39.0   \n",
       "\n",
       "           isabout  \n",
       "17  no description  \n",
       "29  no description  \n",
       "46  no description  \n",
       "63  no description  \n",
       "97  no description  \n",
       "\n",
       "[5 rows x 23 columns]"
      ]
     },
     "execution_count": 98,
     "metadata": {},
     "output_type": "execute_result"
    }
   ],
   "source": [
    "aboutaims.head()"
   ]
  },
  {
   "cell_type": "code",
   "execution_count": 99,
   "metadata": {},
   "outputs": [
    {
     "data": {
      "text/html": [
       "<div>\n",
       "<style scoped>\n",
       "    .dataframe tbody tr th:only-of-type {\n",
       "        vertical-align: middle;\n",
       "    }\n",
       "\n",
       "    .dataframe tbody tr th {\n",
       "        vertical-align: top;\n",
       "    }\n",
       "\n",
       "    .dataframe thead th {\n",
       "        text-align: right;\n",
       "    }\n",
       "</style>\n",
       "<table border=\"1\" class=\"dataframe\">\n",
       "  <thead>\n",
       "    <tr style=\"text-align: right;\">\n",
       "      <th></th>\n",
       "      <th>isabout</th>\n",
       "      <th>simpleaim</th>\n",
       "      <th>gender</th>\n",
       "      <th>count</th>\n",
       "    </tr>\n",
       "  </thead>\n",
       "  <tbody>\n",
       "    <tr>\n",
       "      <th>0</th>\n",
       "      <td>no description</td>\n",
       "      <td>casual</td>\n",
       "      <td>Женщины</td>\n",
       "      <td>1354</td>\n",
       "    </tr>\n",
       "    <tr>\n",
       "      <th>1</th>\n",
       "      <td>no description</td>\n",
       "      <td>casual</td>\n",
       "      <td>Мужчины</td>\n",
       "      <td>2158</td>\n",
       "    </tr>\n",
       "    <tr>\n",
       "      <th>2</th>\n",
       "      <td>no description</td>\n",
       "      <td>family-person</td>\n",
       "      <td>Женщины</td>\n",
       "      <td>30</td>\n",
       "    </tr>\n",
       "    <tr>\n",
       "      <th>3</th>\n",
       "      <td>no description</td>\n",
       "      <td>family-person</td>\n",
       "      <td>Мужчины</td>\n",
       "      <td>34</td>\n",
       "    </tr>\n",
       "    <tr>\n",
       "      <th>4</th>\n",
       "      <td>no description</td>\n",
       "      <td>friendy</td>\n",
       "      <td>Женщины</td>\n",
       "      <td>276</td>\n",
       "    </tr>\n",
       "    <tr>\n",
       "      <th>5</th>\n",
       "      <td>no description</td>\n",
       "      <td>friendy</td>\n",
       "      <td>Мужчины</td>\n",
       "      <td>110</td>\n",
       "    </tr>\n",
       "    <tr>\n",
       "      <th>6</th>\n",
       "      <td>no description</td>\n",
       "      <td>relationships</td>\n",
       "      <td>Женщины</td>\n",
       "      <td>1523</td>\n",
       "    </tr>\n",
       "    <tr>\n",
       "      <th>7</th>\n",
       "      <td>no description</td>\n",
       "      <td>relationships</td>\n",
       "      <td>Мужчины</td>\n",
       "      <td>1476</td>\n",
       "    </tr>\n",
       "    <tr>\n",
       "      <th>8</th>\n",
       "      <td>no description</td>\n",
       "      <td>unknown</td>\n",
       "      <td>Женщины</td>\n",
       "      <td>3972</td>\n",
       "    </tr>\n",
       "    <tr>\n",
       "      <th>9</th>\n",
       "      <td>no description</td>\n",
       "      <td>unknown</td>\n",
       "      <td>Мужчины</td>\n",
       "      <td>3453</td>\n",
       "    </tr>\n",
       "    <tr>\n",
       "      <th>10</th>\n",
       "      <td>no description</td>\n",
       "      <td>unsure</td>\n",
       "      <td>Женщины</td>\n",
       "      <td>939</td>\n",
       "    </tr>\n",
       "    <tr>\n",
       "      <th>11</th>\n",
       "      <td>no description</td>\n",
       "      <td>unsure</td>\n",
       "      <td>Мужчины</td>\n",
       "      <td>1102</td>\n",
       "    </tr>\n",
       "    <tr>\n",
       "      <th>12</th>\n",
       "      <td>yes description</td>\n",
       "      <td>casual</td>\n",
       "      <td>Женщины</td>\n",
       "      <td>1789</td>\n",
       "    </tr>\n",
       "    <tr>\n",
       "      <th>13</th>\n",
       "      <td>yes description</td>\n",
       "      <td>casual</td>\n",
       "      <td>Мужчины</td>\n",
       "      <td>1847</td>\n",
       "    </tr>\n",
       "    <tr>\n",
       "      <th>14</th>\n",
       "      <td>yes description</td>\n",
       "      <td>family-person</td>\n",
       "      <td>Женщины</td>\n",
       "      <td>115</td>\n",
       "    </tr>\n",
       "    <tr>\n",
       "      <th>15</th>\n",
       "      <td>yes description</td>\n",
       "      <td>family-person</td>\n",
       "      <td>Мужчины</td>\n",
       "      <td>53</td>\n",
       "    </tr>\n",
       "    <tr>\n",
       "      <th>16</th>\n",
       "      <td>yes description</td>\n",
       "      <td>friendy</td>\n",
       "      <td>Женщины</td>\n",
       "      <td>669</td>\n",
       "    </tr>\n",
       "    <tr>\n",
       "      <th>17</th>\n",
       "      <td>yes description</td>\n",
       "      <td>friendy</td>\n",
       "      <td>Мужчины</td>\n",
       "      <td>206</td>\n",
       "    </tr>\n",
       "    <tr>\n",
       "      <th>18</th>\n",
       "      <td>yes description</td>\n",
       "      <td>relationships</td>\n",
       "      <td>Женщины</td>\n",
       "      <td>1794</td>\n",
       "    </tr>\n",
       "    <tr>\n",
       "      <th>19</th>\n",
       "      <td>yes description</td>\n",
       "      <td>relationships</td>\n",
       "      <td>Мужчины</td>\n",
       "      <td>1149</td>\n",
       "    </tr>\n",
       "    <tr>\n",
       "      <th>20</th>\n",
       "      <td>yes description</td>\n",
       "      <td>unknown</td>\n",
       "      <td>Женщины</td>\n",
       "      <td>449</td>\n",
       "    </tr>\n",
       "    <tr>\n",
       "      <th>21</th>\n",
       "      <td>yes description</td>\n",
       "      <td>unknown</td>\n",
       "      <td>Мужчины</td>\n",
       "      <td>333</td>\n",
       "    </tr>\n",
       "    <tr>\n",
       "      <th>22</th>\n",
       "      <td>yes description</td>\n",
       "      <td>unsure</td>\n",
       "      <td>Женщины</td>\n",
       "      <td>3928</td>\n",
       "    </tr>\n",
       "    <tr>\n",
       "      <th>23</th>\n",
       "      <td>yes description</td>\n",
       "      <td>unsure</td>\n",
       "      <td>Мужчины</td>\n",
       "      <td>3720</td>\n",
       "    </tr>\n",
       "  </tbody>\n",
       "</table>\n",
       "</div>"
      ],
      "text/plain": [
       "            isabout      simpleaim   gender  count\n",
       "0    no description         casual  Женщины   1354\n",
       "1    no description         casual  Мужчины   2158\n",
       "2    no description  family-person  Женщины     30\n",
       "3    no description  family-person  Мужчины     34\n",
       "4    no description        friendy  Женщины    276\n",
       "5    no description        friendy  Мужчины    110\n",
       "6    no description  relationships  Женщины   1523\n",
       "7    no description  relationships  Мужчины   1476\n",
       "8    no description        unknown  Женщины   3972\n",
       "9    no description        unknown  Мужчины   3453\n",
       "10   no description         unsure  Женщины    939\n",
       "11   no description         unsure  Мужчины   1102\n",
       "12  yes description         casual  Женщины   1789\n",
       "13  yes description         casual  Мужчины   1847\n",
       "14  yes description  family-person  Женщины    115\n",
       "15  yes description  family-person  Мужчины     53\n",
       "16  yes description        friendy  Женщины    669\n",
       "17  yes description        friendy  Мужчины    206\n",
       "18  yes description  relationships  Женщины   1794\n",
       "19  yes description  relationships  Мужчины   1149\n",
       "20  yes description        unknown  Женщины    449\n",
       "21  yes description        unknown  Мужчины    333\n",
       "22  yes description         unsure  Женщины   3928\n",
       "23  yes description         unsure  Мужчины   3720"
      ]
     },
     "execution_count": 99,
     "metadata": {},
     "output_type": "execute_result"
    }
   ],
   "source": [
    "dist_about_aims = aboutaims.groupby(['isabout', 'simpleaim', 'gender'])['count'].sum().reset_index()\n",
    "dist_about_aims "
   ]
  },
  {
   "cell_type": "code",
   "execution_count": 100,
   "metadata": {},
   "outputs": [
    {
     "data": {
      "application/vnd.plotly.v1+json": {
       "config": {
        "plotlyServerURL": "https://plot.ly"
       },
       "data": [
        {
         "alignmentgroup": "True",
         "customdata": [
          [
           "Женщины"
          ],
          [
           "Мужчины"
          ],
          [
           "Женщины"
          ],
          [
           "Мужчины"
          ],
          [
           "Женщины"
          ],
          [
           "Мужчины"
          ],
          [
           "Женщины"
          ],
          [
           "Мужчины"
          ],
          [
           "Женщины"
          ],
          [
           "Мужчины"
          ],
          [
           "Женщины"
          ],
          [
           "Мужчины"
          ]
         ],
         "hovertemplate": "isabout=no description<br>simpleaim=%{x}<br>count=%{y}<br>gender=%{customdata[0]}<extra></extra>",
         "legendgroup": "no description",
         "marker": {
          "color": "#636efa",
          "pattern": {
           "shape": ""
          }
         },
         "name": "no description",
         "offsetgroup": "no description",
         "orientation": "v",
         "showlegend": true,
         "textposition": "auto",
         "type": "bar",
         "x": [
          "casual",
          "casual",
          "family-person",
          "family-person",
          "friendy",
          "friendy",
          "relationships",
          "relationships",
          "unknown",
          "unknown",
          "unsure",
          "unsure"
         ],
         "xaxis": "x",
         "y": [
          1354,
          2158,
          30,
          34,
          276,
          110,
          1523,
          1476,
          3972,
          3453,
          939,
          1102
         ],
         "yaxis": "y"
        },
        {
         "alignmentgroup": "True",
         "customdata": [
          [
           "Женщины"
          ],
          [
           "Мужчины"
          ],
          [
           "Женщины"
          ],
          [
           "Мужчины"
          ],
          [
           "Женщины"
          ],
          [
           "Мужчины"
          ],
          [
           "Женщины"
          ],
          [
           "Мужчины"
          ],
          [
           "Женщины"
          ],
          [
           "Мужчины"
          ],
          [
           "Женщины"
          ],
          [
           "Мужчины"
          ]
         ],
         "hovertemplate": "isabout=yes description<br>simpleaim=%{x}<br>count=%{y}<br>gender=%{customdata[0]}<extra></extra>",
         "legendgroup": "yes description",
         "marker": {
          "color": "#EF553B",
          "pattern": {
           "shape": ""
          }
         },
         "name": "yes description",
         "offsetgroup": "yes description",
         "orientation": "v",
         "showlegend": true,
         "textposition": "auto",
         "type": "bar",
         "x": [
          "casual",
          "casual",
          "family-person",
          "family-person",
          "friendy",
          "friendy",
          "relationships",
          "relationships",
          "unknown",
          "unknown",
          "unsure",
          "unsure"
         ],
         "xaxis": "x",
         "y": [
          1789,
          1847,
          115,
          53,
          669,
          206,
          1794,
          1149,
          449,
          333,
          3928,
          3720
         ],
         "yaxis": "y"
        }
       ],
       "layout": {
        "barmode": "group",
        "legend": {
         "title": {
          "text": "isabout"
         },
         "tracegroupgap": 0
        },
        "template": {
         "data": {
          "bar": [
           {
            "error_x": {
             "color": "#2a3f5f"
            },
            "error_y": {
             "color": "#2a3f5f"
            },
            "marker": {
             "line": {
              "color": "#E5ECF6",
              "width": 0.5
             },
             "pattern": {
              "fillmode": "overlay",
              "size": 10,
              "solidity": 0.2
             }
            },
            "type": "bar"
           }
          ],
          "barpolar": [
           {
            "marker": {
             "line": {
              "color": "#E5ECF6",
              "width": 0.5
             },
             "pattern": {
              "fillmode": "overlay",
              "size": 10,
              "solidity": 0.2
             }
            },
            "type": "barpolar"
           }
          ],
          "carpet": [
           {
            "aaxis": {
             "endlinecolor": "#2a3f5f",
             "gridcolor": "white",
             "linecolor": "white",
             "minorgridcolor": "white",
             "startlinecolor": "#2a3f5f"
            },
            "baxis": {
             "endlinecolor": "#2a3f5f",
             "gridcolor": "white",
             "linecolor": "white",
             "minorgridcolor": "white",
             "startlinecolor": "#2a3f5f"
            },
            "type": "carpet"
           }
          ],
          "choropleth": [
           {
            "colorbar": {
             "outlinewidth": 0,
             "ticks": ""
            },
            "type": "choropleth"
           }
          ],
          "contour": [
           {
            "colorbar": {
             "outlinewidth": 0,
             "ticks": ""
            },
            "colorscale": [
             [
              0,
              "#0d0887"
             ],
             [
              0.1111111111111111,
              "#46039f"
             ],
             [
              0.2222222222222222,
              "#7201a8"
             ],
             [
              0.3333333333333333,
              "#9c179e"
             ],
             [
              0.4444444444444444,
              "#bd3786"
             ],
             [
              0.5555555555555556,
              "#d8576b"
             ],
             [
              0.6666666666666666,
              "#ed7953"
             ],
             [
              0.7777777777777778,
              "#fb9f3a"
             ],
             [
              0.8888888888888888,
              "#fdca26"
             ],
             [
              1,
              "#f0f921"
             ]
            ],
            "type": "contour"
           }
          ],
          "contourcarpet": [
           {
            "colorbar": {
             "outlinewidth": 0,
             "ticks": ""
            },
            "type": "contourcarpet"
           }
          ],
          "heatmap": [
           {
            "colorbar": {
             "outlinewidth": 0,
             "ticks": ""
            },
            "colorscale": [
             [
              0,
              "#0d0887"
             ],
             [
              0.1111111111111111,
              "#46039f"
             ],
             [
              0.2222222222222222,
              "#7201a8"
             ],
             [
              0.3333333333333333,
              "#9c179e"
             ],
             [
              0.4444444444444444,
              "#bd3786"
             ],
             [
              0.5555555555555556,
              "#d8576b"
             ],
             [
              0.6666666666666666,
              "#ed7953"
             ],
             [
              0.7777777777777778,
              "#fb9f3a"
             ],
             [
              0.8888888888888888,
              "#fdca26"
             ],
             [
              1,
              "#f0f921"
             ]
            ],
            "type": "heatmap"
           }
          ],
          "heatmapgl": [
           {
            "colorbar": {
             "outlinewidth": 0,
             "ticks": ""
            },
            "colorscale": [
             [
              0,
              "#0d0887"
             ],
             [
              0.1111111111111111,
              "#46039f"
             ],
             [
              0.2222222222222222,
              "#7201a8"
             ],
             [
              0.3333333333333333,
              "#9c179e"
             ],
             [
              0.4444444444444444,
              "#bd3786"
             ],
             [
              0.5555555555555556,
              "#d8576b"
             ],
             [
              0.6666666666666666,
              "#ed7953"
             ],
             [
              0.7777777777777778,
              "#fb9f3a"
             ],
             [
              0.8888888888888888,
              "#fdca26"
             ],
             [
              1,
              "#f0f921"
             ]
            ],
            "type": "heatmapgl"
           }
          ],
          "histogram": [
           {
            "marker": {
             "pattern": {
              "fillmode": "overlay",
              "size": 10,
              "solidity": 0.2
             }
            },
            "type": "histogram"
           }
          ],
          "histogram2d": [
           {
            "colorbar": {
             "outlinewidth": 0,
             "ticks": ""
            },
            "colorscale": [
             [
              0,
              "#0d0887"
             ],
             [
              0.1111111111111111,
              "#46039f"
             ],
             [
              0.2222222222222222,
              "#7201a8"
             ],
             [
              0.3333333333333333,
              "#9c179e"
             ],
             [
              0.4444444444444444,
              "#bd3786"
             ],
             [
              0.5555555555555556,
              "#d8576b"
             ],
             [
              0.6666666666666666,
              "#ed7953"
             ],
             [
              0.7777777777777778,
              "#fb9f3a"
             ],
             [
              0.8888888888888888,
              "#fdca26"
             ],
             [
              1,
              "#f0f921"
             ]
            ],
            "type": "histogram2d"
           }
          ],
          "histogram2dcontour": [
           {
            "colorbar": {
             "outlinewidth": 0,
             "ticks": ""
            },
            "colorscale": [
             [
              0,
              "#0d0887"
             ],
             [
              0.1111111111111111,
              "#46039f"
             ],
             [
              0.2222222222222222,
              "#7201a8"
             ],
             [
              0.3333333333333333,
              "#9c179e"
             ],
             [
              0.4444444444444444,
              "#bd3786"
             ],
             [
              0.5555555555555556,
              "#d8576b"
             ],
             [
              0.6666666666666666,
              "#ed7953"
             ],
             [
              0.7777777777777778,
              "#fb9f3a"
             ],
             [
              0.8888888888888888,
              "#fdca26"
             ],
             [
              1,
              "#f0f921"
             ]
            ],
            "type": "histogram2dcontour"
           }
          ],
          "mesh3d": [
           {
            "colorbar": {
             "outlinewidth": 0,
             "ticks": ""
            },
            "type": "mesh3d"
           }
          ],
          "parcoords": [
           {
            "line": {
             "colorbar": {
              "outlinewidth": 0,
              "ticks": ""
             }
            },
            "type": "parcoords"
           }
          ],
          "pie": [
           {
            "automargin": true,
            "type": "pie"
           }
          ],
          "scatter": [
           {
            "fillpattern": {
             "fillmode": "overlay",
             "size": 10,
             "solidity": 0.2
            },
            "type": "scatter"
           }
          ],
          "scatter3d": [
           {
            "line": {
             "colorbar": {
              "outlinewidth": 0,
              "ticks": ""
             }
            },
            "marker": {
             "colorbar": {
              "outlinewidth": 0,
              "ticks": ""
             }
            },
            "type": "scatter3d"
           }
          ],
          "scattercarpet": [
           {
            "marker": {
             "colorbar": {
              "outlinewidth": 0,
              "ticks": ""
             }
            },
            "type": "scattercarpet"
           }
          ],
          "scattergeo": [
           {
            "marker": {
             "colorbar": {
              "outlinewidth": 0,
              "ticks": ""
             }
            },
            "type": "scattergeo"
           }
          ],
          "scattergl": [
           {
            "marker": {
             "colorbar": {
              "outlinewidth": 0,
              "ticks": ""
             }
            },
            "type": "scattergl"
           }
          ],
          "scattermapbox": [
           {
            "marker": {
             "colorbar": {
              "outlinewidth": 0,
              "ticks": ""
             }
            },
            "type": "scattermapbox"
           }
          ],
          "scatterpolar": [
           {
            "marker": {
             "colorbar": {
              "outlinewidth": 0,
              "ticks": ""
             }
            },
            "type": "scatterpolar"
           }
          ],
          "scatterpolargl": [
           {
            "marker": {
             "colorbar": {
              "outlinewidth": 0,
              "ticks": ""
             }
            },
            "type": "scatterpolargl"
           }
          ],
          "scatterternary": [
           {
            "marker": {
             "colorbar": {
              "outlinewidth": 0,
              "ticks": ""
             }
            },
            "type": "scatterternary"
           }
          ],
          "surface": [
           {
            "colorbar": {
             "outlinewidth": 0,
             "ticks": ""
            },
            "colorscale": [
             [
              0,
              "#0d0887"
             ],
             [
              0.1111111111111111,
              "#46039f"
             ],
             [
              0.2222222222222222,
              "#7201a8"
             ],
             [
              0.3333333333333333,
              "#9c179e"
             ],
             [
              0.4444444444444444,
              "#bd3786"
             ],
             [
              0.5555555555555556,
              "#d8576b"
             ],
             [
              0.6666666666666666,
              "#ed7953"
             ],
             [
              0.7777777777777778,
              "#fb9f3a"
             ],
             [
              0.8888888888888888,
              "#fdca26"
             ],
             [
              1,
              "#f0f921"
             ]
            ],
            "type": "surface"
           }
          ],
          "table": [
           {
            "cells": {
             "fill": {
              "color": "#EBF0F8"
             },
             "line": {
              "color": "white"
             }
            },
            "header": {
             "fill": {
              "color": "#C8D4E3"
             },
             "line": {
              "color": "white"
             }
            },
            "type": "table"
           }
          ]
         },
         "layout": {
          "annotationdefaults": {
           "arrowcolor": "#2a3f5f",
           "arrowhead": 0,
           "arrowwidth": 1
          },
          "autotypenumbers": "strict",
          "coloraxis": {
           "colorbar": {
            "outlinewidth": 0,
            "ticks": ""
           }
          },
          "colorscale": {
           "diverging": [
            [
             0,
             "#8e0152"
            ],
            [
             0.1,
             "#c51b7d"
            ],
            [
             0.2,
             "#de77ae"
            ],
            [
             0.3,
             "#f1b6da"
            ],
            [
             0.4,
             "#fde0ef"
            ],
            [
             0.5,
             "#f7f7f7"
            ],
            [
             0.6,
             "#e6f5d0"
            ],
            [
             0.7,
             "#b8e186"
            ],
            [
             0.8,
             "#7fbc41"
            ],
            [
             0.9,
             "#4d9221"
            ],
            [
             1,
             "#276419"
            ]
           ],
           "sequential": [
            [
             0,
             "#0d0887"
            ],
            [
             0.1111111111111111,
             "#46039f"
            ],
            [
             0.2222222222222222,
             "#7201a8"
            ],
            [
             0.3333333333333333,
             "#9c179e"
            ],
            [
             0.4444444444444444,
             "#bd3786"
            ],
            [
             0.5555555555555556,
             "#d8576b"
            ],
            [
             0.6666666666666666,
             "#ed7953"
            ],
            [
             0.7777777777777778,
             "#fb9f3a"
            ],
            [
             0.8888888888888888,
             "#fdca26"
            ],
            [
             1,
             "#f0f921"
            ]
           ],
           "sequentialminus": [
            [
             0,
             "#0d0887"
            ],
            [
             0.1111111111111111,
             "#46039f"
            ],
            [
             0.2222222222222222,
             "#7201a8"
            ],
            [
             0.3333333333333333,
             "#9c179e"
            ],
            [
             0.4444444444444444,
             "#bd3786"
            ],
            [
             0.5555555555555556,
             "#d8576b"
            ],
            [
             0.6666666666666666,
             "#ed7953"
            ],
            [
             0.7777777777777778,
             "#fb9f3a"
            ],
            [
             0.8888888888888888,
             "#fdca26"
            ],
            [
             1,
             "#f0f921"
            ]
           ]
          },
          "colorway": [
           "#636efa",
           "#EF553B",
           "#00cc96",
           "#ab63fa",
           "#FFA15A",
           "#19d3f3",
           "#FF6692",
           "#B6E880",
           "#FF97FF",
           "#FECB52"
          ],
          "font": {
           "color": "#2a3f5f"
          },
          "geo": {
           "bgcolor": "white",
           "lakecolor": "white",
           "landcolor": "#E5ECF6",
           "showlakes": true,
           "showland": true,
           "subunitcolor": "white"
          },
          "hoverlabel": {
           "align": "left"
          },
          "hovermode": "closest",
          "mapbox": {
           "style": "light"
          },
          "paper_bgcolor": "white",
          "plot_bgcolor": "#E5ECF6",
          "polar": {
           "angularaxis": {
            "gridcolor": "white",
            "linecolor": "white",
            "ticks": ""
           },
           "bgcolor": "#E5ECF6",
           "radialaxis": {
            "gridcolor": "white",
            "linecolor": "white",
            "ticks": ""
           }
          },
          "scene": {
           "xaxis": {
            "backgroundcolor": "#E5ECF6",
            "gridcolor": "white",
            "gridwidth": 2,
            "linecolor": "white",
            "showbackground": true,
            "ticks": "",
            "zerolinecolor": "white"
           },
           "yaxis": {
            "backgroundcolor": "#E5ECF6",
            "gridcolor": "white",
            "gridwidth": 2,
            "linecolor": "white",
            "showbackground": true,
            "ticks": "",
            "zerolinecolor": "white"
           },
           "zaxis": {
            "backgroundcolor": "#E5ECF6",
            "gridcolor": "white",
            "gridwidth": 2,
            "linecolor": "white",
            "showbackground": true,
            "ticks": "",
            "zerolinecolor": "white"
           }
          },
          "shapedefaults": {
           "line": {
            "color": "#2a3f5f"
           }
          },
          "ternary": {
           "aaxis": {
            "gridcolor": "white",
            "linecolor": "white",
            "ticks": ""
           },
           "baxis": {
            "gridcolor": "white",
            "linecolor": "white",
            "ticks": ""
           },
           "bgcolor": "#E5ECF6",
           "caxis": {
            "gridcolor": "white",
            "linecolor": "white",
            "ticks": ""
           }
          },
          "title": {
           "x": 0.05
          },
          "xaxis": {
           "automargin": true,
           "gridcolor": "white",
           "linecolor": "white",
           "ticks": "",
           "title": {
            "standoff": 15
           },
           "zerolinecolor": "white",
           "zerolinewidth": 2
          },
          "yaxis": {
           "automargin": true,
           "gridcolor": "white",
           "linecolor": "white",
           "ticks": "",
           "title": {
            "standoff": 15
           },
           "zerolinecolor": "white",
           "zerolinewidth": 2
          }
         }
        },
        "title": {
         "text": "Distribution of aims among about group"
        },
        "xaxis": {
         "anchor": "y",
         "domain": [
          0,
          1
         ],
         "title": {
          "text": "simpleaim"
         }
        },
        "yaxis": {
         "anchor": "x",
         "domain": [
          0,
          1
         ],
         "title": {
          "text": "count"
         }
        }
       }
      },
      "text/html": [
       "<div>                            <div id=\"8ae800dc-d16c-4d60-9c14-d2d059e6ee7c\" class=\"plotly-graph-div\" style=\"height:525px; width:100%;\"></div>            <script type=\"text/javascript\">                require([\"plotly\"], function(Plotly) {                    window.PLOTLYENV=window.PLOTLYENV || {};                                    if (document.getElementById(\"8ae800dc-d16c-4d60-9c14-d2d059e6ee7c\")) {                    Plotly.newPlot(                        \"8ae800dc-d16c-4d60-9c14-d2d059e6ee7c\",                        [{\"alignmentgroup\":\"True\",\"customdata\":[[\"\\u0416\\u0435\\u043d\\u0449\\u0438\\u043d\\u044b\"],[\"\\u041c\\u0443\\u0436\\u0447\\u0438\\u043d\\u044b\"],[\"\\u0416\\u0435\\u043d\\u0449\\u0438\\u043d\\u044b\"],[\"\\u041c\\u0443\\u0436\\u0447\\u0438\\u043d\\u044b\"],[\"\\u0416\\u0435\\u043d\\u0449\\u0438\\u043d\\u044b\"],[\"\\u041c\\u0443\\u0436\\u0447\\u0438\\u043d\\u044b\"],[\"\\u0416\\u0435\\u043d\\u0449\\u0438\\u043d\\u044b\"],[\"\\u041c\\u0443\\u0436\\u0447\\u0438\\u043d\\u044b\"],[\"\\u0416\\u0435\\u043d\\u0449\\u0438\\u043d\\u044b\"],[\"\\u041c\\u0443\\u0436\\u0447\\u0438\\u043d\\u044b\"],[\"\\u0416\\u0435\\u043d\\u0449\\u0438\\u043d\\u044b\"],[\"\\u041c\\u0443\\u0436\\u0447\\u0438\\u043d\\u044b\"]],\"hovertemplate\":\"isabout=no description<br>simpleaim=%{x}<br>count=%{y}<br>gender=%{customdata[0]}<extra></extra>\",\"legendgroup\":\"no description\",\"marker\":{\"color\":\"#636efa\",\"pattern\":{\"shape\":\"\"}},\"name\":\"no description\",\"offsetgroup\":\"no description\",\"orientation\":\"v\",\"showlegend\":true,\"textposition\":\"auto\",\"x\":[\"casual\",\"casual\",\"family-person\",\"family-person\",\"friendy\",\"friendy\",\"relationships\",\"relationships\",\"unknown\",\"unknown\",\"unsure\",\"unsure\"],\"xaxis\":\"x\",\"y\":[1354,2158,30,34,276,110,1523,1476,3972,3453,939,1102],\"yaxis\":\"y\",\"type\":\"bar\"},{\"alignmentgroup\":\"True\",\"customdata\":[[\"\\u0416\\u0435\\u043d\\u0449\\u0438\\u043d\\u044b\"],[\"\\u041c\\u0443\\u0436\\u0447\\u0438\\u043d\\u044b\"],[\"\\u0416\\u0435\\u043d\\u0449\\u0438\\u043d\\u044b\"],[\"\\u041c\\u0443\\u0436\\u0447\\u0438\\u043d\\u044b\"],[\"\\u0416\\u0435\\u043d\\u0449\\u0438\\u043d\\u044b\"],[\"\\u041c\\u0443\\u0436\\u0447\\u0438\\u043d\\u044b\"],[\"\\u0416\\u0435\\u043d\\u0449\\u0438\\u043d\\u044b\"],[\"\\u041c\\u0443\\u0436\\u0447\\u0438\\u043d\\u044b\"],[\"\\u0416\\u0435\\u043d\\u0449\\u0438\\u043d\\u044b\"],[\"\\u041c\\u0443\\u0436\\u0447\\u0438\\u043d\\u044b\"],[\"\\u0416\\u0435\\u043d\\u0449\\u0438\\u043d\\u044b\"],[\"\\u041c\\u0443\\u0436\\u0447\\u0438\\u043d\\u044b\"]],\"hovertemplate\":\"isabout=yes description<br>simpleaim=%{x}<br>count=%{y}<br>gender=%{customdata[0]}<extra></extra>\",\"legendgroup\":\"yes description\",\"marker\":{\"color\":\"#EF553B\",\"pattern\":{\"shape\":\"\"}},\"name\":\"yes description\",\"offsetgroup\":\"yes description\",\"orientation\":\"v\",\"showlegend\":true,\"textposition\":\"auto\",\"x\":[\"casual\",\"casual\",\"family-person\",\"family-person\",\"friendy\",\"friendy\",\"relationships\",\"relationships\",\"unknown\",\"unknown\",\"unsure\",\"unsure\"],\"xaxis\":\"x\",\"y\":[1789,1847,115,53,669,206,1794,1149,449,333,3928,3720],\"yaxis\":\"y\",\"type\":\"bar\"}],                        {\"template\":{\"data\":{\"histogram2dcontour\":[{\"type\":\"histogram2dcontour\",\"colorbar\":{\"outlinewidth\":0,\"ticks\":\"\"},\"colorscale\":[[0.0,\"#0d0887\"],[0.1111111111111111,\"#46039f\"],[0.2222222222222222,\"#7201a8\"],[0.3333333333333333,\"#9c179e\"],[0.4444444444444444,\"#bd3786\"],[0.5555555555555556,\"#d8576b\"],[0.6666666666666666,\"#ed7953\"],[0.7777777777777778,\"#fb9f3a\"],[0.8888888888888888,\"#fdca26\"],[1.0,\"#f0f921\"]]}],\"choropleth\":[{\"type\":\"choropleth\",\"colorbar\":{\"outlinewidth\":0,\"ticks\":\"\"}}],\"histogram2d\":[{\"type\":\"histogram2d\",\"colorbar\":{\"outlinewidth\":0,\"ticks\":\"\"},\"colorscale\":[[0.0,\"#0d0887\"],[0.1111111111111111,\"#46039f\"],[0.2222222222222222,\"#7201a8\"],[0.3333333333333333,\"#9c179e\"],[0.4444444444444444,\"#bd3786\"],[0.5555555555555556,\"#d8576b\"],[0.6666666666666666,\"#ed7953\"],[0.7777777777777778,\"#fb9f3a\"],[0.8888888888888888,\"#fdca26\"],[1.0,\"#f0f921\"]]}],\"heatmap\":[{\"type\":\"heatmap\",\"colorbar\":{\"outlinewidth\":0,\"ticks\":\"\"},\"colorscale\":[[0.0,\"#0d0887\"],[0.1111111111111111,\"#46039f\"],[0.2222222222222222,\"#7201a8\"],[0.3333333333333333,\"#9c179e\"],[0.4444444444444444,\"#bd3786\"],[0.5555555555555556,\"#d8576b\"],[0.6666666666666666,\"#ed7953\"],[0.7777777777777778,\"#fb9f3a\"],[0.8888888888888888,\"#fdca26\"],[1.0,\"#f0f921\"]]}],\"heatmapgl\":[{\"type\":\"heatmapgl\",\"colorbar\":{\"outlinewidth\":0,\"ticks\":\"\"},\"colorscale\":[[0.0,\"#0d0887\"],[0.1111111111111111,\"#46039f\"],[0.2222222222222222,\"#7201a8\"],[0.3333333333333333,\"#9c179e\"],[0.4444444444444444,\"#bd3786\"],[0.5555555555555556,\"#d8576b\"],[0.6666666666666666,\"#ed7953\"],[0.7777777777777778,\"#fb9f3a\"],[0.8888888888888888,\"#fdca26\"],[1.0,\"#f0f921\"]]}],\"contourcarpet\":[{\"type\":\"contourcarpet\",\"colorbar\":{\"outlinewidth\":0,\"ticks\":\"\"}}],\"contour\":[{\"type\":\"contour\",\"colorbar\":{\"outlinewidth\":0,\"ticks\":\"\"},\"colorscale\":[[0.0,\"#0d0887\"],[0.1111111111111111,\"#46039f\"],[0.2222222222222222,\"#7201a8\"],[0.3333333333333333,\"#9c179e\"],[0.4444444444444444,\"#bd3786\"],[0.5555555555555556,\"#d8576b\"],[0.6666666666666666,\"#ed7953\"],[0.7777777777777778,\"#fb9f3a\"],[0.8888888888888888,\"#fdca26\"],[1.0,\"#f0f921\"]]}],\"surface\":[{\"type\":\"surface\",\"colorbar\":{\"outlinewidth\":0,\"ticks\":\"\"},\"colorscale\":[[0.0,\"#0d0887\"],[0.1111111111111111,\"#46039f\"],[0.2222222222222222,\"#7201a8\"],[0.3333333333333333,\"#9c179e\"],[0.4444444444444444,\"#bd3786\"],[0.5555555555555556,\"#d8576b\"],[0.6666666666666666,\"#ed7953\"],[0.7777777777777778,\"#fb9f3a\"],[0.8888888888888888,\"#fdca26\"],[1.0,\"#f0f921\"]]}],\"mesh3d\":[{\"type\":\"mesh3d\",\"colorbar\":{\"outlinewidth\":0,\"ticks\":\"\"}}],\"scatter\":[{\"fillpattern\":{\"fillmode\":\"overlay\",\"size\":10,\"solidity\":0.2},\"type\":\"scatter\"}],\"parcoords\":[{\"type\":\"parcoords\",\"line\":{\"colorbar\":{\"outlinewidth\":0,\"ticks\":\"\"}}}],\"scatterpolargl\":[{\"type\":\"scatterpolargl\",\"marker\":{\"colorbar\":{\"outlinewidth\":0,\"ticks\":\"\"}}}],\"bar\":[{\"error_x\":{\"color\":\"#2a3f5f\"},\"error_y\":{\"color\":\"#2a3f5f\"},\"marker\":{\"line\":{\"color\":\"#E5ECF6\",\"width\":0.5},\"pattern\":{\"fillmode\":\"overlay\",\"size\":10,\"solidity\":0.2}},\"type\":\"bar\"}],\"scattergeo\":[{\"type\":\"scattergeo\",\"marker\":{\"colorbar\":{\"outlinewidth\":0,\"ticks\":\"\"}}}],\"scatterpolar\":[{\"type\":\"scatterpolar\",\"marker\":{\"colorbar\":{\"outlinewidth\":0,\"ticks\":\"\"}}}],\"histogram\":[{\"marker\":{\"pattern\":{\"fillmode\":\"overlay\",\"size\":10,\"solidity\":0.2}},\"type\":\"histogram\"}],\"scattergl\":[{\"type\":\"scattergl\",\"marker\":{\"colorbar\":{\"outlinewidth\":0,\"ticks\":\"\"}}}],\"scatter3d\":[{\"type\":\"scatter3d\",\"line\":{\"colorbar\":{\"outlinewidth\":0,\"ticks\":\"\"}},\"marker\":{\"colorbar\":{\"outlinewidth\":0,\"ticks\":\"\"}}}],\"scattermapbox\":[{\"type\":\"scattermapbox\",\"marker\":{\"colorbar\":{\"outlinewidth\":0,\"ticks\":\"\"}}}],\"scatterternary\":[{\"type\":\"scatterternary\",\"marker\":{\"colorbar\":{\"outlinewidth\":0,\"ticks\":\"\"}}}],\"scattercarpet\":[{\"type\":\"scattercarpet\",\"marker\":{\"colorbar\":{\"outlinewidth\":0,\"ticks\":\"\"}}}],\"carpet\":[{\"aaxis\":{\"endlinecolor\":\"#2a3f5f\",\"gridcolor\":\"white\",\"linecolor\":\"white\",\"minorgridcolor\":\"white\",\"startlinecolor\":\"#2a3f5f\"},\"baxis\":{\"endlinecolor\":\"#2a3f5f\",\"gridcolor\":\"white\",\"linecolor\":\"white\",\"minorgridcolor\":\"white\",\"startlinecolor\":\"#2a3f5f\"},\"type\":\"carpet\"}],\"table\":[{\"cells\":{\"fill\":{\"color\":\"#EBF0F8\"},\"line\":{\"color\":\"white\"}},\"header\":{\"fill\":{\"color\":\"#C8D4E3\"},\"line\":{\"color\":\"white\"}},\"type\":\"table\"}],\"barpolar\":[{\"marker\":{\"line\":{\"color\":\"#E5ECF6\",\"width\":0.5},\"pattern\":{\"fillmode\":\"overlay\",\"size\":10,\"solidity\":0.2}},\"type\":\"barpolar\"}],\"pie\":[{\"automargin\":true,\"type\":\"pie\"}]},\"layout\":{\"autotypenumbers\":\"strict\",\"colorway\":[\"#636efa\",\"#EF553B\",\"#00cc96\",\"#ab63fa\",\"#FFA15A\",\"#19d3f3\",\"#FF6692\",\"#B6E880\",\"#FF97FF\",\"#FECB52\"],\"font\":{\"color\":\"#2a3f5f\"},\"hovermode\":\"closest\",\"hoverlabel\":{\"align\":\"left\"},\"paper_bgcolor\":\"white\",\"plot_bgcolor\":\"#E5ECF6\",\"polar\":{\"bgcolor\":\"#E5ECF6\",\"angularaxis\":{\"gridcolor\":\"white\",\"linecolor\":\"white\",\"ticks\":\"\"},\"radialaxis\":{\"gridcolor\":\"white\",\"linecolor\":\"white\",\"ticks\":\"\"}},\"ternary\":{\"bgcolor\":\"#E5ECF6\",\"aaxis\":{\"gridcolor\":\"white\",\"linecolor\":\"white\",\"ticks\":\"\"},\"baxis\":{\"gridcolor\":\"white\",\"linecolor\":\"white\",\"ticks\":\"\"},\"caxis\":{\"gridcolor\":\"white\",\"linecolor\":\"white\",\"ticks\":\"\"}},\"coloraxis\":{\"colorbar\":{\"outlinewidth\":0,\"ticks\":\"\"}},\"colorscale\":{\"sequential\":[[0.0,\"#0d0887\"],[0.1111111111111111,\"#46039f\"],[0.2222222222222222,\"#7201a8\"],[0.3333333333333333,\"#9c179e\"],[0.4444444444444444,\"#bd3786\"],[0.5555555555555556,\"#d8576b\"],[0.6666666666666666,\"#ed7953\"],[0.7777777777777778,\"#fb9f3a\"],[0.8888888888888888,\"#fdca26\"],[1.0,\"#f0f921\"]],\"sequentialminus\":[[0.0,\"#0d0887\"],[0.1111111111111111,\"#46039f\"],[0.2222222222222222,\"#7201a8\"],[0.3333333333333333,\"#9c179e\"],[0.4444444444444444,\"#bd3786\"],[0.5555555555555556,\"#d8576b\"],[0.6666666666666666,\"#ed7953\"],[0.7777777777777778,\"#fb9f3a\"],[0.8888888888888888,\"#fdca26\"],[1.0,\"#f0f921\"]],\"diverging\":[[0,\"#8e0152\"],[0.1,\"#c51b7d\"],[0.2,\"#de77ae\"],[0.3,\"#f1b6da\"],[0.4,\"#fde0ef\"],[0.5,\"#f7f7f7\"],[0.6,\"#e6f5d0\"],[0.7,\"#b8e186\"],[0.8,\"#7fbc41\"],[0.9,\"#4d9221\"],[1,\"#276419\"]]},\"xaxis\":{\"gridcolor\":\"white\",\"linecolor\":\"white\",\"ticks\":\"\",\"title\":{\"standoff\":15},\"zerolinecolor\":\"white\",\"automargin\":true,\"zerolinewidth\":2},\"yaxis\":{\"gridcolor\":\"white\",\"linecolor\":\"white\",\"ticks\":\"\",\"title\":{\"standoff\":15},\"zerolinecolor\":\"white\",\"automargin\":true,\"zerolinewidth\":2},\"scene\":{\"xaxis\":{\"backgroundcolor\":\"#E5ECF6\",\"gridcolor\":\"white\",\"linecolor\":\"white\",\"showbackground\":true,\"ticks\":\"\",\"zerolinecolor\":\"white\",\"gridwidth\":2},\"yaxis\":{\"backgroundcolor\":\"#E5ECF6\",\"gridcolor\":\"white\",\"linecolor\":\"white\",\"showbackground\":true,\"ticks\":\"\",\"zerolinecolor\":\"white\",\"gridwidth\":2},\"zaxis\":{\"backgroundcolor\":\"#E5ECF6\",\"gridcolor\":\"white\",\"linecolor\":\"white\",\"showbackground\":true,\"ticks\":\"\",\"zerolinecolor\":\"white\",\"gridwidth\":2}},\"shapedefaults\":{\"line\":{\"color\":\"#2a3f5f\"}},\"annotationdefaults\":{\"arrowcolor\":\"#2a3f5f\",\"arrowhead\":0,\"arrowwidth\":1},\"geo\":{\"bgcolor\":\"white\",\"landcolor\":\"#E5ECF6\",\"subunitcolor\":\"white\",\"showland\":true,\"showlakes\":true,\"lakecolor\":\"white\"},\"title\":{\"x\":0.05},\"mapbox\":{\"style\":\"light\"}}},\"xaxis\":{\"anchor\":\"y\",\"domain\":[0.0,1.0],\"title\":{\"text\":\"simpleaim\"}},\"yaxis\":{\"anchor\":\"x\",\"domain\":[0.0,1.0],\"title\":{\"text\":\"count\"}},\"legend\":{\"title\":{\"text\":\"isabout\"},\"tracegroupgap\":0},\"title\":{\"text\":\"Distribution of aims among about group\"},\"barmode\":\"group\"},                        {\"responsive\": true}                    ).then(function(){\n",
       "                            \n",
       "var gd = document.getElementById('8ae800dc-d16c-4d60-9c14-d2d059e6ee7c');\n",
       "var x = new MutationObserver(function (mutations, observer) {{\n",
       "        var display = window.getComputedStyle(gd).display;\n",
       "        if (!display || display === 'none') {{\n",
       "            console.log([gd, 'removed!']);\n",
       "            Plotly.purge(gd);\n",
       "            observer.disconnect();\n",
       "        }}\n",
       "}});\n",
       "\n",
       "// Listen for the removal of the full notebook cells\n",
       "var notebookContainer = gd.closest('#notebook-container');\n",
       "if (notebookContainer) {{\n",
       "    x.observe(notebookContainer, {childList: true});\n",
       "}}\n",
       "\n",
       "// Listen for the clearing of the current output cell\n",
       "var outputEl = gd.closest('.output');\n",
       "if (outputEl) {{\n",
       "    x.observe(outputEl, {childList: true});\n",
       "}}\n",
       "\n",
       "                        })                };                });            </script>        </div>"
      ]
     },
     "metadata": {},
     "output_type": "display_data"
    }
   ],
   "source": [
    "fig = px.bar(dist_about_aims, x=\"simpleaim\", y=\"count\",\n",
    "             color='isabout', hover_data=['gender'], barmode='group', title='Distribution of aims among about group')\n",
    "fig.show()"
   ]
  },
  {
   "cell_type": "markdown",
   "metadata": {},
   "source": [
    "#### распределение по целям у групп с описаниями и без\n",
    "интересно, или даже закономерно, что люди, которые пишут кучу целей, пишут и более пространственные описания. Наверное, поясняют, что хотят. Ну и более дружелюбиные тоже, вероятно, чтобы пояснить, что они только дружить хотят. \n",
    "<br> <br> И интересно, что повстречаться-отношения пишут 50-50 о себе. \n",
    "<br> а еще мужчины чаще пишут о себе в целях флирт и когда много целей. В группе тех, кто не пишет, женщин меньше, кроме цели друзья. "
   ]
  },
  {
   "cell_type": "code",
   "execution_count": null,
   "metadata": {},
   "outputs": [],
   "source": []
  },
  {
   "cell_type": "code",
   "execution_count": null,
   "metadata": {},
   "outputs": [],
   "source": []
  },
  {
   "cell_type": "code",
   "execution_count": null,
   "metadata": {},
   "outputs": [],
   "source": []
  },
  {
   "cell_type": "markdown",
   "metadata": {},
   "source": [
    "## Посмотрю на гомосексуалистов"
   ]
  },
  {
   "cell_type": "code",
   "execution_count": 41,
   "metadata": {},
   "outputs": [
    {
     "name": "stdout",
     "output_type": "stream",
     "text": [
      "Percent of gays\n"
     ]
    },
    {
     "data": {
      "text/plain": [
       "2.447789573760101"
      ]
     },
     "metadata": {},
     "output_type": "display_data"
    },
    {
     "name": "stdout",
     "output_type": "stream",
     "text": [
      "Percent of lesbians\n"
     ]
    },
    {
     "data": {
      "text/plain": [
       "3.4499943045904997"
      ]
     },
     "metadata": {},
     "output_type": "display_data"
    }
   ],
   "source": [
    "print('Percent of gays')\n",
    "display(mambadf.loc[(mambadf.gender == 'Мужчины') & (mambadf.intrestedin == 'парень')]['percent'].sum())\n",
    "print('Percent of lesbians')\n",
    "display(mambadf.loc[(mambadf.gender == 'Женщины') & (mambadf.intrestedin == 'девушка')]['percent'].sum())"
   ]
  },
  {
   "cell_type": "code",
   "execution_count": 44,
   "metadata": {
    "scrolled": true
   },
   "outputs": [
    {
     "data": {
      "text/html": [
       "<div>\n",
       "<style scoped>\n",
       "    .dataframe tbody tr th:only-of-type {\n",
       "        vertical-align: middle;\n",
       "    }\n",
       "\n",
       "    .dataframe tbody tr th {\n",
       "        vertical-align: top;\n",
       "    }\n",
       "\n",
       "    .dataframe thead th {\n",
       "        text-align: right;\n",
       "    }\n",
       "</style>\n",
       "<table border=\"1\" class=\"dataframe\">\n",
       "  <thead>\n",
       "    <tr style=\"text-align: right;\">\n",
       "      <th></th>\n",
       "      <th>age</th>\n",
       "      <th>height</th>\n",
       "      <th>photocount</th>\n",
       "      <th>weight</th>\n",
       "      <th>id</th>\n",
       "      <th>count</th>\n",
       "      <th>rangeAge</th>\n",
       "      <th>percent</th>\n",
       "      <th>start_age</th>\n",
       "    </tr>\n",
       "  </thead>\n",
       "  <tbody>\n",
       "    <tr>\n",
       "      <th>count</th>\n",
       "      <td>6285.000000</td>\n",
       "      <td>1821.000000</td>\n",
       "      <td>6285.000000</td>\n",
       "      <td>1460.000000</td>\n",
       "      <td>6.256000e+03</td>\n",
       "      <td>6285.0</td>\n",
       "      <td>6248.000000</td>\n",
       "      <td>6285.000000</td>\n",
       "      <td>6248.00000</td>\n",
       "    </tr>\n",
       "    <tr>\n",
       "      <th>mean</th>\n",
       "      <td>29.445982</td>\n",
       "      <td>171.566172</td>\n",
       "      <td>0.231663</td>\n",
       "      <td>67.014384</td>\n",
       "      <td>1.794586e+09</td>\n",
       "      <td>1.0</td>\n",
       "      <td>8.439821</td>\n",
       "      <td>0.000938</td>\n",
       "      <td>26.06210</td>\n",
       "    </tr>\n",
       "    <tr>\n",
       "      <th>std</th>\n",
       "      <td>7.561407</td>\n",
       "      <td>9.434717</td>\n",
       "      <td>0.784020</td>\n",
       "      <td>15.567155</td>\n",
       "      <td>3.175131e+06</td>\n",
       "      <td>0.0</td>\n",
       "      <td>10.900054</td>\n",
       "      <td>0.000385</td>\n",
       "      <td>7.25962</td>\n",
       "    </tr>\n",
       "    <tr>\n",
       "      <th>min</th>\n",
       "      <td>18.000000</td>\n",
       "      <td>150.000000</td>\n",
       "      <td>0.000000</td>\n",
       "      <td>40.000000</td>\n",
       "      <td>1.790103e+09</td>\n",
       "      <td>1.0</td>\n",
       "      <td>1.000000</td>\n",
       "      <td>0.000634</td>\n",
       "      <td>18.00000</td>\n",
       "    </tr>\n",
       "    <tr>\n",
       "      <th>25%</th>\n",
       "      <td>23.000000</td>\n",
       "      <td>165.000000</td>\n",
       "      <td>0.000000</td>\n",
       "      <td>56.000000</td>\n",
       "      <td>1.790844e+09</td>\n",
       "      <td>1.0</td>\n",
       "      <td>4.000000</td>\n",
       "      <td>0.000634</td>\n",
       "      <td>19.00000</td>\n",
       "    </tr>\n",
       "    <tr>\n",
       "      <th>50%</th>\n",
       "      <td>29.000000</td>\n",
       "      <td>171.000000</td>\n",
       "      <td>0.000000</td>\n",
       "      <td>65.000000</td>\n",
       "      <td>1.794120e+09</td>\n",
       "      <td>1.0</td>\n",
       "      <td>4.000000</td>\n",
       "      <td>0.000634</td>\n",
       "      <td>25.00000</td>\n",
       "    </tr>\n",
       "    <tr>\n",
       "      <th>75%</th>\n",
       "      <td>35.000000</td>\n",
       "      <td>178.000000</td>\n",
       "      <td>0.000000</td>\n",
       "      <td>75.000000</td>\n",
       "      <td>1.798134e+09</td>\n",
       "      <td>1.0</td>\n",
       "      <td>5.000000</td>\n",
       "      <td>0.001424</td>\n",
       "      <td>31.00000</td>\n",
       "    </tr>\n",
       "    <tr>\n",
       "      <th>max</th>\n",
       "      <td>45.000000</td>\n",
       "      <td>220.000000</td>\n",
       "      <td>6.000000</td>\n",
       "      <td>160.000000</td>\n",
       "      <td>1.799585e+09</td>\n",
       "      <td>1.0</td>\n",
       "      <td>62.000000</td>\n",
       "      <td>0.001424</td>\n",
       "      <td>55.00000</td>\n",
       "    </tr>\n",
       "  </tbody>\n",
       "</table>\n",
       "</div>"
      ],
      "text/plain": [
       "               age       height   photocount       weight            id  \\\n",
       "count  6285.000000  1821.000000  6285.000000  1460.000000  6.256000e+03   \n",
       "mean     29.445982   171.566172     0.231663    67.014384  1.794586e+09   \n",
       "std       7.561407     9.434717     0.784020    15.567155  3.175131e+06   \n",
       "min      18.000000   150.000000     0.000000    40.000000  1.790103e+09   \n",
       "25%      23.000000   165.000000     0.000000    56.000000  1.790844e+09   \n",
       "50%      29.000000   171.000000     0.000000    65.000000  1.794120e+09   \n",
       "75%      35.000000   178.000000     0.000000    75.000000  1.798134e+09   \n",
       "max      45.000000   220.000000     6.000000   160.000000  1.799585e+09   \n",
       "\n",
       "        count     rangeAge      percent   start_age  \n",
       "count  6285.0  6248.000000  6285.000000  6248.00000  \n",
       "mean      1.0     8.439821     0.000938    26.06210  \n",
       "std       0.0    10.900054     0.000385     7.25962  \n",
       "min       1.0     1.000000     0.000634    18.00000  \n",
       "25%       1.0     4.000000     0.000634    19.00000  \n",
       "50%       1.0     4.000000     0.000634    25.00000  \n",
       "75%       1.0     5.000000     0.001424    31.00000  \n",
       "max       1.0    62.000000     0.001424    55.00000  "
      ]
     },
     "metadata": {},
     "output_type": "display_data"
    },
    {
     "data": {
      "text/plain": [
       "Мужчины    3862\n",
       "Женщины    2423\n",
       "Name: gender, dtype: int64"
      ]
     },
     "execution_count": 44,
     "metadata": {},
     "output_type": "execute_result"
    }
   ],
   "source": [
    "gays = mambadf.loc[(mambadf.gender == 'Мужчины') & (mambadf.intrestedin == 'парень')]\n",
    "lesbians = mambadf.loc[(mambadf.gender == 'Женщины') & (mambadf.intrestedin == 'девушка')]\n",
    "homosex = pd.concat([gays, lesbians])\n",
    "display(homosex.describe())\n",
    "homosex.gender.value_counts()"
   ]
  },
  {
   "cell_type": "markdown",
   "metadata": {},
   "source": [
    "#### Базовые статистики гомосексуалистов \n",
    "Похоже, они в целом помоложе, чем в группе с остальными (на 2 года средние и медианы меньше в возрасте) \n",
    "<br> Как следствие, ищут партнеров помоложе (на 1 год в медиане и среднем).\n",
    "<br> И, похоже, меньше весят тоже на 7-8 кг в среднем и в медиане.\n",
    "<br> И меньше ростом на 2 см в среднем и в медиане.\n",
    "\n",
    "<b>Но, конечно, сравнивать общую выборку и выборку гомосексуалистов статистически невозможно, только если добирать бутстрепом больше значений у гомосексуалистов</b>"
   ]
  },
  {
   "cell_type": "code",
   "execution_count": 48,
   "metadata": {},
   "outputs": [
    {
     "data": {
      "text/plain": [
       "casual             2276\n",
       "unknown            1729\n",
       "relationships      1167\n",
       "unsure              879\n",
       "friendy             179\n",
       "family-person        13\n",
       "занятия спортом       4\n",
       "Name: simpleaim, dtype: int64"
      ]
     },
     "execution_count": 48,
     "metadata": {},
     "output_type": "execute_result"
    }
   ],
   "source": [
    "homosex.simpleaim.value_counts()[:7]"
   ]
  },
  {
   "cell_type": "code",
   "execution_count": null,
   "metadata": {},
   "outputs": [],
   "source": []
  },
  {
   "cell_type": "code",
   "execution_count": null,
   "metadata": {},
   "outputs": [],
   "source": []
  },
  {
   "cell_type": "code",
   "execution_count": null,
   "metadata": {},
   "outputs": [],
   "source": []
  },
  {
   "cell_type": "markdown",
   "metadata": {},
   "source": [
    "## Массив анализа по двум группам: кто указал 4 в диапазоне возраста партнера, и кто нет"
   ]
  },
  {
   "cell_type": "code",
   "execution_count": 101,
   "metadata": {
    "scrolled": true
   },
   "outputs": [
    {
     "data": {
      "text/html": [
       "<div>\n",
       "<style scoped>\n",
       "    .dataframe tbody tr th:only-of-type {\n",
       "        vertical-align: middle;\n",
       "    }\n",
       "\n",
       "    .dataframe tbody tr th {\n",
       "        vertical-align: top;\n",
       "    }\n",
       "\n",
       "    .dataframe thead th {\n",
       "        text-align: right;\n",
       "    }\n",
       "</style>\n",
       "<table border=\"1\" class=\"dataframe\">\n",
       "  <thead>\n",
       "    <tr style=\"text-align: right;\">\n",
       "      <th></th>\n",
       "      <th>about</th>\n",
       "      <th>age</th>\n",
       "      <th>aim</th>\n",
       "      <th>children</th>\n",
       "      <th>city</th>\n",
       "      <th>edu</th>\n",
       "      <th>gender</th>\n",
       "      <th>height</th>\n",
       "      <th>intrestedin</th>\n",
       "      <th>language</th>\n",
       "      <th>...</th>\n",
       "      <th>photocount</th>\n",
       "      <th>smoke</th>\n",
       "      <th>weight</th>\n",
       "      <th>id</th>\n",
       "      <th>count</th>\n",
       "      <th>range_partner_age</th>\n",
       "      <th>rangeAge</th>\n",
       "      <th>simpleaim</th>\n",
       "      <th>percent</th>\n",
       "      <th>start_age</th>\n",
       "    </tr>\n",
       "  </thead>\n",
       "  <tbody>\n",
       "    <tr>\n",
       "      <th>0</th>\n",
       "      <td>NaN</td>\n",
       "      <td>41.0</td>\n",
       "      <td>NaN</td>\n",
       "      <td>NaN</td>\n",
       "      <td>Старобельск</td>\n",
       "      <td>NaN</td>\n",
       "      <td>Женщины</td>\n",
       "      <td>165.0</td>\n",
       "      <td>парень</td>\n",
       "      <td>Русский, Укра</td>\n",
       "      <td>...</td>\n",
       "      <td>0.0</td>\n",
       "      <td>Курю</td>\n",
       "      <td>65.0</td>\n",
       "      <td>NaN</td>\n",
       "      <td>1</td>\n",
       "      <td>('25', '40')</td>\n",
       "      <td>15.0</td>\n",
       "      <td>unknown</td>\n",
       "      <td>0.000839</td>\n",
       "      <td>25.0</td>\n",
       "    </tr>\n",
       "    <tr>\n",
       "      <th>1</th>\n",
       "      <td>NaN</td>\n",
       "      <td>36.0</td>\n",
       "      <td>NaN</td>\n",
       "      <td>NaN</td>\n",
       "      <td>Краснодар</td>\n",
       "      <td>NaN</td>\n",
       "      <td>Женщины</td>\n",
       "      <td>NaN</td>\n",
       "      <td>парень</td>\n",
       "      <td>Русский</td>\n",
       "      <td>...</td>\n",
       "      <td>0.0</td>\n",
       "      <td>NaN</td>\n",
       "      <td>NaN</td>\n",
       "      <td>NaN</td>\n",
       "      <td>1</td>\n",
       "      <td>('33', '37')</td>\n",
       "      <td>4.0</td>\n",
       "      <td>unknown</td>\n",
       "      <td>0.000839</td>\n",
       "      <td>33.0</td>\n",
       "    </tr>\n",
       "    <tr>\n",
       "      <th>2</th>\n",
       "      <td>Не ищу приключений.\\nНе ищу спонсоров, альфонс...</td>\n",
       "      <td>39.0</td>\n",
       "      <td>переписка, флирт, дружба, общение, отношения, ...</td>\n",
       "      <td>Детей нет</td>\n",
       "      <td>Дюссельдорф</td>\n",
       "      <td>NaN</td>\n",
       "      <td>Женщины</td>\n",
       "      <td>167.0</td>\n",
       "      <td>парень</td>\n",
       "      <td>Deutsch</td>\n",
       "      <td>...</td>\n",
       "      <td>0.0</td>\n",
       "      <td>Не курю</td>\n",
       "      <td>NaN</td>\n",
       "      <td>NaN</td>\n",
       "      <td>1</td>\n",
       "      <td>('36', '40')</td>\n",
       "      <td>4.0</td>\n",
       "      <td>unsure</td>\n",
       "      <td>0.000839</td>\n",
       "      <td>36.0</td>\n",
       "    </tr>\n",
       "  </tbody>\n",
       "</table>\n",
       "<p>3 rows × 22 columns</p>\n",
       "</div>"
      ],
      "text/plain": [
       "                                               about   age  \\\n",
       "0                                                NaN  41.0   \n",
       "1                                                NaN  36.0   \n",
       "2  Не ищу приключений.\\nНе ищу спонсоров, альфонс...  39.0   \n",
       "\n",
       "                                                 aim   children         city  \\\n",
       "0                                                NaN        NaN  Старобельск   \n",
       "1                                                NaN        NaN    Краснодар   \n",
       "2  переписка, флирт, дружба, общение, отношения, ...  Детей нет  Дюссельдорф   \n",
       "\n",
       "   edu   gender  height intrestedin       language  ... photocount    smoke  \\\n",
       "0  NaN  Женщины   165.0      парень  Русский, Укра  ...        0.0     Курю   \n",
       "1  NaN  Женщины     NaN      парень        Русский  ...        0.0      NaN   \n",
       "2  NaN  Женщины   167.0      парень        Deutsch  ...        0.0  Не курю   \n",
       "\n",
       "   weight  id  count  range_partner_age  rangeAge simpleaim   percent  \\\n",
       "0    65.0 NaN      1       ('25', '40')      15.0   unknown  0.000839   \n",
       "1     NaN NaN      1       ('33', '37')       4.0   unknown  0.000839   \n",
       "2     NaN NaN      1       ('36', '40')       4.0    unsure  0.000839   \n",
       "\n",
       "  start_age  \n",
       "0      25.0  \n",
       "1      33.0  \n",
       "2      36.0  \n",
       "\n",
       "[3 rows x 22 columns]"
      ]
     },
     "execution_count": 101,
     "metadata": {},
     "output_type": "execute_result"
    }
   ],
   "source": [
    "import pandas as pd\n",
    "import numpy as np \n",
    "import matplotlib.pyplot as plt\n",
    "import seaborn as sns \n",
    "import plotly.graph_objects as go\n",
    "import plotly.express as px\n",
    "import scipy.stats as stats\n",
    "\n",
    "mambadf = pd.read_csv('mamba18-45newColumns.csv')\n",
    "mambadf.head(3)"
   ]
  },
  {
   "cell_type": "code",
   "execution_count": 102,
   "metadata": {},
   "outputs": [
    {
     "data": {
      "text/plain": [
       "gender\n",
       "Женщины    119222\n",
       "Мужчины    120765\n",
       "Name: count, dtype: int64"
      ]
     },
     "execution_count": 102,
     "metadata": {},
     "output_type": "execute_result"
    }
   ],
   "source": [
    "mambadf.groupby('gender')['count'].sum()"
   ]
  },
  {
   "cell_type": "code",
   "execution_count": 103,
   "metadata": {},
   "outputs": [
    {
     "name": "stdout",
     "output_type": "stream",
     "text": [
      "Процент людей, у которых диапазон возраста того, кого ищут, равен 4\n"
     ]
    },
    {
     "data": {
      "text/plain": [
       "64.10763916378804"
      ]
     },
     "execution_count": 103,
     "metadata": {},
     "output_type": "execute_result"
    }
   ],
   "source": [
    "print('Процент людей, у которых диапазон возраста того, кого ищут, равен 4')\n",
    "(mambadf['rangeAge'] == 4).sum() / (mambadf.shape[0]/100)"
   ]
  },
  {
   "cell_type": "code",
   "execution_count": 104,
   "metadata": {},
   "outputs": [
    {
     "data": {
      "text/plain": [
       "<AxesSubplot:xlabel='rangeAge', ylabel='Count'>"
      ]
     },
     "execution_count": 104,
     "metadata": {},
     "output_type": "execute_result"
    },
    {
     "data": {
      "image/png": "[encoded data removed]",
      "text/plain": [
       "<Figure size 432x288 with 1 Axes>"
      ]
     },
     "metadata": {
      "needs_background": "light"
     },
     "output_type": "display_data"
    }
   ],
   "source": [
    "sns.histplot(mambadf['rangeAge'].loc[mambadf['rangeAge']!= 4])"
   ]
  },
  {
   "cell_type": "code",
   "execution_count": 105,
   "metadata": {},
   "outputs": [
    {
     "data": {
      "text/html": [
       "<div>\n",
       "<style scoped>\n",
       "    .dataframe tbody tr th:only-of-type {\n",
       "        vertical-align: middle;\n",
       "    }\n",
       "\n",
       "    .dataframe tbody tr th {\n",
       "        vertical-align: top;\n",
       "    }\n",
       "\n",
       "    .dataframe thead th {\n",
       "        text-align: right;\n",
       "    }\n",
       "</style>\n",
       "<table border=\"1\" class=\"dataframe\">\n",
       "  <thead>\n",
       "    <tr style=\"text-align: right;\">\n",
       "      <th></th>\n",
       "      <th>age</th>\n",
       "      <th>height</th>\n",
       "      <th>photocount</th>\n",
       "      <th>weight</th>\n",
       "      <th>id</th>\n",
       "      <th>count</th>\n",
       "      <th>rangeAge</th>\n",
       "      <th>percent</th>\n",
       "      <th>start_age</th>\n",
       "    </tr>\n",
       "  </thead>\n",
       "  <tbody>\n",
       "    <tr>\n",
       "      <th>count</th>\n",
       "      <td>153850.000000</td>\n",
       "      <td>21212.000000</td>\n",
       "      <td>153850.000000</td>\n",
       "      <td>16296.000000</td>\n",
       "      <td>1.531180e+05</td>\n",
       "      <td>153850.0</td>\n",
       "      <td>153850.0</td>\n",
       "      <td>153850.000000</td>\n",
       "      <td>153850.000000</td>\n",
       "    </tr>\n",
       "    <tr>\n",
       "      <th>mean</th>\n",
       "      <td>31.340617</td>\n",
       "      <td>172.152461</td>\n",
       "      <td>0.279519</td>\n",
       "      <td>70.196613</td>\n",
       "      <td>1.795152e+09</td>\n",
       "      <td>1.0</td>\n",
       "      <td>4.0</td>\n",
       "      <td>0.000833</td>\n",
       "      <td>28.877309</td>\n",
       "    </tr>\n",
       "    <tr>\n",
       "      <th>std</th>\n",
       "      <td>6.821024</td>\n",
       "      <td>9.474125</td>\n",
       "      <td>0.884740</td>\n",
       "      <td>15.102538</td>\n",
       "      <td>3.587005e+06</td>\n",
       "      <td>0.0</td>\n",
       "      <td>0.0</td>\n",
       "      <td>0.000005</td>\n",
       "      <td>6.830993</td>\n",
       "    </tr>\n",
       "    <tr>\n",
       "      <th>min</th>\n",
       "      <td>18.000000</td>\n",
       "      <td>150.000000</td>\n",
       "      <td>0.000000</td>\n",
       "      <td>40.000000</td>\n",
       "      <td>1.790103e+09</td>\n",
       "      <td>1.0</td>\n",
       "      <td>4.0</td>\n",
       "      <td>0.000828</td>\n",
       "      <td>18.000000</td>\n",
       "    </tr>\n",
       "    <tr>\n",
       "      <th>25%</th>\n",
       "      <td>26.000000</td>\n",
       "      <td>165.000000</td>\n",
       "      <td>0.000000</td>\n",
       "      <td>60.000000</td>\n",
       "      <td>1.791378e+09</td>\n",
       "      <td>1.0</td>\n",
       "      <td>4.0</td>\n",
       "      <td>0.000828</td>\n",
       "      <td>23.000000</td>\n",
       "    </tr>\n",
       "    <tr>\n",
       "      <th>50%</th>\n",
       "      <td>31.000000</td>\n",
       "      <td>172.000000</td>\n",
       "      <td>0.000000</td>\n",
       "      <td>70.000000</td>\n",
       "      <td>1.795512e+09</td>\n",
       "      <td>1.0</td>\n",
       "      <td>4.0</td>\n",
       "      <td>0.000828</td>\n",
       "      <td>29.000000</td>\n",
       "    </tr>\n",
       "    <tr>\n",
       "      <th>75%</th>\n",
       "      <td>37.000000</td>\n",
       "      <td>179.000000</td>\n",
       "      <td>0.000000</td>\n",
       "      <td>80.000000</td>\n",
       "      <td>1.798167e+09</td>\n",
       "      <td>1.0</td>\n",
       "      <td>4.0</td>\n",
       "      <td>0.000839</td>\n",
       "      <td>34.000000</td>\n",
       "    </tr>\n",
       "    <tr>\n",
       "      <th>max</th>\n",
       "      <td>45.000000</td>\n",
       "      <td>220.000000</td>\n",
       "      <td>13.000000</td>\n",
       "      <td>160.000000</td>\n",
       "      <td>1.800291e+09</td>\n",
       "      <td>1.0</td>\n",
       "      <td>4.0</td>\n",
       "      <td>0.000839</td>\n",
       "      <td>72.000000</td>\n",
       "    </tr>\n",
       "  </tbody>\n",
       "</table>\n",
       "</div>"
      ],
      "text/plain": [
       "                 age        height     photocount        weight            id  \\\n",
       "count  153850.000000  21212.000000  153850.000000  16296.000000  1.531180e+05   \n",
       "mean       31.340617    172.152461       0.279519     70.196613  1.795152e+09   \n",
       "std         6.821024      9.474125       0.884740     15.102538  3.587005e+06   \n",
       "min        18.000000    150.000000       0.000000     40.000000  1.790103e+09   \n",
       "25%        26.000000    165.000000       0.000000     60.000000  1.791378e+09   \n",
       "50%        31.000000    172.000000       0.000000     70.000000  1.795512e+09   \n",
       "75%        37.000000    179.000000       0.000000     80.000000  1.798167e+09   \n",
       "max        45.000000    220.000000      13.000000    160.000000  1.800291e+09   \n",
       "\n",
       "          count  rangeAge        percent      start_age  \n",
       "count  153850.0  153850.0  153850.000000  153850.000000  \n",
       "mean        1.0       4.0       0.000833      28.877309  \n",
       "std         0.0       0.0       0.000005       6.830993  \n",
       "min         1.0       4.0       0.000828      18.000000  \n",
       "25%         1.0       4.0       0.000828      23.000000  \n",
       "50%         1.0       4.0       0.000828      29.000000  \n",
       "75%         1.0       4.0       0.000839      34.000000  \n",
       "max         1.0       4.0       0.000839      72.000000  "
      ]
     },
     "metadata": {},
     "output_type": "display_data"
    },
    {
     "data": {
      "text/plain": [
       "about                0.976341\n",
       "age                  0.000000\n",
       "aim                  0.556659\n",
       "children             0.878044\n",
       "city                 0.030751\n",
       "edu                  0.882756\n",
       "gender               0.000000\n",
       "height               0.862125\n",
       "intrestedin          0.000000\n",
       "language             0.052753\n",
       "live                 0.914488\n",
       "partnerage           0.000000\n",
       "photocount           0.000000\n",
       "smoke                0.887813\n",
       "weight               0.894079\n",
       "id                   0.004758\n",
       "count                0.000000\n",
       "range_partner_age    0.000000\n",
       "rangeAge             0.000000\n",
       "simpleaim            0.000000\n",
       "percent              0.000000\n",
       "start_age            0.000000\n",
       "dtype: float64"
      ]
     },
     "execution_count": 105,
     "metadata": {},
     "output_type": "execute_result"
    }
   ],
   "source": [
    "age4 = mambadf.loc[mambadf['rangeAge'] == 4]\n",
    "display(age4.describe())\n",
    "age4.isna().mean()"
   ]
  },
  {
   "cell_type": "code",
   "execution_count": 106,
   "metadata": {},
   "outputs": [
    {
     "data": {
      "text/html": [
       "<div>\n",
       "<style scoped>\n",
       "    .dataframe tbody tr th:only-of-type {\n",
       "        vertical-align: middle;\n",
       "    }\n",
       "\n",
       "    .dataframe tbody tr th {\n",
       "        vertical-align: top;\n",
       "    }\n",
       "\n",
       "    .dataframe thead th {\n",
       "        text-align: right;\n",
       "    }\n",
       "</style>\n",
       "<table border=\"1\" class=\"dataframe\">\n",
       "  <thead>\n",
       "    <tr style=\"text-align: right;\">\n",
       "      <th></th>\n",
       "      <th>age</th>\n",
       "      <th>height</th>\n",
       "      <th>photocount</th>\n",
       "      <th>weight</th>\n",
       "      <th>id</th>\n",
       "      <th>count</th>\n",
       "      <th>rangeAge</th>\n",
       "      <th>percent</th>\n",
       "      <th>start_age</th>\n",
       "    </tr>\n",
       "  </thead>\n",
       "  <tbody>\n",
       "    <tr>\n",
       "      <th>count</th>\n",
       "      <td>86137.000000</td>\n",
       "      <td>49539.000000</td>\n",
       "      <td>86137.000000</td>\n",
       "      <td>35992.000000</td>\n",
       "      <td>8.566300e+04</td>\n",
       "      <td>86137.0</td>\n",
       "      <td>85403.000000</td>\n",
       "      <td>86137.000000</td>\n",
       "      <td>85403.000000</td>\n",
       "    </tr>\n",
       "    <tr>\n",
       "      <th>mean</th>\n",
       "      <td>29.494131</td>\n",
       "      <td>172.097156</td>\n",
       "      <td>0.894714</td>\n",
       "      <td>69.742804</td>\n",
       "      <td>1.795205e+09</td>\n",
       "      <td>1.0</td>\n",
       "      <td>14.652436</td>\n",
       "      <td>0.000834</td>\n",
       "      <td>24.674262</td>\n",
       "    </tr>\n",
       "    <tr>\n",
       "      <th>std</th>\n",
       "      <td>8.202573</td>\n",
       "      <td>9.146066</td>\n",
       "      <td>1.558115</td>\n",
       "      <td>15.583481</td>\n",
       "      <td>3.679133e+06</td>\n",
       "      <td>0.0</td>\n",
       "      <td>12.976517</td>\n",
       "      <td>0.000005</td>\n",
       "      <td>7.260410</td>\n",
       "    </tr>\n",
       "    <tr>\n",
       "      <th>min</th>\n",
       "      <td>18.000000</td>\n",
       "      <td>150.000000</td>\n",
       "      <td>0.000000</td>\n",
       "      <td>40.000000</td>\n",
       "      <td>1.790103e+09</td>\n",
       "      <td>1.0</td>\n",
       "      <td>1.000000</td>\n",
       "      <td>0.000828</td>\n",
       "      <td>18.000000</td>\n",
       "    </tr>\n",
       "    <tr>\n",
       "      <th>25%</th>\n",
       "      <td>21.000000</td>\n",
       "      <td>165.000000</td>\n",
       "      <td>0.000000</td>\n",
       "      <td>57.000000</td>\n",
       "      <td>1.791369e+09</td>\n",
       "      <td>1.0</td>\n",
       "      <td>6.000000</td>\n",
       "      <td>0.000828</td>\n",
       "      <td>18.000000</td>\n",
       "    </tr>\n",
       "    <tr>\n",
       "      <th>50%</th>\n",
       "      <td>30.000000</td>\n",
       "      <td>172.000000</td>\n",
       "      <td>0.000000</td>\n",
       "      <td>70.000000</td>\n",
       "      <td>1.795519e+09</td>\n",
       "      <td>1.0</td>\n",
       "      <td>11.000000</td>\n",
       "      <td>0.000839</td>\n",
       "      <td>23.000000</td>\n",
       "    </tr>\n",
       "    <tr>\n",
       "      <th>75%</th>\n",
       "      <td>36.000000</td>\n",
       "      <td>178.000000</td>\n",
       "      <td>1.000000</td>\n",
       "      <td>80.000000</td>\n",
       "      <td>1.798174e+09</td>\n",
       "      <td>1.0</td>\n",
       "      <td>19.000000</td>\n",
       "      <td>0.000839</td>\n",
       "      <td>30.000000</td>\n",
       "    </tr>\n",
       "    <tr>\n",
       "      <th>max</th>\n",
       "      <td>45.000000</td>\n",
       "      <td>220.000000</td>\n",
       "      <td>16.000000</td>\n",
       "      <td>160.000000</td>\n",
       "      <td>1.800291e+09</td>\n",
       "      <td>1.0</td>\n",
       "      <td>62.000000</td>\n",
       "      <td>0.000839</td>\n",
       "      <td>79.000000</td>\n",
       "    </tr>\n",
       "  </tbody>\n",
       "</table>\n",
       "</div>"
      ],
      "text/plain": [
       "                age        height    photocount        weight            id  \\\n",
       "count  86137.000000  49539.000000  86137.000000  35992.000000  8.566300e+04   \n",
       "mean      29.494131    172.097156      0.894714     69.742804  1.795205e+09   \n",
       "std        8.202573      9.146066      1.558115     15.583481  3.679133e+06   \n",
       "min       18.000000    150.000000      0.000000     40.000000  1.790103e+09   \n",
       "25%       21.000000    165.000000      0.000000     57.000000  1.791369e+09   \n",
       "50%       30.000000    172.000000      0.000000     70.000000  1.795519e+09   \n",
       "75%       36.000000    178.000000      1.000000     80.000000  1.798174e+09   \n",
       "max       45.000000    220.000000     16.000000    160.000000  1.800291e+09   \n",
       "\n",
       "         count      rangeAge       percent     start_age  \n",
       "count  86137.0  85403.000000  86137.000000  85403.000000  \n",
       "mean       1.0     14.652436      0.000834     24.674262  \n",
       "std        0.0     12.976517      0.000005      7.260410  \n",
       "min        1.0      1.000000      0.000828     18.000000  \n",
       "25%        1.0      6.000000      0.000828     18.000000  \n",
       "50%        1.0     11.000000      0.000839     23.000000  \n",
       "75%        1.0     19.000000      0.000839     30.000000  \n",
       "max        1.0     62.000000      0.000839     79.000000  "
      ]
     },
     "metadata": {},
     "output_type": "display_data"
    },
    {
     "data": {
      "text/plain": [
       "about                0.850819\n",
       "age                  0.000000\n",
       "aim                  0.173073\n",
       "children             0.523585\n",
       "city                 0.024809\n",
       "edu                  0.530213\n",
       "gender               0.000000\n",
       "height               0.424881\n",
       "intrestedin          0.000000\n",
       "language             0.030254\n",
       "live                 0.644032\n",
       "partnerage           0.008521\n",
       "photocount           0.000000\n",
       "smoke                0.548893\n",
       "weight               0.582154\n",
       "id                   0.005503\n",
       "count                0.000000\n",
       "range_partner_age    0.000000\n",
       "rangeAge             0.008521\n",
       "simpleaim            0.000000\n",
       "percent              0.000000\n",
       "start_age            0.008521\n",
       "dtype: float64"
      ]
     },
     "execution_count": 106,
     "metadata": {},
     "output_type": "execute_result"
    }
   ],
   "source": [
    "ageall = mambadf.loc[mambadf['rangeAge'] != 4]\n",
    "display(ageall.describe())\n",
    "ageall.isna().mean()"
   ]
  },
  {
   "cell_type": "markdown",
   "metadata": {},
   "source": [
    "### Отличаются ли группы тех, у кого диапазон возраста партнера 4 и все остальные?\n",
    "По базовым статистикам разницы почти нет. \n",
    "* НО у НЕ4 больше стандартное отклонение в возрасте - у них больший диапазон, похоже. И больше ст.отклонение в начальном возрасте партнера. \n",
    "* НО очень интересно, что люди НЕ4, <b> намного лучше заполяют профиль </b>, в их группе меньший процент нулевых значений."
   ]
  },
  {
   "cell_type": "code",
   "execution_count": 107,
   "metadata": {},
   "outputs": [],
   "source": [
    "mambadf['y4n'] = 'Not 4' \n",
    "mambadf.loc[mambadf['rangeAge'] == 4, 'y4n'] = 'Yes 4'"
   ]
  },
  {
   "cell_type": "code",
   "execution_count": 108,
   "metadata": {
    "scrolled": true
   },
   "outputs": [
    {
     "data": {
      "text/plain": [
       "Yes 4    153850\n",
       "Not 4     86137\n",
       "Name: y4n, dtype: int64"
      ]
     },
     "execution_count": 108,
     "metadata": {},
     "output_type": "execute_result"
    }
   ],
   "source": [
    "mambadf['y4n'].value_counts()\n"
   ]
  },
  {
   "cell_type": "code",
   "execution_count": 109,
   "metadata": {},
   "outputs": [
    {
     "data": {
      "text/plain": [
       "Yes 4    96000\n",
       "Not 4    86137\n",
       "Name: y4n, dtype: int64"
      ]
     },
     "execution_count": 109,
     "metadata": {},
     "output_type": "execute_result"
    }
   ],
   "source": [
    "import random\n",
    "yes = mambadf.loc[mambadf['y4n'] == 'Yes 4']\n",
    "no = mambadf.loc[mambadf['y4n'] == 'Not 4']\n",
    "yesLess = random.sample(list(yes.index), 96000)\n",
    "yes_chosen = yes.loc[yes.index.isin(yesLess)]\n",
    "\n",
    "mamba4 = pd.concat([yes_chosen, no])\n",
    "mamba4['y4n'].value_counts()"
   ]
  },
  {
   "cell_type": "code",
   "execution_count": 110,
   "metadata": {},
   "outputs": [
    {
     "data": {
      "text/html": [
       "<div>\n",
       "<style scoped>\n",
       "    .dataframe tbody tr th:only-of-type {\n",
       "        vertical-align: middle;\n",
       "    }\n",
       "\n",
       "    .dataframe tbody tr th {\n",
       "        vertical-align: top;\n",
       "    }\n",
       "\n",
       "    .dataframe thead th {\n",
       "        text-align: right;\n",
       "    }\n",
       "</style>\n",
       "<table border=\"1\" class=\"dataframe\">\n",
       "  <thead>\n",
       "    <tr style=\"text-align: right;\">\n",
       "      <th></th>\n",
       "      <th>y4n</th>\n",
       "      <th>edu</th>\n",
       "      <th>count</th>\n",
       "      <th>percent</th>\n",
       "    </tr>\n",
       "  </thead>\n",
       "  <tbody>\n",
       "    <tr>\n",
       "      <th>0</th>\n",
       "      <td>Not 4</td>\n",
       "      <td>Высшее</td>\n",
       "      <td>19180</td>\n",
       "      <td>0.473978</td>\n",
       "    </tr>\n",
       "    <tr>\n",
       "      <th>1</th>\n",
       "      <td>Not 4</td>\n",
       "      <td>Два или более высших</td>\n",
       "      <td>2735</td>\n",
       "      <td>0.067588</td>\n",
       "    </tr>\n",
       "    <tr>\n",
       "      <th>2</th>\n",
       "      <td>Not 4</td>\n",
       "      <td>Среднее</td>\n",
       "      <td>14212</td>\n",
       "      <td>0.351208</td>\n",
       "    </tr>\n",
       "    <tr>\n",
       "      <th>3</th>\n",
       "      <td>Not 4</td>\n",
       "      <td>Учусь</td>\n",
       "      <td>4339</td>\n",
       "      <td>0.107226</td>\n",
       "    </tr>\n",
       "    <tr>\n",
       "      <th>4</th>\n",
       "      <td>Yes 4</td>\n",
       "      <td>Высшее</td>\n",
       "      <td>4594</td>\n",
       "      <td>0.407414</td>\n",
       "    </tr>\n",
       "    <tr>\n",
       "      <th>5</th>\n",
       "      <td>Yes 4</td>\n",
       "      <td>Два или более высших</td>\n",
       "      <td>576</td>\n",
       "      <td>0.051082</td>\n",
       "    </tr>\n",
       "    <tr>\n",
       "      <th>6</th>\n",
       "      <td>Yes 4</td>\n",
       "      <td>Среднее</td>\n",
       "      <td>5349</td>\n",
       "      <td>0.474370</td>\n",
       "    </tr>\n",
       "    <tr>\n",
       "      <th>7</th>\n",
       "      <td>Yes 4</td>\n",
       "      <td>Учусь</td>\n",
       "      <td>757</td>\n",
       "      <td>0.067134</td>\n",
       "    </tr>\n",
       "  </tbody>\n",
       "</table>\n",
       "</div>"
      ],
      "text/plain": [
       "     y4n                   edu  count   percent\n",
       "0  Not 4                Высшее  19180  0.473978\n",
       "1  Not 4  Два или более высших   2735  0.067588\n",
       "2  Not 4               Среднее  14212  0.351208\n",
       "3  Not 4                 Учусь   4339  0.107226\n",
       "4  Yes 4                Высшее   4594  0.407414\n",
       "5  Yes 4  Два или более высших    576  0.051082\n",
       "6  Yes 4               Среднее   5349  0.474370\n",
       "7  Yes 4                 Учусь    757  0.067134"
      ]
     },
     "execution_count": 110,
     "metadata": {},
     "output_type": "execute_result"
    }
   ],
   "source": [
    "# тут я сделала дф, где посчитала в процентах и счет кол-во людей по уровням образования в двух группах 4 и не4\n",
    "edu_y4n = mamba4.loc[mamba4['edu'].isna() == False].groupby(['y4n', 'edu'])['count'].sum().reset_index()\n",
    "edu_y4n['percent'] = edu_y4n['count'] / edu_y4n.groupby('y4n')['count'].transform('sum')\n",
    "edu_y4n"
   ]
  },
  {
   "cell_type": "code",
   "execution_count": 111,
   "metadata": {},
   "outputs": [
    {
     "data": {
      "image/png": "[encoded data removed]",
      "text/plain": [
       "<Figure size 1152x360 with 2 Axes>"
      ]
     },
     "metadata": {
      "needs_background": "light"
     },
     "output_type": "display_data"
    }
   ],
   "source": [
    "fig, axs = plt.subplots(figsize = (16, 5), ncols = 2, nrows = 1)\n",
    "sns.barplot(data = edu_y4n, x='edu', y='percent', hue='y4n', ax=axs[0])\n",
    "sns.barplot(data = edu_y4n, x='edu', y='count', hue='y4n', ax=axs[1])\n",
    "fig.savefig('edu.png')"
   ]
  },
  {
   "cell_type": "markdown",
   "metadata": {},
   "source": [
    "### Далее применила хи-тест, чтобы понять, значимы ли статистически различия в образовании \n",
    "между теми, кто указывает 4 как диапазон возраста, и теми, кто не указывает\n",
    "<br> https://analyticsindiamag.com/a-beginners-guide-to-chi-square-test-in-python-from-scratch/ \n",
    "<br> https://lit-review.ru/biostatistika/kriterijj-khi-kvadrat-pirsona/\n",
    "#### Но может тут хи и не нужен, \n",
    "а можно просто сравнить погруппно: у кого есть вышка и у кого нет... но группы очень разные. "
   ]
  },
  {
   "cell_type": "code",
   "execution_count": 39,
   "metadata": {},
   "outputs": [
    {
     "data": {
      "text/html": [
       "<div>\n",
       "<style scoped>\n",
       "    .dataframe tbody tr th:only-of-type {\n",
       "        vertical-align: middle;\n",
       "    }\n",
       "\n",
       "    .dataframe tbody tr th {\n",
       "        vertical-align: top;\n",
       "    }\n",
       "\n",
       "    .dataframe thead th {\n",
       "        text-align: right;\n",
       "    }\n",
       "</style>\n",
       "<table border=\"1\" class=\"dataframe\">\n",
       "  <thead>\n",
       "    <tr style=\"text-align: right;\">\n",
       "      <th>edu</th>\n",
       "      <th>index</th>\n",
       "      <th>Высшее</th>\n",
       "      <th>Два или более высших</th>\n",
       "      <th>Среднее</th>\n",
       "      <th>Учусь</th>\n",
       "    </tr>\n",
       "  </thead>\n",
       "  <tbody>\n",
       "    <tr>\n",
       "      <th>0</th>\n",
       "      <td>four</td>\n",
       "      <td>7312</td>\n",
       "      <td>891</td>\n",
       "      <td>8626</td>\n",
       "      <td>1209</td>\n",
       "    </tr>\n",
       "    <tr>\n",
       "      <th>1</th>\n",
       "      <td>nfour</td>\n",
       "      <td>19180</td>\n",
       "      <td>2735</td>\n",
       "      <td>14212</td>\n",
       "      <td>4339</td>\n",
       "    </tr>\n",
       "  </tbody>\n",
       "</table>\n",
       "</div>"
      ],
      "text/plain": [
       "edu  index  Высшее  Два или более высших  Среднее  Учусь\n",
       "0     four    7312                   891     8626   1209\n",
       "1    nfour   19180                  2735    14212   4339"
      ]
     },
     "execution_count": 39,
     "metadata": {},
     "output_type": "execute_result"
    }
   ],
   "source": [
    "edus = ageall.groupby('edu')['count'].count().reset_index()\n",
    "edus = edus.rename(columns={'count' : 'nfour'})\n",
    "edus = edus.merge(age4.groupby('edu')['count'].count().reset_index(), on='edu')\n",
    "edus = edus.rename(columns={'count' : 'four'})\n",
    "edus = pd.pivot_table(edus, columns='edu', values=['nfour', 'four']).reset_index()\n",
    "edus"
   ]
  },
  {
   "cell_type": "code",
   "execution_count": 40,
   "metadata": {
    "scrolled": true
   },
   "outputs": [
    {
     "data": {
      "text/html": [
       "<div>\n",
       "<style scoped>\n",
       "    .dataframe tbody tr th:only-of-type {\n",
       "        vertical-align: middle;\n",
       "    }\n",
       "\n",
       "    .dataframe tbody tr th {\n",
       "        vertical-align: top;\n",
       "    }\n",
       "\n",
       "    .dataframe thead th {\n",
       "        text-align: right;\n",
       "    }\n",
       "</style>\n",
       "<table border=\"1\" class=\"dataframe\">\n",
       "  <thead>\n",
       "    <tr style=\"text-align: right;\">\n",
       "      <th></th>\n",
       "      <th>index</th>\n",
       "      <th>Высшее</th>\n",
       "      <th>Два или более высших</th>\n",
       "      <th>Среднее</th>\n",
       "      <th>Учусь</th>\n",
       "      <th>total</th>\n",
       "    </tr>\n",
       "  </thead>\n",
       "  <tbody>\n",
       "    <tr>\n",
       "      <th>0</th>\n",
       "      <td>four</td>\n",
       "      <td>7312</td>\n",
       "      <td>891</td>\n",
       "      <td>8626</td>\n",
       "      <td>1209</td>\n",
       "      <td>18038</td>\n",
       "    </tr>\n",
       "    <tr>\n",
       "      <th>1</th>\n",
       "      <td>nfour</td>\n",
       "      <td>19180</td>\n",
       "      <td>2735</td>\n",
       "      <td>14212</td>\n",
       "      <td>4339</td>\n",
       "      <td>40466</td>\n",
       "    </tr>\n",
       "    <tr>\n",
       "      <th>2</th>\n",
       "      <td>fournfour</td>\n",
       "      <td>26492</td>\n",
       "      <td>3626</td>\n",
       "      <td>22838</td>\n",
       "      <td>5548</td>\n",
       "      <td>58504</td>\n",
       "    </tr>\n",
       "  </tbody>\n",
       "</table>\n",
       "</div>"
      ],
      "text/plain": [
       "       index  Высшее  Два или более высших  Среднее  Учусь  total\n",
       "0       four    7312                   891     8626   1209  18038\n",
       "1      nfour   19180                  2735    14212   4339  40466\n",
       "2  fournfour   26492                  3626    22838   5548  58504"
      ]
     },
     "execution_count": 40,
     "metadata": {},
     "output_type": "execute_result"
    }
   ],
   "source": [
    "dicttot = {}\n",
    "for col, tot in zip(list(edus.columns), list(edus.sum(axis=0))):\n",
    "    dicttot[col] = tot\n",
    "    \n",
    "edus = edus.append(dicttot, ignore_index=True)\n",
    "edus['total'] = edus.sum(axis = 1)\n",
    "edus"
   ]
  },
  {
   "cell_type": "code",
   "execution_count": 41,
   "metadata": {},
   "outputs": [
    {
     "data": {
      "text/plain": [
       "0    18038\n",
       "1    40466\n",
       "Name: total, dtype: int64"
      ]
     },
     "execution_count": 41,
     "metadata": {},
     "output_type": "execute_result"
    }
   ],
   "source": [
    "edus['total'][0:2]"
   ]
  },
  {
   "cell_type": "code",
   "execution_count": 42,
   "metadata": {},
   "outputs": [
    {
     "data": {
      "text/plain": [
       "array([[ 8168.03459593,  1117.97121564,  7041.43039792,  1710.56379051],\n",
       "       [18323.96540407,  2508.02878436, 15796.56960208,  3837.43620949]])"
      ]
     },
     "execution_count": 42,
     "metadata": {},
     "output_type": "execute_result"
    }
   ],
   "source": [
    "expected_values = np.outer(edus['total'][0:2], edus.loc[edus['index'] == 'fournfour', ['Высшее', 'Два или более высших', 'Среднее', 'Учусь']])/58504\n",
    "expected_values"
   ]
  },
  {
   "cell_type": "code",
   "execution_count": 43,
   "metadata": {},
   "outputs": [],
   "source": [
    "observed = edus.iloc[0:2, 1:5]"
   ]
  },
  {
   "cell_type": "code",
   "execution_count": 44,
   "metadata": {},
   "outputs": [
    {
     "data": {
      "text/plain": [
       "924.4820765918109"
      ]
     },
     "execution_count": 44,
     "metadata": {},
     "output_type": "execute_result"
    }
   ],
   "source": [
    "((observed-expected_values)**2/expected_values).sum().sum()"
   ]
  },
  {
   "cell_type": "markdown",
   "metadata": {},
   "source": [
    "### Теперь буду смотреть, чем еще могут различаться группы людей с диапазоном возраста партнера 4 и не 4\n",
    "Распределение мужчин и женщин в этих группах НЕ отличается, как показал хи-тест.\n"
   ]
  },
  {
   "cell_type": "code",
   "execution_count": 45,
   "metadata": {},
   "outputs": [
    {
     "data": {
      "text/plain": [
       "Мужчины    79386\n",
       "Женщины    74464\n",
       "Name: gender, dtype: int64"
      ]
     },
     "metadata": {},
     "output_type": "display_data"
    },
    {
     "data": {
      "text/plain": [
       "Женщины    44758\n",
       "Мужчины    41379\n",
       "Name: gender, dtype: int64"
      ]
     },
     "execution_count": 45,
     "metadata": {},
     "output_type": "execute_result"
    }
   ],
   "source": [
    "age4gens = age4.gender.value_counts()\n",
    "ageallgens = ageall.gender.value_counts()\n",
    "display(age4gens)\n",
    "ageallgens"
   ]
  },
  {
   "cell_type": "code",
   "execution_count": 46,
   "metadata": {},
   "outputs": [
    {
     "data": {
      "text/html": [
       "<div>\n",
       "<style scoped>\n",
       "    .dataframe tbody tr th:only-of-type {\n",
       "        vertical-align: middle;\n",
       "    }\n",
       "\n",
       "    .dataframe tbody tr th {\n",
       "        vertical-align: top;\n",
       "    }\n",
       "\n",
       "    .dataframe thead th {\n",
       "        text-align: right;\n",
       "    }\n",
       "</style>\n",
       "<table border=\"1\" class=\"dataframe\">\n",
       "  <thead>\n",
       "    <tr style=\"text-align: right;\">\n",
       "      <th></th>\n",
       "      <th>Мужчины</th>\n",
       "      <th>Женщины</th>\n",
       "      <th>Total</th>\n",
       "    </tr>\n",
       "  </thead>\n",
       "  <tbody>\n",
       "    <tr>\n",
       "      <th>four</th>\n",
       "      <td>79386</td>\n",
       "      <td>74464</td>\n",
       "      <td>153850</td>\n",
       "    </tr>\n",
       "    <tr>\n",
       "      <th>notfour</th>\n",
       "      <td>44758</td>\n",
       "      <td>41379</td>\n",
       "      <td>86137</td>\n",
       "    </tr>\n",
       "    <tr>\n",
       "      <th>total</th>\n",
       "      <td>124144</td>\n",
       "      <td>115843</td>\n",
       "      <td>239987</td>\n",
       "    </tr>\n",
       "  </tbody>\n",
       "</table>\n",
       "</div>"
      ],
      "text/plain": [
       "         Мужчины  Женщины   Total\n",
       "four       79386    74464  153850\n",
       "notfour    44758    41379   86137\n",
       "total     124144   115843  239987"
      ]
     },
     "metadata": {},
     "output_type": "display_data"
    },
    {
     "data": {
      "text/plain": [
       "array([[79585.78756349, 74264.21243651],\n",
       "       [44558.21243651, 41578.78756349]])"
      ]
     },
     "metadata": {},
     "output_type": "display_data"
    },
    {
     "data": {
      "text/plain": [
       "Power_divergenceResult(statistic=2.8947914303114195, pvalue=0.4081323182597216)"
      ]
     },
     "execution_count": 46,
     "metadata": {},
     "output_type": "execute_result"
    }
   ],
   "source": [
    "chiGender = pd.DataFrame(index=['four', 'notfour', 'total'], data = {'Мужчины': [age4gens[0], ageallgens[0], age4gens[0]+ageallgens[0]], \n",
    "                                                            'Женщины': [age4gens[1], ageallgens[1], age4gens[1]+ageallgens[1]]})\n",
    "\n",
    "chiGender['Total'] = chiGender.sum(axis = 1)\n",
    "display(chiGender)\n",
    "\n",
    "expected = np.outer(chiGender['Total'][0:2], chiGender.loc['total', ['Мужчины', 'Женщины']])/239987\n",
    "display(expected)\n",
    "\n",
    "import scipy.stats as stats\n",
    "expected = pd.DataFrame(expected)\n",
    "observed = chiGender.iloc[0:2, 0:2]\n",
    "\n",
    "stats.chisquare(observed.values, expected.values, axis=None)"
   ]
  },
  {
   "cell_type": "markdown",
   "metadata": {},
   "source": [
    "#### Посмотрю на языковые различия \n",
    "* сделала функцию, которая считает процент от группы, который говорит на тот или ином языке \n",
    "* у меня по-прежнему 2 группы: 4 и не 4 диапазон возраста. \n",
    "<br> <b> Получилось, что те, кто в группе \"Не4\" больше говорят по-русски, меньше по-английски, французски и испански </b>"
   ]
  },
  {
   "cell_type": "code",
   "execution_count": 47,
   "metadata": {},
   "outputs": [],
   "source": [
    "oneperc = 100/mamba4.loc[mamba4['language'].isna() == False].shape[0]\n",
    "\n",
    "def count_langs(language_col, oneperc): \n",
    "    dictlang = {}\n",
    "    for lang in language_col:\n",
    "        try: \n",
    "            lst =lang.split(', ')\n",
    "            for item in lst:\n",
    "                if item not in dictlang.keys():\n",
    "                    dictlang[item]=oneperc\n",
    "                else: \n",
    "                    dictlang[item]+=oneperc\n",
    "        except: \n",
    "            continue \n",
    "    return dictlang\n"
   ]
  },
  {
   "cell_type": "code",
   "execution_count": 48,
   "metadata": {},
   "outputs": [],
   "source": [
    "onepercall = 100/ageall.loc[ageall['language'].isna() == False].shape[0]\n",
    "oneperc4all = 100/age4.loc[age4['language'].isna() == False].shape[0]"
   ]
  },
  {
   "cell_type": "code",
   "execution_count": 49,
   "metadata": {},
   "outputs": [
    {
     "data": {
      "text/html": [
       "<div>\n",
       "<style scoped>\n",
       "    .dataframe tbody tr th:only-of-type {\n",
       "        vertical-align: middle;\n",
       "    }\n",
       "\n",
       "    .dataframe tbody tr th {\n",
       "        vertical-align: top;\n",
       "    }\n",
       "\n",
       "    .dataframe thead th {\n",
       "        text-align: right;\n",
       "    }\n",
       "</style>\n",
       "<table border=\"1\" class=\"dataframe\">\n",
       "  <thead>\n",
       "    <tr style=\"text-align: right;\">\n",
       "      <th></th>\n",
       "      <th>langs</th>\n",
       "      <th>not4</th>\n",
       "      <th>is4</th>\n",
       "    </tr>\n",
       "  </thead>\n",
       "  <tbody>\n",
       "    <tr>\n",
       "      <th>0</th>\n",
       "      <td>Русский</td>\n",
       "      <td>88.392333</td>\n",
       "      <td>81.669343</td>\n",
       "    </tr>\n",
       "    <tr>\n",
       "      <th>1</th>\n",
       "      <td>Укра</td>\n",
       "      <td>0.413020</td>\n",
       "      <td>0.096065</td>\n",
       "    </tr>\n",
       "    <tr>\n",
       "      <th>2</th>\n",
       "      <td>English</td>\n",
       "      <td>10.288396</td>\n",
       "      <td>12.839145</td>\n",
       "    </tr>\n",
       "    <tr>\n",
       "      <th>3</th>\n",
       "      <td>Polski</td>\n",
       "      <td>0.413020</td>\n",
       "      <td>0.444646</td>\n",
       "    </tr>\n",
       "    <tr>\n",
       "      <th>4</th>\n",
       "      <td>Fran</td>\n",
       "      <td>0.767380</td>\n",
       "      <td>1.473232</td>\n",
       "    </tr>\n",
       "  </tbody>\n",
       "</table>\n",
       "</div>"
      ],
      "text/plain": [
       "     langs       not4        is4\n",
       "0  Русский  88.392333  81.669343\n",
       "1     Укра   0.413020   0.096065\n",
       "2  English  10.288396  12.839145\n",
       "3   Polski   0.413020   0.444646\n",
       "4     Fran   0.767380   1.473232"
      ]
     },
     "execution_count": 49,
     "metadata": {},
     "output_type": "execute_result"
    }
   ],
   "source": [
    "languages = pd.DataFrame(data={'langs' : count_langs(list(ageall.language), onepercall).keys(), \n",
    "                               'not4': count_langs(list(ageall.language), onepercall).values()})\n",
    "languages2 = pd.DataFrame(data={'langs' : count_langs(list(age4.language), oneperc4all).keys(), \n",
    "                               'is4': count_langs(list(age4.language), oneperc4all).values()})\n",
    "alllangs = languages.merge(languages2, how='outer')\n",
    "alllangs.fillna(0, inplace=True)\n",
    "alllangs.head()"
   ]
  },
  {
   "cell_type": "code",
   "execution_count": 50,
   "metadata": {},
   "outputs": [
    {
     "data": {
      "text/html": [
       "<div>\n",
       "<style scoped>\n",
       "    .dataframe tbody tr th:only-of-type {\n",
       "        vertical-align: middle;\n",
       "    }\n",
       "\n",
       "    .dataframe tbody tr th {\n",
       "        vertical-align: top;\n",
       "    }\n",
       "\n",
       "    .dataframe thead th {\n",
       "        text-align: right;\n",
       "    }\n",
       "</style>\n",
       "<table border=\"1\" class=\"dataframe\">\n",
       "  <thead>\n",
       "    <tr style=\"text-align: right;\">\n",
       "      <th></th>\n",
       "      <th>langs</th>\n",
       "      <th>not4</th>\n",
       "      <th>is4</th>\n",
       "      <th>not4-is4</th>\n",
       "    </tr>\n",
       "  </thead>\n",
       "  <tbody>\n",
       "    <tr>\n",
       "      <th>0</th>\n",
       "      <td>Русский</td>\n",
       "      <td>88.392333</td>\n",
       "      <td>81.669343</td>\n",
       "      <td>6.722991</td>\n",
       "    </tr>\n",
       "    <tr>\n",
       "      <th>1</th>\n",
       "      <td>Укра</td>\n",
       "      <td>0.413020</td>\n",
       "      <td>0.096065</td>\n",
       "      <td>0.316955</td>\n",
       "    </tr>\n",
       "    <tr>\n",
       "      <th>2</th>\n",
       "      <td>English</td>\n",
       "      <td>10.288396</td>\n",
       "      <td>12.839145</td>\n",
       "      <td>-2.550749</td>\n",
       "    </tr>\n",
       "    <tr>\n",
       "      <th>3</th>\n",
       "      <td>Polski</td>\n",
       "      <td>0.413020</td>\n",
       "      <td>0.444646</td>\n",
       "      <td>-0.031625</td>\n",
       "    </tr>\n",
       "    <tr>\n",
       "      <th>4</th>\n",
       "      <td>Fran</td>\n",
       "      <td>0.767380</td>\n",
       "      <td>1.473232</td>\n",
       "      <td>-0.705852</td>\n",
       "    </tr>\n",
       "    <tr>\n",
       "      <th>5</th>\n",
       "      <td>Deutsch</td>\n",
       "      <td>2.055524</td>\n",
       "      <td>0.748624</td>\n",
       "      <td>1.306900</td>\n",
       "    </tr>\n",
       "    <tr>\n",
       "      <th>6</th>\n",
       "      <td>Espa</td>\n",
       "      <td>1.245047</td>\n",
       "      <td>1.775152</td>\n",
       "      <td>-0.530105</td>\n",
       "    </tr>\n",
       "    <tr>\n",
       "      <th>7</th>\n",
       "      <td>Rom</td>\n",
       "      <td>0.114927</td>\n",
       "      <td>0.205855</td>\n",
       "      <td>-0.090927</td>\n",
       "    </tr>\n",
       "    <tr>\n",
       "      <th>8</th>\n",
       "      <td>Afrikaans</td>\n",
       "      <td>0.009577</td>\n",
       "      <td>0.000686</td>\n",
       "      <td>0.008891</td>\n",
       "    </tr>\n",
       "    <tr>\n",
       "      <th>9</th>\n",
       "      <td>Italiano</td>\n",
       "      <td>0.280136</td>\n",
       "      <td>0.287510</td>\n",
       "      <td>-0.007375</td>\n",
       "    </tr>\n",
       "    <tr>\n",
       "      <th>10</th>\n",
       "      <td>Български</td>\n",
       "      <td>0.192743</td>\n",
       "      <td>0.370538</td>\n",
       "      <td>-0.177795</td>\n",
       "    </tr>\n",
       "    <tr>\n",
       "      <th>11</th>\n",
       "      <td>Portugu</td>\n",
       "      <td>0.191546</td>\n",
       "      <td>0.427491</td>\n",
       "      <td>-0.235946</td>\n",
       "    </tr>\n",
       "    <tr>\n",
       "      <th>12</th>\n",
       "      <td>Chinese</td>\n",
       "      <td>0.111336</td>\n",
       "      <td>0.021272</td>\n",
       "      <td>0.090064</td>\n",
       "    </tr>\n",
       "    <tr>\n",
       "      <th>13</th>\n",
       "      <td>Latvie</td>\n",
       "      <td>0.015563</td>\n",
       "      <td>0.004803</td>\n",
       "      <td>0.010760</td>\n",
       "    </tr>\n",
       "    <tr>\n",
       "      <th>14</th>\n",
       "      <td>Suomi</td>\n",
       "      <td>0.034718</td>\n",
       "      <td>0.021958</td>\n",
       "      <td>0.012760</td>\n",
       "    </tr>\n",
       "    <tr>\n",
       "      <th>15</th>\n",
       "      <td>Српски</td>\n",
       "      <td>0.049084</td>\n",
       "      <td>0.090576</td>\n",
       "      <td>-0.041492</td>\n",
       "    </tr>\n",
       "    <tr>\n",
       "      <th>16</th>\n",
       "      <td>Ti</td>\n",
       "      <td>0.008380</td>\n",
       "      <td>0.005489</td>\n",
       "      <td>0.002891</td>\n",
       "    </tr>\n",
       "    <tr>\n",
       "      <th>17</th>\n",
       "      <td>Svenska</td>\n",
       "      <td>0.045492</td>\n",
       "      <td>0.073421</td>\n",
       "      <td>-0.027929</td>\n",
       "    </tr>\n",
       "    <tr>\n",
       "      <th>18</th>\n",
       "      <td>Euskara</td>\n",
       "      <td>0.002394</td>\n",
       "      <td>0.000000</td>\n",
       "      <td>0.002394</td>\n",
       "    </tr>\n",
       "    <tr>\n",
       "      <th>19</th>\n",
       "      <td>Татар</td>\n",
       "      <td>0.038309</td>\n",
       "      <td>0.010293</td>\n",
       "      <td>0.028016</td>\n",
       "    </tr>\n",
       "    <tr>\n",
       "      <th>20</th>\n",
       "      <td>Беларуская</td>\n",
       "      <td>0.041901</td>\n",
       "      <td>0.006176</td>\n",
       "      <td>0.035725</td>\n",
       "    </tr>\n",
       "    <tr>\n",
       "      <th>21</th>\n",
       "      <td>Magyar</td>\n",
       "      <td>0.003591</td>\n",
       "      <td>0.000000</td>\n",
       "      <td>0.003591</td>\n",
       "    </tr>\n",
       "    <tr>\n",
       "      <th>22</th>\n",
       "      <td>Аз</td>\n",
       "      <td>0.123308</td>\n",
       "      <td>0.034995</td>\n",
       "      <td>0.088312</td>\n",
       "    </tr>\n",
       "    <tr>\n",
       "      <th>23</th>\n",
       "      <td>Кыргыз</td>\n",
       "      <td>0.019155</td>\n",
       "      <td>0.007548</td>\n",
       "      <td>0.011607</td>\n",
       "    </tr>\n",
       "    <tr>\n",
       "      <th>24</th>\n",
       "      <td>Lietuvi</td>\n",
       "      <td>0.015563</td>\n",
       "      <td>0.003431</td>\n",
       "      <td>0.012132</td>\n",
       "    </tr>\n",
       "    <tr>\n",
       "      <th>25</th>\n",
       "      <td>Bahasa</td>\n",
       "      <td>0.019155</td>\n",
       "      <td>0.016468</td>\n",
       "      <td>0.002686</td>\n",
       "    </tr>\n",
       "    <tr>\n",
       "      <th>26</th>\n",
       "      <td>Eesti</td>\n",
       "      <td>0.008380</td>\n",
       "      <td>0.000686</td>\n",
       "      <td>0.007694</td>\n",
       "    </tr>\n",
       "    <tr>\n",
       "      <th>27</th>\n",
       "      <td>Qafar</td>\n",
       "      <td>0.008380</td>\n",
       "      <td>0.001372</td>\n",
       "      <td>0.007008</td>\n",
       "    </tr>\n",
       "    <tr>\n",
       "      <th>28</th>\n",
       "      <td>Македонски</td>\n",
       "      <td>0.002394</td>\n",
       "      <td>0.000000</td>\n",
       "      <td>0.002394</td>\n",
       "    </tr>\n",
       "    <tr>\n",
       "      <th>29</th>\n",
       "      <td>Монгол</td>\n",
       "      <td>0.002394</td>\n",
       "      <td>0.000000</td>\n",
       "      <td>0.002394</td>\n",
       "    </tr>\n",
       "    <tr>\n",
       "      <th>30</th>\n",
       "      <td>Nederlands</td>\n",
       "      <td>0.010774</td>\n",
       "      <td>0.001372</td>\n",
       "      <td>0.009402</td>\n",
       "    </tr>\n",
       "    <tr>\n",
       "      <th>31</th>\n",
       "      <td>Norsk</td>\n",
       "      <td>0.001197</td>\n",
       "      <td>0.000686</td>\n",
       "      <td>0.000511</td>\n",
       "    </tr>\n",
       "    <tr>\n",
       "      <th>32</th>\n",
       "      <td>Hrvatski</td>\n",
       "      <td>0.005986</td>\n",
       "      <td>0.002059</td>\n",
       "      <td>0.003927</td>\n",
       "    </tr>\n",
       "    <tr>\n",
       "      <th>33</th>\n",
       "      <td>Dansk</td>\n",
       "      <td>0.002394</td>\n",
       "      <td>0.000000</td>\n",
       "      <td>0.002394</td>\n",
       "    </tr>\n",
       "    <tr>\n",
       "      <th>34</th>\n",
       "      <td>Slovensk</td>\n",
       "      <td>0.001197</td>\n",
       "      <td>0.000000</td>\n",
       "      <td>0.001197</td>\n",
       "    </tr>\n",
       "    <tr>\n",
       "      <th>35</th>\n",
       "      <td>Catal</td>\n",
       "      <td>0.001197</td>\n",
       "      <td>0.000000</td>\n",
       "      <td>0.001197</td>\n",
       "    </tr>\n",
       "    <tr>\n",
       "      <th>36</th>\n",
       "      <td>Filipino</td>\n",
       "      <td>0.001197</td>\n",
       "      <td>0.001372</td>\n",
       "      <td>-0.000175</td>\n",
       "    </tr>\n",
       "    <tr>\n",
       "      <th>37</th>\n",
       "      <td>Esperanto</td>\n",
       "      <td>0.001197</td>\n",
       "      <td>0.000000</td>\n",
       "      <td>0.001197</td>\n",
       "    </tr>\n",
       "    <tr>\n",
       "      <th>38</th>\n",
       "      <td>Englishо</td>\n",
       "      <td>0.000000</td>\n",
       "      <td>0.000686</td>\n",
       "      <td>-0.000686</td>\n",
       "    </tr>\n",
       "    <tr>\n",
       "      <th>39</th>\n",
       "      <td>Русскийо</td>\n",
       "      <td>0.000000</td>\n",
       "      <td>0.000686</td>\n",
       "      <td>-0.000686</td>\n",
       "    </tr>\n",
       "  </tbody>\n",
       "</table>\n",
       "</div>"
      ],
      "text/plain": [
       "         langs       not4        is4  not4-is4\n",
       "0      Русский  88.392333  81.669343  6.722991\n",
       "1         Укра   0.413020   0.096065  0.316955\n",
       "2      English  10.288396  12.839145 -2.550749\n",
       "3       Polski   0.413020   0.444646 -0.031625\n",
       "4         Fran   0.767380   1.473232 -0.705852\n",
       "5      Deutsch   2.055524   0.748624  1.306900\n",
       "6         Espa   1.245047   1.775152 -0.530105\n",
       "7          Rom   0.114927   0.205855 -0.090927\n",
       "8    Afrikaans   0.009577   0.000686  0.008891\n",
       "9     Italiano   0.280136   0.287510 -0.007375\n",
       "10   Български   0.192743   0.370538 -0.177795\n",
       "11     Portugu   0.191546   0.427491 -0.235946\n",
       "12     Chinese   0.111336   0.021272  0.090064\n",
       "13      Latvie   0.015563   0.004803  0.010760\n",
       "14       Suomi   0.034718   0.021958  0.012760\n",
       "15      Српски   0.049084   0.090576 -0.041492\n",
       "16          Ti   0.008380   0.005489  0.002891\n",
       "17     Svenska   0.045492   0.073421 -0.027929\n",
       "18     Euskara   0.002394   0.000000  0.002394\n",
       "19       Татар   0.038309   0.010293  0.028016\n",
       "20  Беларуская   0.041901   0.006176  0.035725\n",
       "21      Magyar   0.003591   0.000000  0.003591\n",
       "22          Аз   0.123308   0.034995  0.088312\n",
       "23      Кыргыз   0.019155   0.007548  0.011607\n",
       "24     Lietuvi   0.015563   0.003431  0.012132\n",
       "25      Bahasa   0.019155   0.016468  0.002686\n",
       "26       Eesti   0.008380   0.000686  0.007694\n",
       "27       Qafar   0.008380   0.001372  0.007008\n",
       "28  Македонски   0.002394   0.000000  0.002394\n",
       "29      Монгол   0.002394   0.000000  0.002394\n",
       "30  Nederlands   0.010774   0.001372  0.009402\n",
       "31       Norsk   0.001197   0.000686  0.000511\n",
       "32    Hrvatski   0.005986   0.002059  0.003927\n",
       "33       Dansk   0.002394   0.000000  0.002394\n",
       "34    Slovensk   0.001197   0.000000  0.001197\n",
       "35       Catal   0.001197   0.000000  0.001197\n",
       "36    Filipino   0.001197   0.001372 -0.000175\n",
       "37   Esperanto   0.001197   0.000000  0.001197\n",
       "38    Englishо   0.000000   0.000686 -0.000686\n",
       "39    Русскийо   0.000000   0.000686 -0.000686"
      ]
     },
     "execution_count": 50,
     "metadata": {},
     "output_type": "execute_result"
    }
   ],
   "source": [
    "alllangs['not4-is4'] = alllangs['not4'] - alllangs['is4']\n",
    "alllangs"
   ]
  },
  {
   "cell_type": "markdown",
   "metadata": {},
   "source": [
    "### Теперь посмотрю на различия в возрасте \n",
    "Они явно есть. Кажется, что распределения по возрастам похожи, но отличие в том, что у НЕ4 очень много значений до 20, а у ДА4 - около 22 и 32 лет небольшие пики. Это интересно, потомму что НЕ4 отличаются более высоким уровнем образования... Дело в том, что 75% людей до 20 лет в группе НЕ4 образование просто не указывают. А после 20 лет в группе НЕ4 не указывают 45%."
   ]
  },
  {
   "cell_type": "code",
   "execution_count": 113,
   "metadata": {},
   "outputs": [
    {
     "data": {
      "text/plain": [
       "Yes 4    96000\n",
       "Not 4    86137\n",
       "Name: y4n, dtype: int64"
      ]
     },
     "metadata": {},
     "output_type": "display_data"
    },
    {
     "data": {
      "text/plain": [
       "31.0"
      ]
     },
     "metadata": {},
     "output_type": "display_data"
    },
    {
     "data": {
      "text/plain": [
       "30.0"
      ]
     },
     "metadata": {},
     "output_type": "display_data"
    },
    {
     "data": {
      "image/png": "[encoded data removed]",
      "text/plain": [
       "<Figure size 720x576 with 1 Axes>"
      ]
     },
     "metadata": {
      "needs_background": "light"
     },
     "output_type": "display_data"
    }
   ],
   "source": [
    "display(mamba4.y4n.value_counts())\n",
    "display(mamba4.loc[mamba4['y4n'] == 'Yes 4', 'age'].median())\n",
    "display(mamba4.loc[mamba4['y4n'] == 'Not 4', 'age'].median())\n",
    "fig, axs = plt.subplots(figsize = (10, 8))\n",
    "sns.histplot(data = mamba4, x='age', hue='y4n')\n",
    "fig.savefig('ages.png')"
   ]
  },
  {
   "cell_type": "code",
   "execution_count": 52,
   "metadata": {},
   "outputs": [
    {
     "data": {
      "text/plain": [
       "MannwhitneyuResult(statistic=7572119934.0, pvalue=0.0)"
      ]
     },
     "execution_count": 52,
     "metadata": {},
     "output_type": "execute_result"
    }
   ],
   "source": [
    "import scipy.stats\n",
    "from scipy.stats import mannwhitneyu\n",
    "mannwhitneyu(mambadf.loc[mambadf['y4n'] == 'Yes 4', 'age'], mambadf.loc[mambadf['y4n'] == 'Not 4', 'age'])"
   ]
  },
  {
   "cell_type": "code",
   "execution_count": 53,
   "metadata": {},
   "outputs": [
    {
     "data": {
      "text/plain": [
       "Ttest_indResult(statistic=52.02103032190268, pvalue=0.0)"
      ]
     },
     "execution_count": 53,
     "metadata": {},
     "output_type": "execute_result"
    }
   ],
   "source": [
    "from scipy.stats import ttest_ind\n",
    "ttest_ind(mamba4.loc[mambadf['y4n'] == 'Yes 4', 'age'], mamba4.loc[mamba4['y4n'] == 'Not 4', 'age'])"
   ]
  },
  {
   "cell_type": "markdown",
   "metadata": {},
   "source": [
    "#### Дальше смотрю, а указывают ли 20-летки свое образование в группе НЕ4? "
   ]
  },
  {
   "cell_type": "code",
   "execution_count": 55,
   "metadata": {},
   "outputs": [
    {
     "data": {
      "text/plain": [
       "(19936,)"
      ]
     },
     "metadata": {},
     "output_type": "display_data"
    },
    {
     "data": {
      "text/plain": [
       "0.752207062600321"
      ]
     },
     "execution_count": 55,
     "metadata": {},
     "output_type": "execute_result"
    }
   ],
   "source": [
    "ageeduN4 = mamba4.loc[mamba4['y4n'] == 'Not 4', ['age', 'edu']]\n",
    "display(ageeduN4[ageeduN4['age'] <= 20]['edu'].shape)\n",
    "ageeduN4[ageeduN4['age'] <= 20]['edu'].isna().sum()/19936"
   ]
  },
  {
   "cell_type": "code",
   "execution_count": 58,
   "metadata": {},
   "outputs": [
    {
     "data": {
      "text/plain": [
       "(66201,)"
      ]
     },
     "metadata": {},
     "output_type": "display_data"
    },
    {
     "data": {
      "text/plain": [
       "0.4633615806407758"
      ]
     },
     "execution_count": 58,
     "metadata": {},
     "output_type": "execute_result"
    }
   ],
   "source": [
    "ageedu4 = mamba4.loc[mamba4['y4n'] == 'Not 4', ['age', 'edu']]\n",
    "display(ageedu4[ageedu4['age'] > 20]['edu'].shape)\n",
    "ageedu4[ageedu4['age'] > 20]['edu'].isna().sum()/66201"
   ]
  },
  {
   "cell_type": "markdown",
   "metadata": {},
   "source": [
    "### Есть ли разница в цели на сайте у групп ДА4 и НЕ4? \n",
    "есть. Те, кто НЕ4 не уверены в своих целях (33%), при этом у другой группы 55% вообще не указывают цель, но и очень мало (6%) указывают больше трех целей. Количество людей, ищущих отношения или флирт одинаковое в двух группах. У НЕ4 в три раза больше семьянинов и в 4 раза больше дружелюбных. "
   ]
  },
  {
   "cell_type": "code",
   "execution_count": 114,
   "metadata": {},
   "outputs": [
    {
     "data": {
      "text/html": [
       "<div>\n",
       "<style scoped>\n",
       "    .dataframe tbody tr th:only-of-type {\n",
       "        vertical-align: middle;\n",
       "    }\n",
       "\n",
       "    .dataframe tbody tr th {\n",
       "        vertical-align: top;\n",
       "    }\n",
       "\n",
       "    .dataframe thead th {\n",
       "        text-align: right;\n",
       "    }\n",
       "</style>\n",
       "<table border=\"1\" class=\"dataframe\">\n",
       "  <thead>\n",
       "    <tr style=\"text-align: right;\">\n",
       "      <th></th>\n",
       "      <th>age</th>\n",
       "      <th>simpleaim</th>\n",
       "    </tr>\n",
       "  </thead>\n",
       "  <tbody>\n",
       "    <tr>\n",
       "      <th>1</th>\n",
       "      <td>36.0</td>\n",
       "      <td>unknown</td>\n",
       "    </tr>\n",
       "    <tr>\n",
       "      <th>4</th>\n",
       "      <td>44.0</td>\n",
       "      <td>casual</td>\n",
       "    </tr>\n",
       "    <tr>\n",
       "      <th>7</th>\n",
       "      <td>23.0</td>\n",
       "      <td>relationships</td>\n",
       "    </tr>\n",
       "    <tr>\n",
       "      <th>8</th>\n",
       "      <td>45.0</td>\n",
       "      <td>unsure</td>\n",
       "    </tr>\n",
       "    <tr>\n",
       "      <th>10</th>\n",
       "      <td>26.0</td>\n",
       "      <td>unknown</td>\n",
       "    </tr>\n",
       "  </tbody>\n",
       "</table>\n",
       "</div>"
      ],
      "text/plain": [
       "     age      simpleaim\n",
       "1   36.0        unknown\n",
       "4   44.0         casual\n",
       "7   23.0  relationships\n",
       "8   45.0         unsure\n",
       "10  26.0        unknown"
      ]
     },
     "execution_count": 114,
     "metadata": {},
     "output_type": "execute_result"
    }
   ],
   "source": [
    "fouraim = mamba4.loc[mamba4['y4n'] == 'Yes 4', ['age', 'simpleaim']]\n",
    "nfouraim = mamba4.loc[mamba4['y4n'] == 'Not 4', ['age', 'simpleaim']]\n",
    "fouraim.head()"
   ]
  },
  {
   "cell_type": "code",
   "execution_count": 115,
   "metadata": {},
   "outputs": [],
   "source": [
    "aims4 = pd.Series(fouraim['simpleaim'].value_counts()/fouraim.shape[0])[:7]*100\n",
    "aimsall = pd.Series(nfouraim['simpleaim'].value_counts()/nfouraim.shape[0])[:7]*100\n",
    "aims1 = pd.DataFrame(data={'y4n' : 'no4', 'percent' : aimsall.values, 'aims' : aimsall.index})\n",
    "aims2 = pd.DataFrame(data={'y4n' : 'yes4', 'percent' : aims4.values, 'aims' : aims4.index})"
   ]
  },
  {
   "cell_type": "code",
   "execution_count": 116,
   "metadata": {},
   "outputs": [
    {
     "data": {
      "application/vnd.plotly.v1+json": {
       "config": {
        "plotlyServerURL": "https://plot.ly"
       },
       "data": [
        {
         "alignmentgroup": "True",
         "hovertemplate": "aims=unsure<br>y4n=%{x}<br>percent=%{y}<extra></extra>",
         "legendgroup": "unsure",
         "marker": {
          "color": "#636efa",
          "pattern": {
           "shape": ""
          }
         },
         "name": "unsure",
         "offsetgroup": "unsure",
         "orientation": "v",
         "showlegend": true,
         "textposition": "auto",
         "type": "bar",
         "x": [
          "no4",
          "yes4"
         ],
         "xaxis": "x",
         "y": [
          31.316391330090436,
          5.621875
         ],
         "yaxis": "y"
        },
        {
         "alignmentgroup": "True",
         "hovertemplate": "aims=casual<br>y4n=%{x}<br>percent=%{y}<extra></extra>",
         "legendgroup": "casual",
         "marker": {
          "color": "#EF553B",
          "pattern": {
           "shape": ""
          }
         },
         "name": "casual",
         "offsetgroup": "casual",
         "orientation": "v",
         "showlegend": true,
         "textposition": "auto",
         "type": "bar",
         "x": [
          "no4",
          "yes4"
         ],
         "xaxis": "x",
         "y": [
          24.37628429130339,
          19.898958333333333
         ],
         "yaxis": "y"
        },
        {
         "alignmentgroup": "True",
         "hovertemplate": "aims=relationships<br>y4n=%{x}<br>percent=%{y}<extra></extra>",
         "legendgroup": "relationships",
         "marker": {
          "color": "#00cc96",
          "pattern": {
           "shape": ""
          }
         },
         "name": "relationships",
         "offsetgroup": "relationships",
         "orientation": "v",
         "showlegend": true,
         "textposition": "auto",
         "type": "bar",
         "x": [
          "no4",
          "yes4"
         ],
         "xaxis": "x",
         "y": [
          19.69536900518941,
          16.979166666666668
         ],
         "yaxis": "y"
        },
        {
         "alignmentgroup": "True",
         "hovertemplate": "aims=unknown<br>y4n=%{x}<br>percent=%{y}<extra></extra>",
         "legendgroup": "unknown",
         "marker": {
          "color": "#ab63fa",
          "pattern": {
           "shape": ""
          }
         },
         "name": "unknown",
         "offsetgroup": "unknown",
         "orientation": "v",
         "showlegend": true,
         "textposition": "auto",
         "type": "bar",
         "x": [
          "no4",
          "yes4"
         ],
         "xaxis": "x",
         "y": [
          17.30731276919326,
          55.62083333333333
         ],
         "yaxis": "y"
        },
        {
         "alignmentgroup": "True",
         "hovertemplate": "aims=friendy<br>y4n=%{x}<br>percent=%{y}<extra></extra>",
         "legendgroup": "friendy",
         "marker": {
          "color": "#FFA15A",
          "pattern": {
           "shape": ""
          }
         },
         "name": "friendy",
         "offsetgroup": "friendy",
         "orientation": "v",
         "showlegend": true,
         "textposition": "auto",
         "type": "bar",
         "x": [
          "no4",
          "yes4"
         ],
         "xaxis": "x",
         "y": [
          5.383284767289318,
          1.36875
         ],
         "yaxis": "y"
        },
        {
         "alignmentgroup": "True",
         "hovertemplate": "aims=family-person<br>y4n=%{x}<br>percent=%{y}<extra></extra>",
         "legendgroup": "family-person",
         "marker": {
          "color": "#19d3f3",
          "pattern": {
           "shape": ""
          }
         },
         "name": "family-person",
         "offsetgroup": "family-person",
         "orientation": "v",
         "showlegend": true,
         "textposition": "auto",
         "type": "bar",
         "x": [
          "no4",
          "yes4"
         ],
         "xaxis": "x",
         "y": [
          0.8045323148008406,
          0.2375
         ],
         "yaxis": "y"
        },
        {
         "alignmentgroup": "True",
         "hovertemplate": "aims=занятия спортом<br>y4n=%{x}<br>percent=%{y}<extra></extra>",
         "legendgroup": "занятия спортом",
         "marker": {
          "color": "#FF6692",
          "pattern": {
           "shape": ""
          }
         },
         "name": "занятия спортом",
         "offsetgroup": "занятия спортом",
         "orientation": "v",
         "showlegend": true,
         "textposition": "auto",
         "type": "bar",
         "x": [
          "no4",
          "yes4"
         ],
         "xaxis": "x",
         "y": [
          0.05108141681275178,
          0.020833333333333336
         ],
         "yaxis": "y"
        }
       ],
       "layout": {
        "barmode": "group",
        "legend": {
         "title": {
          "text": "aims"
         },
         "tracegroupgap": 0
        },
        "template": {
         "data": {
          "bar": [
           {
            "error_x": {
             "color": "#2a3f5f"
            },
            "error_y": {
             "color": "#2a3f5f"
            },
            "marker": {
             "line": {
              "color": "#E5ECF6",
              "width": 0.5
             },
             "pattern": {
              "fillmode": "overlay",
              "size": 10,
              "solidity": 0.2
             }
            },
            "type": "bar"
           }
          ],
          "barpolar": [
           {
            "marker": {
             "line": {
              "color": "#E5ECF6",
              "width": 0.5
             },
             "pattern": {
              "fillmode": "overlay",
              "size": 10,
              "solidity": 0.2
             }
            },
            "type": "barpolar"
           }
          ],
          "carpet": [
           {
            "aaxis": {
             "endlinecolor": "#2a3f5f",
             "gridcolor": "white",
             "linecolor": "white",
             "minorgridcolor": "white",
             "startlinecolor": "#2a3f5f"
            },
            "baxis": {
             "endlinecolor": "#2a3f5f",
             "gridcolor": "white",
             "linecolor": "white",
             "minorgridcolor": "white",
             "startlinecolor": "#2a3f5f"
            },
            "type": "carpet"
           }
          ],
          "choropleth": [
           {
            "colorbar": {
             "outlinewidth": 0,
             "ticks": ""
            },
            "type": "choropleth"
           }
          ],
          "contour": [
           {
            "colorbar": {
             "outlinewidth": 0,
             "ticks": ""
            },
            "colorscale": [
             [
              0,
              "#0d0887"
             ],
             [
              0.1111111111111111,
              "#46039f"
             ],
             [
              0.2222222222222222,
              "#7201a8"
             ],
             [
              0.3333333333333333,
              "#9c179e"
             ],
             [
              0.4444444444444444,
              "#bd3786"
             ],
             [
              0.5555555555555556,
              "#d8576b"
             ],
             [
              0.6666666666666666,
              "#ed7953"
             ],
             [
              0.7777777777777778,
              "#fb9f3a"
             ],
             [
              0.8888888888888888,
              "#fdca26"
             ],
             [
              1,
              "#f0f921"
             ]
            ],
            "type": "contour"
           }
          ],
          "contourcarpet": [
           {
            "colorbar": {
             "outlinewidth": 0,
             "ticks": ""
            },
            "type": "contourcarpet"
           }
          ],
          "heatmap": [
           {
            "colorbar": {
             "outlinewidth": 0,
             "ticks": ""
            },
            "colorscale": [
             [
              0,
              "#0d0887"
             ],
             [
              0.1111111111111111,
              "#46039f"
             ],
             [
              0.2222222222222222,
              "#7201a8"
             ],
             [
              0.3333333333333333,
              "#9c179e"
             ],
             [
              0.4444444444444444,
              "#bd3786"
             ],
             [
              0.5555555555555556,
              "#d8576b"
             ],
             [
              0.6666666666666666,
              "#ed7953"
             ],
             [
              0.7777777777777778,
              "#fb9f3a"
             ],
             [
              0.8888888888888888,
              "#fdca26"
             ],
             [
              1,
              "#f0f921"
             ]
            ],
            "type": "heatmap"
           }
          ],
          "heatmapgl": [
           {
            "colorbar": {
             "outlinewidth": 0,
             "ticks": ""
            },
            "colorscale": [
             [
              0,
              "#0d0887"
             ],
             [
              0.1111111111111111,
              "#46039f"
             ],
             [
              0.2222222222222222,
              "#7201a8"
             ],
             [
              0.3333333333333333,
              "#9c179e"
             ],
             [
              0.4444444444444444,
              "#bd3786"
             ],
             [
              0.5555555555555556,
              "#d8576b"
             ],
             [
              0.6666666666666666,
              "#ed7953"
             ],
             [
              0.7777777777777778,
              "#fb9f3a"
             ],
             [
              0.8888888888888888,
              "#fdca26"
             ],
             [
              1,
              "#f0f921"
             ]
            ],
            "type": "heatmapgl"
           }
          ],
          "histogram": [
           {
            "marker": {
             "pattern": {
              "fillmode": "overlay",
              "size": 10,
              "solidity": 0.2
             }
            },
            "type": "histogram"
           }
          ],
          "histogram2d": [
           {
            "colorbar": {
             "outlinewidth": 0,
             "ticks": ""
            },
            "colorscale": [
             [
              0,
              "#0d0887"
             ],
             [
              0.1111111111111111,
              "#46039f"
             ],
             [
              0.2222222222222222,
              "#7201a8"
             ],
             [
              0.3333333333333333,
              "#9c179e"
             ],
             [
              0.4444444444444444,
              "#bd3786"
             ],
             [
              0.5555555555555556,
              "#d8576b"
             ],
             [
              0.6666666666666666,
              "#ed7953"
             ],
             [
              0.7777777777777778,
              "#fb9f3a"
             ],
             [
              0.8888888888888888,
              "#fdca26"
             ],
             [
              1,
              "#f0f921"
             ]
            ],
            "type": "histogram2d"
           }
          ],
          "histogram2dcontour": [
           {
            "colorbar": {
             "outlinewidth": 0,
             "ticks": ""
            },
            "colorscale": [
             [
              0,
              "#0d0887"
             ],
             [
              0.1111111111111111,
              "#46039f"
             ],
             [
              0.2222222222222222,
              "#7201a8"
             ],
             [
              0.3333333333333333,
              "#9c179e"
             ],
             [
              0.4444444444444444,
              "#bd3786"
             ],
             [
              0.5555555555555556,
              "#d8576b"
             ],
             [
              0.6666666666666666,
              "#ed7953"
             ],
             [
              0.7777777777777778,
              "#fb9f3a"
             ],
             [
              0.8888888888888888,
              "#fdca26"
             ],
             [
              1,
              "#f0f921"
             ]
            ],
            "type": "histogram2dcontour"
           }
          ],
          "mesh3d": [
           {
            "colorbar": {
             "outlinewidth": 0,
             "ticks": ""
            },
            "type": "mesh3d"
           }
          ],
          "parcoords": [
           {
            "line": {
             "colorbar": {
              "outlinewidth": 0,
              "ticks": ""
             }
            },
            "type": "parcoords"
           }
          ],
          "pie": [
           {
            "automargin": true,
            "type": "pie"
           }
          ],
          "scatter": [
           {
            "fillpattern": {
             "fillmode": "overlay",
             "size": 10,
             "solidity": 0.2
            },
            "type": "scatter"
           }
          ],
          "scatter3d": [
           {
            "line": {
             "colorbar": {
              "outlinewidth": 0,
              "ticks": ""
             }
            },
            "marker": {
             "colorbar": {
              "outlinewidth": 0,
              "ticks": ""
             }
            },
            "type": "scatter3d"
           }
          ],
          "scattercarpet": [
           {
            "marker": {
             "colorbar": {
              "outlinewidth": 0,
              "ticks": ""
             }
            },
            "type": "scattercarpet"
           }
          ],
          "scattergeo": [
           {
            "marker": {
             "colorbar": {
              "outlinewidth": 0,
              "ticks": ""
             }
            },
            "type": "scattergeo"
           }
          ],
          "scattergl": [
           {
            "marker": {
             "colorbar": {
              "outlinewidth": 0,
              "ticks": ""
             }
            },
            "type": "scattergl"
           }
          ],
          "scattermapbox": [
           {
            "marker": {
             "colorbar": {
              "outlinewidth": 0,
              "ticks": ""
             }
            },
            "type": "scattermapbox"
           }
          ],
          "scatterpolar": [
           {
            "marker": {
             "colorbar": {
              "outlinewidth": 0,
              "ticks": ""
             }
            },
            "type": "scatterpolar"
           }
          ],
          "scatterpolargl": [
           {
            "marker": {
             "colorbar": {
              "outlinewidth": 0,
              "ticks": ""
             }
            },
            "type": "scatterpolargl"
           }
          ],
          "scatterternary": [
           {
            "marker": {
             "colorbar": {
              "outlinewidth": 0,
              "ticks": ""
             }
            },
            "type": "scatterternary"
           }
          ],
          "surface": [
           {
            "colorbar": {
             "outlinewidth": 0,
             "ticks": ""
            },
            "colorscale": [
             [
              0,
              "#0d0887"
             ],
             [
              0.1111111111111111,
              "#46039f"
             ],
             [
              0.2222222222222222,
              "#7201a8"
             ],
             [
              0.3333333333333333,
              "#9c179e"
             ],
             [
              0.4444444444444444,
              "#bd3786"
             ],
             [
              0.5555555555555556,
              "#d8576b"
             ],
             [
              0.6666666666666666,
              "#ed7953"
             ],
             [
              0.7777777777777778,
              "#fb9f3a"
             ],
             [
              0.8888888888888888,
              "#fdca26"
             ],
             [
              1,
              "#f0f921"
             ]
            ],
            "type": "surface"
           }
          ],
          "table": [
           {
            "cells": {
             "fill": {
              "color": "#EBF0F8"
             },
             "line": {
              "color": "white"
             }
            },
            "header": {
             "fill": {
              "color": "#C8D4E3"
             },
             "line": {
              "color": "white"
             }
            },
            "type": "table"
           }
          ]
         },
         "layout": {
          "annotationdefaults": {
           "arrowcolor": "#2a3f5f",
           "arrowhead": 0,
           "arrowwidth": 1
          },
          "autotypenumbers": "strict",
          "coloraxis": {
           "colorbar": {
            "outlinewidth": 0,
            "ticks": ""
           }
          },
          "colorscale": {
           "diverging": [
            [
             0,
             "#8e0152"
            ],
            [
             0.1,
             "#c51b7d"
            ],
            [
             0.2,
             "#de77ae"
            ],
            [
             0.3,
             "#f1b6da"
            ],
            [
             0.4,
             "#fde0ef"
            ],
            [
             0.5,
             "#f7f7f7"
            ],
            [
             0.6,
             "#e6f5d0"
            ],
            [
             0.7,
             "#b8e186"
            ],
            [
             0.8,
             "#7fbc41"
            ],
            [
             0.9,
             "#4d9221"
            ],
            [
             1,
             "#276419"
            ]
           ],
           "sequential": [
            [
             0,
             "#0d0887"
            ],
            [
             0.1111111111111111,
             "#46039f"
            ],
            [
             0.2222222222222222,
             "#7201a8"
            ],
            [
             0.3333333333333333,
             "#9c179e"
            ],
            [
             0.4444444444444444,
             "#bd3786"
            ],
            [
             0.5555555555555556,
             "#d8576b"
            ],
            [
             0.6666666666666666,
             "#ed7953"
            ],
            [
             0.7777777777777778,
             "#fb9f3a"
            ],
            [
             0.8888888888888888,
             "#fdca26"
            ],
            [
             1,
             "#f0f921"
            ]
           ],
           "sequentialminus": [
            [
             0,
             "#0d0887"
            ],
            [
             0.1111111111111111,
             "#46039f"
            ],
            [
             0.2222222222222222,
             "#7201a8"
            ],
            [
             0.3333333333333333,
             "#9c179e"
            ],
            [
             0.4444444444444444,
             "#bd3786"
            ],
            [
             0.5555555555555556,
             "#d8576b"
            ],
            [
             0.6666666666666666,
             "#ed7953"
            ],
            [
             0.7777777777777778,
             "#fb9f3a"
            ],
            [
             0.8888888888888888,
             "#fdca26"
            ],
            [
             1,
             "#f0f921"
            ]
           ]
          },
          "colorway": [
           "#636efa",
           "#EF553B",
           "#00cc96",
           "#ab63fa",
           "#FFA15A",
           "#19d3f3",
           "#FF6692",
           "#B6E880",
           "#FF97FF",
           "#FECB52"
          ],
          "font": {
           "color": "#2a3f5f"
          },
          "geo": {
           "bgcolor": "white",
           "lakecolor": "white",
           "landcolor": "#E5ECF6",
           "showlakes": true,
           "showland": true,
           "subunitcolor": "white"
          },
          "hoverlabel": {
           "align": "left"
          },
          "hovermode": "closest",
          "mapbox": {
           "style": "light"
          },
          "paper_bgcolor": "white",
          "plot_bgcolor": "#E5ECF6",
          "polar": {
           "angularaxis": {
            "gridcolor": "white",
            "linecolor": "white",
            "ticks": ""
           },
           "bgcolor": "#E5ECF6",
           "radialaxis": {
            "gridcolor": "white",
            "linecolor": "white",
            "ticks": ""
           }
          },
          "scene": {
           "xaxis": {
            "backgroundcolor": "#E5ECF6",
            "gridcolor": "white",
            "gridwidth": 2,
            "linecolor": "white",
            "showbackground": true,
            "ticks": "",
            "zerolinecolor": "white"
           },
           "yaxis": {
            "backgroundcolor": "#E5ECF6",
            "gridcolor": "white",
            "gridwidth": 2,
            "linecolor": "white",
            "showbackground": true,
            "ticks": "",
            "zerolinecolor": "white"
           },
           "zaxis": {
            "backgroundcolor": "#E5ECF6",
            "gridcolor": "white",
            "gridwidth": 2,
            "linecolor": "white",
            "showbackground": true,
            "ticks": "",
            "zerolinecolor": "white"
           }
          },
          "shapedefaults": {
           "line": {
            "color": "#2a3f5f"
           }
          },
          "ternary": {
           "aaxis": {
            "gridcolor": "white",
            "linecolor": "white",
            "ticks": ""
           },
           "baxis": {
            "gridcolor": "white",
            "linecolor": "white",
            "ticks": ""
           },
           "bgcolor": "#E5ECF6",
           "caxis": {
            "gridcolor": "white",
            "linecolor": "white",
            "ticks": ""
           }
          },
          "title": {
           "x": 0.05
          },
          "xaxis": {
           "automargin": true,
           "gridcolor": "white",
           "linecolor": "white",
           "ticks": "",
           "title": {
            "standoff": 15
           },
           "zerolinecolor": "white",
           "zerolinewidth": 2
          },
          "yaxis": {
           "automargin": true,
           "gridcolor": "white",
           "linecolor": "white",
           "ticks": "",
           "title": {
            "standoff": 15
           },
           "zerolinecolor": "white",
           "zerolinewidth": 2
          }
         }
        },
        "title": {
         "text": "Distribution of aims among groups to chose 4years-range of partner and not"
        },
        "xaxis": {
         "anchor": "y",
         "domain": [
          0,
          1
         ],
         "title": {
          "text": "y4n"
         }
        },
        "yaxis": {
         "anchor": "x",
         "domain": [
          0,
          1
         ],
         "title": {
          "text": "percent"
         }
        }
       }
      },
      "text/html": [
       "<div>                            <div id=\"9c1fb069-deab-4626-b128-b8d1a7e8d177\" class=\"plotly-graph-div\" style=\"height:525px; width:100%;\"></div>            <script type=\"text/javascript\">                require([\"plotly\"], function(Plotly) {                    window.PLOTLYENV=window.PLOTLYENV || {};                                    if (document.getElementById(\"9c1fb069-deab-4626-b128-b8d1a7e8d177\")) {                    Plotly.newPlot(                        \"9c1fb069-deab-4626-b128-b8d1a7e8d177\",                        [{\"alignmentgroup\":\"True\",\"hovertemplate\":\"aims=unsure<br>y4n=%{x}<br>percent=%{y}<extra></extra>\",\"legendgroup\":\"unsure\",\"marker\":{\"color\":\"#636efa\",\"pattern\":{\"shape\":\"\"}},\"name\":\"unsure\",\"offsetgroup\":\"unsure\",\"orientation\":\"v\",\"showlegend\":true,\"textposition\":\"auto\",\"x\":[\"no4\",\"yes4\"],\"xaxis\":\"x\",\"y\":[31.316391330090436,5.621875],\"yaxis\":\"y\",\"type\":\"bar\"},{\"alignmentgroup\":\"True\",\"hovertemplate\":\"aims=casual<br>y4n=%{x}<br>percent=%{y}<extra></extra>\",\"legendgroup\":\"casual\",\"marker\":{\"color\":\"#EF553B\",\"pattern\":{\"shape\":\"\"}},\"name\":\"casual\",\"offsetgroup\":\"casual\",\"orientation\":\"v\",\"showlegend\":true,\"textposition\":\"auto\",\"x\":[\"no4\",\"yes4\"],\"xaxis\":\"x\",\"y\":[24.37628429130339,19.898958333333333],\"yaxis\":\"y\",\"type\":\"bar\"},{\"alignmentgroup\":\"True\",\"hovertemplate\":\"aims=relationships<br>y4n=%{x}<br>percent=%{y}<extra></extra>\",\"legendgroup\":\"relationships\",\"marker\":{\"color\":\"#00cc96\",\"pattern\":{\"shape\":\"\"}},\"name\":\"relationships\",\"offsetgroup\":\"relationships\",\"orientation\":\"v\",\"showlegend\":true,\"textposition\":\"auto\",\"x\":[\"no4\",\"yes4\"],\"xaxis\":\"x\",\"y\":[19.69536900518941,16.979166666666668],\"yaxis\":\"y\",\"type\":\"bar\"},{\"alignmentgroup\":\"True\",\"hovertemplate\":\"aims=unknown<br>y4n=%{x}<br>percent=%{y}<extra></extra>\",\"legendgroup\":\"unknown\",\"marker\":{\"color\":\"#ab63fa\",\"pattern\":{\"shape\":\"\"}},\"name\":\"unknown\",\"offsetgroup\":\"unknown\",\"orientation\":\"v\",\"showlegend\":true,\"textposition\":\"auto\",\"x\":[\"no4\",\"yes4\"],\"xaxis\":\"x\",\"y\":[17.30731276919326,55.62083333333333],\"yaxis\":\"y\",\"type\":\"bar\"},{\"alignmentgroup\":\"True\",\"hovertemplate\":\"aims=friendy<br>y4n=%{x}<br>percent=%{y}<extra></extra>\",\"legendgroup\":\"friendy\",\"marker\":{\"color\":\"#FFA15A\",\"pattern\":{\"shape\":\"\"}},\"name\":\"friendy\",\"offsetgroup\":\"friendy\",\"orientation\":\"v\",\"showlegend\":true,\"textposition\":\"auto\",\"x\":[\"no4\",\"yes4\"],\"xaxis\":\"x\",\"y\":[5.383284767289318,1.36875],\"yaxis\":\"y\",\"type\":\"bar\"},{\"alignmentgroup\":\"True\",\"hovertemplate\":\"aims=family-person<br>y4n=%{x}<br>percent=%{y}<extra></extra>\",\"legendgroup\":\"family-person\",\"marker\":{\"color\":\"#19d3f3\",\"pattern\":{\"shape\":\"\"}},\"name\":\"family-person\",\"offsetgroup\":\"family-person\",\"orientation\":\"v\",\"showlegend\":true,\"textposition\":\"auto\",\"x\":[\"no4\",\"yes4\"],\"xaxis\":\"x\",\"y\":[0.8045323148008406,0.2375],\"yaxis\":\"y\",\"type\":\"bar\"},{\"alignmentgroup\":\"True\",\"hovertemplate\":\"aims=\\u0437\\u0430\\u043d\\u044f\\u0442\\u0438\\u044f \\u0441\\u043f\\u043e\\u0440\\u0442\\u043e\\u043c<br>y4n=%{x}<br>percent=%{y}<extra></extra>\",\"legendgroup\":\"\\u0437\\u0430\\u043d\\u044f\\u0442\\u0438\\u044f \\u0441\\u043f\\u043e\\u0440\\u0442\\u043e\\u043c\",\"marker\":{\"color\":\"#FF6692\",\"pattern\":{\"shape\":\"\"}},\"name\":\"\\u0437\\u0430\\u043d\\u044f\\u0442\\u0438\\u044f \\u0441\\u043f\\u043e\\u0440\\u0442\\u043e\\u043c\",\"offsetgroup\":\"\\u0437\\u0430\\u043d\\u044f\\u0442\\u0438\\u044f \\u0441\\u043f\\u043e\\u0440\\u0442\\u043e\\u043c\",\"orientation\":\"v\",\"showlegend\":true,\"textposition\":\"auto\",\"x\":[\"no4\",\"yes4\"],\"xaxis\":\"x\",\"y\":[0.05108141681275178,0.020833333333333336],\"yaxis\":\"y\",\"type\":\"bar\"}],                        {\"template\":{\"data\":{\"histogram2dcontour\":[{\"type\":\"histogram2dcontour\",\"colorbar\":{\"outlinewidth\":0,\"ticks\":\"\"},\"colorscale\":[[0.0,\"#0d0887\"],[0.1111111111111111,\"#46039f\"],[0.2222222222222222,\"#7201a8\"],[0.3333333333333333,\"#9c179e\"],[0.4444444444444444,\"#bd3786\"],[0.5555555555555556,\"#d8576b\"],[0.6666666666666666,\"#ed7953\"],[0.7777777777777778,\"#fb9f3a\"],[0.8888888888888888,\"#fdca26\"],[1.0,\"#f0f921\"]]}],\"choropleth\":[{\"type\":\"choropleth\",\"colorbar\":{\"outlinewidth\":0,\"ticks\":\"\"}}],\"histogram2d\":[{\"type\":\"histogram2d\",\"colorbar\":{\"outlinewidth\":0,\"ticks\":\"\"},\"colorscale\":[[0.0,\"#0d0887\"],[0.1111111111111111,\"#46039f\"],[0.2222222222222222,\"#7201a8\"],[0.3333333333333333,\"#9c179e\"],[0.4444444444444444,\"#bd3786\"],[0.5555555555555556,\"#d8576b\"],[0.6666666666666666,\"#ed7953\"],[0.7777777777777778,\"#fb9f3a\"],[0.8888888888888888,\"#fdca26\"],[1.0,\"#f0f921\"]]}],\"heatmap\":[{\"type\":\"heatmap\",\"colorbar\":{\"outlinewidth\":0,\"ticks\":\"\"},\"colorscale\":[[0.0,\"#0d0887\"],[0.1111111111111111,\"#46039f\"],[0.2222222222222222,\"#7201a8\"],[0.3333333333333333,\"#9c179e\"],[0.4444444444444444,\"#bd3786\"],[0.5555555555555556,\"#d8576b\"],[0.6666666666666666,\"#ed7953\"],[0.7777777777777778,\"#fb9f3a\"],[0.8888888888888888,\"#fdca26\"],[1.0,\"#f0f921\"]]}],\"heatmapgl\":[{\"type\":\"heatmapgl\",\"colorbar\":{\"outlinewidth\":0,\"ticks\":\"\"},\"colorscale\":[[0.0,\"#0d0887\"],[0.1111111111111111,\"#46039f\"],[0.2222222222222222,\"#7201a8\"],[0.3333333333333333,\"#9c179e\"],[0.4444444444444444,\"#bd3786\"],[0.5555555555555556,\"#d8576b\"],[0.6666666666666666,\"#ed7953\"],[0.7777777777777778,\"#fb9f3a\"],[0.8888888888888888,\"#fdca26\"],[1.0,\"#f0f921\"]]}],\"contourcarpet\":[{\"type\":\"contourcarpet\",\"colorbar\":{\"outlinewidth\":0,\"ticks\":\"\"}}],\"contour\":[{\"type\":\"contour\",\"colorbar\":{\"outlinewidth\":0,\"ticks\":\"\"},\"colorscale\":[[0.0,\"#0d0887\"],[0.1111111111111111,\"#46039f\"],[0.2222222222222222,\"#7201a8\"],[0.3333333333333333,\"#9c179e\"],[0.4444444444444444,\"#bd3786\"],[0.5555555555555556,\"#d8576b\"],[0.6666666666666666,\"#ed7953\"],[0.7777777777777778,\"#fb9f3a\"],[0.8888888888888888,\"#fdca26\"],[1.0,\"#f0f921\"]]}],\"surface\":[{\"type\":\"surface\",\"colorbar\":{\"outlinewidth\":0,\"ticks\":\"\"},\"colorscale\":[[0.0,\"#0d0887\"],[0.1111111111111111,\"#46039f\"],[0.2222222222222222,\"#7201a8\"],[0.3333333333333333,\"#9c179e\"],[0.4444444444444444,\"#bd3786\"],[0.5555555555555556,\"#d8576b\"],[0.6666666666666666,\"#ed7953\"],[0.7777777777777778,\"#fb9f3a\"],[0.8888888888888888,\"#fdca26\"],[1.0,\"#f0f921\"]]}],\"mesh3d\":[{\"type\":\"mesh3d\",\"colorbar\":{\"outlinewidth\":0,\"ticks\":\"\"}}],\"scatter\":[{\"fillpattern\":{\"fillmode\":\"overlay\",\"size\":10,\"solidity\":0.2},\"type\":\"scatter\"}],\"parcoords\":[{\"type\":\"parcoords\",\"line\":{\"colorbar\":{\"outlinewidth\":0,\"ticks\":\"\"}}}],\"scatterpolargl\":[{\"type\":\"scatterpolargl\",\"marker\":{\"colorbar\":{\"outlinewidth\":0,\"ticks\":\"\"}}}],\"bar\":[{\"error_x\":{\"color\":\"#2a3f5f\"},\"error_y\":{\"color\":\"#2a3f5f\"},\"marker\":{\"line\":{\"color\":\"#E5ECF6\",\"width\":0.5},\"pattern\":{\"fillmode\":\"overlay\",\"size\":10,\"solidity\":0.2}},\"type\":\"bar\"}],\"scattergeo\":[{\"type\":\"scattergeo\",\"marker\":{\"colorbar\":{\"outlinewidth\":0,\"ticks\":\"\"}}}],\"scatterpolar\":[{\"type\":\"scatterpolar\",\"marker\":{\"colorbar\":{\"outlinewidth\":0,\"ticks\":\"\"}}}],\"histogram\":[{\"marker\":{\"pattern\":{\"fillmode\":\"overlay\",\"size\":10,\"solidity\":0.2}},\"type\":\"histogram\"}],\"scattergl\":[{\"type\":\"scattergl\",\"marker\":{\"colorbar\":{\"outlinewidth\":0,\"ticks\":\"\"}}}],\"scatter3d\":[{\"type\":\"scatter3d\",\"line\":{\"colorbar\":{\"outlinewidth\":0,\"ticks\":\"\"}},\"marker\":{\"colorbar\":{\"outlinewidth\":0,\"ticks\":\"\"}}}],\"scattermapbox\":[{\"type\":\"scattermapbox\",\"marker\":{\"colorbar\":{\"outlinewidth\":0,\"ticks\":\"\"}}}],\"scatterternary\":[{\"type\":\"scatterternary\",\"marker\":{\"colorbar\":{\"outlinewidth\":0,\"ticks\":\"\"}}}],\"scattercarpet\":[{\"type\":\"scattercarpet\",\"marker\":{\"colorbar\":{\"outlinewidth\":0,\"ticks\":\"\"}}}],\"carpet\":[{\"aaxis\":{\"endlinecolor\":\"#2a3f5f\",\"gridcolor\":\"white\",\"linecolor\":\"white\",\"minorgridcolor\":\"white\",\"startlinecolor\":\"#2a3f5f\"},\"baxis\":{\"endlinecolor\":\"#2a3f5f\",\"gridcolor\":\"white\",\"linecolor\":\"white\",\"minorgridcolor\":\"white\",\"startlinecolor\":\"#2a3f5f\"},\"type\":\"carpet\"}],\"table\":[{\"cells\":{\"fill\":{\"color\":\"#EBF0F8\"},\"line\":{\"color\":\"white\"}},\"header\":{\"fill\":{\"color\":\"#C8D4E3\"},\"line\":{\"color\":\"white\"}},\"type\":\"table\"}],\"barpolar\":[{\"marker\":{\"line\":{\"color\":\"#E5ECF6\",\"width\":0.5},\"pattern\":{\"fillmode\":\"overlay\",\"size\":10,\"solidity\":0.2}},\"type\":\"barpolar\"}],\"pie\":[{\"automargin\":true,\"type\":\"pie\"}]},\"layout\":{\"autotypenumbers\":\"strict\",\"colorway\":[\"#636efa\",\"#EF553B\",\"#00cc96\",\"#ab63fa\",\"#FFA15A\",\"#19d3f3\",\"#FF6692\",\"#B6E880\",\"#FF97FF\",\"#FECB52\"],\"font\":{\"color\":\"#2a3f5f\"},\"hovermode\":\"closest\",\"hoverlabel\":{\"align\":\"left\"},\"paper_bgcolor\":\"white\",\"plot_bgcolor\":\"#E5ECF6\",\"polar\":{\"bgcolor\":\"#E5ECF6\",\"angularaxis\":{\"gridcolor\":\"white\",\"linecolor\":\"white\",\"ticks\":\"\"},\"radialaxis\":{\"gridcolor\":\"white\",\"linecolor\":\"white\",\"ticks\":\"\"}},\"ternary\":{\"bgcolor\":\"#E5ECF6\",\"aaxis\":{\"gridcolor\":\"white\",\"linecolor\":\"white\",\"ticks\":\"\"},\"baxis\":{\"gridcolor\":\"white\",\"linecolor\":\"white\",\"ticks\":\"\"},\"caxis\":{\"gridcolor\":\"white\",\"linecolor\":\"white\",\"ticks\":\"\"}},\"coloraxis\":{\"colorbar\":{\"outlinewidth\":0,\"ticks\":\"\"}},\"colorscale\":{\"sequential\":[[0.0,\"#0d0887\"],[0.1111111111111111,\"#46039f\"],[0.2222222222222222,\"#7201a8\"],[0.3333333333333333,\"#9c179e\"],[0.4444444444444444,\"#bd3786\"],[0.5555555555555556,\"#d8576b\"],[0.6666666666666666,\"#ed7953\"],[0.7777777777777778,\"#fb9f3a\"],[0.8888888888888888,\"#fdca26\"],[1.0,\"#f0f921\"]],\"sequentialminus\":[[0.0,\"#0d0887\"],[0.1111111111111111,\"#46039f\"],[0.2222222222222222,\"#7201a8\"],[0.3333333333333333,\"#9c179e\"],[0.4444444444444444,\"#bd3786\"],[0.5555555555555556,\"#d8576b\"],[0.6666666666666666,\"#ed7953\"],[0.7777777777777778,\"#fb9f3a\"],[0.8888888888888888,\"#fdca26\"],[1.0,\"#f0f921\"]],\"diverging\":[[0,\"#8e0152\"],[0.1,\"#c51b7d\"],[0.2,\"#de77ae\"],[0.3,\"#f1b6da\"],[0.4,\"#fde0ef\"],[0.5,\"#f7f7f7\"],[0.6,\"#e6f5d0\"],[0.7,\"#b8e186\"],[0.8,\"#7fbc41\"],[0.9,\"#4d9221\"],[1,\"#276419\"]]},\"xaxis\":{\"gridcolor\":\"white\",\"linecolor\":\"white\",\"ticks\":\"\",\"title\":{\"standoff\":15},\"zerolinecolor\":\"white\",\"automargin\":true,\"zerolinewidth\":2},\"yaxis\":{\"gridcolor\":\"white\",\"linecolor\":\"white\",\"ticks\":\"\",\"title\":{\"standoff\":15},\"zerolinecolor\":\"white\",\"automargin\":true,\"zerolinewidth\":2},\"scene\":{\"xaxis\":{\"backgroundcolor\":\"#E5ECF6\",\"gridcolor\":\"white\",\"linecolor\":\"white\",\"showbackground\":true,\"ticks\":\"\",\"zerolinecolor\":\"white\",\"gridwidth\":2},\"yaxis\":{\"backgroundcolor\":\"#E5ECF6\",\"gridcolor\":\"white\",\"linecolor\":\"white\",\"showbackground\":true,\"ticks\":\"\",\"zerolinecolor\":\"white\",\"gridwidth\":2},\"zaxis\":{\"backgroundcolor\":\"#E5ECF6\",\"gridcolor\":\"white\",\"linecolor\":\"white\",\"showbackground\":true,\"ticks\":\"\",\"zerolinecolor\":\"white\",\"gridwidth\":2}},\"shapedefaults\":{\"line\":{\"color\":\"#2a3f5f\"}},\"annotationdefaults\":{\"arrowcolor\":\"#2a3f5f\",\"arrowhead\":0,\"arrowwidth\":1},\"geo\":{\"bgcolor\":\"white\",\"landcolor\":\"#E5ECF6\",\"subunitcolor\":\"white\",\"showland\":true,\"showlakes\":true,\"lakecolor\":\"white\"},\"title\":{\"x\":0.05},\"mapbox\":{\"style\":\"light\"}}},\"xaxis\":{\"anchor\":\"y\",\"domain\":[0.0,1.0],\"title\":{\"text\":\"y4n\"}},\"yaxis\":{\"anchor\":\"x\",\"domain\":[0.0,1.0],\"title\":{\"text\":\"percent\"}},\"legend\":{\"title\":{\"text\":\"aims\"},\"tracegroupgap\":0},\"title\":{\"text\":\"Distribution of aims among groups to chose 4years-range of partner and not\"},\"barmode\":\"group\"},                        {\"responsive\": true}                    ).then(function(){\n",
       "                            \n",
       "var gd = document.getElementById('9c1fb069-deab-4626-b128-b8d1a7e8d177');\n",
       "var x = new MutationObserver(function (mutations, observer) {{\n",
       "        var display = window.getComputedStyle(gd).display;\n",
       "        if (!display || display === 'none') {{\n",
       "            console.log([gd, 'removed!']);\n",
       "            Plotly.purge(gd);\n",
       "            observer.disconnect();\n",
       "        }}\n",
       "}});\n",
       "\n",
       "// Listen for the removal of the full notebook cells\n",
       "var notebookContainer = gd.closest('#notebook-container');\n",
       "if (notebookContainer) {{\n",
       "    x.observe(notebookContainer, {childList: true});\n",
       "}}\n",
       "\n",
       "// Listen for the clearing of the current output cell\n",
       "var outputEl = gd.closest('.output');\n",
       "if (outputEl) {{\n",
       "    x.observe(outputEl, {childList: true});\n",
       "}}\n",
       "\n",
       "                        })                };                });            </script>        </div>"
      ]
     },
     "metadata": {},
     "output_type": "display_data"
    }
   ],
   "source": [
    "all_aims = aims1.append(aims2)\n",
    "fig = px.bar(all_aims, x=\"y4n\", y=\"percent\",\n",
    "             color='aims', barmode='group', title='Distribution of aims among groups to chose 4years-range of partner and not'\n",
    "             )\n",
    "fig.show()"
   ]
  },
  {
   "cell_type": "code",
   "execution_count": 62,
   "metadata": {},
   "outputs": [
    {
     "data": {
      "text/html": [
       "<div>\n",
       "<style scoped>\n",
       "    .dataframe tbody tr th:only-of-type {\n",
       "        vertical-align: middle;\n",
       "    }\n",
       "\n",
       "    .dataframe tbody tr th {\n",
       "        vertical-align: top;\n",
       "    }\n",
       "\n",
       "    .dataframe thead th {\n",
       "        text-align: right;\n",
       "    }\n",
       "</style>\n",
       "<table border=\"1\" class=\"dataframe\">\n",
       "  <thead>\n",
       "    <tr style=\"text-align: right;\">\n",
       "      <th>aims</th>\n",
       "      <th>casual</th>\n",
       "      <th>family-person</th>\n",
       "      <th>friendy</th>\n",
       "      <th>relationships</th>\n",
       "      <th>unknown</th>\n",
       "      <th>unsure</th>\n",
       "      <th>занятия спортом</th>\n",
       "      <th>total</th>\n",
       "    </tr>\n",
       "  </thead>\n",
       "  <tbody>\n",
       "    <tr>\n",
       "      <th>no4</th>\n",
       "      <td>20997</td>\n",
       "      <td>693</td>\n",
       "      <td>4637</td>\n",
       "      <td>16965</td>\n",
       "      <td>14908</td>\n",
       "      <td>26975</td>\n",
       "      <td>44</td>\n",
       "      <td>85219</td>\n",
       "    </tr>\n",
       "    <tr>\n",
       "      <th>yes4</th>\n",
       "      <td>18949</td>\n",
       "      <td>223</td>\n",
       "      <td>1245</td>\n",
       "      <td>16336</td>\n",
       "      <td>53671</td>\n",
       "      <td>5325</td>\n",
       "      <td>21</td>\n",
       "      <td>95770</td>\n",
       "    </tr>\n",
       "    <tr>\n",
       "      <th>0</th>\n",
       "      <td>39946</td>\n",
       "      <td>916</td>\n",
       "      <td>5882</td>\n",
       "      <td>33301</td>\n",
       "      <td>68579</td>\n",
       "      <td>32300</td>\n",
       "      <td>65</td>\n",
       "      <td>180989</td>\n",
       "    </tr>\n",
       "  </tbody>\n",
       "</table>\n",
       "</div>"
      ],
      "text/plain": [
       "aims  casual  family-person  friendy  relationships  unknown  unsure  \\\n",
       "no4    20997            693     4637          16965    14908   26975   \n",
       "yes4   18949            223     1245          16336    53671    5325   \n",
       "0      39946            916     5882          33301    68579   32300   \n",
       "\n",
       "aims  занятия спортом   total  \n",
       "no4                44   85219  \n",
       "yes4               21   95770  \n",
       "0                  65  180989  "
      ]
     },
     "execution_count": 62,
     "metadata": {},
     "output_type": "execute_result"
    }
   ],
   "source": [
    "aims4c = pd.Series(fouraim['simpleaim'].value_counts()[:7])\n",
    "aimsallc = pd.Series(nfouraim['simpleaim'].value_counts()[:7])\n",
    "aims1c = pd.DataFrame(data={'y4n' : 'no4', 'percent' : aimsallc.values, 'aims' : aimsallc.index})\n",
    "aims2c = pd.DataFrame(data={'y4n' : 'yes4', 'percent' : aims4c.values, 'aims' : aims4c.index})\n",
    "aimsc = aims1c.append(aims2c)\n",
    "aims_table = pd.pivot_table(data=aimsc, index='y4n', columns='aims', values='percent')\n",
    "aims_table['total'] = aims_table.sum(axis=1)\n",
    "aimst = aims_table.append(pd.DataFrame(aims_table.sum()).transpose())\n",
    "aimst"
   ]
  },
  {
   "cell_type": "code",
   "execution_count": 63,
   "metadata": {},
   "outputs": [
    {
     "data": {
      "text/plain": [
       "array([[1.88086468e+04, 4.31300267e+02, 2.76955040e+03, 1.56798364e+04,\n",
       "        3.22905469e+04, 1.52085138e+04, 3.06053683e+01],\n",
       "       [2.11373532e+04, 4.84699733e+02, 3.11244960e+03, 1.76211636e+04,\n",
       "        3.62884531e+04, 1.70914862e+04, 3.43946317e+01]])"
      ]
     },
     "metadata": {},
     "output_type": "display_data"
    },
    {
     "data": {
      "text/plain": [
       "Power_divergenceResult(statistic=38258.78719201496, pvalue=0.0)"
      ]
     },
     "execution_count": 63,
     "metadata": {},
     "output_type": "execute_result"
    }
   ],
   "source": [
    "expected = np.outer(aimst['total'][0:2], aimst.loc[0, ['casual', 'family-person', 'friendy', 'relationships', \n",
    "                                                         'unknown', 'unsure', 'занятия спортом']])/180989\n",
    "display(expected)\n",
    "\n",
    "expected = pd.DataFrame(expected)\n",
    "observed = aimst.iloc[0:2, 0:7]\n",
    "\n",
    "stats.chisquare(observed.values, expected.values, axis=None)"
   ]
  },
  {
   "cell_type": "markdown",
   "metadata": {},
   "source": [
    "### Какие есть закономерности в группах по детям, месту жительства/, городу, курению? "
   ]
  },
  {
   "cell_type": "code",
   "execution_count": 120,
   "metadata": {},
   "outputs": [
    {
     "data": {
      "text/plain": [
       "Index(['about', 'age', 'aim', 'children', 'city', 'edu', 'gender', 'height',\n",
       "       'intrestedin', 'language', 'live', 'partnerage', 'photocount', 'smoke',\n",
       "       'weight', 'id', 'count', 'range_partner_age', 'rangeAge', 'simpleaim',\n",
       "       'percent', 'start_age'],\n",
       "      dtype='object')"
      ]
     },
     "execution_count": 120,
     "metadata": {},
     "output_type": "execute_result"
    }
   ],
   "source": [
    "import pandas as pd\n",
    "import numpy as np \n",
    "import matplotlib.pyplot as plt\n",
    "import seaborn as sns \n",
    "import plotly.graph_objects as go\n",
    "import plotly.express as px\n",
    "import scipy.stats as stats\n",
    "\n",
    "mambadf = pd.read_csv('mamba18-45newColumns.csv')\n",
    "mambadf.columns"
   ]
  },
  {
   "cell_type": "code",
   "execution_count": 122,
   "metadata": {},
   "outputs": [
    {
     "data": {
      "text/plain": [
       "Москва             25214\n",
       "Санкт-Петербург    10236\n",
       "Самара              6290\n",
       "Краснодар           5767\n",
       "Новосибирск         5507\n",
       "Екатеринбург        4432\n",
       "Казань              4039\n",
       "Челябинск           3158\n",
       "Ростов-на-Дону      2944\n",
       "Нижний Новгород     2898\n",
       "Алматы              2648\n",
       "Минск               2564\n",
       "Конакри             2353\n",
       "Лагос               2300\n",
       "Ташкент             2264\n",
       "Киев                2246\n",
       "Воронеж             2157\n",
       "Омск                1925\n",
       "Стамбул             1537\n",
       "Уфа                 1509\n",
       "Пермь               1487\n",
       "Нур-Султан          1477\n",
       "Красноярск          1463\n",
       "Хабаровск           1367\n",
       "Волгоград           1325\n",
       "Саратов             1321\n",
       "Ставрополь          1285\n",
       "Бурсоль             1178\n",
       "Иркутск             1163\n",
       "Баку                1153\n",
       "Name: city, dtype: int64"
      ]
     },
     "execution_count": 122,
     "metadata": {},
     "output_type": "execute_result"
    }
   ],
   "source": [
    "mambadf.city.value_counts()[:30]"
   ]
  },
  {
   "cell_type": "markdown",
   "metadata": {},
   "source": [
    "#### О детях написали конкретно 25% людей. Какой у них возраст? Откуда они? Кто хочет детей?\n",
    "* интересно, что мужчины больше хотят детей, чем женщины; мужчины чуть ли не в 4 раза больше женщин живут порознь со своими детьми, а женщины чуть ли не в 8 раза больше живут со своими детьми. Ну и логично: дети обычно остаются с мамой. \n",
    "* дети есть пишут, начиная, в среднем, от 35 лет (закономерно тоже)"
   ]
  },
  {
   "cell_type": "code",
   "execution_count": 4,
   "metadata": {},
   "outputs": [
    {
     "data": {
      "text/plain": [
       "0.750819836074454"
      ]
     },
     "metadata": {},
     "output_type": "display_data"
    },
    {
     "data": {
      "text/plain": [
       "Детей нет                   32220\n",
       "Дети есть, живем вместе     12884\n",
       "Детей нет, но хочу           7557\n",
       "Дети есть, живем порознь     7111\n",
       "Name: children, dtype: int64"
      ]
     },
     "execution_count": 4,
     "metadata": {},
     "output_type": "execute_result"
    }
   ],
   "source": [
    "display(mambadf.children.isna().mean())\n",
    "mambadf.children.value_counts()[:4]"
   ]
  },
  {
   "cell_type": "code",
   "execution_count": 6,
   "metadata": {
    "scrolled": false
   },
   "outputs": [
    {
     "data": {
      "text/html": [
       "<div>\n",
       "<style scoped>\n",
       "    .dataframe tbody tr th:only-of-type {\n",
       "        vertical-align: middle;\n",
       "    }\n",
       "\n",
       "    .dataframe tbody tr th {\n",
       "        vertical-align: top;\n",
       "    }\n",
       "\n",
       "    .dataframe thead th {\n",
       "        text-align: right;\n",
       "    }\n",
       "</style>\n",
       "<table border=\"1\" class=\"dataframe\">\n",
       "  <thead>\n",
       "    <tr style=\"text-align: right;\">\n",
       "      <th></th>\n",
       "      <th></th>\n",
       "      <th>count</th>\n",
       "      <th>age</th>\n",
       "    </tr>\n",
       "    <tr>\n",
       "      <th>children</th>\n",
       "      <th>gender</th>\n",
       "      <th></th>\n",
       "      <th></th>\n",
       "    </tr>\n",
       "  </thead>\n",
       "  <tbody>\n",
       "    <tr>\n",
       "      <th rowspan=\"2\" valign=\"top\">Детей нет</th>\n",
       "      <th>Женщины</th>\n",
       "      <td>14042</td>\n",
       "      <td>26.753454</td>\n",
       "    </tr>\n",
       "    <tr>\n",
       "      <th>Мужчины</th>\n",
       "      <td>18178</td>\n",
       "      <td>28.735890</td>\n",
       "    </tr>\n",
       "    <tr>\n",
       "      <th rowspan=\"2\" valign=\"top\">Детей нет, но хочу</th>\n",
       "      <th>Женщины</th>\n",
       "      <td>3281</td>\n",
       "      <td>29.124962</td>\n",
       "    </tr>\n",
       "    <tr>\n",
       "      <th>Мужчины</th>\n",
       "      <td>4276</td>\n",
       "      <td>31.404818</td>\n",
       "    </tr>\n",
       "    <tr>\n",
       "      <th rowspan=\"2\" valign=\"top\">Дети есть, живем вместе</th>\n",
       "      <th>Женщины</th>\n",
       "      <td>11346</td>\n",
       "      <td>35.056672</td>\n",
       "    </tr>\n",
       "    <tr>\n",
       "      <th>Мужчины</th>\n",
       "      <td>1538</td>\n",
       "      <td>37.173602</td>\n",
       "    </tr>\n",
       "    <tr>\n",
       "      <th rowspan=\"2\" valign=\"top\">Дети есть, живем порознь</th>\n",
       "      <th>Женщины</th>\n",
       "      <td>1580</td>\n",
       "      <td>38.390506</td>\n",
       "    </tr>\n",
       "    <tr>\n",
       "      <th>Мужчины</th>\n",
       "      <td>5531</td>\n",
       "      <td>37.756644</td>\n",
       "    </tr>\n",
       "  </tbody>\n",
       "</table>\n",
       "</div>"
      ],
      "text/plain": [
       "                                  count        age\n",
       "children                 gender                   \n",
       "Детей нет                Женщины  14042  26.753454\n",
       "                         Мужчины  18178  28.735890\n",
       "Детей нет, но хочу       Женщины   3281  29.124962\n",
       "                         Мужчины   4276  31.404818\n",
       "Дети есть, живем вместе  Женщины  11346  35.056672\n",
       "                         Мужчины   1538  37.173602\n",
       "Дети есть, живем порознь Женщины   1580  38.390506\n",
       "                         Мужчины   5531  37.756644"
      ]
     },
     "execution_count": 6,
     "metadata": {},
     "output_type": "execute_result"
    }
   ],
   "source": [
    "mambachil = mambadf.loc[mambadf['children'].isin(list(mambadf.children.value_counts()[:4].index))]\n",
    "mambachil.groupby(['children', 'gender']).agg({'count':'sum', 'age':'mean'})"
   ]
  },
  {
   "cell_type": "code",
   "execution_count": 7,
   "metadata": {},
   "outputs": [
    {
     "data": {
      "text/plain": [
       "Женщины    30249\n",
       "Мужчины    29523\n",
       "Name: gender, dtype: int64"
      ]
     },
     "execution_count": 7,
     "metadata": {},
     "output_type": "execute_result"
    }
   ],
   "source": [
    "#похоже, работает закон больших чисел, можно даже не проводить хи-тест\n",
    "mambachil.gender.value_counts()"
   ]
  },
  {
   "cell_type": "markdown",
   "metadata": {},
   "source": [
    "#### о курении, как живут\n",
    "* забавно, что те, кто живут с родителями, в большей части сами не знают, чего хотят, потом отношения идут. \n",
    "* те, у кого своя квартира"
   ]
  },
  {
   "cell_type": "code",
   "execution_count": 8,
   "metadata": {
    "scrolled": true
   },
   "outputs": [
    {
     "data": {
      "text/plain": [
       "Не курю    37369\n",
       "Курю       18748\n",
       "Name: smoke, dtype: int64"
      ]
     },
     "execution_count": 8,
     "metadata": {},
     "output_type": "execute_result"
    }
   ],
   "source": [
    "mambadf.smoke.value_counts()"
   ]
  },
  {
   "cell_type": "code",
   "execution_count": 123,
   "metadata": {},
   "outputs": [],
   "source": [
    "mambaLive = mambadf.loc[mambadf.simpleaim.isin(['casual', 'relationships', 'friendy', 'family-person', 'unsure', 'unknown'])]"
   ]
  },
  {
   "cell_type": "code",
   "execution_count": 124,
   "metadata": {},
   "outputs": [],
   "source": [
    "edu_y4n['percent'] = edu_y4n['count'] / edu_y4n.groupby('y4n')['count'].transform('sum')"
   ]
  },
  {
   "cell_type": "code",
   "execution_count": 125,
   "metadata": {
    "scrolled": true
   },
   "outputs": [
    {
     "name": "stderr",
     "output_type": "stream",
     "text": [
      "<ipython-input-125-cfc420dda30a>:1: SettingWithCopyWarning:\n",
      "\n",
      "\n",
      "A value is trying to be set on a copy of a slice from a DataFrame.\n",
      "Try using .loc[row_indexer,col_indexer] = value instead\n",
      "\n",
      "See the caveats in the documentation: https://pandas.pydata.org/pandas-docs/stable/user_guide/indexing.html#returning-a-view-versus-a-copy\n",
      "\n"
     ]
    },
    {
     "data": {
      "text/html": [
       "<div>\n",
       "<style scoped>\n",
       "    .dataframe tbody tr th:only-of-type {\n",
       "        vertical-align: middle;\n",
       "    }\n",
       "\n",
       "    .dataframe tbody tr th {\n",
       "        vertical-align: top;\n",
       "    }\n",
       "\n",
       "    .dataframe thead th {\n",
       "        text-align: right;\n",
       "    }\n",
       "</style>\n",
       "<table border=\"1\" class=\"dataframe\">\n",
       "  <thead>\n",
       "    <tr style=\"text-align: right;\">\n",
       "      <th></th>\n",
       "      <th>about</th>\n",
       "      <th>age</th>\n",
       "      <th>aim</th>\n",
       "      <th>children</th>\n",
       "      <th>city</th>\n",
       "      <th>edu</th>\n",
       "      <th>gender</th>\n",
       "      <th>height</th>\n",
       "      <th>intrestedin</th>\n",
       "      <th>language</th>\n",
       "      <th>...</th>\n",
       "      <th>photocount</th>\n",
       "      <th>smoke</th>\n",
       "      <th>weight</th>\n",
       "      <th>id</th>\n",
       "      <th>count</th>\n",
       "      <th>range_partner_age</th>\n",
       "      <th>rangeAge</th>\n",
       "      <th>simpleaim</th>\n",
       "      <th>percent</th>\n",
       "      <th>start_age</th>\n",
       "    </tr>\n",
       "  </thead>\n",
       "  <tbody>\n",
       "    <tr>\n",
       "      <th>0</th>\n",
       "      <td>NaN</td>\n",
       "      <td>41.0</td>\n",
       "      <td>NaN</td>\n",
       "      <td>NaN</td>\n",
       "      <td>Старобельск</td>\n",
       "      <td>NaN</td>\n",
       "      <td>Женщины</td>\n",
       "      <td>165.0</td>\n",
       "      <td>парень</td>\n",
       "      <td>Русский, Укра</td>\n",
       "      <td>...</td>\n",
       "      <td>0.0</td>\n",
       "      <td>Курю</td>\n",
       "      <td>65.0</td>\n",
       "      <td>NaN</td>\n",
       "      <td>1</td>\n",
       "      <td>('25', '40')</td>\n",
       "      <td>15.0</td>\n",
       "      <td>unknown</td>\n",
       "      <td>NaN</td>\n",
       "      <td>25.0</td>\n",
       "    </tr>\n",
       "    <tr>\n",
       "      <th>1</th>\n",
       "      <td>NaN</td>\n",
       "      <td>36.0</td>\n",
       "      <td>NaN</td>\n",
       "      <td>NaN</td>\n",
       "      <td>Краснодар</td>\n",
       "      <td>NaN</td>\n",
       "      <td>Женщины</td>\n",
       "      <td>NaN</td>\n",
       "      <td>парень</td>\n",
       "      <td>Русский</td>\n",
       "      <td>...</td>\n",
       "      <td>0.0</td>\n",
       "      <td>NaN</td>\n",
       "      <td>NaN</td>\n",
       "      <td>NaN</td>\n",
       "      <td>1</td>\n",
       "      <td>('33', '37')</td>\n",
       "      <td>4.0</td>\n",
       "      <td>unknown</td>\n",
       "      <td>NaN</td>\n",
       "      <td>33.0</td>\n",
       "    </tr>\n",
       "    <tr>\n",
       "      <th>2</th>\n",
       "      <td>Не ищу приключений.\\nНе ищу спонсоров, альфонс...</td>\n",
       "      <td>39.0</td>\n",
       "      <td>переписка, флирт, дружба, общение, отношения, ...</td>\n",
       "      <td>Детей нет</td>\n",
       "      <td>Дюссельдорф</td>\n",
       "      <td>NaN</td>\n",
       "      <td>Женщины</td>\n",
       "      <td>167.0</td>\n",
       "      <td>парень</td>\n",
       "      <td>Deutsch</td>\n",
       "      <td>...</td>\n",
       "      <td>0.0</td>\n",
       "      <td>Не курю</td>\n",
       "      <td>NaN</td>\n",
       "      <td>NaN</td>\n",
       "      <td>1</td>\n",
       "      <td>('36', '40')</td>\n",
       "      <td>4.0</td>\n",
       "      <td>unsure</td>\n",
       "      <td>0.000063</td>\n",
       "      <td>36.0</td>\n",
       "    </tr>\n",
       "    <tr>\n",
       "      <th>3</th>\n",
       "      <td>NaN</td>\n",
       "      <td>28.0</td>\n",
       "      <td>брак, создание семьи, дружба, общение, отношения</td>\n",
       "      <td>NaN</td>\n",
       "      <td>Кременчуг</td>\n",
       "      <td>NaN</td>\n",
       "      <td>Женщины</td>\n",
       "      <td>163.0</td>\n",
       "      <td>парень</td>\n",
       "      <td>Русский</td>\n",
       "      <td>...</td>\n",
       "      <td>0.0</td>\n",
       "      <td>NaN</td>\n",
       "      <td>85.0</td>\n",
       "      <td>NaN</td>\n",
       "      <td>1</td>\n",
       "      <td>('25', '31')</td>\n",
       "      <td>6.0</td>\n",
       "      <td>unsure</td>\n",
       "      <td>NaN</td>\n",
       "      <td>25.0</td>\n",
       "    </tr>\n",
       "    <tr>\n",
       "      <th>4</th>\n",
       "      <td>NaN</td>\n",
       "      <td>44.0</td>\n",
       "      <td>встреча, свидание</td>\n",
       "      <td>NaN</td>\n",
       "      <td>Донецк</td>\n",
       "      <td>NaN</td>\n",
       "      <td>Женщины</td>\n",
       "      <td>NaN</td>\n",
       "      <td>парень</td>\n",
       "      <td>Русский</td>\n",
       "      <td>...</td>\n",
       "      <td>0.0</td>\n",
       "      <td>NaN</td>\n",
       "      <td>NaN</td>\n",
       "      <td>NaN</td>\n",
       "      <td>1</td>\n",
       "      <td>('41', '45')</td>\n",
       "      <td>4.0</td>\n",
       "      <td>casual</td>\n",
       "      <td>NaN</td>\n",
       "      <td>41.0</td>\n",
       "    </tr>\n",
       "  </tbody>\n",
       "</table>\n",
       "<p>5 rows × 22 columns</p>\n",
       "</div>"
      ],
      "text/plain": [
       "                                               about   age  \\\n",
       "0                                                NaN  41.0   \n",
       "1                                                NaN  36.0   \n",
       "2  Не ищу приключений.\\nНе ищу спонсоров, альфонс...  39.0   \n",
       "3                                                NaN  28.0   \n",
       "4                                                NaN  44.0   \n",
       "\n",
       "                                                 aim   children         city  \\\n",
       "0                                                NaN        NaN  Старобельск   \n",
       "1                                                NaN        NaN    Краснодар   \n",
       "2  переписка, флирт, дружба, общение, отношения, ...  Детей нет  Дюссельдорф   \n",
       "3   брак, создание семьи, дружба, общение, отношения        NaN    Кременчуг   \n",
       "4                                  встреча, свидание        NaN       Донецк   \n",
       "\n",
       "   edu   gender  height intrestedin       language  ... photocount    smoke  \\\n",
       "0  NaN  Женщины   165.0      парень  Русский, Укра  ...        0.0     Курю   \n",
       "1  NaN  Женщины     NaN      парень        Русский  ...        0.0      NaN   \n",
       "2  NaN  Женщины   167.0      парень        Deutsch  ...        0.0  Не курю   \n",
       "3  NaN  Женщины   163.0      парень        Русский  ...        0.0      NaN   \n",
       "4  NaN  Женщины     NaN      парень        Русский  ...        0.0      NaN   \n",
       "\n",
       "   weight  id  count  range_partner_age  rangeAge simpleaim   percent  \\\n",
       "0    65.0 NaN      1       ('25', '40')      15.0   unknown       NaN   \n",
       "1     NaN NaN      1       ('33', '37')       4.0   unknown       NaN   \n",
       "2     NaN NaN      1       ('36', '40')       4.0    unsure  0.000063   \n",
       "3    85.0 NaN      1       ('25', '31')       6.0    unsure       NaN   \n",
       "4     NaN NaN      1       ('41', '45')       4.0    casual       NaN   \n",
       "\n",
       "  start_age  \n",
       "0      25.0  \n",
       "1      33.0  \n",
       "2      36.0  \n",
       "3      25.0  \n",
       "4      41.0  \n",
       "\n",
       "[5 rows x 22 columns]"
      ]
     },
     "execution_count": 125,
     "metadata": {},
     "output_type": "execute_result"
    }
   ],
   "source": [
    "mambaLive['percent'] = mambaLive['count']/mambaLive.groupby(['live', 'gender'])['count'].transform('sum')\n",
    "mambaLive.head()"
   ]
  },
  {
   "cell_type": "markdown",
   "metadata": {},
   "source": [
    "#### Кто с кем живет и чего хочет? \n",
    "* в группе Живу с родителями отношений хотят поровну, мужчины больше хотят флирта-встречи и в большей степени не знают, чего хотят. \n",
    "* в группе Отдельная квартира женщины больше хотят отношений, мужчина больше хотят флирта, одинаково хотят семью. "
   ]
  },
  {
   "cell_type": "code",
   "execution_count": 20,
   "metadata": {},
   "outputs": [
    {
     "data": {
      "text/html": [
       "<div>\n",
       "<style scoped>\n",
       "    .dataframe tbody tr th:only-of-type {\n",
       "        vertical-align: middle;\n",
       "    }\n",
       "\n",
       "    .dataframe tbody tr th {\n",
       "        vertical-align: top;\n",
       "    }\n",
       "\n",
       "    .dataframe thead th {\n",
       "        text-align: right;\n",
       "    }\n",
       "</style>\n",
       "<table border=\"1\" class=\"dataframe\">\n",
       "  <thead>\n",
       "    <tr style=\"text-align: right;\">\n",
       "      <th></th>\n",
       "      <th></th>\n",
       "      <th></th>\n",
       "      <th>percent</th>\n",
       "      <th>age</th>\n",
       "    </tr>\n",
       "    <tr>\n",
       "      <th>live</th>\n",
       "      <th>gender</th>\n",
       "      <th>simpleaim</th>\n",
       "      <th></th>\n",
       "      <th></th>\n",
       "    </tr>\n",
       "  </thead>\n",
       "  <tbody>\n",
       "    <tr>\n",
       "      <th rowspan=\"12\" valign=\"top\">Живу с родителями</th>\n",
       "      <th rowspan=\"6\" valign=\"top\">Женщины</th>\n",
       "      <th>casual</th>\n",
       "      <td>0.177240</td>\n",
       "      <td>25.486072</td>\n",
       "    </tr>\n",
       "    <tr>\n",
       "      <th>family-person</th>\n",
       "      <td>0.025179</td>\n",
       "      <td>33.313725</td>\n",
       "    </tr>\n",
       "    <tr>\n",
       "      <th>friendy</th>\n",
       "      <td>0.117255</td>\n",
       "      <td>26.111579</td>\n",
       "    </tr>\n",
       "    <tr>\n",
       "      <th>relationships</th>\n",
       "      <td>0.288818</td>\n",
       "      <td>28.896581</td>\n",
       "    </tr>\n",
       "    <tr>\n",
       "      <th>unknown</th>\n",
       "      <td>0.012836</td>\n",
       "      <td>26.846154</td>\n",
       "    </tr>\n",
       "    <tr>\n",
       "      <th>unsure</th>\n",
       "      <td>0.378672</td>\n",
       "      <td>28.138853</td>\n",
       "    </tr>\n",
       "    <tr>\n",
       "      <th rowspan=\"6\" valign=\"top\">Мужчины</th>\n",
       "      <th>casual</th>\n",
       "      <td>0.249342</td>\n",
       "      <td>28.221636</td>\n",
       "    </tr>\n",
       "    <tr>\n",
       "      <th>family-person</th>\n",
       "      <td>0.016776</td>\n",
       "      <td>35.862745</td>\n",
       "    </tr>\n",
       "    <tr>\n",
       "      <th>friendy</th>\n",
       "      <td>0.042763</td>\n",
       "      <td>27.115385</td>\n",
       "    </tr>\n",
       "    <tr>\n",
       "      <th>relationships</th>\n",
       "      <td>0.276645</td>\n",
       "      <td>28.644471</td>\n",
       "    </tr>\n",
       "    <tr>\n",
       "      <th>unknown</th>\n",
       "      <td>0.013487</td>\n",
       "      <td>26.390244</td>\n",
       "    </tr>\n",
       "    <tr>\n",
       "      <th>unsure</th>\n",
       "      <td>0.400987</td>\n",
       "      <td>28.780968</td>\n",
       "    </tr>\n",
       "    <tr>\n",
       "      <th rowspan=\"12\" valign=\"top\">Отдельная квартира</th>\n",
       "      <th rowspan=\"6\" valign=\"top\">Женщины</th>\n",
       "      <th>casual</th>\n",
       "      <td>0.210075</td>\n",
       "      <td>29.167909</td>\n",
       "    </tr>\n",
       "    <tr>\n",
       "      <th>family-person</th>\n",
       "      <td>0.012906</td>\n",
       "      <td>34.854369</td>\n",
       "    </tr>\n",
       "    <tr>\n",
       "      <th>friendy</th>\n",
       "      <td>0.081511</td>\n",
       "      <td>31.204458</td>\n",
       "    </tr>\n",
       "    <tr>\n",
       "      <th>relationships</th>\n",
       "      <td>0.231878</td>\n",
       "      <td>33.375844</td>\n",
       "    </tr>\n",
       "    <tr>\n",
       "      <th>unknown</th>\n",
       "      <td>0.020112</td>\n",
       "      <td>31.302181</td>\n",
       "    </tr>\n",
       "    <tr>\n",
       "      <th>unsure</th>\n",
       "      <td>0.443519</td>\n",
       "      <td>32.306117</td>\n",
       "    </tr>\n",
       "    <tr>\n",
       "      <th rowspan=\"6\" valign=\"top\">Мужчины</th>\n",
       "      <th>casual</th>\n",
       "      <td>0.285300</td>\n",
       "      <td>31.952632</td>\n",
       "    </tr>\n",
       "    <tr>\n",
       "      <th>family-person</th>\n",
       "      <td>0.013264</td>\n",
       "      <td>34.905660</td>\n",
       "    </tr>\n",
       "    <tr>\n",
       "      <th>friendy</th>\n",
       "      <td>0.030132</td>\n",
       "      <td>31.480066</td>\n",
       "    </tr>\n",
       "    <tr>\n",
       "      <th>relationships</th>\n",
       "      <td>0.176035</td>\n",
       "      <td>33.129940</td>\n",
       "    </tr>\n",
       "    <tr>\n",
       "      <th>unknown</th>\n",
       "      <td>0.024175</td>\n",
       "      <td>31.834369</td>\n",
       "    </tr>\n",
       "    <tr>\n",
       "      <th>unsure</th>\n",
       "      <td>0.471095</td>\n",
       "      <td>33.162027</td>\n",
       "    </tr>\n",
       "  </tbody>\n",
       "</table>\n",
       "</div>"
      ],
      "text/plain": [
       "                                           percent        age\n",
       "live               gender  simpleaim                         \n",
       "Живу с родителями  Женщины casual         0.177240  25.486072\n",
       "                           family-person  0.025179  33.313725\n",
       "                           friendy        0.117255  26.111579\n",
       "                           relationships  0.288818  28.896581\n",
       "                           unknown        0.012836  26.846154\n",
       "                           unsure         0.378672  28.138853\n",
       "                   Мужчины casual         0.249342  28.221636\n",
       "                           family-person  0.016776  35.862745\n",
       "                           friendy        0.042763  27.115385\n",
       "                           relationships  0.276645  28.644471\n",
       "                           unknown        0.013487  26.390244\n",
       "                           unsure         0.400987  28.780968\n",
       "Отдельная квартира Женщины casual         0.210075  29.167909\n",
       "                           family-person  0.012906  34.854369\n",
       "                           friendy        0.081511  31.204458\n",
       "                           relationships  0.231878  33.375844\n",
       "                           unknown        0.020112  31.302181\n",
       "                           unsure         0.443519  32.306117\n",
       "                   Мужчины casual         0.285300  31.952632\n",
       "                           family-person  0.013264  34.905660\n",
       "                           friendy        0.030132  31.480066\n",
       "                           relationships  0.176035  33.129940\n",
       "                           unknown        0.024175  31.834369\n",
       "                           unsure         0.471095  33.162027"
      ]
     },
     "execution_count": 20,
     "metadata": {},
     "output_type": "execute_result"
    }
   ],
   "source": [
    "mambaLive.groupby(['live', 'gender', 'simpleaim']).agg({'percent':'sum', 'age':'mean'})"
   ]
  },
  {
   "cell_type": "markdown",
   "metadata": {},
   "source": [
    "### Создаю числовые переменные для машинного обучения "
   ]
  },
  {
   "cell_type": "code",
   "execution_count": 70,
   "metadata": {},
   "outputs": [
    {
     "data": {
      "text/plain": [
       "Index(['about', 'age', 'aim', 'children', 'city', 'edu', 'gender', 'height',\n",
       "       'intrestedin', 'language', 'live', 'partnerage', 'photocount', 'smoke',\n",
       "       'weight', 'id', 'count', 'range_partner_age', 'rangeAge', 'simpleaim',\n",
       "       'percent', 'start_age'],\n",
       "      dtype='object')"
      ]
     },
     "execution_count": 70,
     "metadata": {},
     "output_type": "execute_result"
    }
   ],
   "source": [
    "import pandas as pd\n",
    "import numpy as np \n",
    "import matplotlib.pyplot as plt\n",
    "import seaborn as sns \n",
    "import scipy.stats as stats\n",
    "\n",
    "mambadf = pd.read_csv('mamba18-45newColumns.csv')\n",
    "mambadf.columns"
   ]
  },
  {
   "cell_type": "code",
   "execution_count": 71,
   "metadata": {},
   "outputs": [
    {
     "name": "stderr",
     "output_type": "stream",
     "text": [
      "C:\\Users\\okean\\anaconda3\\lib\\site-packages\\pandas\\core\\frame.py:4462: SettingWithCopyWarning: \n",
      "A value is trying to be set on a copy of a slice from a DataFrame\n",
      "\n",
      "See the caveats in the documentation: https://pandas.pydata.org/pandas-docs/stable/user_guide/indexing.html#returning-a-view-versus-a-copy\n",
      "  return super().fillna(\n"
     ]
    },
    {
     "data": {
      "text/html": [
       "<div>\n",
       "<style scoped>\n",
       "    .dataframe tbody tr th:only-of-type {\n",
       "        vertical-align: middle;\n",
       "    }\n",
       "\n",
       "    .dataframe tbody tr th {\n",
       "        vertical-align: top;\n",
       "    }\n",
       "\n",
       "    .dataframe thead th {\n",
       "        text-align: right;\n",
       "    }\n",
       "</style>\n",
       "<table border=\"1\" class=\"dataframe\">\n",
       "  <thead>\n",
       "    <tr style=\"text-align: right;\">\n",
       "      <th></th>\n",
       "      <th>about</th>\n",
       "      <th>age</th>\n",
       "      <th>simpleaim</th>\n",
       "      <th>children</th>\n",
       "      <th>edu</th>\n",
       "      <th>gender</th>\n",
       "      <th>intrestedin</th>\n",
       "      <th>language</th>\n",
       "      <th>live</th>\n",
       "      <th>rangeAge</th>\n",
       "    </tr>\n",
       "  </thead>\n",
       "  <tbody>\n",
       "    <tr>\n",
       "      <th>0</th>\n",
       "      <td>0</td>\n",
       "      <td>41.0</td>\n",
       "      <td>unknown</td>\n",
       "      <td>0</td>\n",
       "      <td>0</td>\n",
       "      <td>Женщины</td>\n",
       "      <td>парень</td>\n",
       "      <td>Русский, Укра</td>\n",
       "      <td>0</td>\n",
       "      <td>15.0</td>\n",
       "    </tr>\n",
       "    <tr>\n",
       "      <th>1</th>\n",
       "      <td>0</td>\n",
       "      <td>36.0</td>\n",
       "      <td>unknown</td>\n",
       "      <td>0</td>\n",
       "      <td>0</td>\n",
       "      <td>Женщины</td>\n",
       "      <td>парень</td>\n",
       "      <td>Русский</td>\n",
       "      <td>0</td>\n",
       "      <td>4.0</td>\n",
       "    </tr>\n",
       "    <tr>\n",
       "      <th>2</th>\n",
       "      <td>Не ищу приключений.\\nНе ищу спонсоров, альфонс...</td>\n",
       "      <td>39.0</td>\n",
       "      <td>unsure</td>\n",
       "      <td>Детей нет</td>\n",
       "      <td>0</td>\n",
       "      <td>Женщины</td>\n",
       "      <td>парень</td>\n",
       "      <td>Deutsch</td>\n",
       "      <td>Отдельная квартира</td>\n",
       "      <td>4.0</td>\n",
       "    </tr>\n",
       "    <tr>\n",
       "      <th>3</th>\n",
       "      <td>0</td>\n",
       "      <td>28.0</td>\n",
       "      <td>unsure</td>\n",
       "      <td>0</td>\n",
       "      <td>0</td>\n",
       "      <td>Женщины</td>\n",
       "      <td>парень</td>\n",
       "      <td>Русский</td>\n",
       "      <td>0</td>\n",
       "      <td>6.0</td>\n",
       "    </tr>\n",
       "    <tr>\n",
       "      <th>4</th>\n",
       "      <td>0</td>\n",
       "      <td>44.0</td>\n",
       "      <td>casual</td>\n",
       "      <td>0</td>\n",
       "      <td>0</td>\n",
       "      <td>Женщины</td>\n",
       "      <td>парень</td>\n",
       "      <td>Русский</td>\n",
       "      <td>0</td>\n",
       "      <td>4.0</td>\n",
       "    </tr>\n",
       "  </tbody>\n",
       "</table>\n",
       "</div>"
      ],
      "text/plain": [
       "                                               about   age simpleaim  \\\n",
       "0                                                  0  41.0   unknown   \n",
       "1                                                  0  36.0   unknown   \n",
       "2  Не ищу приключений.\\nНе ищу спонсоров, альфонс...  39.0    unsure   \n",
       "3                                                  0  28.0    unsure   \n",
       "4                                                  0  44.0    casual   \n",
       "\n",
       "    children edu   gender intrestedin       language                live  \\\n",
       "0          0   0  Женщины      парень  Русский, Укра                   0   \n",
       "1          0   0  Женщины      парень        Русский                   0   \n",
       "2  Детей нет   0  Женщины      парень        Deutsch  Отдельная квартира   \n",
       "3          0   0  Женщины      парень        Русский                   0   \n",
       "4          0   0  Женщины      парень        Русский                   0   \n",
       "\n",
       "   rangeAge  \n",
       "0      15.0  \n",
       "1       4.0  \n",
       "2       4.0  \n",
       "3       6.0  \n",
       "4       4.0  "
      ]
     },
     "execution_count": 71,
     "metadata": {},
     "output_type": "execute_result"
    }
   ],
   "source": [
    "mambaml = mambadf[['about', 'age', 'simpleaim', 'children', 'edu', 'gender', 'intrestedin', 'language', 'live', 'rangeAge']]\n",
    "mambaml.fillna(0, inplace=True)\n",
    "mambaml.head()"
   ]
  },
  {
   "cell_type": "code",
   "execution_count": 72,
   "metadata": {},
   "outputs": [
    {
     "name": "stderr",
     "output_type": "stream",
     "text": [
      "C:\\Users\\okean\\anaconda3\\lib\\site-packages\\pandas\\core\\indexing.py:1720: SettingWithCopyWarning: \n",
      "A value is trying to be set on a copy of a slice from a DataFrame.\n",
      "Try using .loc[row_indexer,col_indexer] = value instead\n",
      "\n",
      "See the caveats in the documentation: https://pandas.pydata.org/pandas-docs/stable/user_guide/indexing.html#returning-a-view-versus-a-copy\n",
      "  self._setitem_single_column(loc, value, pi)\n",
      "C:\\Users\\okean\\anaconda3\\lib\\site-packages\\pandas\\core\\indexing.py:1720: SettingWithCopyWarning: \n",
      "A value is trying to be set on a copy of a slice from a DataFrame.\n",
      "Try using .loc[row_indexer,col_indexer] = value instead\n",
      "\n",
      "See the caveats in the documentation: https://pandas.pydata.org/pandas-docs/stable/user_guide/indexing.html#returning-a-view-versus-a-copy\n",
      "  self._setitem_single_column(loc, value, pi)\n",
      "C:\\Users\\okean\\anaconda3\\lib\\site-packages\\pandas\\core\\indexing.py:1720: SettingWithCopyWarning: \n",
      "A value is trying to be set on a copy of a slice from a DataFrame.\n",
      "Try using .loc[row_indexer,col_indexer] = value instead\n",
      "\n",
      "See the caveats in the documentation: https://pandas.pydata.org/pandas-docs/stable/user_guide/indexing.html#returning-a-view-versus-a-copy\n",
      "  self._setitem_single_column(loc, value, pi)\n"
     ]
    },
    {
     "data": {
      "text/html": [
       "<div>\n",
       "<style scoped>\n",
       "    .dataframe tbody tr th:only-of-type {\n",
       "        vertical-align: middle;\n",
       "    }\n",
       "\n",
       "    .dataframe tbody tr th {\n",
       "        vertical-align: top;\n",
       "    }\n",
       "\n",
       "    .dataframe thead th {\n",
       "        text-align: right;\n",
       "    }\n",
       "</style>\n",
       "<table border=\"1\" class=\"dataframe\">\n",
       "  <thead>\n",
       "    <tr style=\"text-align: right;\">\n",
       "      <th></th>\n",
       "      <th>about</th>\n",
       "      <th>age</th>\n",
       "      <th>simpleaim</th>\n",
       "      <th>children</th>\n",
       "      <th>edu</th>\n",
       "      <th>gender</th>\n",
       "      <th>intrestedin</th>\n",
       "      <th>language</th>\n",
       "      <th>live</th>\n",
       "      <th>rangeAge</th>\n",
       "    </tr>\n",
       "  </thead>\n",
       "  <tbody>\n",
       "    <tr>\n",
       "      <th>0</th>\n",
       "      <td>0</td>\n",
       "      <td>41.0</td>\n",
       "      <td>unknown</td>\n",
       "      <td>0</td>\n",
       "      <td>0</td>\n",
       "      <td>2</td>\n",
       "      <td>1</td>\n",
       "      <td>Русский, Укра</td>\n",
       "      <td>2</td>\n",
       "      <td>2.0</td>\n",
       "    </tr>\n",
       "    <tr>\n",
       "      <th>1</th>\n",
       "      <td>0</td>\n",
       "      <td>36.0</td>\n",
       "      <td>unknown</td>\n",
       "      <td>0</td>\n",
       "      <td>0</td>\n",
       "      <td>2</td>\n",
       "      <td>1</td>\n",
       "      <td>Русский</td>\n",
       "      <td>2</td>\n",
       "      <td>1.0</td>\n",
       "    </tr>\n",
       "    <tr>\n",
       "      <th>2</th>\n",
       "      <td>1</td>\n",
       "      <td>39.0</td>\n",
       "      <td>unsure</td>\n",
       "      <td>Детей нет</td>\n",
       "      <td>0</td>\n",
       "      <td>2</td>\n",
       "      <td>1</td>\n",
       "      <td>Deutsch</td>\n",
       "      <td>1</td>\n",
       "      <td>1.0</td>\n",
       "    </tr>\n",
       "    <tr>\n",
       "      <th>3</th>\n",
       "      <td>0</td>\n",
       "      <td>28.0</td>\n",
       "      <td>unsure</td>\n",
       "      <td>0</td>\n",
       "      <td>0</td>\n",
       "      <td>2</td>\n",
       "      <td>1</td>\n",
       "      <td>Русский</td>\n",
       "      <td>2</td>\n",
       "      <td>2.0</td>\n",
       "    </tr>\n",
       "    <tr>\n",
       "      <th>4</th>\n",
       "      <td>0</td>\n",
       "      <td>44.0</td>\n",
       "      <td>casual</td>\n",
       "      <td>0</td>\n",
       "      <td>0</td>\n",
       "      <td>2</td>\n",
       "      <td>1</td>\n",
       "      <td>Русский</td>\n",
       "      <td>2</td>\n",
       "      <td>1.0</td>\n",
       "    </tr>\n",
       "  </tbody>\n",
       "</table>\n",
       "</div>"
      ],
      "text/plain": [
       "  about   age simpleaim   children edu gender intrestedin       language live  \\\n",
       "0     0  41.0   unknown          0   0      2           1  Русский, Укра    2   \n",
       "1     0  36.0   unknown          0   0      2           1        Русский    2   \n",
       "2     1  39.0    unsure  Детей нет   0      2           1        Deutsch    1   \n",
       "3     0  28.0    unsure          0   0      2           1        Русский    2   \n",
       "4     0  44.0    casual          0   0      2           1        Русский    2   \n",
       "\n",
       "   rangeAge  \n",
       "0       2.0  \n",
       "1       1.0  \n",
       "2       1.0  \n",
       "3       2.0  \n",
       "4       1.0  "
      ]
     },
     "execution_count": 72,
     "metadata": {},
     "output_type": "execute_result"
    }
   ],
   "source": [
    "mambaml.loc[mambaml['about'] != 0, 'about'] = 1\n",
    "mambaml.loc[mambaml['gender'] == 'Женщины', 'gender'] = 2\n",
    "mambaml.loc[mambaml['gender'] != 2, 'gender'] = 1\n",
    "mambaml.loc[mambaml['intrestedin'] == 'парень', 'intrestedin'] = 1\n",
    "mambaml.loc[mambaml['intrestedin'] != 1, 'intrestedin'] = 2\n",
    "mambaml.loc[mambaml['live'] == 'Отдельная квартира', 'live'] = 1\n",
    "mambaml.loc[mambaml['live'] != 1, 'live'] = 2\n",
    "mambaml.loc[mambaml['rangeAge'] != 4, 'rangeAge'] = 2\n",
    "mambaml.loc[mambaml['rangeAge'] == 4, 'rangeAge'] = 1\n",
    "mambaml.head()"
   ]
  },
  {
   "cell_type": "code",
   "execution_count": 73,
   "metadata": {},
   "outputs": [
    {
     "data": {
      "text/html": [
       "<div>\n",
       "<style scoped>\n",
       "    .dataframe tbody tr th:only-of-type {\n",
       "        vertical-align: middle;\n",
       "    }\n",
       "\n",
       "    .dataframe tbody tr th {\n",
       "        vertical-align: top;\n",
       "    }\n",
       "\n",
       "    .dataframe thead th {\n",
       "        text-align: right;\n",
       "    }\n",
       "</style>\n",
       "<table border=\"1\" class=\"dataframe\">\n",
       "  <thead>\n",
       "    <tr style=\"text-align: right;\">\n",
       "      <th></th>\n",
       "      <th>about</th>\n",
       "      <th>age</th>\n",
       "      <th>simpleaim</th>\n",
       "      <th>children</th>\n",
       "      <th>edu</th>\n",
       "      <th>gender</th>\n",
       "      <th>intrestedin</th>\n",
       "      <th>language</th>\n",
       "      <th>live</th>\n",
       "      <th>rangeAge</th>\n",
       "    </tr>\n",
       "  </thead>\n",
       "  <tbody>\n",
       "    <tr>\n",
       "      <th>0</th>\n",
       "      <td>0</td>\n",
       "      <td>41.0</td>\n",
       "      <td>unknown</td>\n",
       "      <td>0</td>\n",
       "      <td>0</td>\n",
       "      <td>2</td>\n",
       "      <td>1</td>\n",
       "      <td>Русский, Укра</td>\n",
       "      <td>2</td>\n",
       "      <td>2.0</td>\n",
       "    </tr>\n",
       "    <tr>\n",
       "      <th>1</th>\n",
       "      <td>0</td>\n",
       "      <td>36.0</td>\n",
       "      <td>unknown</td>\n",
       "      <td>0</td>\n",
       "      <td>0</td>\n",
       "      <td>2</td>\n",
       "      <td>1</td>\n",
       "      <td>Русский</td>\n",
       "      <td>2</td>\n",
       "      <td>1.0</td>\n",
       "    </tr>\n",
       "    <tr>\n",
       "      <th>2</th>\n",
       "      <td>1</td>\n",
       "      <td>39.0</td>\n",
       "      <td>unsure</td>\n",
       "      <td>Детей нет</td>\n",
       "      <td>0</td>\n",
       "      <td>2</td>\n",
       "      <td>1</td>\n",
       "      <td>Deutsch</td>\n",
       "      <td>1</td>\n",
       "      <td>1.0</td>\n",
       "    </tr>\n",
       "    <tr>\n",
       "      <th>3</th>\n",
       "      <td>0</td>\n",
       "      <td>28.0</td>\n",
       "      <td>unsure</td>\n",
       "      <td>0</td>\n",
       "      <td>0</td>\n",
       "      <td>2</td>\n",
       "      <td>1</td>\n",
       "      <td>Русский</td>\n",
       "      <td>2</td>\n",
       "      <td>2.0</td>\n",
       "    </tr>\n",
       "    <tr>\n",
       "      <th>4</th>\n",
       "      <td>0</td>\n",
       "      <td>44.0</td>\n",
       "      <td>casual</td>\n",
       "      <td>0</td>\n",
       "      <td>0</td>\n",
       "      <td>2</td>\n",
       "      <td>1</td>\n",
       "      <td>Русский</td>\n",
       "      <td>2</td>\n",
       "      <td>1.0</td>\n",
       "    </tr>\n",
       "  </tbody>\n",
       "</table>\n",
       "</div>"
      ],
      "text/plain": [
       "  about   age simpleaim   children edu gender intrestedin       language live  \\\n",
       "0     0  41.0   unknown          0   0      2           1  Русский, Укра    2   \n",
       "1     0  36.0   unknown          0   0      2           1        Русский    2   \n",
       "2     1  39.0    unsure  Детей нет   0      2           1        Deutsch    1   \n",
       "3     0  28.0    unsure          0   0      2           1        Русский    2   \n",
       "4     0  44.0    casual          0   0      2           1        Русский    2   \n",
       "\n",
       "   rangeAge  \n",
       "0       2.0  \n",
       "1       1.0  \n",
       "2       1.0  \n",
       "3       2.0  \n",
       "4       1.0  "
      ]
     },
     "execution_count": 73,
     "metadata": {},
     "output_type": "execute_result"
    }
   ],
   "source": [
    "mambaml.head()"
   ]
  },
  {
   "cell_type": "code",
   "execution_count": 74,
   "metadata": {
    "scrolled": true
   },
   "outputs": [
    {
     "name": "stderr",
     "output_type": "stream",
     "text": [
      "<ipython-input-74-07dda507f62c>:14: SettingWithCopyWarning: \n",
      "A value is trying to be set on a copy of a slice from a DataFrame.\n",
      "Try using .loc[row_indexer,col_indexer] = value instead\n",
      "\n",
      "See the caveats in the documentation: https://pandas.pydata.org/pandas-docs/stable/user_guide/indexing.html#returning-a-view-versus-a-copy\n",
      "  mambaml['simpleage'] = ages.apply(simpleAge)\n"
     ]
    },
    {
     "data": {
      "text/html": [
       "<div>\n",
       "<style scoped>\n",
       "    .dataframe tbody tr th:only-of-type {\n",
       "        vertical-align: middle;\n",
       "    }\n",
       "\n",
       "    .dataframe tbody tr th {\n",
       "        vertical-align: top;\n",
       "    }\n",
       "\n",
       "    .dataframe thead th {\n",
       "        text-align: right;\n",
       "    }\n",
       "</style>\n",
       "<table border=\"1\" class=\"dataframe\">\n",
       "  <thead>\n",
       "    <tr style=\"text-align: right;\">\n",
       "      <th></th>\n",
       "      <th>about</th>\n",
       "      <th>age</th>\n",
       "      <th>simpleaim</th>\n",
       "      <th>children</th>\n",
       "      <th>edu</th>\n",
       "      <th>gender</th>\n",
       "      <th>intrestedin</th>\n",
       "      <th>language</th>\n",
       "      <th>live</th>\n",
       "      <th>rangeAge</th>\n",
       "      <th>simpleage</th>\n",
       "    </tr>\n",
       "  </thead>\n",
       "  <tbody>\n",
       "    <tr>\n",
       "      <th>0</th>\n",
       "      <td>0</td>\n",
       "      <td>41.0</td>\n",
       "      <td>unknown</td>\n",
       "      <td>0</td>\n",
       "      <td>0</td>\n",
       "      <td>2</td>\n",
       "      <td>1</td>\n",
       "      <td>Русский, Укра</td>\n",
       "      <td>2</td>\n",
       "      <td>2.0</td>\n",
       "      <td>4</td>\n",
       "    </tr>\n",
       "    <tr>\n",
       "      <th>1</th>\n",
       "      <td>0</td>\n",
       "      <td>36.0</td>\n",
       "      <td>unknown</td>\n",
       "      <td>0</td>\n",
       "      <td>0</td>\n",
       "      <td>2</td>\n",
       "      <td>1</td>\n",
       "      <td>Русский</td>\n",
       "      <td>2</td>\n",
       "      <td>1.0</td>\n",
       "      <td>3</td>\n",
       "    </tr>\n",
       "    <tr>\n",
       "      <th>2</th>\n",
       "      <td>1</td>\n",
       "      <td>39.0</td>\n",
       "      <td>unsure</td>\n",
       "      <td>Детей нет</td>\n",
       "      <td>0</td>\n",
       "      <td>2</td>\n",
       "      <td>1</td>\n",
       "      <td>Deutsch</td>\n",
       "      <td>1</td>\n",
       "      <td>1.0</td>\n",
       "      <td>4</td>\n",
       "    </tr>\n",
       "    <tr>\n",
       "      <th>3</th>\n",
       "      <td>0</td>\n",
       "      <td>28.0</td>\n",
       "      <td>unsure</td>\n",
       "      <td>0</td>\n",
       "      <td>0</td>\n",
       "      <td>2</td>\n",
       "      <td>1</td>\n",
       "      <td>Русский</td>\n",
       "      <td>2</td>\n",
       "      <td>2.0</td>\n",
       "      <td>2</td>\n",
       "    </tr>\n",
       "    <tr>\n",
       "      <th>4</th>\n",
       "      <td>0</td>\n",
       "      <td>44.0</td>\n",
       "      <td>casual</td>\n",
       "      <td>0</td>\n",
       "      <td>0</td>\n",
       "      <td>2</td>\n",
       "      <td>1</td>\n",
       "      <td>Русский</td>\n",
       "      <td>2</td>\n",
       "      <td>1.0</td>\n",
       "      <td>4</td>\n",
       "    </tr>\n",
       "  </tbody>\n",
       "</table>\n",
       "</div>"
      ],
      "text/plain": [
       "  about   age simpleaim   children edu gender intrestedin       language live  \\\n",
       "0     0  41.0   unknown          0   0      2           1  Русский, Укра    2   \n",
       "1     0  36.0   unknown          0   0      2           1        Русский    2   \n",
       "2     1  39.0    unsure  Детей нет   0      2           1        Deutsch    1   \n",
       "3     0  28.0    unsure          0   0      2           1        Русский    2   \n",
       "4     0  44.0    casual          0   0      2           1        Русский    2   \n",
       "\n",
       "   rangeAge  simpleage  \n",
       "0       2.0          4  \n",
       "1       1.0          3  \n",
       "2       1.0          4  \n",
       "3       2.0          2  \n",
       "4       1.0          4  "
      ]
     },
     "execution_count": 74,
     "metadata": {},
     "output_type": "execute_result"
    }
   ],
   "source": [
    "def simpleAge(age): \n",
    "    if age <= 24:\n",
    "        return 1\n",
    "    elif age > 24 and age <= 31:\n",
    "        return 2\n",
    "    elif age > 31 and age <= 36:\n",
    "        return 3\n",
    "    elif age > 36 and age <= 45:\n",
    "        return 4\n",
    "    else:\n",
    "        return age\n",
    "    \n",
    "ages = pd.Series(np.array(mambaml.age))\n",
    "mambaml['simpleage'] = ages.apply(simpleAge)    \n",
    "mambaml.head()"
   ]
  },
  {
   "cell_type": "code",
   "execution_count": 75,
   "metadata": {
    "scrolled": true
   },
   "outputs": [
    {
     "name": "stderr",
     "output_type": "stream",
     "text": [
      "<ipython-input-75-dc70fcbf06e0>:18: SettingWithCopyWarning: \n",
      "A value is trying to be set on a copy of a slice from a DataFrame.\n",
      "Try using .loc[row_indexer,col_indexer] = value instead\n",
      "\n",
      "See the caveats in the documentation: https://pandas.pydata.org/pandas-docs/stable/user_guide/indexing.html#returning-a-view-versus-a-copy\n",
      "  mambaml['numaim'] = aims.apply(numericAim)\n"
     ]
    },
    {
     "data": {
      "text/html": [
       "<div>\n",
       "<style scoped>\n",
       "    .dataframe tbody tr th:only-of-type {\n",
       "        vertical-align: middle;\n",
       "    }\n",
       "\n",
       "    .dataframe tbody tr th {\n",
       "        vertical-align: top;\n",
       "    }\n",
       "\n",
       "    .dataframe thead th {\n",
       "        text-align: right;\n",
       "    }\n",
       "</style>\n",
       "<table border=\"1\" class=\"dataframe\">\n",
       "  <thead>\n",
       "    <tr style=\"text-align: right;\">\n",
       "      <th></th>\n",
       "      <th>about</th>\n",
       "      <th>age</th>\n",
       "      <th>simpleaim</th>\n",
       "      <th>children</th>\n",
       "      <th>edu</th>\n",
       "      <th>gender</th>\n",
       "      <th>intrestedin</th>\n",
       "      <th>language</th>\n",
       "      <th>live</th>\n",
       "      <th>rangeAge</th>\n",
       "      <th>simpleage</th>\n",
       "      <th>numaim</th>\n",
       "    </tr>\n",
       "  </thead>\n",
       "  <tbody>\n",
       "    <tr>\n",
       "      <th>0</th>\n",
       "      <td>0</td>\n",
       "      <td>41.0</td>\n",
       "      <td>unknown</td>\n",
       "      <td>0</td>\n",
       "      <td>0</td>\n",
       "      <td>2</td>\n",
       "      <td>1</td>\n",
       "      <td>Русский, Укра</td>\n",
       "      <td>2</td>\n",
       "      <td>2.0</td>\n",
       "      <td>4</td>\n",
       "      <td>0</td>\n",
       "    </tr>\n",
       "    <tr>\n",
       "      <th>1</th>\n",
       "      <td>0</td>\n",
       "      <td>36.0</td>\n",
       "      <td>unknown</td>\n",
       "      <td>0</td>\n",
       "      <td>0</td>\n",
       "      <td>2</td>\n",
       "      <td>1</td>\n",
       "      <td>Русский</td>\n",
       "      <td>2</td>\n",
       "      <td>1.0</td>\n",
       "      <td>3</td>\n",
       "      <td>0</td>\n",
       "    </tr>\n",
       "    <tr>\n",
       "      <th>2</th>\n",
       "      <td>1</td>\n",
       "      <td>39.0</td>\n",
       "      <td>unsure</td>\n",
       "      <td>Детей нет</td>\n",
       "      <td>0</td>\n",
       "      <td>2</td>\n",
       "      <td>1</td>\n",
       "      <td>Deutsch</td>\n",
       "      <td>1</td>\n",
       "      <td>1.0</td>\n",
       "      <td>4</td>\n",
       "      <td>5</td>\n",
       "    </tr>\n",
       "    <tr>\n",
       "      <th>3</th>\n",
       "      <td>0</td>\n",
       "      <td>28.0</td>\n",
       "      <td>unsure</td>\n",
       "      <td>0</td>\n",
       "      <td>0</td>\n",
       "      <td>2</td>\n",
       "      <td>1</td>\n",
       "      <td>Русский</td>\n",
       "      <td>2</td>\n",
       "      <td>2.0</td>\n",
       "      <td>2</td>\n",
       "      <td>5</td>\n",
       "    </tr>\n",
       "    <tr>\n",
       "      <th>4</th>\n",
       "      <td>0</td>\n",
       "      <td>44.0</td>\n",
       "      <td>casual</td>\n",
       "      <td>0</td>\n",
       "      <td>0</td>\n",
       "      <td>2</td>\n",
       "      <td>1</td>\n",
       "      <td>Русский</td>\n",
       "      <td>2</td>\n",
       "      <td>1.0</td>\n",
       "      <td>4</td>\n",
       "      <td>1</td>\n",
       "    </tr>\n",
       "  </tbody>\n",
       "</table>\n",
       "</div>"
      ],
      "text/plain": [
       "  about   age simpleaim   children edu gender intrestedin       language live  \\\n",
       "0     0  41.0   unknown          0   0      2           1  Русский, Укра    2   \n",
       "1     0  36.0   unknown          0   0      2           1        Русский    2   \n",
       "2     1  39.0    unsure  Детей нет   0      2           1        Deutsch    1   \n",
       "3     0  28.0    unsure          0   0      2           1        Русский    2   \n",
       "4     0  44.0    casual          0   0      2           1        Русский    2   \n",
       "\n",
       "   rangeAge  simpleage  numaim  \n",
       "0       2.0          4       0  \n",
       "1       1.0          3       0  \n",
       "2       1.0          4       5  \n",
       "3       2.0          2       5  \n",
       "4       1.0          4       1  "
      ]
     },
     "execution_count": 75,
     "metadata": {},
     "output_type": "execute_result"
    }
   ],
   "source": [
    "def numericAim(aim): \n",
    "    if aim == 'casual':\n",
    "        return 1\n",
    "    elif aim == 'relationships':\n",
    "        return 2\n",
    "    elif aim == 'family-person':\n",
    "        return 3\n",
    "    elif aim == 'friendy':\n",
    "        return 4\n",
    "    elif aim == 'unknown':\n",
    "        return 0\n",
    "    elif aim == 'unsure':\n",
    "        return 5\n",
    "    else:\n",
    "        return 1\n",
    "    \n",
    "aims = pd.Series(np.array(mambaml.simpleaim))\n",
    "mambaml['numaim'] = aims.apply(numericAim)    \n",
    "mambaml.head()"
   ]
  },
  {
   "cell_type": "code",
   "execution_count": 76,
   "metadata": {},
   "outputs": [
    {
     "name": "stderr",
     "output_type": "stream",
     "text": [
      "<ipython-input-76-95873144d984>:14: SettingWithCopyWarning: \n",
      "A value is trying to be set on a copy of a slice from a DataFrame.\n",
      "Try using .loc[row_indexer,col_indexer] = value instead\n",
      "\n",
      "See the caveats in the documentation: https://pandas.pydata.org/pandas-docs/stable/user_guide/indexing.html#returning-a-view-versus-a-copy\n",
      "  mambaml['numchildren'] = chil.apply(numericChil)\n"
     ]
    },
    {
     "data": {
      "text/html": [
       "<div>\n",
       "<style scoped>\n",
       "    .dataframe tbody tr th:only-of-type {\n",
       "        vertical-align: middle;\n",
       "    }\n",
       "\n",
       "    .dataframe tbody tr th {\n",
       "        vertical-align: top;\n",
       "    }\n",
       "\n",
       "    .dataframe thead th {\n",
       "        text-align: right;\n",
       "    }\n",
       "</style>\n",
       "<table border=\"1\" class=\"dataframe\">\n",
       "  <thead>\n",
       "    <tr style=\"text-align: right;\">\n",
       "      <th></th>\n",
       "      <th>about</th>\n",
       "      <th>age</th>\n",
       "      <th>simpleaim</th>\n",
       "      <th>children</th>\n",
       "      <th>edu</th>\n",
       "      <th>gender</th>\n",
       "      <th>intrestedin</th>\n",
       "      <th>language</th>\n",
       "      <th>live</th>\n",
       "      <th>rangeAge</th>\n",
       "      <th>simpleage</th>\n",
       "      <th>numaim</th>\n",
       "      <th>numchildren</th>\n",
       "    </tr>\n",
       "  </thead>\n",
       "  <tbody>\n",
       "    <tr>\n",
       "      <th>0</th>\n",
       "      <td>0</td>\n",
       "      <td>41.0</td>\n",
       "      <td>unknown</td>\n",
       "      <td>0</td>\n",
       "      <td>0</td>\n",
       "      <td>2</td>\n",
       "      <td>1</td>\n",
       "      <td>Русский, Укра</td>\n",
       "      <td>2</td>\n",
       "      <td>2.0</td>\n",
       "      <td>4</td>\n",
       "      <td>0</td>\n",
       "      <td>0</td>\n",
       "    </tr>\n",
       "    <tr>\n",
       "      <th>1</th>\n",
       "      <td>0</td>\n",
       "      <td>36.0</td>\n",
       "      <td>unknown</td>\n",
       "      <td>0</td>\n",
       "      <td>0</td>\n",
       "      <td>2</td>\n",
       "      <td>1</td>\n",
       "      <td>Русский</td>\n",
       "      <td>2</td>\n",
       "      <td>1.0</td>\n",
       "      <td>3</td>\n",
       "      <td>0</td>\n",
       "      <td>0</td>\n",
       "    </tr>\n",
       "    <tr>\n",
       "      <th>2</th>\n",
       "      <td>1</td>\n",
       "      <td>39.0</td>\n",
       "      <td>unsure</td>\n",
       "      <td>Детей нет</td>\n",
       "      <td>0</td>\n",
       "      <td>2</td>\n",
       "      <td>1</td>\n",
       "      <td>Deutsch</td>\n",
       "      <td>1</td>\n",
       "      <td>1.0</td>\n",
       "      <td>4</td>\n",
       "      <td>5</td>\n",
       "      <td>1</td>\n",
       "    </tr>\n",
       "    <tr>\n",
       "      <th>3</th>\n",
       "      <td>0</td>\n",
       "      <td>28.0</td>\n",
       "      <td>unsure</td>\n",
       "      <td>0</td>\n",
       "      <td>0</td>\n",
       "      <td>2</td>\n",
       "      <td>1</td>\n",
       "      <td>Русский</td>\n",
       "      <td>2</td>\n",
       "      <td>2.0</td>\n",
       "      <td>2</td>\n",
       "      <td>5</td>\n",
       "      <td>0</td>\n",
       "    </tr>\n",
       "    <tr>\n",
       "      <th>4</th>\n",
       "      <td>0</td>\n",
       "      <td>44.0</td>\n",
       "      <td>casual</td>\n",
       "      <td>0</td>\n",
       "      <td>0</td>\n",
       "      <td>2</td>\n",
       "      <td>1</td>\n",
       "      <td>Русский</td>\n",
       "      <td>2</td>\n",
       "      <td>1.0</td>\n",
       "      <td>4</td>\n",
       "      <td>1</td>\n",
       "      <td>0</td>\n",
       "    </tr>\n",
       "  </tbody>\n",
       "</table>\n",
       "</div>"
      ],
      "text/plain": [
       "  about   age simpleaim   children edu gender intrestedin       language live  \\\n",
       "0     0  41.0   unknown          0   0      2           1  Русский, Укра    2   \n",
       "1     0  36.0   unknown          0   0      2           1        Русский    2   \n",
       "2     1  39.0    unsure  Детей нет   0      2           1        Deutsch    1   \n",
       "3     0  28.0    unsure          0   0      2           1        Русский    2   \n",
       "4     0  44.0    casual          0   0      2           1        Русский    2   \n",
       "\n",
       "   rangeAge  simpleage  numaim  numchildren  \n",
       "0       2.0          4       0            0  \n",
       "1       1.0          3       0            0  \n",
       "2       1.0          4       5            1  \n",
       "3       2.0          2       5            0  \n",
       "4       1.0          4       1            0  "
      ]
     },
     "execution_count": 76,
     "metadata": {},
     "output_type": "execute_result"
    }
   ],
   "source": [
    "def numericChil(chil): \n",
    "    if chil == 'Детей нет':\n",
    "        return 1\n",
    "    elif chil == 'Детей нет, но хочу':\n",
    "        return 2\n",
    "    elif chil == 'Дети есть, живем вместе':\n",
    "        return 3\n",
    "    elif chil == 'Дети есть, живем порознь':\n",
    "        return 4\n",
    "    else:\n",
    "        return 0\n",
    "    \n",
    "chil = pd.Series(np.array(mambaml.children))\n",
    "mambaml['numchildren'] = chil.apply(numericChil)    \n",
    "mambaml.head()"
   ]
  },
  {
   "cell_type": "code",
   "execution_count": 77,
   "metadata": {},
   "outputs": [
    {
     "name": "stderr",
     "output_type": "stream",
     "text": [
      "<ipython-input-77-a621cf62d342>:14: SettingWithCopyWarning: \n",
      "A value is trying to be set on a copy of a slice from a DataFrame.\n",
      "Try using .loc[row_indexer,col_indexer] = value instead\n",
      "\n",
      "See the caveats in the documentation: https://pandas.pydata.org/pandas-docs/stable/user_guide/indexing.html#returning-a-view-versus-a-copy\n",
      "  mambaml['numEdu'] = Edu.apply(numericEdu)\n"
     ]
    },
    {
     "data": {
      "text/html": [
       "<div>\n",
       "<style scoped>\n",
       "    .dataframe tbody tr th:only-of-type {\n",
       "        vertical-align: middle;\n",
       "    }\n",
       "\n",
       "    .dataframe tbody tr th {\n",
       "        vertical-align: top;\n",
       "    }\n",
       "\n",
       "    .dataframe thead th {\n",
       "        text-align: right;\n",
       "    }\n",
       "</style>\n",
       "<table border=\"1\" class=\"dataframe\">\n",
       "  <thead>\n",
       "    <tr style=\"text-align: right;\">\n",
       "      <th></th>\n",
       "      <th>about</th>\n",
       "      <th>age</th>\n",
       "      <th>simpleaim</th>\n",
       "      <th>children</th>\n",
       "      <th>edu</th>\n",
       "      <th>gender</th>\n",
       "      <th>intrestedin</th>\n",
       "      <th>language</th>\n",
       "      <th>live</th>\n",
       "      <th>rangeAge</th>\n",
       "      <th>simpleage</th>\n",
       "      <th>numaim</th>\n",
       "      <th>numchildren</th>\n",
       "      <th>numEdu</th>\n",
       "    </tr>\n",
       "  </thead>\n",
       "  <tbody>\n",
       "    <tr>\n",
       "      <th>0</th>\n",
       "      <td>0</td>\n",
       "      <td>41.0</td>\n",
       "      <td>unknown</td>\n",
       "      <td>0</td>\n",
       "      <td>0</td>\n",
       "      <td>2</td>\n",
       "      <td>1</td>\n",
       "      <td>Русский, Укра</td>\n",
       "      <td>2</td>\n",
       "      <td>2.0</td>\n",
       "      <td>4</td>\n",
       "      <td>0</td>\n",
       "      <td>0</td>\n",
       "      <td>0</td>\n",
       "    </tr>\n",
       "    <tr>\n",
       "      <th>1</th>\n",
       "      <td>0</td>\n",
       "      <td>36.0</td>\n",
       "      <td>unknown</td>\n",
       "      <td>0</td>\n",
       "      <td>0</td>\n",
       "      <td>2</td>\n",
       "      <td>1</td>\n",
       "      <td>Русский</td>\n",
       "      <td>2</td>\n",
       "      <td>1.0</td>\n",
       "      <td>3</td>\n",
       "      <td>0</td>\n",
       "      <td>0</td>\n",
       "      <td>0</td>\n",
       "    </tr>\n",
       "    <tr>\n",
       "      <th>2</th>\n",
       "      <td>1</td>\n",
       "      <td>39.0</td>\n",
       "      <td>unsure</td>\n",
       "      <td>Детей нет</td>\n",
       "      <td>0</td>\n",
       "      <td>2</td>\n",
       "      <td>1</td>\n",
       "      <td>Deutsch</td>\n",
       "      <td>1</td>\n",
       "      <td>1.0</td>\n",
       "      <td>4</td>\n",
       "      <td>5</td>\n",
       "      <td>1</td>\n",
       "      <td>0</td>\n",
       "    </tr>\n",
       "    <tr>\n",
       "      <th>3</th>\n",
       "      <td>0</td>\n",
       "      <td>28.0</td>\n",
       "      <td>unsure</td>\n",
       "      <td>0</td>\n",
       "      <td>0</td>\n",
       "      <td>2</td>\n",
       "      <td>1</td>\n",
       "      <td>Русский</td>\n",
       "      <td>2</td>\n",
       "      <td>2.0</td>\n",
       "      <td>2</td>\n",
       "      <td>5</td>\n",
       "      <td>0</td>\n",
       "      <td>0</td>\n",
       "    </tr>\n",
       "    <tr>\n",
       "      <th>4</th>\n",
       "      <td>0</td>\n",
       "      <td>44.0</td>\n",
       "      <td>casual</td>\n",
       "      <td>0</td>\n",
       "      <td>0</td>\n",
       "      <td>2</td>\n",
       "      <td>1</td>\n",
       "      <td>Русский</td>\n",
       "      <td>2</td>\n",
       "      <td>1.0</td>\n",
       "      <td>4</td>\n",
       "      <td>1</td>\n",
       "      <td>0</td>\n",
       "      <td>0</td>\n",
       "    </tr>\n",
       "  </tbody>\n",
       "</table>\n",
       "</div>"
      ],
      "text/plain": [
       "  about   age simpleaim   children edu gender intrestedin       language live  \\\n",
       "0     0  41.0   unknown          0   0      2           1  Русский, Укра    2   \n",
       "1     0  36.0   unknown          0   0      2           1        Русский    2   \n",
       "2     1  39.0    unsure  Детей нет   0      2           1        Deutsch    1   \n",
       "3     0  28.0    unsure          0   0      2           1        Русский    2   \n",
       "4     0  44.0    casual          0   0      2           1        Русский    2   \n",
       "\n",
       "   rangeAge  simpleage  numaim  numchildren  numEdu  \n",
       "0       2.0          4       0            0       0  \n",
       "1       1.0          3       0            0       0  \n",
       "2       1.0          4       5            1       0  \n",
       "3       2.0          2       5            0       0  \n",
       "4       1.0          4       1            0       0  "
      ]
     },
     "execution_count": 77,
     "metadata": {},
     "output_type": "execute_result"
    }
   ],
   "source": [
    "def numericEdu(Edu): \n",
    "    if Edu == 'Два или более высших':\n",
    "        return 1\n",
    "    elif Edu == 'Высшее':\n",
    "        return 2\n",
    "    elif Edu == 'Среднее':\n",
    "        return 3\n",
    "    elif Edu == 'Учусь':\n",
    "        return 4\n",
    "    else:\n",
    "        return 0\n",
    "    \n",
    "Edu = pd.Series(np.array(mambaml.edu))\n",
    "mambaml['numEdu'] = Edu.apply(numericEdu)    \n",
    "mambaml.head()"
   ]
  },
  {
   "cell_type": "code",
   "execution_count": 78,
   "metadata": {
    "scrolled": true
   },
   "outputs": [
    {
     "name": "stderr",
     "output_type": "stream",
     "text": [
      "<ipython-input-78-a381deb4917b>:13: SettingWithCopyWarning: \n",
      "A value is trying to be set on a copy of a slice from a DataFrame.\n",
      "Try using .loc[row_indexer,col_indexer] = value instead\n",
      "\n",
      "See the caveats in the documentation: https://pandas.pydata.org/pandas-docs/stable/user_guide/indexing.html#returning-a-view-versus-a-copy\n",
      "  mambaml['numLang'] = langs.apply(numericLang)\n"
     ]
    },
    {
     "data": {
      "text/html": [
       "<div>\n",
       "<style scoped>\n",
       "    .dataframe tbody tr th:only-of-type {\n",
       "        vertical-align: middle;\n",
       "    }\n",
       "\n",
       "    .dataframe tbody tr th {\n",
       "        vertical-align: top;\n",
       "    }\n",
       "\n",
       "    .dataframe thead th {\n",
       "        text-align: right;\n",
       "    }\n",
       "</style>\n",
       "<table border=\"1\" class=\"dataframe\">\n",
       "  <thead>\n",
       "    <tr style=\"text-align: right;\">\n",
       "      <th></th>\n",
       "      <th>about</th>\n",
       "      <th>age</th>\n",
       "      <th>simpleaim</th>\n",
       "      <th>children</th>\n",
       "      <th>edu</th>\n",
       "      <th>gender</th>\n",
       "      <th>intrestedin</th>\n",
       "      <th>language</th>\n",
       "      <th>live</th>\n",
       "      <th>rangeAge</th>\n",
       "      <th>simpleage</th>\n",
       "      <th>numaim</th>\n",
       "      <th>numchildren</th>\n",
       "      <th>numEdu</th>\n",
       "      <th>numLang</th>\n",
       "    </tr>\n",
       "  </thead>\n",
       "  <tbody>\n",
       "    <tr>\n",
       "      <th>0</th>\n",
       "      <td>0</td>\n",
       "      <td>41.0</td>\n",
       "      <td>unknown</td>\n",
       "      <td>0</td>\n",
       "      <td>0</td>\n",
       "      <td>2</td>\n",
       "      <td>1</td>\n",
       "      <td>Русский, Укра</td>\n",
       "      <td>2</td>\n",
       "      <td>2.0</td>\n",
       "      <td>4</td>\n",
       "      <td>0</td>\n",
       "      <td>0</td>\n",
       "      <td>0</td>\n",
       "      <td>2</td>\n",
       "    </tr>\n",
       "    <tr>\n",
       "      <th>1</th>\n",
       "      <td>0</td>\n",
       "      <td>36.0</td>\n",
       "      <td>unknown</td>\n",
       "      <td>0</td>\n",
       "      <td>0</td>\n",
       "      <td>2</td>\n",
       "      <td>1</td>\n",
       "      <td>Русский</td>\n",
       "      <td>2</td>\n",
       "      <td>1.0</td>\n",
       "      <td>3</td>\n",
       "      <td>0</td>\n",
       "      <td>0</td>\n",
       "      <td>0</td>\n",
       "      <td>2</td>\n",
       "    </tr>\n",
       "    <tr>\n",
       "      <th>2</th>\n",
       "      <td>1</td>\n",
       "      <td>39.0</td>\n",
       "      <td>unsure</td>\n",
       "      <td>Детей нет</td>\n",
       "      <td>0</td>\n",
       "      <td>2</td>\n",
       "      <td>1</td>\n",
       "      <td>Deutsch</td>\n",
       "      <td>1</td>\n",
       "      <td>1.0</td>\n",
       "      <td>4</td>\n",
       "      <td>5</td>\n",
       "      <td>1</td>\n",
       "      <td>0</td>\n",
       "      <td>0</td>\n",
       "    </tr>\n",
       "    <tr>\n",
       "      <th>3</th>\n",
       "      <td>0</td>\n",
       "      <td>28.0</td>\n",
       "      <td>unsure</td>\n",
       "      <td>0</td>\n",
       "      <td>0</td>\n",
       "      <td>2</td>\n",
       "      <td>1</td>\n",
       "      <td>Русский</td>\n",
       "      <td>2</td>\n",
       "      <td>2.0</td>\n",
       "      <td>2</td>\n",
       "      <td>5</td>\n",
       "      <td>0</td>\n",
       "      <td>0</td>\n",
       "      <td>2</td>\n",
       "    </tr>\n",
       "    <tr>\n",
       "      <th>4</th>\n",
       "      <td>0</td>\n",
       "      <td>44.0</td>\n",
       "      <td>casual</td>\n",
       "      <td>0</td>\n",
       "      <td>0</td>\n",
       "      <td>2</td>\n",
       "      <td>1</td>\n",
       "      <td>Русский</td>\n",
       "      <td>2</td>\n",
       "      <td>1.0</td>\n",
       "      <td>4</td>\n",
       "      <td>1</td>\n",
       "      <td>0</td>\n",
       "      <td>0</td>\n",
       "      <td>2</td>\n",
       "    </tr>\n",
       "  </tbody>\n",
       "</table>\n",
       "</div>"
      ],
      "text/plain": [
       "  about   age simpleaim   children edu gender intrestedin       language live  \\\n",
       "0     0  41.0   unknown          0   0      2           1  Русский, Укра    2   \n",
       "1     0  36.0   unknown          0   0      2           1        Русский    2   \n",
       "2     1  39.0    unsure  Детей нет   0      2           1        Deutsch    1   \n",
       "3     0  28.0    unsure          0   0      2           1        Русский    2   \n",
       "4     0  44.0    casual          0   0      2           1        Русский    2   \n",
       "\n",
       "   rangeAge  simpleage  numaim  numchildren  numEdu  numLang  \n",
       "0       2.0          4       0            0       0        2  \n",
       "1       1.0          3       0            0       0        2  \n",
       "2       1.0          4       5            1       0        0  \n",
       "3       2.0          2       5            0       0        2  \n",
       "4       1.0          4       1            0       0        2  "
      ]
     },
     "execution_count": 78,
     "metadata": {},
     "output_type": "execute_result"
    }
   ],
   "source": [
    "def numericLang(lang): \n",
    "    try:\n",
    "        if 'Русский' in lang:\n",
    "            return 2\n",
    "        elif 'English' in lang:\n",
    "            return 1\n",
    "        else:\n",
    "            return 0\n",
    "    except:\n",
    "        return 0\n",
    "    \n",
    "langs = pd.Series(np.array(mambaml.language))\n",
    "mambaml['numLang'] = langs.apply(numericLang)    \n",
    "mambaml.head()"
   ]
  },
  {
   "cell_type": "code",
   "execution_count": 79,
   "metadata": {
    "scrolled": true
   },
   "outputs": [
    {
     "data": {
      "text/plain": [
       "Index(['about', 'age', 'simpleaim', 'children', 'edu', 'gender', 'intrestedin',\n",
       "       'language', 'live', 'rangeAge', 'simpleage', 'numaim', 'numchildren',\n",
       "       'numEdu', 'numLang'],\n",
       "      dtype='object')"
      ]
     },
     "execution_count": 79,
     "metadata": {},
     "output_type": "execute_result"
    }
   ],
   "source": [
    "mambaml.columns"
   ]
  },
  {
   "cell_type": "code",
   "execution_count": 118,
   "metadata": {},
   "outputs": [
    {
     "data": {
      "text/html": [
       "<div>\n",
       "<style scoped>\n",
       "    .dataframe tbody tr th:only-of-type {\n",
       "        vertical-align: middle;\n",
       "    }\n",
       "\n",
       "    .dataframe tbody tr th {\n",
       "        vertical-align: top;\n",
       "    }\n",
       "\n",
       "    .dataframe thead th {\n",
       "        text-align: right;\n",
       "    }\n",
       "</style>\n",
       "<table border=\"1\" class=\"dataframe\">\n",
       "  <thead>\n",
       "    <tr style=\"text-align: right;\">\n",
       "      <th></th>\n",
       "      <th>about</th>\n",
       "      <th>gender</th>\n",
       "      <th>live</th>\n",
       "      <th>rangeAge</th>\n",
       "      <th>numaim</th>\n",
       "      <th>numchildren</th>\n",
       "      <th>numEdu</th>\n",
       "    </tr>\n",
       "  </thead>\n",
       "  <tbody>\n",
       "    <tr>\n",
       "      <th>0</th>\n",
       "      <td>0</td>\n",
       "      <td>2</td>\n",
       "      <td>2</td>\n",
       "      <td>2.0</td>\n",
       "      <td>0</td>\n",
       "      <td>0</td>\n",
       "      <td>0</td>\n",
       "    </tr>\n",
       "    <tr>\n",
       "      <th>1</th>\n",
       "      <td>0</td>\n",
       "      <td>2</td>\n",
       "      <td>2</td>\n",
       "      <td>1.0</td>\n",
       "      <td>0</td>\n",
       "      <td>0</td>\n",
       "      <td>0</td>\n",
       "    </tr>\n",
       "    <tr>\n",
       "      <th>2</th>\n",
       "      <td>1</td>\n",
       "      <td>2</td>\n",
       "      <td>1</td>\n",
       "      <td>1.0</td>\n",
       "      <td>5</td>\n",
       "      <td>1</td>\n",
       "      <td>0</td>\n",
       "    </tr>\n",
       "    <tr>\n",
       "      <th>3</th>\n",
       "      <td>0</td>\n",
       "      <td>2</td>\n",
       "      <td>2</td>\n",
       "      <td>2.0</td>\n",
       "      <td>5</td>\n",
       "      <td>0</td>\n",
       "      <td>0</td>\n",
       "    </tr>\n",
       "    <tr>\n",
       "      <th>4</th>\n",
       "      <td>0</td>\n",
       "      <td>2</td>\n",
       "      <td>2</td>\n",
       "      <td>1.0</td>\n",
       "      <td>1</td>\n",
       "      <td>0</td>\n",
       "      <td>0</td>\n",
       "    </tr>\n",
       "  </tbody>\n",
       "</table>\n",
       "</div>"
      ],
      "text/plain": [
       "  about gender live  rangeAge  numaim  numchildren  numEdu\n",
       "0     0      2    2       2.0       0            0       0\n",
       "1     0      2    2       1.0       0            0       0\n",
       "2     1      2    1       1.0       5            1       0\n",
       "3     0      2    2       2.0       5            0       0\n",
       "4     0      2    2       1.0       1            0       0"
      ]
     },
     "execution_count": 118,
     "metadata": {},
     "output_type": "execute_result"
    }
   ],
   "source": [
    "mldf = mambaml[['about', 'gender', 'live', 'rangeAge', 'numaim', 'numchildren', 'numEdu']]\n",
    "mldf.head()"
   ]
  },
  {
   "cell_type": "code",
   "execution_count": 119,
   "metadata": {},
   "outputs": [
    {
     "name": "stderr",
     "output_type": "stream",
     "text": [
      "<ipython-input-119-3775d1a0f1b1>:1: SettingWithCopyWarning: \n",
      "A value is trying to be set on a copy of a slice from a DataFrame.\n",
      "Try using .loc[row_indexer,col_indexer] = value instead\n",
      "\n",
      "See the caveats in the documentation: https://pandas.pydata.org/pandas-docs/stable/user_guide/indexing.html#returning-a-view-versus-a-copy\n",
      "  mldf['rangeAge'] = mldf.rangeAge.astype(int)\n"
     ]
    },
    {
     "data": {
      "text/html": [
       "<div>\n",
       "<style scoped>\n",
       "    .dataframe tbody tr th:only-of-type {\n",
       "        vertical-align: middle;\n",
       "    }\n",
       "\n",
       "    .dataframe tbody tr th {\n",
       "        vertical-align: top;\n",
       "    }\n",
       "\n",
       "    .dataframe thead th {\n",
       "        text-align: right;\n",
       "    }\n",
       "</style>\n",
       "<table border=\"1\" class=\"dataframe\">\n",
       "  <thead>\n",
       "    <tr style=\"text-align: right;\">\n",
       "      <th></th>\n",
       "      <th>about</th>\n",
       "      <th>gender</th>\n",
       "      <th>live</th>\n",
       "      <th>rangeAge</th>\n",
       "      <th>numaim</th>\n",
       "      <th>numchildren</th>\n",
       "      <th>numEdu</th>\n",
       "    </tr>\n",
       "  </thead>\n",
       "  <tbody>\n",
       "    <tr>\n",
       "      <th>0</th>\n",
       "      <td>0</td>\n",
       "      <td>2</td>\n",
       "      <td>2</td>\n",
       "      <td>2</td>\n",
       "      <td>0</td>\n",
       "      <td>0</td>\n",
       "      <td>0</td>\n",
       "    </tr>\n",
       "    <tr>\n",
       "      <th>1</th>\n",
       "      <td>0</td>\n",
       "      <td>2</td>\n",
       "      <td>2</td>\n",
       "      <td>1</td>\n",
       "      <td>0</td>\n",
       "      <td>0</td>\n",
       "      <td>0</td>\n",
       "    </tr>\n",
       "    <tr>\n",
       "      <th>2</th>\n",
       "      <td>1</td>\n",
       "      <td>2</td>\n",
       "      <td>1</td>\n",
       "      <td>1</td>\n",
       "      <td>5</td>\n",
       "      <td>1</td>\n",
       "      <td>0</td>\n",
       "    </tr>\n",
       "    <tr>\n",
       "      <th>3</th>\n",
       "      <td>0</td>\n",
       "      <td>2</td>\n",
       "      <td>2</td>\n",
       "      <td>2</td>\n",
       "      <td>5</td>\n",
       "      <td>0</td>\n",
       "      <td>0</td>\n",
       "    </tr>\n",
       "    <tr>\n",
       "      <th>4</th>\n",
       "      <td>0</td>\n",
       "      <td>2</td>\n",
       "      <td>2</td>\n",
       "      <td>1</td>\n",
       "      <td>1</td>\n",
       "      <td>0</td>\n",
       "      <td>0</td>\n",
       "    </tr>\n",
       "  </tbody>\n",
       "</table>\n",
       "</div>"
      ],
      "text/plain": [
       "  about gender live  rangeAge  numaim  numchildren  numEdu\n",
       "0     0      2    2         2       0            0       0\n",
       "1     0      2    2         1       0            0       0\n",
       "2     1      2    1         1       5            1       0\n",
       "3     0      2    2         2       5            0       0\n",
       "4     0      2    2         1       1            0       0"
      ]
     },
     "execution_count": 119,
     "metadata": {},
     "output_type": "execute_result"
    }
   ],
   "source": [
    "mldf['rangeAge'] = mldf.rangeAge.astype(int)\n",
    "mldf.head()"
   ]
  },
  {
   "cell_type": "code",
   "execution_count": 126,
   "metadata": {},
   "outputs": [],
   "source": [
    "mldf.to_csv('mambaml.csv', index=False)"
   ]
  },
  {
   "cell_type": "markdown",
   "metadata": {},
   "source": [
    "### Алгоритм классификации"
   ]
  },
  {
   "cell_type": "code",
   "execution_count": 1,
   "metadata": {},
   "outputs": [],
   "source": [
    "import pandas as pd\n",
    "import numpy as np \n",
    "import matplotlib.pyplot as plt\n",
    "import seaborn as sns \n",
    "from sklearn.cluster import KMeans\n",
    "\n",
    "df = pd.read_csv('mambaml.csv')"
   ]
  },
  {
   "cell_type": "code",
   "execution_count": 2,
   "metadata": {},
   "outputs": [
    {
     "data": {
      "text/html": [
       "<div>\n",
       "<style scoped>\n",
       "    .dataframe tbody tr th:only-of-type {\n",
       "        vertical-align: middle;\n",
       "    }\n",
       "\n",
       "    .dataframe tbody tr th {\n",
       "        vertical-align: top;\n",
       "    }\n",
       "\n",
       "    .dataframe thead th {\n",
       "        text-align: right;\n",
       "    }\n",
       "</style>\n",
       "<table border=\"1\" class=\"dataframe\">\n",
       "  <thead>\n",
       "    <tr style=\"text-align: right;\">\n",
       "      <th></th>\n",
       "      <th>about</th>\n",
       "      <th>gender</th>\n",
       "      <th>live</th>\n",
       "      <th>rangeAge</th>\n",
       "      <th>numaim</th>\n",
       "      <th>numchildren</th>\n",
       "      <th>numEdu</th>\n",
       "    </tr>\n",
       "  </thead>\n",
       "  <tbody>\n",
       "    <tr>\n",
       "      <th>0</th>\n",
       "      <td>0</td>\n",
       "      <td>2</td>\n",
       "      <td>2</td>\n",
       "      <td>2</td>\n",
       "      <td>0</td>\n",
       "      <td>0</td>\n",
       "      <td>0</td>\n",
       "    </tr>\n",
       "    <tr>\n",
       "      <th>1</th>\n",
       "      <td>0</td>\n",
       "      <td>2</td>\n",
       "      <td>2</td>\n",
       "      <td>1</td>\n",
       "      <td>0</td>\n",
       "      <td>0</td>\n",
       "      <td>0</td>\n",
       "    </tr>\n",
       "    <tr>\n",
       "      <th>2</th>\n",
       "      <td>1</td>\n",
       "      <td>2</td>\n",
       "      <td>1</td>\n",
       "      <td>1</td>\n",
       "      <td>5</td>\n",
       "      <td>1</td>\n",
       "      <td>0</td>\n",
       "    </tr>\n",
       "    <tr>\n",
       "      <th>3</th>\n",
       "      <td>0</td>\n",
       "      <td>2</td>\n",
       "      <td>2</td>\n",
       "      <td>2</td>\n",
       "      <td>5</td>\n",
       "      <td>0</td>\n",
       "      <td>0</td>\n",
       "    </tr>\n",
       "    <tr>\n",
       "      <th>4</th>\n",
       "      <td>0</td>\n",
       "      <td>2</td>\n",
       "      <td>2</td>\n",
       "      <td>1</td>\n",
       "      <td>1</td>\n",
       "      <td>0</td>\n",
       "      <td>0</td>\n",
       "    </tr>\n",
       "    <tr>\n",
       "      <th>...</th>\n",
       "      <td>...</td>\n",
       "      <td>...</td>\n",
       "      <td>...</td>\n",
       "      <td>...</td>\n",
       "      <td>...</td>\n",
       "      <td>...</td>\n",
       "      <td>...</td>\n",
       "    </tr>\n",
       "    <tr>\n",
       "      <th>239982</th>\n",
       "      <td>0</td>\n",
       "      <td>1</td>\n",
       "      <td>2</td>\n",
       "      <td>1</td>\n",
       "      <td>0</td>\n",
       "      <td>0</td>\n",
       "      <td>0</td>\n",
       "    </tr>\n",
       "    <tr>\n",
       "      <th>239983</th>\n",
       "      <td>0</td>\n",
       "      <td>1</td>\n",
       "      <td>2</td>\n",
       "      <td>2</td>\n",
       "      <td>5</td>\n",
       "      <td>1</td>\n",
       "      <td>2</td>\n",
       "    </tr>\n",
       "    <tr>\n",
       "      <th>239984</th>\n",
       "      <td>0</td>\n",
       "      <td>1</td>\n",
       "      <td>2</td>\n",
       "      <td>1</td>\n",
       "      <td>0</td>\n",
       "      <td>0</td>\n",
       "      <td>0</td>\n",
       "    </tr>\n",
       "    <tr>\n",
       "      <th>239985</th>\n",
       "      <td>0</td>\n",
       "      <td>1</td>\n",
       "      <td>2</td>\n",
       "      <td>1</td>\n",
       "      <td>1</td>\n",
       "      <td>0</td>\n",
       "      <td>0</td>\n",
       "    </tr>\n",
       "    <tr>\n",
       "      <th>239986</th>\n",
       "      <td>0</td>\n",
       "      <td>1</td>\n",
       "      <td>2</td>\n",
       "      <td>2</td>\n",
       "      <td>2</td>\n",
       "      <td>0</td>\n",
       "      <td>0</td>\n",
       "    </tr>\n",
       "  </tbody>\n",
       "</table>\n",
       "<p>239987 rows × 7 columns</p>\n",
       "</div>"
      ],
      "text/plain": [
       "        about  gender  live  rangeAge  numaim  numchildren  numEdu\n",
       "0           0       2     2         2       0            0       0\n",
       "1           0       2     2         1       0            0       0\n",
       "2           1       2     1         1       5            1       0\n",
       "3           0       2     2         2       5            0       0\n",
       "4           0       2     2         1       1            0       0\n",
       "...       ...     ...   ...       ...     ...          ...     ...\n",
       "239982      0       1     2         1       0            0       0\n",
       "239983      0       1     2         2       5            1       2\n",
       "239984      0       1     2         1       0            0       0\n",
       "239985      0       1     2         1       1            0       0\n",
       "239986      0       1     2         2       2            0       0\n",
       "\n",
       "[239987 rows x 7 columns]"
      ]
     },
     "execution_count": 2,
     "metadata": {},
     "output_type": "execute_result"
    }
   ],
   "source": [
    "features = df[df.columns]\n",
    "features"
   ]
  },
  {
   "cell_type": "code",
   "execution_count": 129,
   "metadata": {},
   "outputs": [
    {
     "data": {
      "image/png": "[encoded data removed]",
      "text/plain": [
       "<Figure size 432x288 with 1 Axes>"
      ]
     },
     "metadata": {
      "needs_background": "light"
     },
     "output_type": "display_data"
    }
   ],
   "source": [
    "Sum_of_squared_distances = []\n",
    "K = range(1,8)\n",
    "for k in K:\n",
    "    km = KMeans(n_clusters=k)\n",
    "    km = km.fit(features)\n",
    "    Sum_of_squared_distances.append(km.inertia_)\n",
    "plt.plot(K, Sum_of_squared_distances, 'bx-')\n",
    "plt.xlabel('k')\n",
    "plt.ylabel('Sum_of_squared_distances')\n",
    "plt.title('Elbow Method For Optimal k')\n",
    "plt.show()   "
   ]
  },
  {
   "cell_type": "code",
   "execution_count": 3,
   "metadata": {},
   "outputs": [],
   "source": [
    "K_model = KMeans(4).fit(features)\n",
    "df['cluster4'] = K_model.fit_predict(features)"
   ]
  },
  {
   "cell_type": "code",
   "execution_count": 4,
   "metadata": {},
   "outputs": [
    {
     "name": "stdout",
     "output_type": "stream",
     "text": [
      "this is cluster 0\n"
     ]
    },
    {
     "data": {
      "text/html": [
       "<div>\n",
       "<style scoped>\n",
       "    .dataframe tbody tr th:only-of-type {\n",
       "        vertical-align: middle;\n",
       "    }\n",
       "\n",
       "    .dataframe tbody tr th {\n",
       "        vertical-align: top;\n",
       "    }\n",
       "\n",
       "    .dataframe thead th {\n",
       "        text-align: right;\n",
       "    }\n",
       "</style>\n",
       "<table border=\"1\" class=\"dataframe\">\n",
       "  <thead>\n",
       "    <tr style=\"text-align: right;\">\n",
       "      <th></th>\n",
       "      <th>about</th>\n",
       "      <th>gender</th>\n",
       "      <th>live</th>\n",
       "      <th>rangeAge</th>\n",
       "      <th>numaim</th>\n",
       "      <th>numchildren</th>\n",
       "      <th>numEdu</th>\n",
       "      <th>cluster4</th>\n",
       "    </tr>\n",
       "  </thead>\n",
       "  <tbody>\n",
       "    <tr>\n",
       "      <th>0</th>\n",
       "      <td>0</td>\n",
       "      <td>2</td>\n",
       "      <td>2</td>\n",
       "      <td>2</td>\n",
       "      <td>0</td>\n",
       "      <td>0</td>\n",
       "      <td>0</td>\n",
       "      <td>0</td>\n",
       "    </tr>\n",
       "    <tr>\n",
       "      <th>1</th>\n",
       "      <td>0</td>\n",
       "      <td>2</td>\n",
       "      <td>2</td>\n",
       "      <td>1</td>\n",
       "      <td>0</td>\n",
       "      <td>0</td>\n",
       "      <td>0</td>\n",
       "      <td>0</td>\n",
       "    </tr>\n",
       "    <tr>\n",
       "      <th>10</th>\n",
       "      <td>0</td>\n",
       "      <td>2</td>\n",
       "      <td>2</td>\n",
       "      <td>1</td>\n",
       "      <td>0</td>\n",
       "      <td>0</td>\n",
       "      <td>0</td>\n",
       "      <td>0</td>\n",
       "    </tr>\n",
       "    <tr>\n",
       "      <th>11</th>\n",
       "      <td>0</td>\n",
       "      <td>2</td>\n",
       "      <td>2</td>\n",
       "      <td>2</td>\n",
       "      <td>0</td>\n",
       "      <td>0</td>\n",
       "      <td>0</td>\n",
       "      <td>0</td>\n",
       "    </tr>\n",
       "    <tr>\n",
       "      <th>14</th>\n",
       "      <td>0</td>\n",
       "      <td>2</td>\n",
       "      <td>2</td>\n",
       "      <td>1</td>\n",
       "      <td>0</td>\n",
       "      <td>0</td>\n",
       "      <td>0</td>\n",
       "      <td>0</td>\n",
       "    </tr>\n",
       "  </tbody>\n",
       "</table>\n",
       "</div>"
      ],
      "text/plain": [
       "    about  gender  live  rangeAge  numaim  numchildren  numEdu  cluster4\n",
       "0       0       2     2         2       0            0       0         0\n",
       "1       0       2     2         1       0            0       0         0\n",
       "10      0       2     2         1       0            0       0         0\n",
       "11      0       2     2         2       0            0       0         0\n",
       "14      0       2     2         1       0            0       0         0"
      ]
     },
     "metadata": {},
     "output_type": "display_data"
    },
    {
     "name": "stdout",
     "output_type": "stream",
     "text": [
      "this is cluster 1\n"
     ]
    },
    {
     "data": {
      "text/html": [
       "<div>\n",
       "<style scoped>\n",
       "    .dataframe tbody tr th:only-of-type {\n",
       "        vertical-align: middle;\n",
       "    }\n",
       "\n",
       "    .dataframe tbody tr th {\n",
       "        vertical-align: top;\n",
       "    }\n",
       "\n",
       "    .dataframe thead th {\n",
       "        text-align: right;\n",
       "    }\n",
       "</style>\n",
       "<table border=\"1\" class=\"dataframe\">\n",
       "  <thead>\n",
       "    <tr style=\"text-align: right;\">\n",
       "      <th></th>\n",
       "      <th>about</th>\n",
       "      <th>gender</th>\n",
       "      <th>live</th>\n",
       "      <th>rangeAge</th>\n",
       "      <th>numaim</th>\n",
       "      <th>numchildren</th>\n",
       "      <th>numEdu</th>\n",
       "      <th>cluster4</th>\n",
       "    </tr>\n",
       "  </thead>\n",
       "  <tbody>\n",
       "    <tr>\n",
       "      <th>2</th>\n",
       "      <td>1</td>\n",
       "      <td>2</td>\n",
       "      <td>1</td>\n",
       "      <td>1</td>\n",
       "      <td>5</td>\n",
       "      <td>1</td>\n",
       "      <td>0</td>\n",
       "      <td>1</td>\n",
       "    </tr>\n",
       "    <tr>\n",
       "      <th>3</th>\n",
       "      <td>0</td>\n",
       "      <td>2</td>\n",
       "      <td>2</td>\n",
       "      <td>2</td>\n",
       "      <td>5</td>\n",
       "      <td>0</td>\n",
       "      <td>0</td>\n",
       "      <td>1</td>\n",
       "    </tr>\n",
       "    <tr>\n",
       "      <th>5</th>\n",
       "      <td>1</td>\n",
       "      <td>2</td>\n",
       "      <td>2</td>\n",
       "      <td>2</td>\n",
       "      <td>4</td>\n",
       "      <td>3</td>\n",
       "      <td>3</td>\n",
       "      <td>1</td>\n",
       "    </tr>\n",
       "    <tr>\n",
       "      <th>6</th>\n",
       "      <td>0</td>\n",
       "      <td>2</td>\n",
       "      <td>1</td>\n",
       "      <td>1</td>\n",
       "      <td>4</td>\n",
       "      <td>3</td>\n",
       "      <td>3</td>\n",
       "      <td>1</td>\n",
       "    </tr>\n",
       "    <tr>\n",
       "      <th>8</th>\n",
       "      <td>0</td>\n",
       "      <td>2</td>\n",
       "      <td>2</td>\n",
       "      <td>1</td>\n",
       "      <td>5</td>\n",
       "      <td>3</td>\n",
       "      <td>2</td>\n",
       "      <td>1</td>\n",
       "    </tr>\n",
       "  </tbody>\n",
       "</table>\n",
       "</div>"
      ],
      "text/plain": [
       "   about  gender  live  rangeAge  numaim  numchildren  numEdu  cluster4\n",
       "2      1       2     1         1       5            1       0         1\n",
       "3      0       2     2         2       5            0       0         1\n",
       "5      1       2     2         2       4            3       3         1\n",
       "6      0       2     1         1       4            3       3         1\n",
       "8      0       2     2         1       5            3       2         1"
      ]
     },
     "metadata": {},
     "output_type": "display_data"
    },
    {
     "name": "stdout",
     "output_type": "stream",
     "text": [
      "this is cluster 2\n"
     ]
    },
    {
     "data": {
      "text/html": [
       "<div>\n",
       "<style scoped>\n",
       "    .dataframe tbody tr th:only-of-type {\n",
       "        vertical-align: middle;\n",
       "    }\n",
       "\n",
       "    .dataframe tbody tr th {\n",
       "        vertical-align: top;\n",
       "    }\n",
       "\n",
       "    .dataframe thead th {\n",
       "        text-align: right;\n",
       "    }\n",
       "</style>\n",
       "<table border=\"1\" class=\"dataframe\">\n",
       "  <thead>\n",
       "    <tr style=\"text-align: right;\">\n",
       "      <th></th>\n",
       "      <th>about</th>\n",
       "      <th>gender</th>\n",
       "      <th>live</th>\n",
       "      <th>rangeAge</th>\n",
       "      <th>numaim</th>\n",
       "      <th>numchildren</th>\n",
       "      <th>numEdu</th>\n",
       "      <th>cluster4</th>\n",
       "    </tr>\n",
       "  </thead>\n",
       "  <tbody>\n",
       "    <tr>\n",
       "      <th>4</th>\n",
       "      <td>0</td>\n",
       "      <td>2</td>\n",
       "      <td>2</td>\n",
       "      <td>1</td>\n",
       "      <td>1</td>\n",
       "      <td>0</td>\n",
       "      <td>0</td>\n",
       "      <td>2</td>\n",
       "    </tr>\n",
       "    <tr>\n",
       "      <th>61</th>\n",
       "      <td>0</td>\n",
       "      <td>2</td>\n",
       "      <td>2</td>\n",
       "      <td>2</td>\n",
       "      <td>2</td>\n",
       "      <td>0</td>\n",
       "      <td>0</td>\n",
       "      <td>2</td>\n",
       "    </tr>\n",
       "    <tr>\n",
       "      <th>67</th>\n",
       "      <td>0</td>\n",
       "      <td>2</td>\n",
       "      <td>2</td>\n",
       "      <td>1</td>\n",
       "      <td>2</td>\n",
       "      <td>0</td>\n",
       "      <td>0</td>\n",
       "      <td>2</td>\n",
       "    </tr>\n",
       "    <tr>\n",
       "      <th>121</th>\n",
       "      <td>0</td>\n",
       "      <td>2</td>\n",
       "      <td>1</td>\n",
       "      <td>2</td>\n",
       "      <td>2</td>\n",
       "      <td>1</td>\n",
       "      <td>0</td>\n",
       "      <td>2</td>\n",
       "    </tr>\n",
       "    <tr>\n",
       "      <th>128</th>\n",
       "      <td>0</td>\n",
       "      <td>2</td>\n",
       "      <td>2</td>\n",
       "      <td>1</td>\n",
       "      <td>2</td>\n",
       "      <td>0</td>\n",
       "      <td>0</td>\n",
       "      <td>2</td>\n",
       "    </tr>\n",
       "  </tbody>\n",
       "</table>\n",
       "</div>"
      ],
      "text/plain": [
       "     about  gender  live  rangeAge  numaim  numchildren  numEdu  cluster4\n",
       "4        0       2     2         1       1            0       0         2\n",
       "61       0       2     2         2       2            0       0         2\n",
       "67       0       2     2         1       2            0       0         2\n",
       "121      0       2     1         2       2            1       0         2\n",
       "128      0       2     2         1       2            0       0         2"
      ]
     },
     "metadata": {},
     "output_type": "display_data"
    },
    {
     "name": "stdout",
     "output_type": "stream",
     "text": [
      "this is cluster 3\n"
     ]
    },
    {
     "data": {
      "text/html": [
       "<div>\n",
       "<style scoped>\n",
       "    .dataframe tbody tr th:only-of-type {\n",
       "        vertical-align: middle;\n",
       "    }\n",
       "\n",
       "    .dataframe tbody tr th {\n",
       "        vertical-align: top;\n",
       "    }\n",
       "\n",
       "    .dataframe thead th {\n",
       "        text-align: right;\n",
       "    }\n",
       "</style>\n",
       "<table border=\"1\" class=\"dataframe\">\n",
       "  <thead>\n",
       "    <tr style=\"text-align: right;\">\n",
       "      <th></th>\n",
       "      <th>about</th>\n",
       "      <th>gender</th>\n",
       "      <th>live</th>\n",
       "      <th>rangeAge</th>\n",
       "      <th>numaim</th>\n",
       "      <th>numchildren</th>\n",
       "      <th>numEdu</th>\n",
       "      <th>cluster4</th>\n",
       "    </tr>\n",
       "  </thead>\n",
       "  <tbody>\n",
       "    <tr>\n",
       "      <th>7</th>\n",
       "      <td>0</td>\n",
       "      <td>2</td>\n",
       "      <td>1</td>\n",
       "      <td>1</td>\n",
       "      <td>2</td>\n",
       "      <td>1</td>\n",
       "      <td>2</td>\n",
       "      <td>3</td>\n",
       "    </tr>\n",
       "    <tr>\n",
       "      <th>9</th>\n",
       "      <td>1</td>\n",
       "      <td>2</td>\n",
       "      <td>1</td>\n",
       "      <td>2</td>\n",
       "      <td>1</td>\n",
       "      <td>1</td>\n",
       "      <td>2</td>\n",
       "      <td>3</td>\n",
       "    </tr>\n",
       "    <tr>\n",
       "      <th>57</th>\n",
       "      <td>0</td>\n",
       "      <td>2</td>\n",
       "      <td>2</td>\n",
       "      <td>2</td>\n",
       "      <td>1</td>\n",
       "      <td>0</td>\n",
       "      <td>2</td>\n",
       "      <td>3</td>\n",
       "    </tr>\n",
       "    <tr>\n",
       "      <th>59</th>\n",
       "      <td>0</td>\n",
       "      <td>2</td>\n",
       "      <td>1</td>\n",
       "      <td>2</td>\n",
       "      <td>2</td>\n",
       "      <td>3</td>\n",
       "      <td>2</td>\n",
       "      <td>3</td>\n",
       "    </tr>\n",
       "    <tr>\n",
       "      <th>70</th>\n",
       "      <td>0</td>\n",
       "      <td>2</td>\n",
       "      <td>1</td>\n",
       "      <td>2</td>\n",
       "      <td>3</td>\n",
       "      <td>3</td>\n",
       "      <td>2</td>\n",
       "      <td>3</td>\n",
       "    </tr>\n",
       "  </tbody>\n",
       "</table>\n",
       "</div>"
      ],
      "text/plain": [
       "    about  gender  live  rangeAge  numaim  numchildren  numEdu  cluster4\n",
       "7       0       2     1         1       2            1       2         3\n",
       "9       1       2     1         2       1            1       2         3\n",
       "57      0       2     2         2       1            0       2         3\n",
       "59      0       2     1         2       2            3       2         3\n",
       "70      0       2     1         2       3            3       2         3"
      ]
     },
     "metadata": {},
     "output_type": "display_data"
    }
   ],
   "source": [
    "dict_clust = {'cluster' : [], 'feature' : [], 'valuesCount' : [], 'featureValue' : []}\n",
    "for clust in df.cluster4.unique():\n",
    "    print('this is cluster ' +str(clust))\n",
    "    dfclut = df.loc[df['cluster4'] == clust]\n",
    "    display(dfclut.head())\n",
    "    for feat in dfclut.columns[:-1]:\n",
    "        for _ in dfclut[feat].value_counts().index:\n",
    "            dict_clust['cluster'].append(clust)\n",
    "            dict_clust['feature'].append(feat)\n",
    "\n",
    "            dict_clust['featureValue'].append(_)\n",
    "            dict_clust['valuesCount'].append(dfclut[feat].value_counts()[_])\n",
    "        "
   ]
  },
  {
   "cell_type": "code",
   "execution_count": 8,
   "metadata": {
    "scrolled": false
   },
   "outputs": [
    {
     "data": {
      "text/html": [
       "<div>\n",
       "<style scoped>\n",
       "    .dataframe tbody tr th:only-of-type {\n",
       "        vertical-align: middle;\n",
       "    }\n",
       "\n",
       "    .dataframe tbody tr th {\n",
       "        vertical-align: top;\n",
       "    }\n",
       "\n",
       "    .dataframe thead th {\n",
       "        text-align: right;\n",
       "    }\n",
       "</style>\n",
       "<table border=\"1\" class=\"dataframe\">\n",
       "  <thead>\n",
       "    <tr style=\"text-align: right;\">\n",
       "      <th></th>\n",
       "      <th>cluster</th>\n",
       "      <th>feature</th>\n",
       "      <th>valuesCount</th>\n",
       "      <th>featureValue</th>\n",
       "    </tr>\n",
       "  </thead>\n",
       "  <tbody>\n",
       "    <tr>\n",
       "      <th>0</th>\n",
       "      <td>0</td>\n",
       "      <td>about</td>\n",
       "      <td>98637</td>\n",
       "      <td>0</td>\n",
       "    </tr>\n",
       "    <tr>\n",
       "      <th>1</th>\n",
       "      <td>0</td>\n",
       "      <td>about</td>\n",
       "      <td>623</td>\n",
       "      <td>1</td>\n",
       "    </tr>\n",
       "    <tr>\n",
       "      <th>2</th>\n",
       "      <td>0</td>\n",
       "      <td>gender</td>\n",
       "      <td>53106</td>\n",
       "      <td>2</td>\n",
       "    </tr>\n",
       "    <tr>\n",
       "      <th>3</th>\n",
       "      <td>0</td>\n",
       "      <td>gender</td>\n",
       "      <td>46154</td>\n",
       "      <td>1</td>\n",
       "    </tr>\n",
       "    <tr>\n",
       "      <th>4</th>\n",
       "      <td>0</td>\n",
       "      <td>live</td>\n",
       "      <td>99029</td>\n",
       "      <td>2</td>\n",
       "    </tr>\n",
       "  </tbody>\n",
       "</table>\n",
       "</div>"
      ],
      "text/plain": [
       "   cluster feature  valuesCount  featureValue\n",
       "0        0   about        98637             0\n",
       "1        0   about          623             1\n",
       "2        0  gender        53106             2\n",
       "3        0  gender        46154             1\n",
       "4        0    live        99029             2"
      ]
     },
     "execution_count": 8,
     "metadata": {},
     "output_type": "execute_result"
    }
   ],
   "source": [
    "dfResClusts = pd.DataFrame.from_dict(dict_clust)\n",
    "dfResClusts.head()"
   ]
  },
  {
   "cell_type": "code",
   "execution_count": 34,
   "metadata": {
    "scrolled": true
   },
   "outputs": [
    {
     "data": {
      "application/vnd.plotly.v1+json": {
       "config": {
        "plotlyServerURL": "https://plot.ly"
       },
       "data": [
        {
         "alignmentgroup": "True",
         "hovertemplate": "cluster=0<br>feature=about<br>featureValue=%{x}<br>valuesCount=%{y}<extra></extra>",
         "legendgroup": "",
         "marker": {
          "color": "#636efa",
          "pattern": {
           "shape": ""
          }
         },
         "name": "",
         "offsetgroup": "",
         "orientation": "v",
         "showlegend": false,
         "textposition": "auto",
         "type": "bar",
         "x": [
          0,
          1
         ],
         "xaxis": "x22",
         "y": [
          98637,
          623
         ],
         "yaxis": "y22"
        },
        {
         "alignmentgroup": "True",
         "hovertemplate": "cluster=0<br>feature=gender<br>featureValue=%{x}<br>valuesCount=%{y}<extra></extra>",
         "legendgroup": "",
         "marker": {
          "color": "#636efa",
          "pattern": {
           "shape": ""
          }
         },
         "name": "",
         "offsetgroup": "",
         "orientation": "v",
         "showlegend": false,
         "textposition": "auto",
         "type": "bar",
         "x": [
          2,
          1
         ],
         "xaxis": "x23",
         "y": [
          53106,
          46154
         ],
         "yaxis": "y23"
        },
        {
         "alignmentgroup": "True",
         "hovertemplate": "cluster=0<br>feature=live<br>featureValue=%{x}<br>valuesCount=%{y}<extra></extra>",
         "legendgroup": "",
         "marker": {
          "color": "#636efa",
          "pattern": {
           "shape": ""
          }
         },
         "name": "",
         "offsetgroup": "",
         "orientation": "v",
         "showlegend": false,
         "textposition": "auto",
         "type": "bar",
         "x": [
          2,
          1
         ],
         "xaxis": "x24",
         "y": [
          99029,
          231
         ],
         "yaxis": "y24"
        },
        {
         "alignmentgroup": "True",
         "hovertemplate": "cluster=0<br>feature=rangeAge<br>featureValue=%{x}<br>valuesCount=%{y}<extra></extra>",
         "legendgroup": "",
         "marker": {
          "color": "#636efa",
          "pattern": {
           "shape": ""
          }
         },
         "name": "",
         "offsetgroup": "",
         "orientation": "v",
         "showlegend": false,
         "textposition": "auto",
         "type": "bar",
         "x": [
          1,
          2
         ],
         "xaxis": "x25",
         "y": [
          85313,
          13947
         ],
         "yaxis": "y25"
        },
        {
         "alignmentgroup": "True",
         "hovertemplate": "cluster=0<br>feature=numaim<br>featureValue=%{x}<br>valuesCount=%{y}<extra></extra>",
         "legendgroup": "",
         "marker": {
          "color": "#636efa",
          "pattern": {
           "shape": ""
          }
         },
         "name": "",
         "offsetgroup": "",
         "orientation": "v",
         "showlegend": false,
         "textposition": "auto",
         "type": "bar",
         "x": [
          0
         ],
         "xaxis": "x26",
         "y": [
          99260
         ],
         "yaxis": "y26"
        },
        {
         "alignmentgroup": "True",
         "hovertemplate": "cluster=0<br>feature=numchildren<br>featureValue=%{x}<br>valuesCount=%{y}<extra></extra>",
         "legendgroup": "",
         "marker": {
          "color": "#636efa",
          "pattern": {
           "shape": ""
          }
         },
         "name": "",
         "offsetgroup": "",
         "orientation": "v",
         "showlegend": false,
         "textposition": "auto",
         "type": "bar",
         "x": [
          0,
          1,
          3,
          2
         ],
         "xaxis": "x27",
         "y": [
          98776,
          335,
          103,
          46
         ],
         "yaxis": "y27"
        },
        {
         "alignmentgroup": "True",
         "hovertemplate": "cluster=0<br>feature=numEdu<br>featureValue=%{x}<br>valuesCount=%{y}<extra></extra>",
         "legendgroup": "",
         "marker": {
          "color": "#636efa",
          "pattern": {
           "shape": ""
          }
         },
         "name": "",
         "offsetgroup": "",
         "orientation": "v",
         "showlegend": false,
         "textposition": "auto",
         "type": "bar",
         "x": [
          0,
          2,
          1
         ],
         "xaxis": "x28",
         "y": [
          98475,
          695,
          90
         ],
         "yaxis": "y28"
        },
        {
         "alignmentgroup": "True",
         "hovertemplate": "cluster=1<br>feature=about<br>featureValue=%{x}<br>valuesCount=%{y}<extra></extra>",
         "legendgroup": "",
         "marker": {
          "color": "#636efa",
          "pattern": {
           "shape": ""
          }
         },
         "name": "",
         "offsetgroup": "",
         "orientation": "v",
         "showlegend": false,
         "textposition": "auto",
         "type": "bar",
         "x": [
          0,
          1
         ],
         "xaxis": "x15",
         "y": [
          33809,
          8556
         ],
         "yaxis": "y15"
        },
        {
         "alignmentgroup": "True",
         "hovertemplate": "cluster=1<br>feature=gender<br>featureValue=%{x}<br>valuesCount=%{y}<extra></extra>",
         "legendgroup": "",
         "marker": {
          "color": "#636efa",
          "pattern": {
           "shape": ""
          }
         },
         "name": "",
         "offsetgroup": "",
         "orientation": "v",
         "showlegend": false,
         "textposition": "auto",
         "type": "bar",
         "x": [
          2,
          1
         ],
         "xaxis": "x16",
         "y": [
          21879,
          20486
         ],
         "yaxis": "y16"
        },
        {
         "alignmentgroup": "True",
         "hovertemplate": "cluster=1<br>feature=live<br>featureValue=%{x}<br>valuesCount=%{y}<extra></extra>",
         "legendgroup": "",
         "marker": {
          "color": "#636efa",
          "pattern": {
           "shape": ""
          }
         },
         "name": "",
         "offsetgroup": "",
         "orientation": "v",
         "showlegend": false,
         "textposition": "auto",
         "type": "bar",
         "x": [
          2,
          1
         ],
         "xaxis": "x17",
         "y": [
          23911,
          18454
         ],
         "yaxis": "y17"
        },
        {
         "alignmentgroup": "True",
         "hovertemplate": "cluster=1<br>feature=rangeAge<br>featureValue=%{x}<br>valuesCount=%{y}<extra></extra>",
         "legendgroup": "",
         "marker": {
          "color": "#636efa",
          "pattern": {
           "shape": ""
          }
         },
         "name": "",
         "offsetgroup": "",
         "orientation": "v",
         "showlegend": false,
         "textposition": "auto",
         "type": "bar",
         "x": [
          2,
          1
         ],
         "xaxis": "x18",
         "y": [
          31720,
          10645
         ],
         "yaxis": "y18"
        },
        {
         "alignmentgroup": "True",
         "hovertemplate": "cluster=1<br>feature=numaim<br>featureValue=%{x}<br>valuesCount=%{y}<extra></extra>",
         "legendgroup": "",
         "marker": {
          "color": "#636efa",
          "pattern": {
           "shape": ""
          }
         },
         "name": "",
         "offsetgroup": "",
         "orientation": "v",
         "showlegend": false,
         "textposition": "auto",
         "type": "bar",
         "x": [
          5,
          4,
          3
         ],
         "xaxis": "x19",
         "y": [
          35507,
          6709,
          149
         ],
         "yaxis": "y19"
        },
        {
         "alignmentgroup": "True",
         "hovertemplate": "cluster=1<br>feature=numchildren<br>featureValue=%{x}<br>valuesCount=%{y}<extra></extra>",
         "legendgroup": "",
         "marker": {
          "color": "#636efa",
          "pattern": {
           "shape": ""
          }
         },
         "name": "",
         "offsetgroup": "",
         "orientation": "v",
         "showlegend": false,
         "textposition": "auto",
         "type": "bar",
         "x": [
          1,
          0,
          3,
          2,
          4
         ],
         "xaxis": "x20",
         "y": [
          15230,
          13167,
          6438,
          4004,
          3526
         ],
         "yaxis": "y20"
        },
        {
         "alignmentgroup": "True",
         "hovertemplate": "cluster=1<br>feature=numEdu<br>featureValue=%{x}<br>valuesCount=%{y}<extra></extra>",
         "legendgroup": "",
         "marker": {
          "color": "#636efa",
          "pattern": {
           "shape": ""
          }
         },
         "name": "",
         "offsetgroup": "",
         "orientation": "v",
         "showlegend": false,
         "textposition": "auto",
         "type": "bar",
         "x": [
          0,
          2,
          3,
          4,
          1
         ],
         "xaxis": "x21",
         "y": [
          14387,
          13003,
          10614,
          2526,
          1835
         ],
         "yaxis": "y21"
        },
        {
         "alignmentgroup": "True",
         "hovertemplate": "cluster=2<br>feature=about<br>featureValue=%{x}<br>valuesCount=%{y}<extra></extra>",
         "legendgroup": "",
         "marker": {
          "color": "#636efa",
          "pattern": {
           "shape": ""
          }
         },
         "name": "",
         "offsetgroup": "",
         "orientation": "v",
         "showlegend": false,
         "textposition": "auto",
         "type": "bar",
         "x": [
          0,
          1
         ],
         "xaxis": "x8",
         "y": [
          64840,
          2366
         ],
         "yaxis": "y8"
        },
        {
         "alignmentgroup": "True",
         "hovertemplate": "cluster=2<br>feature=gender<br>featureValue=%{x}<br>valuesCount=%{y}<extra></extra>",
         "legendgroup": "",
         "marker": {
          "color": "#636efa",
          "pattern": {
           "shape": ""
          }
         },
         "name": "",
         "offsetgroup": "",
         "orientation": "v",
         "showlegend": false,
         "textposition": "auto",
         "type": "bar",
         "x": [
          1,
          2
         ],
         "xaxis": "x9",
         "y": [
          38119,
          29087
         ],
         "yaxis": "y9"
        },
        {
         "alignmentgroup": "True",
         "hovertemplate": "cluster=2<br>feature=live<br>featureValue=%{x}<br>valuesCount=%{y}<extra></extra>",
         "legendgroup": "",
         "marker": {
          "color": "#636efa",
          "pattern": {
           "shape": ""
          }
         },
         "name": "",
         "offsetgroup": "",
         "orientation": "v",
         "showlegend": false,
         "textposition": "auto",
         "type": "bar",
         "x": [
          2,
          1
         ],
         "xaxis": "x10",
         "y": [
          64182,
          3024
         ],
         "yaxis": "y10"
        },
        {
         "alignmentgroup": "True",
         "hovertemplate": "cluster=2<br>feature=rangeAge<br>featureValue=%{x}<br>valuesCount=%{y}<extra></extra>",
         "legendgroup": "",
         "marker": {
          "color": "#636efa",
          "pattern": {
           "shape": ""
          }
         },
         "name": "",
         "offsetgroup": "",
         "orientation": "v",
         "showlegend": false,
         "textposition": "auto",
         "type": "bar",
         "x": [
          1,
          2
         ],
         "xaxis": "x11",
         "y": [
          45946,
          21260
         ],
         "yaxis": "y11"
        },
        {
         "alignmentgroup": "True",
         "hovertemplate": "cluster=2<br>feature=numaim<br>featureValue=%{x}<br>valuesCount=%{y}<extra></extra>",
         "legendgroup": "",
         "marker": {
          "color": "#636efa",
          "pattern": {
           "shape": ""
          }
         },
         "name": "",
         "offsetgroup": "",
         "orientation": "v",
         "showlegend": false,
         "textposition": "auto",
         "type": "bar",
         "x": [
          1,
          2,
          3
         ],
         "xaxis": "x12",
         "y": [
          36875,
          30063,
          268
         ],
         "yaxis": "y12"
        },
        {
         "alignmentgroup": "True",
         "hovertemplate": "cluster=2<br>feature=numchildren<br>featureValue=%{x}<br>valuesCount=%{y}<extra></extra>",
         "legendgroup": "",
         "marker": {
          "color": "#636efa",
          "pattern": {
           "shape": ""
          }
         },
         "name": "",
         "offsetgroup": "",
         "orientation": "v",
         "showlegend": false,
         "textposition": "auto",
         "type": "bar",
         "x": [
          0,
          1,
          2
         ],
         "xaxis": "x13",
         "y": [
          62169,
          4248,
          789
         ],
         "yaxis": "y13"
        },
        {
         "alignmentgroup": "True",
         "hovertemplate": "cluster=2<br>feature=numEdu<br>featureValue=%{x}<br>valuesCount=%{y}<extra></extra>",
         "legendgroup": "",
         "marker": {
          "color": "#636efa",
          "pattern": {
           "shape": ""
          }
         },
         "name": "",
         "offsetgroup": "",
         "orientation": "v",
         "showlegend": false,
         "textposition": "auto",
         "type": "bar",
         "x": [
          0,
          1
         ],
         "xaxis": "x14",
         "y": [
          66449,
          757
         ],
         "yaxis": "y14"
        },
        {
         "alignmentgroup": "True",
         "hovertemplate": "cluster=3<br>feature=about<br>featureValue=%{x}<br>valuesCount=%{y}<extra></extra>",
         "legendgroup": "",
         "marker": {
          "color": "#636efa",
          "pattern": {
           "shape": ""
          }
         },
         "name": "",
         "offsetgroup": "",
         "orientation": "v",
         "showlegend": false,
         "textposition": "auto",
         "type": "bar",
         "x": [
          0,
          1
         ],
         "xaxis": "x",
         "y": [
          26211,
          4945
         ],
         "yaxis": "y"
        },
        {
         "alignmentgroup": "True",
         "hovertemplate": "cluster=3<br>feature=gender<br>featureValue=%{x}<br>valuesCount=%{y}<extra></extra>",
         "legendgroup": "",
         "marker": {
          "color": "#636efa",
          "pattern": {
           "shape": ""
          }
         },
         "name": "",
         "offsetgroup": "",
         "orientation": "v",
         "showlegend": false,
         "textposition": "auto",
         "type": "bar",
         "x": [
          1,
          2
         ],
         "xaxis": "x2",
         "y": [
          16006,
          15150
         ],
         "yaxis": "y2"
        },
        {
         "alignmentgroup": "True",
         "hovertemplate": "cluster=3<br>feature=live<br>featureValue=%{x}<br>valuesCount=%{y}<extra></extra>",
         "legendgroup": "",
         "marker": {
          "color": "#636efa",
          "pattern": {
           "shape": ""
          }
         },
         "name": "",
         "offsetgroup": "",
         "orientation": "v",
         "showlegend": false,
         "textposition": "auto",
         "type": "bar",
         "x": [
          2,
          1
         ],
         "xaxis": "x3",
         "y": [
          16281,
          14875
         ],
         "yaxis": "y3"
        },
        {
         "alignmentgroup": "True",
         "hovertemplate": "cluster=3<br>feature=rangeAge<br>featureValue=%{x}<br>valuesCount=%{y}<extra></extra>",
         "legendgroup": "",
         "marker": {
          "color": "#636efa",
          "pattern": {
           "shape": ""
          }
         },
         "name": "",
         "offsetgroup": "",
         "orientation": "v",
         "showlegend": false,
         "textposition": "auto",
         "type": "bar",
         "x": [
          2,
          1
         ],
         "xaxis": "x4",
         "y": [
          19210,
          11946
         ],
         "yaxis": "y4"
        },
        {
         "alignmentgroup": "True",
         "hovertemplate": "cluster=3<br>feature=numaim<br>featureValue=%{x}<br>valuesCount=%{y}<extra></extra>",
         "legendgroup": "",
         "marker": {
          "color": "#636efa",
          "pattern": {
           "shape": ""
          }
         },
         "name": "",
         "offsetgroup": "",
         "orientation": "v",
         "showlegend": false,
         "textposition": "auto",
         "type": "bar",
         "x": [
          1,
          2,
          0,
          3
         ],
         "xaxis": "x5",
         "y": [
          16061,
          13162,
          1290,
          643
         ],
         "yaxis": "y5"
        },
        {
         "alignmentgroup": "True",
         "hovertemplate": "cluster=3<br>feature=numchildren<br>featureValue=%{x}<br>valuesCount=%{y}<extra></extra>",
         "legendgroup": "",
         "marker": {
          "color": "#636efa",
          "pattern": {
           "shape": ""
          }
         },
         "name": "",
         "offsetgroup": "",
         "orientation": "v",
         "showlegend": false,
         "textposition": "auto",
         "type": "bar",
         "x": [
          1,
          3,
          0,
          4,
          2
         ],
         "xaxis": "x6",
         "y": [
          12407,
          6343,
          6103,
          3585,
          2718
         ],
         "yaxis": "y6"
        },
        {
         "alignmentgroup": "True",
         "hovertemplate": "cluster=3<br>feature=numEdu<br>featureValue=%{x}<br>valuesCount=%{y}<extra></extra>",
         "legendgroup": "",
         "marker": {
          "color": "#636efa",
          "pattern": {
           "shape": ""
          }
         },
         "name": "",
         "offsetgroup": "",
         "orientation": "v",
         "showlegend": false,
         "textposition": "auto",
         "type": "bar",
         "x": [
          2,
          3,
          4,
          0,
          1
         ],
         "xaxis": "x7",
         "y": [
          12794,
          12224,
          3022,
          2172,
          944
         ],
         "yaxis": "y7"
        }
       ],
       "layout": {
        "annotations": [
         {
          "font": {},
          "showarrow": false,
          "text": "feature=about",
          "x": 0.06142857142857142,
          "xanchor": "center",
          "xref": "paper",
          "y": 1,
          "yanchor": "bottom",
          "yref": "paper"
         },
         {
          "font": {},
          "showarrow": false,
          "text": "feature=gender",
          "x": 0.20428571428571426,
          "xanchor": "center",
          "xref": "paper",
          "y": 1,
          "yanchor": "bottom",
          "yref": "paper"
         },
         {
          "font": {},
          "showarrow": false,
          "text": "feature=live",
          "x": 0.3471428571428571,
          "xanchor": "center",
          "xref": "paper",
          "y": 1,
          "yanchor": "bottom",
          "yref": "paper"
         },
         {
          "font": {},
          "showarrow": false,
          "text": "feature=rangeAge",
          "x": 0.49,
          "xanchor": "center",
          "xref": "paper",
          "y": 1,
          "yanchor": "bottom",
          "yref": "paper"
         },
         {
          "font": {},
          "showarrow": false,
          "text": "feature=numaim",
          "x": 0.6328571428571428,
          "xanchor": "center",
          "xref": "paper",
          "y": 1,
          "yanchor": "bottom",
          "yref": "paper"
         },
         {
          "font": {},
          "showarrow": false,
          "text": "feature=numchildren",
          "x": 0.7757142857142856,
          "xanchor": "center",
          "xref": "paper",
          "y": 1,
          "yanchor": "bottom",
          "yref": "paper"
         },
         {
          "font": {},
          "showarrow": false,
          "text": "feature=numEdu",
          "x": 0.9185714285714286,
          "xanchor": "center",
          "xref": "paper",
          "y": 1,
          "yanchor": "bottom",
          "yref": "paper"
         },
         {
          "font": {},
          "showarrow": false,
          "text": "cluster=3",
          "textangle": 90,
          "x": 0.98,
          "xanchor": "left",
          "xref": "paper",
          "y": 0.11375,
          "yanchor": "middle",
          "yref": "paper"
         },
         {
          "font": {},
          "showarrow": false,
          "text": "cluster=2",
          "textangle": 90,
          "x": 0.98,
          "xanchor": "left",
          "xref": "paper",
          "y": 0.37124999999999997,
          "yanchor": "middle",
          "yref": "paper"
         },
         {
          "font": {},
          "showarrow": false,
          "text": "cluster=1",
          "textangle": 90,
          "x": 0.98,
          "xanchor": "left",
          "xref": "paper",
          "y": 0.62875,
          "yanchor": "middle",
          "yref": "paper"
         },
         {
          "font": {},
          "showarrow": false,
          "text": "cluster=0",
          "textangle": 90,
          "x": 0.98,
          "xanchor": "left",
          "xref": "paper",
          "y": 0.88625,
          "yanchor": "middle",
          "yref": "paper"
         }
        ],
        "barmode": "relative",
        "legend": {
         "tracegroupgap": 0
        },
        "margin": {
         "t": 60
        },
        "template": {
         "data": {
          "bar": [
           {
            "error_x": {
             "color": "#2a3f5f"
            },
            "error_y": {
             "color": "#2a3f5f"
            },
            "marker": {
             "line": {
              "color": "#E5ECF6",
              "width": 0.5
             },
             "pattern": {
              "fillmode": "overlay",
              "size": 10,
              "solidity": 0.2
             }
            },
            "type": "bar"
           }
          ],
          "barpolar": [
           {
            "marker": {
             "line": {
              "color": "#E5ECF6",
              "width": 0.5
             },
             "pattern": {
              "fillmode": "overlay",
              "size": 10,
              "solidity": 0.2
             }
            },
            "type": "barpolar"
           }
          ],
          "carpet": [
           {
            "aaxis": {
             "endlinecolor": "#2a3f5f",
             "gridcolor": "white",
             "linecolor": "white",
             "minorgridcolor": "white",
             "startlinecolor": "#2a3f5f"
            },
            "baxis": {
             "endlinecolor": "#2a3f5f",
             "gridcolor": "white",
             "linecolor": "white",
             "minorgridcolor": "white",
             "startlinecolor": "#2a3f5f"
            },
            "type": "carpet"
           }
          ],
          "choropleth": [
           {
            "colorbar": {
             "outlinewidth": 0,
             "ticks": ""
            },
            "type": "choropleth"
           }
          ],
          "contour": [
           {
            "colorbar": {
             "outlinewidth": 0,
             "ticks": ""
            },
            "colorscale": [
             [
              0,
              "#0d0887"
             ],
             [
              0.1111111111111111,
              "#46039f"
             ],
             [
              0.2222222222222222,
              "#7201a8"
             ],
             [
              0.3333333333333333,
              "#9c179e"
             ],
             [
              0.4444444444444444,
              "#bd3786"
             ],
             [
              0.5555555555555556,
              "#d8576b"
             ],
             [
              0.6666666666666666,
              "#ed7953"
             ],
             [
              0.7777777777777778,
              "#fb9f3a"
             ],
             [
              0.8888888888888888,
              "#fdca26"
             ],
             [
              1,
              "#f0f921"
             ]
            ],
            "type": "contour"
           }
          ],
          "contourcarpet": [
           {
            "colorbar": {
             "outlinewidth": 0,
             "ticks": ""
            },
            "type": "contourcarpet"
           }
          ],
          "heatmap": [
           {
            "colorbar": {
             "outlinewidth": 0,
             "ticks": ""
            },
            "colorscale": [
             [
              0,
              "#0d0887"
             ],
             [
              0.1111111111111111,
              "#46039f"
             ],
             [
              0.2222222222222222,
              "#7201a8"
             ],
             [
              0.3333333333333333,
              "#9c179e"
             ],
             [
              0.4444444444444444,
              "#bd3786"
             ],
             [
              0.5555555555555556,
              "#d8576b"
             ],
             [
              0.6666666666666666,
              "#ed7953"
             ],
             [
              0.7777777777777778,
              "#fb9f3a"
             ],
             [
              0.8888888888888888,
              "#fdca26"
             ],
             [
              1,
              "#f0f921"
             ]
            ],
            "type": "heatmap"
           }
          ],
          "heatmapgl": [
           {
            "colorbar": {
             "outlinewidth": 0,
             "ticks": ""
            },
            "colorscale": [
             [
              0,
              "#0d0887"
             ],
             [
              0.1111111111111111,
              "#46039f"
             ],
             [
              0.2222222222222222,
              "#7201a8"
             ],
             [
              0.3333333333333333,
              "#9c179e"
             ],
             [
              0.4444444444444444,
              "#bd3786"
             ],
             [
              0.5555555555555556,
              "#d8576b"
             ],
             [
              0.6666666666666666,
              "#ed7953"
             ],
             [
              0.7777777777777778,
              "#fb9f3a"
             ],
             [
              0.8888888888888888,
              "#fdca26"
             ],
             [
              1,
              "#f0f921"
             ]
            ],
            "type": "heatmapgl"
           }
          ],
          "histogram": [
           {
            "marker": {
             "pattern": {
              "fillmode": "overlay",
              "size": 10,
              "solidity": 0.2
             }
            },
            "type": "histogram"
           }
          ],
          "histogram2d": [
           {
            "colorbar": {
             "outlinewidth": 0,
             "ticks": ""
            },
            "colorscale": [
             [
              0,
              "#0d0887"
             ],
             [
              0.1111111111111111,
              "#46039f"
             ],
             [
              0.2222222222222222,
              "#7201a8"
             ],
             [
              0.3333333333333333,
              "#9c179e"
             ],
             [
              0.4444444444444444,
              "#bd3786"
             ],
             [
              0.5555555555555556,
              "#d8576b"
             ],
             [
              0.6666666666666666,
              "#ed7953"
             ],
             [
              0.7777777777777778,
              "#fb9f3a"
             ],
             [
              0.8888888888888888,
              "#fdca26"
             ],
             [
              1,
              "#f0f921"
             ]
            ],
            "type": "histogram2d"
           }
          ],
          "histogram2dcontour": [
           {
            "colorbar": {
             "outlinewidth": 0,
             "ticks": ""
            },
            "colorscale": [
             [
              0,
              "#0d0887"
             ],
             [
              0.1111111111111111,
              "#46039f"
             ],
             [
              0.2222222222222222,
              "#7201a8"
             ],
             [
              0.3333333333333333,
              "#9c179e"
             ],
             [
              0.4444444444444444,
              "#bd3786"
             ],
             [
              0.5555555555555556,
              "#d8576b"
             ],
             [
              0.6666666666666666,
              "#ed7953"
             ],
             [
              0.7777777777777778,
              "#fb9f3a"
             ],
             [
              0.8888888888888888,
              "#fdca26"
             ],
             [
              1,
              "#f0f921"
             ]
            ],
            "type": "histogram2dcontour"
           }
          ],
          "mesh3d": [
           {
            "colorbar": {
             "outlinewidth": 0,
             "ticks": ""
            },
            "type": "mesh3d"
           }
          ],
          "parcoords": [
           {
            "line": {
             "colorbar": {
              "outlinewidth": 0,
              "ticks": ""
             }
            },
            "type": "parcoords"
           }
          ],
          "pie": [
           {
            "automargin": true,
            "type": "pie"
           }
          ],
          "scatter": [
           {
            "fillpattern": {
             "fillmode": "overlay",
             "size": 10,
             "solidity": 0.2
            },
            "type": "scatter"
           }
          ],
          "scatter3d": [
           {
            "line": {
             "colorbar": {
              "outlinewidth": 0,
              "ticks": ""
             }
            },
            "marker": {
             "colorbar": {
              "outlinewidth": 0,
              "ticks": ""
             }
            },
            "type": "scatter3d"
           }
          ],
          "scattercarpet": [
           {
            "marker": {
             "colorbar": {
              "outlinewidth": 0,
              "ticks": ""
             }
            },
            "type": "scattercarpet"
           }
          ],
          "scattergeo": [
           {
            "marker": {
             "colorbar": {
              "outlinewidth": 0,
              "ticks": ""
             }
            },
            "type": "scattergeo"
           }
          ],
          "scattergl": [
           {
            "marker": {
             "colorbar": {
              "outlinewidth": 0,
              "ticks": ""
             }
            },
            "type": "scattergl"
           }
          ],
          "scattermapbox": [
           {
            "marker": {
             "colorbar": {
              "outlinewidth": 0,
              "ticks": ""
             }
            },
            "type": "scattermapbox"
           }
          ],
          "scatterpolar": [
           {
            "marker": {
             "colorbar": {
              "outlinewidth": 0,
              "ticks": ""
             }
            },
            "type": "scatterpolar"
           }
          ],
          "scatterpolargl": [
           {
            "marker": {
             "colorbar": {
              "outlinewidth": 0,
              "ticks": ""
             }
            },
            "type": "scatterpolargl"
           }
          ],
          "scatterternary": [
           {
            "marker": {
             "colorbar": {
              "outlinewidth": 0,
              "ticks": ""
             }
            },
            "type": "scatterternary"
           }
          ],
          "surface": [
           {
            "colorbar": {
             "outlinewidth": 0,
             "ticks": ""
            },
            "colorscale": [
             [
              0,
              "#0d0887"
             ],
             [
              0.1111111111111111,
              "#46039f"
             ],
             [
              0.2222222222222222,
              "#7201a8"
             ],
             [
              0.3333333333333333,
              "#9c179e"
             ],
             [
              0.4444444444444444,
              "#bd3786"
             ],
             [
              0.5555555555555556,
              "#d8576b"
             ],
             [
              0.6666666666666666,
              "#ed7953"
             ],
             [
              0.7777777777777778,
              "#fb9f3a"
             ],
             [
              0.8888888888888888,
              "#fdca26"
             ],
             [
              1,
              "#f0f921"
             ]
            ],
            "type": "surface"
           }
          ],
          "table": [
           {
            "cells": {
             "fill": {
              "color": "#EBF0F8"
             },
             "line": {
              "color": "white"
             }
            },
            "header": {
             "fill": {
              "color": "#C8D4E3"
             },
             "line": {
              "color": "white"
             }
            },
            "type": "table"
           }
          ]
         },
         "layout": {
          "annotationdefaults": {
           "arrowcolor": "#2a3f5f",
           "arrowhead": 0,
           "arrowwidth": 1
          },
          "autotypenumbers": "strict",
          "coloraxis": {
           "colorbar": {
            "outlinewidth": 0,
            "ticks": ""
           }
          },
          "colorscale": {
           "diverging": [
            [
             0,
             "#8e0152"
            ],
            [
             0.1,
             "#c51b7d"
            ],
            [
             0.2,
             "#de77ae"
            ],
            [
             0.3,
             "#f1b6da"
            ],
            [
             0.4,
             "#fde0ef"
            ],
            [
             0.5,
             "#f7f7f7"
            ],
            [
             0.6,
             "#e6f5d0"
            ],
            [
             0.7,
             "#b8e186"
            ],
            [
             0.8,
             "#7fbc41"
            ],
            [
             0.9,
             "#4d9221"
            ],
            [
             1,
             "#276419"
            ]
           ],
           "sequential": [
            [
             0,
             "#0d0887"
            ],
            [
             0.1111111111111111,
             "#46039f"
            ],
            [
             0.2222222222222222,
             "#7201a8"
            ],
            [
             0.3333333333333333,
             "#9c179e"
            ],
            [
             0.4444444444444444,
             "#bd3786"
            ],
            [
             0.5555555555555556,
             "#d8576b"
            ],
            [
             0.6666666666666666,
             "#ed7953"
            ],
            [
             0.7777777777777778,
             "#fb9f3a"
            ],
            [
             0.8888888888888888,
             "#fdca26"
            ],
            [
             1,
             "#f0f921"
            ]
           ],
           "sequentialminus": [
            [
             0,
             "#0d0887"
            ],
            [
             0.1111111111111111,
             "#46039f"
            ],
            [
             0.2222222222222222,
             "#7201a8"
            ],
            [
             0.3333333333333333,
             "#9c179e"
            ],
            [
             0.4444444444444444,
             "#bd3786"
            ],
            [
             0.5555555555555556,
             "#d8576b"
            ],
            [
             0.6666666666666666,
             "#ed7953"
            ],
            [
             0.7777777777777778,
             "#fb9f3a"
            ],
            [
             0.8888888888888888,
             "#fdca26"
            ],
            [
             1,
             "#f0f921"
            ]
           ]
          },
          "colorway": [
           "#636efa",
           "#EF553B",
           "#00cc96",
           "#ab63fa",
           "#FFA15A",
           "#19d3f3",
           "#FF6692",
           "#B6E880",
           "#FF97FF",
           "#FECB52"
          ],
          "font": {
           "color": "#2a3f5f"
          },
          "geo": {
           "bgcolor": "white",
           "lakecolor": "white",
           "landcolor": "#E5ECF6",
           "showlakes": true,
           "showland": true,
           "subunitcolor": "white"
          },
          "hoverlabel": {
           "align": "left"
          },
          "hovermode": "closest",
          "mapbox": {
           "style": "light"
          },
          "paper_bgcolor": "white",
          "plot_bgcolor": "#E5ECF6",
          "polar": {
           "angularaxis": {
            "gridcolor": "white",
            "linecolor": "white",
            "ticks": ""
           },
           "bgcolor": "#E5ECF6",
           "radialaxis": {
            "gridcolor": "white",
            "linecolor": "white",
            "ticks": ""
           }
          },
          "scene": {
           "xaxis": {
            "backgroundcolor": "#E5ECF6",
            "gridcolor": "white",
            "gridwidth": 2,
            "linecolor": "white",
            "showbackground": true,
            "ticks": "",
            "zerolinecolor": "white"
           },
           "yaxis": {
            "backgroundcolor": "#E5ECF6",
            "gridcolor": "white",
            "gridwidth": 2,
            "linecolor": "white",
            "showbackground": true,
            "ticks": "",
            "zerolinecolor": "white"
           },
           "zaxis": {
            "backgroundcolor": "#E5ECF6",
            "gridcolor": "white",
            "gridwidth": 2,
            "linecolor": "white",
            "showbackground": true,
            "ticks": "",
            "zerolinecolor": "white"
           }
          },
          "shapedefaults": {
           "line": {
            "color": "#2a3f5f"
           }
          },
          "ternary": {
           "aaxis": {
            "gridcolor": "white",
            "linecolor": "white",
            "ticks": ""
           },
           "baxis": {
            "gridcolor": "white",
            "linecolor": "white",
            "ticks": ""
           },
           "bgcolor": "#E5ECF6",
           "caxis": {
            "gridcolor": "white",
            "linecolor": "white",
            "ticks": ""
           }
          },
          "title": {
           "x": 0.05
          },
          "xaxis": {
           "automargin": true,
           "gridcolor": "white",
           "linecolor": "white",
           "ticks": "",
           "title": {
            "standoff": 15
           },
           "zerolinecolor": "white",
           "zerolinewidth": 2
          },
          "yaxis": {
           "automargin": true,
           "gridcolor": "white",
           "linecolor": "white",
           "ticks": "",
           "title": {
            "standoff": 15
           },
           "zerolinecolor": "white",
           "zerolinewidth": 2
          }
         }
        },
        "xaxis": {
         "anchor": "y",
         "domain": [
          0,
          0.12285714285714285
         ],
         "title": {
          "text": "featureValue"
         }
        },
        "xaxis10": {
         "anchor": "y10",
         "domain": [
          0.2857142857142857,
          0.40857142857142853
         ],
         "matches": "x",
         "showticklabels": false
        },
        "xaxis11": {
         "anchor": "y11",
         "domain": [
          0.42857142857142855,
          0.5514285714285714
         ],
         "matches": "x",
         "showticklabels": false
        },
        "xaxis12": {
         "anchor": "y12",
         "domain": [
          0.5714285714285714,
          0.6942857142857143
         ],
         "matches": "x",
         "showticklabels": false
        },
        "xaxis13": {
         "anchor": "y13",
         "domain": [
          0.7142857142857142,
          0.8371428571428571
         ],
         "matches": "x",
         "showticklabels": false
        },
        "xaxis14": {
         "anchor": "y14",
         "domain": [
          0.8571428571428571,
          0.98
         ],
         "matches": "x",
         "showticklabels": false
        },
        "xaxis15": {
         "anchor": "y15",
         "domain": [
          0,
          0.12285714285714285
         ],
         "matches": "x",
         "showticklabels": false
        },
        "xaxis16": {
         "anchor": "y16",
         "domain": [
          0.14285714285714285,
          0.2657142857142857
         ],
         "matches": "x",
         "showticklabels": false
        },
        "xaxis17": {
         "anchor": "y17",
         "domain": [
          0.2857142857142857,
          0.40857142857142853
         ],
         "matches": "x",
         "showticklabels": false
        },
        "xaxis18": {
         "anchor": "y18",
         "domain": [
          0.42857142857142855,
          0.5514285714285714
         ],
         "matches": "x",
         "showticklabels": false
        },
        "xaxis19": {
         "anchor": "y19",
         "domain": [
          0.5714285714285714,
          0.6942857142857143
         ],
         "matches": "x",
         "showticklabels": false
        },
        "xaxis2": {
         "anchor": "y2",
         "domain": [
          0.14285714285714285,
          0.2657142857142857
         ],
         "matches": "x",
         "title": {
          "text": "featureValue"
         }
        },
        "xaxis20": {
         "anchor": "y20",
         "domain": [
          0.7142857142857142,
          0.8371428571428571
         ],
         "matches": "x",
         "showticklabels": false
        },
        "xaxis21": {
         "anchor": "y21",
         "domain": [
          0.8571428571428571,
          0.98
         ],
         "matches": "x",
         "showticklabels": false
        },
        "xaxis22": {
         "anchor": "y22",
         "domain": [
          0,
          0.12285714285714285
         ],
         "matches": "x",
         "showticklabels": false
        },
        "xaxis23": {
         "anchor": "y23",
         "domain": [
          0.14285714285714285,
          0.2657142857142857
         ],
         "matches": "x",
         "showticklabels": false
        },
        "xaxis24": {
         "anchor": "y24",
         "domain": [
          0.2857142857142857,
          0.40857142857142853
         ],
         "matches": "x",
         "showticklabels": false
        },
        "xaxis25": {
         "anchor": "y25",
         "domain": [
          0.42857142857142855,
          0.5514285714285714
         ],
         "matches": "x",
         "showticklabels": false
        },
        "xaxis26": {
         "anchor": "y26",
         "domain": [
          0.5714285714285714,
          0.6942857142857143
         ],
         "matches": "x",
         "showticklabels": false
        },
        "xaxis27": {
         "anchor": "y27",
         "domain": [
          0.7142857142857142,
          0.8371428571428571
         ],
         "matches": "x",
         "showticklabels": false
        },
        "xaxis28": {
         "anchor": "y28",
         "domain": [
          0.8571428571428571,
          0.98
         ],
         "matches": "x",
         "showticklabels": false
        },
        "xaxis3": {
         "anchor": "y3",
         "domain": [
          0.2857142857142857,
          0.40857142857142853
         ],
         "matches": "x",
         "title": {
          "text": "featureValue"
         }
        },
        "xaxis4": {
         "anchor": "y4",
         "domain": [
          0.42857142857142855,
          0.5514285714285714
         ],
         "matches": "x",
         "title": {
          "text": "featureValue"
         }
        },
        "xaxis5": {
         "anchor": "y5",
         "domain": [
          0.5714285714285714,
          0.6942857142857143
         ],
         "matches": "x",
         "title": {
          "text": "featureValue"
         }
        },
        "xaxis6": {
         "anchor": "y6",
         "domain": [
          0.7142857142857142,
          0.8371428571428571
         ],
         "matches": "x",
         "title": {
          "text": "featureValue"
         }
        },
        "xaxis7": {
         "anchor": "y7",
         "domain": [
          0.8571428571428571,
          0.98
         ],
         "matches": "x",
         "title": {
          "text": "featureValue"
         }
        },
        "xaxis8": {
         "anchor": "y8",
         "domain": [
          0,
          0.12285714285714285
         ],
         "matches": "x",
         "showticklabels": false
        },
        "xaxis9": {
         "anchor": "y9",
         "domain": [
          0.14285714285714285,
          0.2657142857142857
         ],
         "matches": "x",
         "showticklabels": false
        },
        "yaxis": {
         "anchor": "x",
         "domain": [
          0,
          0.2275
         ],
         "title": {
          "text": "valuesCount"
         }
        },
        "yaxis10": {
         "anchor": "x10",
         "domain": [
          0.2575,
          0.485
         ],
         "matches": "y",
         "showticklabels": false
        },
        "yaxis11": {
         "anchor": "x11",
         "domain": [
          0.2575,
          0.485
         ],
         "matches": "y",
         "showticklabels": false
        },
        "yaxis12": {
         "anchor": "x12",
         "domain": [
          0.2575,
          0.485
         ],
         "matches": "y",
         "showticklabels": false
        },
        "yaxis13": {
         "anchor": "x13",
         "domain": [
          0.2575,
          0.485
         ],
         "matches": "y",
         "showticklabels": false
        },
        "yaxis14": {
         "anchor": "x14",
         "domain": [
          0.2575,
          0.485
         ],
         "matches": "y",
         "showticklabels": false
        },
        "yaxis15": {
         "anchor": "x15",
         "domain": [
          0.515,
          0.7425
         ],
         "matches": "y",
         "title": {
          "text": "valuesCount"
         }
        },
        "yaxis16": {
         "anchor": "x16",
         "domain": [
          0.515,
          0.7425
         ],
         "matches": "y",
         "showticklabels": false
        },
        "yaxis17": {
         "anchor": "x17",
         "domain": [
          0.515,
          0.7425
         ],
         "matches": "y",
         "showticklabels": false
        },
        "yaxis18": {
         "anchor": "x18",
         "domain": [
          0.515,
          0.7425
         ],
         "matches": "y",
         "showticklabels": false
        },
        "yaxis19": {
         "anchor": "x19",
         "domain": [
          0.515,
          0.7425
         ],
         "matches": "y",
         "showticklabels": false
        },
        "yaxis2": {
         "anchor": "x2",
         "domain": [
          0,
          0.2275
         ],
         "matches": "y",
         "showticklabels": false
        },
        "yaxis20": {
         "anchor": "x20",
         "domain": [
          0.515,
          0.7425
         ],
         "matches": "y",
         "showticklabels": false
        },
        "yaxis21": {
         "anchor": "x21",
         "domain": [
          0.515,
          0.7425
         ],
         "matches": "y",
         "showticklabels": false
        },
        "yaxis22": {
         "anchor": "x22",
         "domain": [
          0.7725,
          1
         ],
         "matches": "y",
         "title": {
          "text": "valuesCount"
         }
        },
        "yaxis23": {
         "anchor": "x23",
         "domain": [
          0.7725,
          1
         ],
         "matches": "y",
         "showticklabels": false
        },
        "yaxis24": {
         "anchor": "x24",
         "domain": [
          0.7725,
          1
         ],
         "matches": "y",
         "showticklabels": false
        },
        "yaxis25": {
         "anchor": "x25",
         "domain": [
          0.7725,
          1
         ],
         "matches": "y",
         "showticklabels": false
        },
        "yaxis26": {
         "anchor": "x26",
         "domain": [
          0.7725,
          1
         ],
         "matches": "y",
         "showticklabels": false
        },
        "yaxis27": {
         "anchor": "x27",
         "domain": [
          0.7725,
          1
         ],
         "matches": "y",
         "showticklabels": false
        },
        "yaxis28": {
         "anchor": "x28",
         "domain": [
          0.7725,
          1
         ],
         "matches": "y",
         "showticklabels": false
        },
        "yaxis3": {
         "anchor": "x3",
         "domain": [
          0,
          0.2275
         ],
         "matches": "y",
         "showticklabels": false
        },
        "yaxis4": {
         "anchor": "x4",
         "domain": [
          0,
          0.2275
         ],
         "matches": "y",
         "showticklabels": false
        },
        "yaxis5": {
         "anchor": "x5",
         "domain": [
          0,
          0.2275
         ],
         "matches": "y",
         "showticklabels": false
        },
        "yaxis6": {
         "anchor": "x6",
         "domain": [
          0,
          0.2275
         ],
         "matches": "y",
         "showticklabels": false
        },
        "yaxis7": {
         "anchor": "x7",
         "domain": [
          0,
          0.2275
         ],
         "matches": "y",
         "showticklabels": false
        },
        "yaxis8": {
         "anchor": "x8",
         "domain": [
          0.2575,
          0.485
         ],
         "matches": "y",
         "title": {
          "text": "valuesCount"
         }
        },
        "yaxis9": {
         "anchor": "x9",
         "domain": [
          0.2575,
          0.485
         ],
         "matches": "y",
         "showticklabels": false
        }
       }
      },
      "text/html": [
       "<div>                            <div id=\"636b7ba1-94ff-4175-9cab-333e8e5eacb9\" class=\"plotly-graph-div\" style=\"height:525px; width:100%;\"></div>            <script type=\"text/javascript\">                require([\"plotly\"], function(Plotly) {                    window.PLOTLYENV=window.PLOTLYENV || {};                                    if (document.getElementById(\"636b7ba1-94ff-4175-9cab-333e8e5eacb9\")) {                    Plotly.newPlot(                        \"636b7ba1-94ff-4175-9cab-333e8e5eacb9\",                        [{\"alignmentgroup\":\"True\",\"hovertemplate\":\"cluster=0<br>feature=about<br>featureValue=%{x}<br>valuesCount=%{y}<extra></extra>\",\"legendgroup\":\"\",\"marker\":{\"color\":\"#636efa\",\"pattern\":{\"shape\":\"\"}},\"name\":\"\",\"offsetgroup\":\"\",\"orientation\":\"v\",\"showlegend\":false,\"textposition\":\"auto\",\"x\":[0,1],\"xaxis\":\"x22\",\"y\":[98637,623],\"yaxis\":\"y22\",\"type\":\"bar\"},{\"alignmentgroup\":\"True\",\"hovertemplate\":\"cluster=0<br>feature=gender<br>featureValue=%{x}<br>valuesCount=%{y}<extra></extra>\",\"legendgroup\":\"\",\"marker\":{\"color\":\"#636efa\",\"pattern\":{\"shape\":\"\"}},\"name\":\"\",\"offsetgroup\":\"\",\"orientation\":\"v\",\"showlegend\":false,\"textposition\":\"auto\",\"x\":[2,1],\"xaxis\":\"x23\",\"y\":[53106,46154],\"yaxis\":\"y23\",\"type\":\"bar\"},{\"alignmentgroup\":\"True\",\"hovertemplate\":\"cluster=0<br>feature=live<br>featureValue=%{x}<br>valuesCount=%{y}<extra></extra>\",\"legendgroup\":\"\",\"marker\":{\"color\":\"#636efa\",\"pattern\":{\"shape\":\"\"}},\"name\":\"\",\"offsetgroup\":\"\",\"orientation\":\"v\",\"showlegend\":false,\"textposition\":\"auto\",\"x\":[2,1],\"xaxis\":\"x24\",\"y\":[99029,231],\"yaxis\":\"y24\",\"type\":\"bar\"},{\"alignmentgroup\":\"True\",\"hovertemplate\":\"cluster=0<br>feature=rangeAge<br>featureValue=%{x}<br>valuesCount=%{y}<extra></extra>\",\"legendgroup\":\"\",\"marker\":{\"color\":\"#636efa\",\"pattern\":{\"shape\":\"\"}},\"name\":\"\",\"offsetgroup\":\"\",\"orientation\":\"v\",\"showlegend\":false,\"textposition\":\"auto\",\"x\":[1,2],\"xaxis\":\"x25\",\"y\":[85313,13947],\"yaxis\":\"y25\",\"type\":\"bar\"},{\"alignmentgroup\":\"True\",\"hovertemplate\":\"cluster=0<br>feature=numaim<br>featureValue=%{x}<br>valuesCount=%{y}<extra></extra>\",\"legendgroup\":\"\",\"marker\":{\"color\":\"#636efa\",\"pattern\":{\"shape\":\"\"}},\"name\":\"\",\"offsetgroup\":\"\",\"orientation\":\"v\",\"showlegend\":false,\"textposition\":\"auto\",\"x\":[0],\"xaxis\":\"x26\",\"y\":[99260],\"yaxis\":\"y26\",\"type\":\"bar\"},{\"alignmentgroup\":\"True\",\"hovertemplate\":\"cluster=0<br>feature=numchildren<br>featureValue=%{x}<br>valuesCount=%{y}<extra></extra>\",\"legendgroup\":\"\",\"marker\":{\"color\":\"#636efa\",\"pattern\":{\"shape\":\"\"}},\"name\":\"\",\"offsetgroup\":\"\",\"orientation\":\"v\",\"showlegend\":false,\"textposition\":\"auto\",\"x\":[0,1,3,2],\"xaxis\":\"x27\",\"y\":[98776,335,103,46],\"yaxis\":\"y27\",\"type\":\"bar\"},{\"alignmentgroup\":\"True\",\"hovertemplate\":\"cluster=0<br>feature=numEdu<br>featureValue=%{x}<br>valuesCount=%{y}<extra></extra>\",\"legendgroup\":\"\",\"marker\":{\"color\":\"#636efa\",\"pattern\":{\"shape\":\"\"}},\"name\":\"\",\"offsetgroup\":\"\",\"orientation\":\"v\",\"showlegend\":false,\"textposition\":\"auto\",\"x\":[0,2,1],\"xaxis\":\"x28\",\"y\":[98475,695,90],\"yaxis\":\"y28\",\"type\":\"bar\"},{\"alignmentgroup\":\"True\",\"hovertemplate\":\"cluster=1<br>feature=about<br>featureValue=%{x}<br>valuesCount=%{y}<extra></extra>\",\"legendgroup\":\"\",\"marker\":{\"color\":\"#636efa\",\"pattern\":{\"shape\":\"\"}},\"name\":\"\",\"offsetgroup\":\"\",\"orientation\":\"v\",\"showlegend\":false,\"textposition\":\"auto\",\"x\":[0,1],\"xaxis\":\"x15\",\"y\":[33809,8556],\"yaxis\":\"y15\",\"type\":\"bar\"},{\"alignmentgroup\":\"True\",\"hovertemplate\":\"cluster=1<br>feature=gender<br>featureValue=%{x}<br>valuesCount=%{y}<extra></extra>\",\"legendgroup\":\"\",\"marker\":{\"color\":\"#636efa\",\"pattern\":{\"shape\":\"\"}},\"name\":\"\",\"offsetgroup\":\"\",\"orientation\":\"v\",\"showlegend\":false,\"textposition\":\"auto\",\"x\":[2,1],\"xaxis\":\"x16\",\"y\":[21879,20486],\"yaxis\":\"y16\",\"type\":\"bar\"},{\"alignmentgroup\":\"True\",\"hovertemplate\":\"cluster=1<br>feature=live<br>featureValue=%{x}<br>valuesCount=%{y}<extra></extra>\",\"legendgroup\":\"\",\"marker\":{\"color\":\"#636efa\",\"pattern\":{\"shape\":\"\"}},\"name\":\"\",\"offsetgroup\":\"\",\"orientation\":\"v\",\"showlegend\":false,\"textposition\":\"auto\",\"x\":[2,1],\"xaxis\":\"x17\",\"y\":[23911,18454],\"yaxis\":\"y17\",\"type\":\"bar\"},{\"alignmentgroup\":\"True\",\"hovertemplate\":\"cluster=1<br>feature=rangeAge<br>featureValue=%{x}<br>valuesCount=%{y}<extra></extra>\",\"legendgroup\":\"\",\"marker\":{\"color\":\"#636efa\",\"pattern\":{\"shape\":\"\"}},\"name\":\"\",\"offsetgroup\":\"\",\"orientation\":\"v\",\"showlegend\":false,\"textposition\":\"auto\",\"x\":[2,1],\"xaxis\":\"x18\",\"y\":[31720,10645],\"yaxis\":\"y18\",\"type\":\"bar\"},{\"alignmentgroup\":\"True\",\"hovertemplate\":\"cluster=1<br>feature=numaim<br>featureValue=%{x}<br>valuesCount=%{y}<extra></extra>\",\"legendgroup\":\"\",\"marker\":{\"color\":\"#636efa\",\"pattern\":{\"shape\":\"\"}},\"name\":\"\",\"offsetgroup\":\"\",\"orientation\":\"v\",\"showlegend\":false,\"textposition\":\"auto\",\"x\":[5,4,3],\"xaxis\":\"x19\",\"y\":[35507,6709,149],\"yaxis\":\"y19\",\"type\":\"bar\"},{\"alignmentgroup\":\"True\",\"hovertemplate\":\"cluster=1<br>feature=numchildren<br>featureValue=%{x}<br>valuesCount=%{y}<extra></extra>\",\"legendgroup\":\"\",\"marker\":{\"color\":\"#636efa\",\"pattern\":{\"shape\":\"\"}},\"name\":\"\",\"offsetgroup\":\"\",\"orientation\":\"v\",\"showlegend\":false,\"textposition\":\"auto\",\"x\":[1,0,3,2,4],\"xaxis\":\"x20\",\"y\":[15230,13167,6438,4004,3526],\"yaxis\":\"y20\",\"type\":\"bar\"},{\"alignmentgroup\":\"True\",\"hovertemplate\":\"cluster=1<br>feature=numEdu<br>featureValue=%{x}<br>valuesCount=%{y}<extra></extra>\",\"legendgroup\":\"\",\"marker\":{\"color\":\"#636efa\",\"pattern\":{\"shape\":\"\"}},\"name\":\"\",\"offsetgroup\":\"\",\"orientation\":\"v\",\"showlegend\":false,\"textposition\":\"auto\",\"x\":[0,2,3,4,1],\"xaxis\":\"x21\",\"y\":[14387,13003,10614,2526,1835],\"yaxis\":\"y21\",\"type\":\"bar\"},{\"alignmentgroup\":\"True\",\"hovertemplate\":\"cluster=2<br>feature=about<br>featureValue=%{x}<br>valuesCount=%{y}<extra></extra>\",\"legendgroup\":\"\",\"marker\":{\"color\":\"#636efa\",\"pattern\":{\"shape\":\"\"}},\"name\":\"\",\"offsetgroup\":\"\",\"orientation\":\"v\",\"showlegend\":false,\"textposition\":\"auto\",\"x\":[0,1],\"xaxis\":\"x8\",\"y\":[64840,2366],\"yaxis\":\"y8\",\"type\":\"bar\"},{\"alignmentgroup\":\"True\",\"hovertemplate\":\"cluster=2<br>feature=gender<br>featureValue=%{x}<br>valuesCount=%{y}<extra></extra>\",\"legendgroup\":\"\",\"marker\":{\"color\":\"#636efa\",\"pattern\":{\"shape\":\"\"}},\"name\":\"\",\"offsetgroup\":\"\",\"orientation\":\"v\",\"showlegend\":false,\"textposition\":\"auto\",\"x\":[1,2],\"xaxis\":\"x9\",\"y\":[38119,29087],\"yaxis\":\"y9\",\"type\":\"bar\"},{\"alignmentgroup\":\"True\",\"hovertemplate\":\"cluster=2<br>feature=live<br>featureValue=%{x}<br>valuesCount=%{y}<extra></extra>\",\"legendgroup\":\"\",\"marker\":{\"color\":\"#636efa\",\"pattern\":{\"shape\":\"\"}},\"name\":\"\",\"offsetgroup\":\"\",\"orientation\":\"v\",\"showlegend\":false,\"textposition\":\"auto\",\"x\":[2,1],\"xaxis\":\"x10\",\"y\":[64182,3024],\"yaxis\":\"y10\",\"type\":\"bar\"},{\"alignmentgroup\":\"True\",\"hovertemplate\":\"cluster=2<br>feature=rangeAge<br>featureValue=%{x}<br>valuesCount=%{y}<extra></extra>\",\"legendgroup\":\"\",\"marker\":{\"color\":\"#636efa\",\"pattern\":{\"shape\":\"\"}},\"name\":\"\",\"offsetgroup\":\"\",\"orientation\":\"v\",\"showlegend\":false,\"textposition\":\"auto\",\"x\":[1,2],\"xaxis\":\"x11\",\"y\":[45946,21260],\"yaxis\":\"y11\",\"type\":\"bar\"},{\"alignmentgroup\":\"True\",\"hovertemplate\":\"cluster=2<br>feature=numaim<br>featureValue=%{x}<br>valuesCount=%{y}<extra></extra>\",\"legendgroup\":\"\",\"marker\":{\"color\":\"#636efa\",\"pattern\":{\"shape\":\"\"}},\"name\":\"\",\"offsetgroup\":\"\",\"orientation\":\"v\",\"showlegend\":false,\"textposition\":\"auto\",\"x\":[1,2,3],\"xaxis\":\"x12\",\"y\":[36875,30063,268],\"yaxis\":\"y12\",\"type\":\"bar\"},{\"alignmentgroup\":\"True\",\"hovertemplate\":\"cluster=2<br>feature=numchildren<br>featureValue=%{x}<br>valuesCount=%{y}<extra></extra>\",\"legendgroup\":\"\",\"marker\":{\"color\":\"#636efa\",\"pattern\":{\"shape\":\"\"}},\"name\":\"\",\"offsetgroup\":\"\",\"orientation\":\"v\",\"showlegend\":false,\"textposition\":\"auto\",\"x\":[0,1,2],\"xaxis\":\"x13\",\"y\":[62169,4248,789],\"yaxis\":\"y13\",\"type\":\"bar\"},{\"alignmentgroup\":\"True\",\"hovertemplate\":\"cluster=2<br>feature=numEdu<br>featureValue=%{x}<br>valuesCount=%{y}<extra></extra>\",\"legendgroup\":\"\",\"marker\":{\"color\":\"#636efa\",\"pattern\":{\"shape\":\"\"}},\"name\":\"\",\"offsetgroup\":\"\",\"orientation\":\"v\",\"showlegend\":false,\"textposition\":\"auto\",\"x\":[0,1],\"xaxis\":\"x14\",\"y\":[66449,757],\"yaxis\":\"y14\",\"type\":\"bar\"},{\"alignmentgroup\":\"True\",\"hovertemplate\":\"cluster=3<br>feature=about<br>featureValue=%{x}<br>valuesCount=%{y}<extra></extra>\",\"legendgroup\":\"\",\"marker\":{\"color\":\"#636efa\",\"pattern\":{\"shape\":\"\"}},\"name\":\"\",\"offsetgroup\":\"\",\"orientation\":\"v\",\"showlegend\":false,\"textposition\":\"auto\",\"x\":[0,1],\"xaxis\":\"x\",\"y\":[26211,4945],\"yaxis\":\"y\",\"type\":\"bar\"},{\"alignmentgroup\":\"True\",\"hovertemplate\":\"cluster=3<br>feature=gender<br>featureValue=%{x}<br>valuesCount=%{y}<extra></extra>\",\"legendgroup\":\"\",\"marker\":{\"color\":\"#636efa\",\"pattern\":{\"shape\":\"\"}},\"name\":\"\",\"offsetgroup\":\"\",\"orientation\":\"v\",\"showlegend\":false,\"textposition\":\"auto\",\"x\":[1,2],\"xaxis\":\"x2\",\"y\":[16006,15150],\"yaxis\":\"y2\",\"type\":\"bar\"},{\"alignmentgroup\":\"True\",\"hovertemplate\":\"cluster=3<br>feature=live<br>featureValue=%{x}<br>valuesCount=%{y}<extra></extra>\",\"legendgroup\":\"\",\"marker\":{\"color\":\"#636efa\",\"pattern\":{\"shape\":\"\"}},\"name\":\"\",\"offsetgroup\":\"\",\"orientation\":\"v\",\"showlegend\":false,\"textposition\":\"auto\",\"x\":[2,1],\"xaxis\":\"x3\",\"y\":[16281,14875],\"yaxis\":\"y3\",\"type\":\"bar\"},{\"alignmentgroup\":\"True\",\"hovertemplate\":\"cluster=3<br>feature=rangeAge<br>featureValue=%{x}<br>valuesCount=%{y}<extra></extra>\",\"legendgroup\":\"\",\"marker\":{\"color\":\"#636efa\",\"pattern\":{\"shape\":\"\"}},\"name\":\"\",\"offsetgroup\":\"\",\"orientation\":\"v\",\"showlegend\":false,\"textposition\":\"auto\",\"x\":[2,1],\"xaxis\":\"x4\",\"y\":[19210,11946],\"yaxis\":\"y4\",\"type\":\"bar\"},{\"alignmentgroup\":\"True\",\"hovertemplate\":\"cluster=3<br>feature=numaim<br>featureValue=%{x}<br>valuesCount=%{y}<extra></extra>\",\"legendgroup\":\"\",\"marker\":{\"color\":\"#636efa\",\"pattern\":{\"shape\":\"\"}},\"name\":\"\",\"offsetgroup\":\"\",\"orientation\":\"v\",\"showlegend\":false,\"textposition\":\"auto\",\"x\":[1,2,0,3],\"xaxis\":\"x5\",\"y\":[16061,13162,1290,643],\"yaxis\":\"y5\",\"type\":\"bar\"},{\"alignmentgroup\":\"True\",\"hovertemplate\":\"cluster=3<br>feature=numchildren<br>featureValue=%{x}<br>valuesCount=%{y}<extra></extra>\",\"legendgroup\":\"\",\"marker\":{\"color\":\"#636efa\",\"pattern\":{\"shape\":\"\"}},\"name\":\"\",\"offsetgroup\":\"\",\"orientation\":\"v\",\"showlegend\":false,\"textposition\":\"auto\",\"x\":[1,3,0,4,2],\"xaxis\":\"x6\",\"y\":[12407,6343,6103,3585,2718],\"yaxis\":\"y6\",\"type\":\"bar\"},{\"alignmentgroup\":\"True\",\"hovertemplate\":\"cluster=3<br>feature=numEdu<br>featureValue=%{x}<br>valuesCount=%{y}<extra></extra>\",\"legendgroup\":\"\",\"marker\":{\"color\":\"#636efa\",\"pattern\":{\"shape\":\"\"}},\"name\":\"\",\"offsetgroup\":\"\",\"orientation\":\"v\",\"showlegend\":false,\"textposition\":\"auto\",\"x\":[2,3,4,0,1],\"xaxis\":\"x7\",\"y\":[12794,12224,3022,2172,944],\"yaxis\":\"y7\",\"type\":\"bar\"}],                        {\"template\":{\"data\":{\"histogram2dcontour\":[{\"type\":\"histogram2dcontour\",\"colorbar\":{\"outlinewidth\":0,\"ticks\":\"\"},\"colorscale\":[[0.0,\"#0d0887\"],[0.1111111111111111,\"#46039f\"],[0.2222222222222222,\"#7201a8\"],[0.3333333333333333,\"#9c179e\"],[0.4444444444444444,\"#bd3786\"],[0.5555555555555556,\"#d8576b\"],[0.6666666666666666,\"#ed7953\"],[0.7777777777777778,\"#fb9f3a\"],[0.8888888888888888,\"#fdca26\"],[1.0,\"#f0f921\"]]}],\"choropleth\":[{\"type\":\"choropleth\",\"colorbar\":{\"outlinewidth\":0,\"ticks\":\"\"}}],\"histogram2d\":[{\"type\":\"histogram2d\",\"colorbar\":{\"outlinewidth\":0,\"ticks\":\"\"},\"colorscale\":[[0.0,\"#0d0887\"],[0.1111111111111111,\"#46039f\"],[0.2222222222222222,\"#7201a8\"],[0.3333333333333333,\"#9c179e\"],[0.4444444444444444,\"#bd3786\"],[0.5555555555555556,\"#d8576b\"],[0.6666666666666666,\"#ed7953\"],[0.7777777777777778,\"#fb9f3a\"],[0.8888888888888888,\"#fdca26\"],[1.0,\"#f0f921\"]]}],\"heatmap\":[{\"type\":\"heatmap\",\"colorbar\":{\"outlinewidth\":0,\"ticks\":\"\"},\"colorscale\":[[0.0,\"#0d0887\"],[0.1111111111111111,\"#46039f\"],[0.2222222222222222,\"#7201a8\"],[0.3333333333333333,\"#9c179e\"],[0.4444444444444444,\"#bd3786\"],[0.5555555555555556,\"#d8576b\"],[0.6666666666666666,\"#ed7953\"],[0.7777777777777778,\"#fb9f3a\"],[0.8888888888888888,\"#fdca26\"],[1.0,\"#f0f921\"]]}],\"heatmapgl\":[{\"type\":\"heatmapgl\",\"colorbar\":{\"outlinewidth\":0,\"ticks\":\"\"},\"colorscale\":[[0.0,\"#0d0887\"],[0.1111111111111111,\"#46039f\"],[0.2222222222222222,\"#7201a8\"],[0.3333333333333333,\"#9c179e\"],[0.4444444444444444,\"#bd3786\"],[0.5555555555555556,\"#d8576b\"],[0.6666666666666666,\"#ed7953\"],[0.7777777777777778,\"#fb9f3a\"],[0.8888888888888888,\"#fdca26\"],[1.0,\"#f0f921\"]]}],\"contourcarpet\":[{\"type\":\"contourcarpet\",\"colorbar\":{\"outlinewidth\":0,\"ticks\":\"\"}}],\"contour\":[{\"type\":\"contour\",\"colorbar\":{\"outlinewidth\":0,\"ticks\":\"\"},\"colorscale\":[[0.0,\"#0d0887\"],[0.1111111111111111,\"#46039f\"],[0.2222222222222222,\"#7201a8\"],[0.3333333333333333,\"#9c179e\"],[0.4444444444444444,\"#bd3786\"],[0.5555555555555556,\"#d8576b\"],[0.6666666666666666,\"#ed7953\"],[0.7777777777777778,\"#fb9f3a\"],[0.8888888888888888,\"#fdca26\"],[1.0,\"#f0f921\"]]}],\"surface\":[{\"type\":\"surface\",\"colorbar\":{\"outlinewidth\":0,\"ticks\":\"\"},\"colorscale\":[[0.0,\"#0d0887\"],[0.1111111111111111,\"#46039f\"],[0.2222222222222222,\"#7201a8\"],[0.3333333333333333,\"#9c179e\"],[0.4444444444444444,\"#bd3786\"],[0.5555555555555556,\"#d8576b\"],[0.6666666666666666,\"#ed7953\"],[0.7777777777777778,\"#fb9f3a\"],[0.8888888888888888,\"#fdca26\"],[1.0,\"#f0f921\"]]}],\"mesh3d\":[{\"type\":\"mesh3d\",\"colorbar\":{\"outlinewidth\":0,\"ticks\":\"\"}}],\"scatter\":[{\"fillpattern\":{\"fillmode\":\"overlay\",\"size\":10,\"solidity\":0.2},\"type\":\"scatter\"}],\"parcoords\":[{\"type\":\"parcoords\",\"line\":{\"colorbar\":{\"outlinewidth\":0,\"ticks\":\"\"}}}],\"scatterpolargl\":[{\"type\":\"scatterpolargl\",\"marker\":{\"colorbar\":{\"outlinewidth\":0,\"ticks\":\"\"}}}],\"bar\":[{\"error_x\":{\"color\":\"#2a3f5f\"},\"error_y\":{\"color\":\"#2a3f5f\"},\"marker\":{\"line\":{\"color\":\"#E5ECF6\",\"width\":0.5},\"pattern\":{\"fillmode\":\"overlay\",\"size\":10,\"solidity\":0.2}},\"type\":\"bar\"}],\"scattergeo\":[{\"type\":\"scattergeo\",\"marker\":{\"colorbar\":{\"outlinewidth\":0,\"ticks\":\"\"}}}],\"scatterpolar\":[{\"type\":\"scatterpolar\",\"marker\":{\"colorbar\":{\"outlinewidth\":0,\"ticks\":\"\"}}}],\"histogram\":[{\"marker\":{\"pattern\":{\"fillmode\":\"overlay\",\"size\":10,\"solidity\":0.2}},\"type\":\"histogram\"}],\"scattergl\":[{\"type\":\"scattergl\",\"marker\":{\"colorbar\":{\"outlinewidth\":0,\"ticks\":\"\"}}}],\"scatter3d\":[{\"type\":\"scatter3d\",\"line\":{\"colorbar\":{\"outlinewidth\":0,\"ticks\":\"\"}},\"marker\":{\"colorbar\":{\"outlinewidth\":0,\"ticks\":\"\"}}}],\"scattermapbox\":[{\"type\":\"scattermapbox\",\"marker\":{\"colorbar\":{\"outlinewidth\":0,\"ticks\":\"\"}}}],\"scatterternary\":[{\"type\":\"scatterternary\",\"marker\":{\"colorbar\":{\"outlinewidth\":0,\"ticks\":\"\"}}}],\"scattercarpet\":[{\"type\":\"scattercarpet\",\"marker\":{\"colorbar\":{\"outlinewidth\":0,\"ticks\":\"\"}}}],\"carpet\":[{\"aaxis\":{\"endlinecolor\":\"#2a3f5f\",\"gridcolor\":\"white\",\"linecolor\":\"white\",\"minorgridcolor\":\"white\",\"startlinecolor\":\"#2a3f5f\"},\"baxis\":{\"endlinecolor\":\"#2a3f5f\",\"gridcolor\":\"white\",\"linecolor\":\"white\",\"minorgridcolor\":\"white\",\"startlinecolor\":\"#2a3f5f\"},\"type\":\"carpet\"}],\"table\":[{\"cells\":{\"fill\":{\"color\":\"#EBF0F8\"},\"line\":{\"color\":\"white\"}},\"header\":{\"fill\":{\"color\":\"#C8D4E3\"},\"line\":{\"color\":\"white\"}},\"type\":\"table\"}],\"barpolar\":[{\"marker\":{\"line\":{\"color\":\"#E5ECF6\",\"width\":0.5},\"pattern\":{\"fillmode\":\"overlay\",\"size\":10,\"solidity\":0.2}},\"type\":\"barpolar\"}],\"pie\":[{\"automargin\":true,\"type\":\"pie\"}]},\"layout\":{\"autotypenumbers\":\"strict\",\"colorway\":[\"#636efa\",\"#EF553B\",\"#00cc96\",\"#ab63fa\",\"#FFA15A\",\"#19d3f3\",\"#FF6692\",\"#B6E880\",\"#FF97FF\",\"#FECB52\"],\"font\":{\"color\":\"#2a3f5f\"},\"hovermode\":\"closest\",\"hoverlabel\":{\"align\":\"left\"},\"paper_bgcolor\":\"white\",\"plot_bgcolor\":\"#E5ECF6\",\"polar\":{\"bgcolor\":\"#E5ECF6\",\"angularaxis\":{\"gridcolor\":\"white\",\"linecolor\":\"white\",\"ticks\":\"\"},\"radialaxis\":{\"gridcolor\":\"white\",\"linecolor\":\"white\",\"ticks\":\"\"}},\"ternary\":{\"bgcolor\":\"#E5ECF6\",\"aaxis\":{\"gridcolor\":\"white\",\"linecolor\":\"white\",\"ticks\":\"\"},\"baxis\":{\"gridcolor\":\"white\",\"linecolor\":\"white\",\"ticks\":\"\"},\"caxis\":{\"gridcolor\":\"white\",\"linecolor\":\"white\",\"ticks\":\"\"}},\"coloraxis\":{\"colorbar\":{\"outlinewidth\":0,\"ticks\":\"\"}},\"colorscale\":{\"sequential\":[[0.0,\"#0d0887\"],[0.1111111111111111,\"#46039f\"],[0.2222222222222222,\"#7201a8\"],[0.3333333333333333,\"#9c179e\"],[0.4444444444444444,\"#bd3786\"],[0.5555555555555556,\"#d8576b\"],[0.6666666666666666,\"#ed7953\"],[0.7777777777777778,\"#fb9f3a\"],[0.8888888888888888,\"#fdca26\"],[1.0,\"#f0f921\"]],\"sequentialminus\":[[0.0,\"#0d0887\"],[0.1111111111111111,\"#46039f\"],[0.2222222222222222,\"#7201a8\"],[0.3333333333333333,\"#9c179e\"],[0.4444444444444444,\"#bd3786\"],[0.5555555555555556,\"#d8576b\"],[0.6666666666666666,\"#ed7953\"],[0.7777777777777778,\"#fb9f3a\"],[0.8888888888888888,\"#fdca26\"],[1.0,\"#f0f921\"]],\"diverging\":[[0,\"#8e0152\"],[0.1,\"#c51b7d\"],[0.2,\"#de77ae\"],[0.3,\"#f1b6da\"],[0.4,\"#fde0ef\"],[0.5,\"#f7f7f7\"],[0.6,\"#e6f5d0\"],[0.7,\"#b8e186\"],[0.8,\"#7fbc41\"],[0.9,\"#4d9221\"],[1,\"#276419\"]]},\"xaxis\":{\"gridcolor\":\"white\",\"linecolor\":\"white\",\"ticks\":\"\",\"title\":{\"standoff\":15},\"zerolinecolor\":\"white\",\"automargin\":true,\"zerolinewidth\":2},\"yaxis\":{\"gridcolor\":\"white\",\"linecolor\":\"white\",\"ticks\":\"\",\"title\":{\"standoff\":15},\"zerolinecolor\":\"white\",\"automargin\":true,\"zerolinewidth\":2},\"scene\":{\"xaxis\":{\"backgroundcolor\":\"#E5ECF6\",\"gridcolor\":\"white\",\"linecolor\":\"white\",\"showbackground\":true,\"ticks\":\"\",\"zerolinecolor\":\"white\",\"gridwidth\":2},\"yaxis\":{\"backgroundcolor\":\"#E5ECF6\",\"gridcolor\":\"white\",\"linecolor\":\"white\",\"showbackground\":true,\"ticks\":\"\",\"zerolinecolor\":\"white\",\"gridwidth\":2},\"zaxis\":{\"backgroundcolor\":\"#E5ECF6\",\"gridcolor\":\"white\",\"linecolor\":\"white\",\"showbackground\":true,\"ticks\":\"\",\"zerolinecolor\":\"white\",\"gridwidth\":2}},\"shapedefaults\":{\"line\":{\"color\":\"#2a3f5f\"}},\"annotationdefaults\":{\"arrowcolor\":\"#2a3f5f\",\"arrowhead\":0,\"arrowwidth\":1},\"geo\":{\"bgcolor\":\"white\",\"landcolor\":\"#E5ECF6\",\"subunitcolor\":\"white\",\"showland\":true,\"showlakes\":true,\"lakecolor\":\"white\"},\"title\":{\"x\":0.05},\"mapbox\":{\"style\":\"light\"}}},\"xaxis\":{\"anchor\":\"y\",\"domain\":[0.0,0.12285714285714285],\"title\":{\"text\":\"featureValue\"}},\"yaxis\":{\"anchor\":\"x\",\"domain\":[0.0,0.2275],\"title\":{\"text\":\"valuesCount\"}},\"xaxis2\":{\"anchor\":\"y2\",\"domain\":[0.14285714285714285,0.2657142857142857],\"matches\":\"x\",\"title\":{\"text\":\"featureValue\"}},\"yaxis2\":{\"anchor\":\"x2\",\"domain\":[0.0,0.2275],\"matches\":\"y\",\"showticklabels\":false},\"xaxis3\":{\"anchor\":\"y3\",\"domain\":[0.2857142857142857,0.40857142857142853],\"matches\":\"x\",\"title\":{\"text\":\"featureValue\"}},\"yaxis3\":{\"anchor\":\"x3\",\"domain\":[0.0,0.2275],\"matches\":\"y\",\"showticklabels\":false},\"xaxis4\":{\"anchor\":\"y4\",\"domain\":[0.42857142857142855,0.5514285714285714],\"matches\":\"x\",\"title\":{\"text\":\"featureValue\"}},\"yaxis4\":{\"anchor\":\"x4\",\"domain\":[0.0,0.2275],\"matches\":\"y\",\"showticklabels\":false},\"xaxis5\":{\"anchor\":\"y5\",\"domain\":[0.5714285714285714,0.6942857142857143],\"matches\":\"x\",\"title\":{\"text\":\"featureValue\"}},\"yaxis5\":{\"anchor\":\"x5\",\"domain\":[0.0,0.2275],\"matches\":\"y\",\"showticklabels\":false},\"xaxis6\":{\"anchor\":\"y6\",\"domain\":[0.7142857142857142,0.8371428571428571],\"matches\":\"x\",\"title\":{\"text\":\"featureValue\"}},\"yaxis6\":{\"anchor\":\"x6\",\"domain\":[0.0,0.2275],\"matches\":\"y\",\"showticklabels\":false},\"xaxis7\":{\"anchor\":\"y7\",\"domain\":[0.8571428571428571,0.98],\"matches\":\"x\",\"title\":{\"text\":\"featureValue\"}},\"yaxis7\":{\"anchor\":\"x7\",\"domain\":[0.0,0.2275],\"matches\":\"y\",\"showticklabels\":false},\"xaxis8\":{\"anchor\":\"y8\",\"domain\":[0.0,0.12285714285714285],\"matches\":\"x\",\"showticklabels\":false},\"yaxis8\":{\"anchor\":\"x8\",\"domain\":[0.2575,0.485],\"matches\":\"y\",\"title\":{\"text\":\"valuesCount\"}},\"xaxis9\":{\"anchor\":\"y9\",\"domain\":[0.14285714285714285,0.2657142857142857],\"matches\":\"x\",\"showticklabels\":false},\"yaxis9\":{\"anchor\":\"x9\",\"domain\":[0.2575,0.485],\"matches\":\"y\",\"showticklabels\":false},\"xaxis10\":{\"anchor\":\"y10\",\"domain\":[0.2857142857142857,0.40857142857142853],\"matches\":\"x\",\"showticklabels\":false},\"yaxis10\":{\"anchor\":\"x10\",\"domain\":[0.2575,0.485],\"matches\":\"y\",\"showticklabels\":false},\"xaxis11\":{\"anchor\":\"y11\",\"domain\":[0.42857142857142855,0.5514285714285714],\"matches\":\"x\",\"showticklabels\":false},\"yaxis11\":{\"anchor\":\"x11\",\"domain\":[0.2575,0.485],\"matches\":\"y\",\"showticklabels\":false},\"xaxis12\":{\"anchor\":\"y12\",\"domain\":[0.5714285714285714,0.6942857142857143],\"matches\":\"x\",\"showticklabels\":false},\"yaxis12\":{\"anchor\":\"x12\",\"domain\":[0.2575,0.485],\"matches\":\"y\",\"showticklabels\":false},\"xaxis13\":{\"anchor\":\"y13\",\"domain\":[0.7142857142857142,0.8371428571428571],\"matches\":\"x\",\"showticklabels\":false},\"yaxis13\":{\"anchor\":\"x13\",\"domain\":[0.2575,0.485],\"matches\":\"y\",\"showticklabels\":false},\"xaxis14\":{\"anchor\":\"y14\",\"domain\":[0.8571428571428571,0.98],\"matches\":\"x\",\"showticklabels\":false},\"yaxis14\":{\"anchor\":\"x14\",\"domain\":[0.2575,0.485],\"matches\":\"y\",\"showticklabels\":false},\"xaxis15\":{\"anchor\":\"y15\",\"domain\":[0.0,0.12285714285714285],\"matches\":\"x\",\"showticklabels\":false},\"yaxis15\":{\"anchor\":\"x15\",\"domain\":[0.515,0.7425],\"matches\":\"y\",\"title\":{\"text\":\"valuesCount\"}},\"xaxis16\":{\"anchor\":\"y16\",\"domain\":[0.14285714285714285,0.2657142857142857],\"matches\":\"x\",\"showticklabels\":false},\"yaxis16\":{\"anchor\":\"x16\",\"domain\":[0.515,0.7425],\"matches\":\"y\",\"showticklabels\":false},\"xaxis17\":{\"anchor\":\"y17\",\"domain\":[0.2857142857142857,0.40857142857142853],\"matches\":\"x\",\"showticklabels\":false},\"yaxis17\":{\"anchor\":\"x17\",\"domain\":[0.515,0.7425],\"matches\":\"y\",\"showticklabels\":false},\"xaxis18\":{\"anchor\":\"y18\",\"domain\":[0.42857142857142855,0.5514285714285714],\"matches\":\"x\",\"showticklabels\":false},\"yaxis18\":{\"anchor\":\"x18\",\"domain\":[0.515,0.7425],\"matches\":\"y\",\"showticklabels\":false},\"xaxis19\":{\"anchor\":\"y19\",\"domain\":[0.5714285714285714,0.6942857142857143],\"matches\":\"x\",\"showticklabels\":false},\"yaxis19\":{\"anchor\":\"x19\",\"domain\":[0.515,0.7425],\"matches\":\"y\",\"showticklabels\":false},\"xaxis20\":{\"anchor\":\"y20\",\"domain\":[0.7142857142857142,0.8371428571428571],\"matches\":\"x\",\"showticklabels\":false},\"yaxis20\":{\"anchor\":\"x20\",\"domain\":[0.515,0.7425],\"matches\":\"y\",\"showticklabels\":false},\"xaxis21\":{\"anchor\":\"y21\",\"domain\":[0.8571428571428571,0.98],\"matches\":\"x\",\"showticklabels\":false},\"yaxis21\":{\"anchor\":\"x21\",\"domain\":[0.515,0.7425],\"matches\":\"y\",\"showticklabels\":false},\"xaxis22\":{\"anchor\":\"y22\",\"domain\":[0.0,0.12285714285714285],\"matches\":\"x\",\"showticklabels\":false},\"yaxis22\":{\"anchor\":\"x22\",\"domain\":[0.7725,1.0],\"matches\":\"y\",\"title\":{\"text\":\"valuesCount\"}},\"xaxis23\":{\"anchor\":\"y23\",\"domain\":[0.14285714285714285,0.2657142857142857],\"matches\":\"x\",\"showticklabels\":false},\"yaxis23\":{\"anchor\":\"x23\",\"domain\":[0.7725,1.0],\"matches\":\"y\",\"showticklabels\":false},\"xaxis24\":{\"anchor\":\"y24\",\"domain\":[0.2857142857142857,0.40857142857142853],\"matches\":\"x\",\"showticklabels\":false},\"yaxis24\":{\"anchor\":\"x24\",\"domain\":[0.7725,1.0],\"matches\":\"y\",\"showticklabels\":false},\"xaxis25\":{\"anchor\":\"y25\",\"domain\":[0.42857142857142855,0.5514285714285714],\"matches\":\"x\",\"showticklabels\":false},\"yaxis25\":{\"anchor\":\"x25\",\"domain\":[0.7725,1.0],\"matches\":\"y\",\"showticklabels\":false},\"xaxis26\":{\"anchor\":\"y26\",\"domain\":[0.5714285714285714,0.6942857142857143],\"matches\":\"x\",\"showticklabels\":false},\"yaxis26\":{\"anchor\":\"x26\",\"domain\":[0.7725,1.0],\"matches\":\"y\",\"showticklabels\":false},\"xaxis27\":{\"anchor\":\"y27\",\"domain\":[0.7142857142857142,0.8371428571428571],\"matches\":\"x\",\"showticklabels\":false},\"yaxis27\":{\"anchor\":\"x27\",\"domain\":[0.7725,1.0],\"matches\":\"y\",\"showticklabels\":false},\"xaxis28\":{\"anchor\":\"y28\",\"domain\":[0.8571428571428571,0.98],\"matches\":\"x\",\"showticklabels\":false},\"yaxis28\":{\"anchor\":\"x28\",\"domain\":[0.7725,1.0],\"matches\":\"y\",\"showticklabels\":false},\"annotations\":[{\"font\":{},\"showarrow\":false,\"text\":\"feature=about\",\"x\":0.06142857142857142,\"xanchor\":\"center\",\"xref\":\"paper\",\"y\":1.0,\"yanchor\":\"bottom\",\"yref\":\"paper\"},{\"font\":{},\"showarrow\":false,\"text\":\"feature=gender\",\"x\":0.20428571428571426,\"xanchor\":\"center\",\"xref\":\"paper\",\"y\":1.0,\"yanchor\":\"bottom\",\"yref\":\"paper\"},{\"font\":{},\"showarrow\":false,\"text\":\"feature=live\",\"x\":0.3471428571428571,\"xanchor\":\"center\",\"xref\":\"paper\",\"y\":1.0,\"yanchor\":\"bottom\",\"yref\":\"paper\"},{\"font\":{},\"showarrow\":false,\"text\":\"feature=rangeAge\",\"x\":0.49,\"xanchor\":\"center\",\"xref\":\"paper\",\"y\":1.0,\"yanchor\":\"bottom\",\"yref\":\"paper\"},{\"font\":{},\"showarrow\":false,\"text\":\"feature=numaim\",\"x\":0.6328571428571428,\"xanchor\":\"center\",\"xref\":\"paper\",\"y\":1.0,\"yanchor\":\"bottom\",\"yref\":\"paper\"},{\"font\":{},\"showarrow\":false,\"text\":\"feature=numchildren\",\"x\":0.7757142857142856,\"xanchor\":\"center\",\"xref\":\"paper\",\"y\":1.0,\"yanchor\":\"bottom\",\"yref\":\"paper\"},{\"font\":{},\"showarrow\":false,\"text\":\"feature=numEdu\",\"x\":0.9185714285714286,\"xanchor\":\"center\",\"xref\":\"paper\",\"y\":1.0,\"yanchor\":\"bottom\",\"yref\":\"paper\"},{\"font\":{},\"showarrow\":false,\"text\":\"cluster=3\",\"textangle\":90,\"x\":0.98,\"xanchor\":\"left\",\"xref\":\"paper\",\"y\":0.11375,\"yanchor\":\"middle\",\"yref\":\"paper\"},{\"font\":{},\"showarrow\":false,\"text\":\"cluster=2\",\"textangle\":90,\"x\":0.98,\"xanchor\":\"left\",\"xref\":\"paper\",\"y\":0.37124999999999997,\"yanchor\":\"middle\",\"yref\":\"paper\"},{\"font\":{},\"showarrow\":false,\"text\":\"cluster=1\",\"textangle\":90,\"x\":0.98,\"xanchor\":\"left\",\"xref\":\"paper\",\"y\":0.62875,\"yanchor\":\"middle\",\"yref\":\"paper\"},{\"font\":{},\"showarrow\":false,\"text\":\"cluster=0\",\"textangle\":90,\"x\":0.98,\"xanchor\":\"left\",\"xref\":\"paper\",\"y\":0.88625,\"yanchor\":\"middle\",\"yref\":\"paper\"}],\"legend\":{\"tracegroupgap\":0},\"margin\":{\"t\":60},\"barmode\":\"relative\"},                        {\"responsive\": true}                    ).then(function(){\n",
       "                            \n",
       "var gd = document.getElementById('636b7ba1-94ff-4175-9cab-333e8e5eacb9');\n",
       "var x = new MutationObserver(function (mutations, observer) {{\n",
       "        var display = window.getComputedStyle(gd).display;\n",
       "        if (!display || display === 'none') {{\n",
       "            console.log([gd, 'removed!']);\n",
       "            Plotly.purge(gd);\n",
       "            observer.disconnect();\n",
       "        }}\n",
       "}});\n",
       "\n",
       "// Listen for the removal of the full notebook cells\n",
       "var notebookContainer = gd.closest('#notebook-container');\n",
       "if (notebookContainer) {{\n",
       "    x.observe(notebookContainer, {childList: true});\n",
       "}}\n",
       "\n",
       "// Listen for the clearing of the current output cell\n",
       "var outputEl = gd.closest('.output');\n",
       "if (outputEl) {{\n",
       "    x.observe(outputEl, {childList: true});\n",
       "}}\n",
       "\n",
       "                        })                };                });            </script>        </div>"
      ]
     },
     "metadata": {},
     "output_type": "display_data"
    }
   ],
   "source": [
    "import plotly.express as px\n",
    "df = dfResClusts\n",
    "fig = px.bar(df, x=\"featureValue\", y=\"valuesCount\",\n",
    "             facet_col=\"feature\", facet_row='cluster')\n",
    "fig.show()\n"
   ]
  },
  {
   "cell_type": "markdown",
   "metadata": {},
   "source": [
    "#### Кластер 0 \n",
    "Похоже, там много людей, которые ничего о себе не указали, кроме пола, которые живут с родителями и указали 4 года в диапазоне возраста партнера. \n",
    "#### Кластер 1\n",
    "Отличительная черта - у них нет детей (самая многочисленная группа по 4-ем кластерам). Также в эту группу, похоже, вошли все, кто сам не знает, чего хочет от сайта, и кто хочет дружить. Больше всего людей среди других кластеров там о себе что-то написали. Разные уровни образования.\n",
    "#### Кластер 2\n",
    "Очень похожий на другие кластер, очень отличительно, что живут с родителями и при этом больше остальных кластеров хотят в равных долях флиртовать и отношений. У них нет детей. \n",
    "#### Кластер 3\n",
    "Очень средний кластер, похож на кластер 1, возможно, их следовало в одну группу.\n"
   ]
  },
  {
   "cell_type": "markdown",
   "metadata": {},
   "source": [
    "### Попробую 3 кластер"
   ]
  },
  {
   "cell_type": "code",
   "execution_count": 38,
   "metadata": {},
   "outputs": [],
   "source": [
    "df1 = pd.read_csv('mambaml.csv')\n",
    "features = df1[df1.columns]\n",
    "K_model3 = KMeans(3).fit(features)\n",
    "df1['cluster3'] = K_model3.fit_predict(features)"
   ]
  },
  {
   "cell_type": "code",
   "execution_count": 41,
   "metadata": {},
   "outputs": [],
   "source": [
    "dict_clust = {'cluster' : [], 'feature' : [], 'valuesCount' : [], 'featureValue' : []}\n",
    "for clust in df1.cluster3.unique():\n",
    "    dfclut = df1.loc[df1['cluster3'] == clust]\n",
    "    for feat in dfclut.columns[:-1]:\n",
    "        for _ in dfclut[feat].value_counts().index:\n",
    "            dict_clust['cluster'].append(clust)\n",
    "            dict_clust['feature'].append(feat)\n",
    "\n",
    "            dict_clust['featureValue'].append(_)\n",
    "            dict_clust['valuesCount'].append(dfclut[feat].value_counts()[_])"
   ]
  },
  {
   "cell_type": "code",
   "execution_count": 42,
   "metadata": {},
   "outputs": [
    {
     "data": {
      "text/html": [
       "<div>\n",
       "<style scoped>\n",
       "    .dataframe tbody tr th:only-of-type {\n",
       "        vertical-align: middle;\n",
       "    }\n",
       "\n",
       "    .dataframe tbody tr th {\n",
       "        vertical-align: top;\n",
       "    }\n",
       "\n",
       "    .dataframe thead th {\n",
       "        text-align: right;\n",
       "    }\n",
       "</style>\n",
       "<table border=\"1\" class=\"dataframe\">\n",
       "  <thead>\n",
       "    <tr style=\"text-align: right;\">\n",
       "      <th></th>\n",
       "      <th>cluster</th>\n",
       "      <th>feature</th>\n",
       "      <th>valuesCount</th>\n",
       "      <th>featureValue</th>\n",
       "    </tr>\n",
       "  </thead>\n",
       "  <tbody>\n",
       "    <tr>\n",
       "      <th>0</th>\n",
       "      <td>1</td>\n",
       "      <td>about</td>\n",
       "      <td>163102</td>\n",
       "      <td>0</td>\n",
       "    </tr>\n",
       "    <tr>\n",
       "      <th>1</th>\n",
       "      <td>1</td>\n",
       "      <td>about</td>\n",
       "      <td>2845</td>\n",
       "      <td>1</td>\n",
       "    </tr>\n",
       "    <tr>\n",
       "      <th>2</th>\n",
       "      <td>1</td>\n",
       "      <td>gender</td>\n",
       "      <td>84023</td>\n",
       "      <td>1</td>\n",
       "    </tr>\n",
       "    <tr>\n",
       "      <th>3</th>\n",
       "      <td>1</td>\n",
       "      <td>gender</td>\n",
       "      <td>81924</td>\n",
       "      <td>2</td>\n",
       "    </tr>\n",
       "    <tr>\n",
       "      <th>4</th>\n",
       "      <td>1</td>\n",
       "      <td>live</td>\n",
       "      <td>163020</td>\n",
       "      <td>2</td>\n",
       "    </tr>\n",
       "  </tbody>\n",
       "</table>\n",
       "</div>"
      ],
      "text/plain": [
       "   cluster feature  valuesCount  featureValue\n",
       "0        1   about       163102             0\n",
       "1        1   about         2845             1\n",
       "2        1  gender        84023             1\n",
       "3        1  gender        81924             2\n",
       "4        1    live       163020             2"
      ]
     },
     "execution_count": 42,
     "metadata": {},
     "output_type": "execute_result"
    }
   ],
   "source": [
    "dfRes = pd.DataFrame.from_dict(dict_clust)\n",
    "dfRes.head()"
   ]
  },
  {
   "cell_type": "code",
   "execution_count": 43,
   "metadata": {},
   "outputs": [
    {
     "data": {
      "application/vnd.plotly.v1+json": {
       "config": {
        "plotlyServerURL": "https://plot.ly"
       },
       "data": [
        {
         "alignmentgroup": "True",
         "hovertemplate": "cluster=1<br>feature=about<br>featureValue=%{x}<br>valuesCount=%{y}<extra></extra>",
         "legendgroup": "",
         "marker": {
          "color": "#636efa",
          "pattern": {
           "shape": ""
          }
         },
         "name": "",
         "offsetgroup": "",
         "orientation": "v",
         "showlegend": false,
         "textposition": "auto",
         "type": "bar",
         "x": [
          0,
          1
         ],
         "xaxis": "x15",
         "y": [
          163102,
          2845
         ],
         "yaxis": "y15"
        },
        {
         "alignmentgroup": "True",
         "hovertemplate": "cluster=1<br>feature=gender<br>featureValue=%{x}<br>valuesCount=%{y}<extra></extra>",
         "legendgroup": "",
         "marker": {
          "color": "#636efa",
          "pattern": {
           "shape": ""
          }
         },
         "name": "",
         "offsetgroup": "",
         "orientation": "v",
         "showlegend": false,
         "textposition": "auto",
         "type": "bar",
         "x": [
          1,
          2
         ],
         "xaxis": "x16",
         "y": [
          84023,
          81924
         ],
         "yaxis": "y16"
        },
        {
         "alignmentgroup": "True",
         "hovertemplate": "cluster=1<br>feature=live<br>featureValue=%{x}<br>valuesCount=%{y}<extra></extra>",
         "legendgroup": "",
         "marker": {
          "color": "#636efa",
          "pattern": {
           "shape": ""
          }
         },
         "name": "",
         "offsetgroup": "",
         "orientation": "v",
         "showlegend": false,
         "textposition": "auto",
         "type": "bar",
         "x": [
          2,
          1
         ],
         "xaxis": "x17",
         "y": [
          163020,
          2927
         ],
         "yaxis": "y17"
        },
        {
         "alignmentgroup": "True",
         "hovertemplate": "cluster=1<br>feature=rangeAge<br>featureValue=%{x}<br>valuesCount=%{y}<extra></extra>",
         "legendgroup": "",
         "marker": {
          "color": "#636efa",
          "pattern": {
           "shape": ""
          }
         },
         "name": "",
         "offsetgroup": "",
         "orientation": "v",
         "showlegend": false,
         "textposition": "auto",
         "type": "bar",
         "x": [
          1,
          2
         ],
         "xaxis": "x18",
         "y": [
          131065,
          34882
         ],
         "yaxis": "y18"
        },
        {
         "alignmentgroup": "True",
         "hovertemplate": "cluster=1<br>feature=numaim<br>featureValue=%{x}<br>valuesCount=%{y}<extra></extra>",
         "legendgroup": "",
         "marker": {
          "color": "#636efa",
          "pattern": {
           "shape": ""
          }
         },
         "name": "",
         "offsetgroup": "",
         "orientation": "v",
         "showlegend": false,
         "textposition": "auto",
         "type": "bar",
         "x": [
          0,
          1,
          2,
          3
         ],
         "xaxis": "x19",
         "y": [
          99250,
          36853,
          29667,
          177
         ],
         "yaxis": "y19"
        },
        {
         "alignmentgroup": "True",
         "hovertemplate": "cluster=1<br>feature=numchildren<br>featureValue=%{x}<br>valuesCount=%{y}<extra></extra>",
         "legendgroup": "",
         "marker": {
          "color": "#636efa",
          "pattern": {
           "shape": ""
          }
         },
         "name": "",
         "offsetgroup": "",
         "orientation": "v",
         "showlegend": false,
         "textposition": "auto",
         "type": "bar",
         "x": [
          0,
          1,
          2,
          3
         ],
         "xaxis": "x20",
         "y": [
          160939,
          4344,
          570,
          94
         ],
         "yaxis": "y20"
        },
        {
         "alignmentgroup": "True",
         "hovertemplate": "cluster=1<br>feature=numEdu<br>featureValue=%{x}<br>valuesCount=%{y}<extra></extra>",
         "legendgroup": "",
         "marker": {
          "color": "#636efa",
          "pattern": {
           "shape": ""
          }
         },
         "name": "",
         "offsetgroup": "",
         "orientation": "v",
         "showlegend": false,
         "textposition": "auto",
         "type": "bar",
         "x": [
          0,
          2,
          1
         ],
         "xaxis": "x21",
         "y": [
          164584,
          694,
          669
         ],
         "yaxis": "y21"
        },
        {
         "alignmentgroup": "True",
         "hovertemplate": "cluster=2<br>feature=about<br>featureValue=%{x}<br>valuesCount=%{y}<extra></extra>",
         "legendgroup": "",
         "marker": {
          "color": "#636efa",
          "pattern": {
           "shape": ""
          }
         },
         "name": "",
         "offsetgroup": "",
         "orientation": "v",
         "showlegend": false,
         "textposition": "auto",
         "type": "bar",
         "x": [
          0,
          1
         ],
         "xaxis": "x8",
         "y": [
          33891,
          8565
         ],
         "yaxis": "y8"
        },
        {
         "alignmentgroup": "True",
         "hovertemplate": "cluster=2<br>feature=gender<br>featureValue=%{x}<br>valuesCount=%{y}<extra></extra>",
         "legendgroup": "",
         "marker": {
          "color": "#636efa",
          "pattern": {
           "shape": ""
          }
         },
         "name": "",
         "offsetgroup": "",
         "orientation": "v",
         "showlegend": false,
         "textposition": "auto",
         "type": "bar",
         "x": [
          2,
          1
         ],
         "xaxis": "x9",
         "y": [
          21918,
          20538
         ],
         "yaxis": "y9"
        },
        {
         "alignmentgroup": "True",
         "hovertemplate": "cluster=2<br>feature=live<br>featureValue=%{x}<br>valuesCount=%{y}<extra></extra>",
         "legendgroup": "",
         "marker": {
          "color": "#636efa",
          "pattern": {
           "shape": ""
          }
         },
         "name": "",
         "offsetgroup": "",
         "orientation": "v",
         "showlegend": false,
         "textposition": "auto",
         "type": "bar",
         "x": [
          2,
          1
         ],
         "xaxis": "x10",
         "y": [
          23959,
          18497
         ],
         "yaxis": "y10"
        },
        {
         "alignmentgroup": "True",
         "hovertemplate": "cluster=2<br>feature=rangeAge<br>featureValue=%{x}<br>valuesCount=%{y}<extra></extra>",
         "legendgroup": "",
         "marker": {
          "color": "#636efa",
          "pattern": {
           "shape": ""
          }
         },
         "name": "",
         "offsetgroup": "",
         "orientation": "v",
         "showlegend": false,
         "textposition": "auto",
         "type": "bar",
         "x": [
          2,
          1
         ],
         "xaxis": "x11",
         "y": [
          31785,
          10671
         ],
         "yaxis": "y11"
        },
        {
         "alignmentgroup": "True",
         "hovertemplate": "cluster=2<br>feature=numaim<br>featureValue=%{x}<br>valuesCount=%{y}<extra></extra>",
         "legendgroup": "",
         "marker": {
          "color": "#636efa",
          "pattern": {
           "shape": ""
          }
         },
         "name": "",
         "offsetgroup": "",
         "orientation": "v",
         "showlegend": false,
         "textposition": "auto",
         "type": "bar",
         "x": [
          5,
          4,
          3
         ],
         "xaxis": "x12",
         "y": [
          35507,
          6709,
          240
         ],
         "yaxis": "y12"
        },
        {
         "alignmentgroup": "True",
         "hovertemplate": "cluster=2<br>feature=numchildren<br>featureValue=%{x}<br>valuesCount=%{y}<extra></extra>",
         "legendgroup": "",
         "marker": {
          "color": "#636efa",
          "pattern": {
           "shape": ""
          }
         },
         "name": "",
         "offsetgroup": "",
         "orientation": "v",
         "showlegend": false,
         "textposition": "auto",
         "type": "bar",
         "x": [
          1,
          0,
          3,
          2,
          4
         ],
         "xaxis": "x13",
         "y": [
          15296,
          13172,
          6438,
          4024,
          3526
         ],
         "yaxis": "y13"
        },
        {
         "alignmentgroup": "True",
         "hovertemplate": "cluster=2<br>feature=numEdu<br>featureValue=%{x}<br>valuesCount=%{y}<extra></extra>",
         "legendgroup": "",
         "marker": {
          "color": "#636efa",
          "pattern": {
           "shape": ""
          }
         },
         "name": "",
         "offsetgroup": "",
         "orientation": "v",
         "showlegend": false,
         "textposition": "auto",
         "type": "bar",
         "x": [
          0,
          2,
          3,
          4,
          1
         ],
         "xaxis": "x14",
         "y": [
          14473,
          13003,
          10614,
          2526,
          1840
         ],
         "yaxis": "y14"
        },
        {
         "alignmentgroup": "True",
         "hovertemplate": "cluster=0<br>feature=about<br>featureValue=%{x}<br>valuesCount=%{y}<extra></extra>",
         "legendgroup": "",
         "marker": {
          "color": "#636efa",
          "pattern": {
           "shape": ""
          }
         },
         "name": "",
         "offsetgroup": "",
         "orientation": "v",
         "showlegend": false,
         "textposition": "auto",
         "type": "bar",
         "x": [
          0,
          1
         ],
         "xaxis": "x",
         "y": [
          26504,
          5080
         ],
         "yaxis": "y"
        },
        {
         "alignmentgroup": "True",
         "hovertemplate": "cluster=0<br>feature=gender<br>featureValue=%{x}<br>valuesCount=%{y}<extra></extra>",
         "legendgroup": "",
         "marker": {
          "color": "#636efa",
          "pattern": {
           "shape": ""
          }
         },
         "name": "",
         "offsetgroup": "",
         "orientation": "v",
         "showlegend": false,
         "textposition": "auto",
         "type": "bar",
         "x": [
          1,
          2
         ],
         "xaxis": "x2",
         "y": [
          16204,
          15380
         ],
         "yaxis": "y2"
        },
        {
         "alignmentgroup": "True",
         "hovertemplate": "cluster=0<br>feature=live<br>featureValue=%{x}<br>valuesCount=%{y}<extra></extra>",
         "legendgroup": "",
         "marker": {
          "color": "#636efa",
          "pattern": {
           "shape": ""
          }
         },
         "name": "",
         "offsetgroup": "",
         "orientation": "v",
         "showlegend": false,
         "textposition": "auto",
         "type": "bar",
         "x": [
          2,
          1
         ],
         "xaxis": "x3",
         "y": [
          16424,
          15160
         ],
         "yaxis": "y3"
        },
        {
         "alignmentgroup": "True",
         "hovertemplate": "cluster=0<br>feature=rangeAge<br>featureValue=%{x}<br>valuesCount=%{y}<extra></extra>",
         "legendgroup": "",
         "marker": {
          "color": "#636efa",
          "pattern": {
           "shape": ""
          }
         },
         "name": "",
         "offsetgroup": "",
         "orientation": "v",
         "showlegend": false,
         "textposition": "auto",
         "type": "bar",
         "x": [
          2,
          1
         ],
         "xaxis": "x4",
         "y": [
          19470,
          12114
         ],
         "yaxis": "y4"
        },
        {
         "alignmentgroup": "True",
         "hovertemplate": "cluster=0<br>feature=numaim<br>featureValue=%{x}<br>valuesCount=%{y}<extra></extra>",
         "legendgroup": "",
         "marker": {
          "color": "#636efa",
          "pattern": {
           "shape": ""
          }
         },
         "name": "",
         "offsetgroup": "",
         "orientation": "v",
         "showlegend": false,
         "textposition": "auto",
         "type": "bar",
         "x": [
          1,
          2,
          0,
          3
         ],
         "xaxis": "x5",
         "y": [
          16083,
          13558,
          1300,
          643
         ],
         "yaxis": "y5"
        },
        {
         "alignmentgroup": "True",
         "hovertemplate": "cluster=0<br>feature=numchildren<br>featureValue=%{x}<br>valuesCount=%{y}<extra></extra>",
         "legendgroup": "",
         "marker": {
          "color": "#636efa",
          "pattern": {
           "shape": ""
          }
         },
         "name": "",
         "offsetgroup": "",
         "orientation": "v",
         "showlegend": false,
         "textposition": "auto",
         "type": "bar",
         "x": [
          1,
          3,
          0,
          4,
          2
         ],
         "xaxis": "x6",
         "y": [
          12580,
          6352,
          6104,
          3585,
          2963
         ],
         "yaxis": "y6"
        },
        {
         "alignmentgroup": "True",
         "hovertemplate": "cluster=0<br>feature=numEdu<br>featureValue=%{x}<br>valuesCount=%{y}<extra></extra>",
         "legendgroup": "",
         "marker": {
          "color": "#636efa",
          "pattern": {
           "shape": ""
          }
         },
         "name": "",
         "offsetgroup": "",
         "orientation": "v",
         "showlegend": false,
         "textposition": "auto",
         "type": "bar",
         "x": [
          2,
          3,
          4,
          0,
          1
         ],
         "xaxis": "x7",
         "y": [
          12795,
          12224,
          3022,
          2426,
          1117
         ],
         "yaxis": "y7"
        }
       ],
       "layout": {
        "annotations": [
         {
          "font": {},
          "showarrow": false,
          "text": "feature=about",
          "x": 0.06142857142857142,
          "xanchor": "center",
          "xref": "paper",
          "y": 0.9999999999999998,
          "yanchor": "bottom",
          "yref": "paper"
         },
         {
          "font": {},
          "showarrow": false,
          "text": "feature=gender",
          "x": 0.20428571428571426,
          "xanchor": "center",
          "xref": "paper",
          "y": 0.9999999999999998,
          "yanchor": "bottom",
          "yref": "paper"
         },
         {
          "font": {},
          "showarrow": false,
          "text": "feature=live",
          "x": 0.3471428571428571,
          "xanchor": "center",
          "xref": "paper",
          "y": 0.9999999999999998,
          "yanchor": "bottom",
          "yref": "paper"
         },
         {
          "font": {},
          "showarrow": false,
          "text": "feature=rangeAge",
          "x": 0.49,
          "xanchor": "center",
          "xref": "paper",
          "y": 0.9999999999999998,
          "yanchor": "bottom",
          "yref": "paper"
         },
         {
          "font": {},
          "showarrow": false,
          "text": "feature=numaim",
          "x": 0.6328571428571428,
          "xanchor": "center",
          "xref": "paper",
          "y": 0.9999999999999998,
          "yanchor": "bottom",
          "yref": "paper"
         },
         {
          "font": {},
          "showarrow": false,
          "text": "feature=numchildren",
          "x": 0.7757142857142856,
          "xanchor": "center",
          "xref": "paper",
          "y": 0.9999999999999998,
          "yanchor": "bottom",
          "yref": "paper"
         },
         {
          "font": {},
          "showarrow": false,
          "text": "feature=numEdu",
          "x": 0.9185714285714286,
          "xanchor": "center",
          "xref": "paper",
          "y": 0.9999999999999998,
          "yanchor": "bottom",
          "yref": "paper"
         },
         {
          "font": {},
          "showarrow": false,
          "text": "cluster=0",
          "textangle": 90,
          "x": 0.98,
          "xanchor": "left",
          "xref": "paper",
          "y": 0.15666666666666665,
          "yanchor": "middle",
          "yref": "paper"
         },
         {
          "font": {},
          "showarrow": false,
          "text": "cluster=2",
          "textangle": 90,
          "x": 0.98,
          "xanchor": "left",
          "xref": "paper",
          "y": 0.4999999999999999,
          "yanchor": "middle",
          "yref": "paper"
         },
         {
          "font": {},
          "showarrow": false,
          "text": "cluster=1",
          "textangle": 90,
          "x": 0.98,
          "xanchor": "left",
          "xref": "paper",
          "y": 0.8433333333333332,
          "yanchor": "middle",
          "yref": "paper"
         }
        ],
        "barmode": "relative",
        "legend": {
         "tracegroupgap": 0
        },
        "margin": {
         "t": 60
        },
        "template": {
         "data": {
          "bar": [
           {
            "error_x": {
             "color": "#2a3f5f"
            },
            "error_y": {
             "color": "#2a3f5f"
            },
            "marker": {
             "line": {
              "color": "#E5ECF6",
              "width": 0.5
             },
             "pattern": {
              "fillmode": "overlay",
              "size": 10,
              "solidity": 0.2
             }
            },
            "type": "bar"
           }
          ],
          "barpolar": [
           {
            "marker": {
             "line": {
              "color": "#E5ECF6",
              "width": 0.5
             },
             "pattern": {
              "fillmode": "overlay",
              "size": 10,
              "solidity": 0.2
             }
            },
            "type": "barpolar"
           }
          ],
          "carpet": [
           {
            "aaxis": {
             "endlinecolor": "#2a3f5f",
             "gridcolor": "white",
             "linecolor": "white",
             "minorgridcolor": "white",
             "startlinecolor": "#2a3f5f"
            },
            "baxis": {
             "endlinecolor": "#2a3f5f",
             "gridcolor": "white",
             "linecolor": "white",
             "minorgridcolor": "white",
             "startlinecolor": "#2a3f5f"
            },
            "type": "carpet"
           }
          ],
          "choropleth": [
           {
            "colorbar": {
             "outlinewidth": 0,
             "ticks": ""
            },
            "type": "choropleth"
           }
          ],
          "contour": [
           {
            "colorbar": {
             "outlinewidth": 0,
             "ticks": ""
            },
            "colorscale": [
             [
              0,
              "#0d0887"
             ],
             [
              0.1111111111111111,
              "#46039f"
             ],
             [
              0.2222222222222222,
              "#7201a8"
             ],
             [
              0.3333333333333333,
              "#9c179e"
             ],
             [
              0.4444444444444444,
              "#bd3786"
             ],
             [
              0.5555555555555556,
              "#d8576b"
             ],
             [
              0.6666666666666666,
              "#ed7953"
             ],
             [
              0.7777777777777778,
              "#fb9f3a"
             ],
             [
              0.8888888888888888,
              "#fdca26"
             ],
             [
              1,
              "#f0f921"
             ]
            ],
            "type": "contour"
           }
          ],
          "contourcarpet": [
           {
            "colorbar": {
             "outlinewidth": 0,
             "ticks": ""
            },
            "type": "contourcarpet"
           }
          ],
          "heatmap": [
           {
            "colorbar": {
             "outlinewidth": 0,
             "ticks": ""
            },
            "colorscale": [
             [
              0,
              "#0d0887"
             ],
             [
              0.1111111111111111,
              "#46039f"
             ],
             [
              0.2222222222222222,
              "#7201a8"
             ],
             [
              0.3333333333333333,
              "#9c179e"
             ],
             [
              0.4444444444444444,
              "#bd3786"
             ],
             [
              0.5555555555555556,
              "#d8576b"
             ],
             [
              0.6666666666666666,
              "#ed7953"
             ],
             [
              0.7777777777777778,
              "#fb9f3a"
             ],
             [
              0.8888888888888888,
              "#fdca26"
             ],
             [
              1,
              "#f0f921"
             ]
            ],
            "type": "heatmap"
           }
          ],
          "heatmapgl": [
           {
            "colorbar": {
             "outlinewidth": 0,
             "ticks": ""
            },
            "colorscale": [
             [
              0,
              "#0d0887"
             ],
             [
              0.1111111111111111,
              "#46039f"
             ],
             [
              0.2222222222222222,
              "#7201a8"
             ],
             [
              0.3333333333333333,
              "#9c179e"
             ],
             [
              0.4444444444444444,
              "#bd3786"
             ],
             [
              0.5555555555555556,
              "#d8576b"
             ],
             [
              0.6666666666666666,
              "#ed7953"
             ],
             [
              0.7777777777777778,
              "#fb9f3a"
             ],
             [
              0.8888888888888888,
              "#fdca26"
             ],
             [
              1,
              "#f0f921"
             ]
            ],
            "type": "heatmapgl"
           }
          ],
          "histogram": [
           {
            "marker": {
             "pattern": {
              "fillmode": "overlay",
              "size": 10,
              "solidity": 0.2
             }
            },
            "type": "histogram"
           }
          ],
          "histogram2d": [
           {
            "colorbar": {
             "outlinewidth": 0,
             "ticks": ""
            },
            "colorscale": [
             [
              0,
              "#0d0887"
             ],
             [
              0.1111111111111111,
              "#46039f"
             ],
             [
              0.2222222222222222,
              "#7201a8"
             ],
             [
              0.3333333333333333,
              "#9c179e"
             ],
             [
              0.4444444444444444,
              "#bd3786"
             ],
             [
              0.5555555555555556,
              "#d8576b"
             ],
             [
              0.6666666666666666,
              "#ed7953"
             ],
             [
              0.7777777777777778,
              "#fb9f3a"
             ],
             [
              0.8888888888888888,
              "#fdca26"
             ],
             [
              1,
              "#f0f921"
             ]
            ],
            "type": "histogram2d"
           }
          ],
          "histogram2dcontour": [
           {
            "colorbar": {
             "outlinewidth": 0,
             "ticks": ""
            },
            "colorscale": [
             [
              0,
              "#0d0887"
             ],
             [
              0.1111111111111111,
              "#46039f"
             ],
             [
              0.2222222222222222,
              "#7201a8"
             ],
             [
              0.3333333333333333,
              "#9c179e"
             ],
             [
              0.4444444444444444,
              "#bd3786"
             ],
             [
              0.5555555555555556,
              "#d8576b"
             ],
             [
              0.6666666666666666,
              "#ed7953"
             ],
             [
              0.7777777777777778,
              "#fb9f3a"
             ],
             [
              0.8888888888888888,
              "#fdca26"
             ],
             [
              1,
              "#f0f921"
             ]
            ],
            "type": "histogram2dcontour"
           }
          ],
          "mesh3d": [
           {
            "colorbar": {
             "outlinewidth": 0,
             "ticks": ""
            },
            "type": "mesh3d"
           }
          ],
          "parcoords": [
           {
            "line": {
             "colorbar": {
              "outlinewidth": 0,
              "ticks": ""
             }
            },
            "type": "parcoords"
           }
          ],
          "pie": [
           {
            "automargin": true,
            "type": "pie"
           }
          ],
          "scatter": [
           {
            "fillpattern": {
             "fillmode": "overlay",
             "size": 10,
             "solidity": 0.2
            },
            "type": "scatter"
           }
          ],
          "scatter3d": [
           {
            "line": {
             "colorbar": {
              "outlinewidth": 0,
              "ticks": ""
             }
            },
            "marker": {
             "colorbar": {
              "outlinewidth": 0,
              "ticks": ""
             }
            },
            "type": "scatter3d"
           }
          ],
          "scattercarpet": [
           {
            "marker": {
             "colorbar": {
              "outlinewidth": 0,
              "ticks": ""
             }
            },
            "type": "scattercarpet"
           }
          ],
          "scattergeo": [
           {
            "marker": {
             "colorbar": {
              "outlinewidth": 0,
              "ticks": ""
             }
            },
            "type": "scattergeo"
           }
          ],
          "scattergl": [
           {
            "marker": {
             "colorbar": {
              "outlinewidth": 0,
              "ticks": ""
             }
            },
            "type": "scattergl"
           }
          ],
          "scattermapbox": [
           {
            "marker": {
             "colorbar": {
              "outlinewidth": 0,
              "ticks": ""
             }
            },
            "type": "scattermapbox"
           }
          ],
          "scatterpolar": [
           {
            "marker": {
             "colorbar": {
              "outlinewidth": 0,
              "ticks": ""
             }
            },
            "type": "scatterpolar"
           }
          ],
          "scatterpolargl": [
           {
            "marker": {
             "colorbar": {
              "outlinewidth": 0,
              "ticks": ""
             }
            },
            "type": "scatterpolargl"
           }
          ],
          "scatterternary": [
           {
            "marker": {
             "colorbar": {
              "outlinewidth": 0,
              "ticks": ""
             }
            },
            "type": "scatterternary"
           }
          ],
          "surface": [
           {
            "colorbar": {
             "outlinewidth": 0,
             "ticks": ""
            },
            "colorscale": [
             [
              0,
              "#0d0887"
             ],
             [
              0.1111111111111111,
              "#46039f"
             ],
             [
              0.2222222222222222,
              "#7201a8"
             ],
             [
              0.3333333333333333,
              "#9c179e"
             ],
             [
              0.4444444444444444,
              "#bd3786"
             ],
             [
              0.5555555555555556,
              "#d8576b"
             ],
             [
              0.6666666666666666,
              "#ed7953"
             ],
             [
              0.7777777777777778,
              "#fb9f3a"
             ],
             [
              0.8888888888888888,
              "#fdca26"
             ],
             [
              1,
              "#f0f921"
             ]
            ],
            "type": "surface"
           }
          ],
          "table": [
           {
            "cells": {
             "fill": {
              "color": "#EBF0F8"
             },
             "line": {
              "color": "white"
             }
            },
            "header": {
             "fill": {
              "color": "#C8D4E3"
             },
             "line": {
              "color": "white"
             }
            },
            "type": "table"
           }
          ]
         },
         "layout": {
          "annotationdefaults": {
           "arrowcolor": "#2a3f5f",
           "arrowhead": 0,
           "arrowwidth": 1
          },
          "autotypenumbers": "strict",
          "coloraxis": {
           "colorbar": {
            "outlinewidth": 0,
            "ticks": ""
           }
          },
          "colorscale": {
           "diverging": [
            [
             0,
             "#8e0152"
            ],
            [
             0.1,
             "#c51b7d"
            ],
            [
             0.2,
             "#de77ae"
            ],
            [
             0.3,
             "#f1b6da"
            ],
            [
             0.4,
             "#fde0ef"
            ],
            [
             0.5,
             "#f7f7f7"
            ],
            [
             0.6,
             "#e6f5d0"
            ],
            [
             0.7,
             "#b8e186"
            ],
            [
             0.8,
             "#7fbc41"
            ],
            [
             0.9,
             "#4d9221"
            ],
            [
             1,
             "#276419"
            ]
           ],
           "sequential": [
            [
             0,
             "#0d0887"
            ],
            [
             0.1111111111111111,
             "#46039f"
            ],
            [
             0.2222222222222222,
             "#7201a8"
            ],
            [
             0.3333333333333333,
             "#9c179e"
            ],
            [
             0.4444444444444444,
             "#bd3786"
            ],
            [
             0.5555555555555556,
             "#d8576b"
            ],
            [
             0.6666666666666666,
             "#ed7953"
            ],
            [
             0.7777777777777778,
             "#fb9f3a"
            ],
            [
             0.8888888888888888,
             "#fdca26"
            ],
            [
             1,
             "#f0f921"
            ]
           ],
           "sequentialminus": [
            [
             0,
             "#0d0887"
            ],
            [
             0.1111111111111111,
             "#46039f"
            ],
            [
             0.2222222222222222,
             "#7201a8"
            ],
            [
             0.3333333333333333,
             "#9c179e"
            ],
            [
             0.4444444444444444,
             "#bd3786"
            ],
            [
             0.5555555555555556,
             "#d8576b"
            ],
            [
             0.6666666666666666,
             "#ed7953"
            ],
            [
             0.7777777777777778,
             "#fb9f3a"
            ],
            [
             0.8888888888888888,
             "#fdca26"
            ],
            [
             1,
             "#f0f921"
            ]
           ]
          },
          "colorway": [
           "#636efa",
           "#EF553B",
           "#00cc96",
           "#ab63fa",
           "#FFA15A",
           "#19d3f3",
           "#FF6692",
           "#B6E880",
           "#FF97FF",
           "#FECB52"
          ],
          "font": {
           "color": "#2a3f5f"
          },
          "geo": {
           "bgcolor": "white",
           "lakecolor": "white",
           "landcolor": "#E5ECF6",
           "showlakes": true,
           "showland": true,
           "subunitcolor": "white"
          },
          "hoverlabel": {
           "align": "left"
          },
          "hovermode": "closest",
          "mapbox": {
           "style": "light"
          },
          "paper_bgcolor": "white",
          "plot_bgcolor": "#E5ECF6",
          "polar": {
           "angularaxis": {
            "gridcolor": "white",
            "linecolor": "white",
            "ticks": ""
           },
           "bgcolor": "#E5ECF6",
           "radialaxis": {
            "gridcolor": "white",
            "linecolor": "white",
            "ticks": ""
           }
          },
          "scene": {
           "xaxis": {
            "backgroundcolor": "#E5ECF6",
            "gridcolor": "white",
            "gridwidth": 2,
            "linecolor": "white",
            "showbackground": true,
            "ticks": "",
            "zerolinecolor": "white"
           },
           "yaxis": {
            "backgroundcolor": "#E5ECF6",
            "gridcolor": "white",
            "gridwidth": 2,
            "linecolor": "white",
            "showbackground": true,
            "ticks": "",
            "zerolinecolor": "white"
           },
           "zaxis": {
            "backgroundcolor": "#E5ECF6",
            "gridcolor": "white",
            "gridwidth": 2,
            "linecolor": "white",
            "showbackground": true,
            "ticks": "",
            "zerolinecolor": "white"
           }
          },
          "shapedefaults": {
           "line": {
            "color": "#2a3f5f"
           }
          },
          "ternary": {
           "aaxis": {
            "gridcolor": "white",
            "linecolor": "white",
            "ticks": ""
           },
           "baxis": {
            "gridcolor": "white",
            "linecolor": "white",
            "ticks": ""
           },
           "bgcolor": "#E5ECF6",
           "caxis": {
            "gridcolor": "white",
            "linecolor": "white",
            "ticks": ""
           }
          },
          "title": {
           "x": 0.05
          },
          "xaxis": {
           "automargin": true,
           "gridcolor": "white",
           "linecolor": "white",
           "ticks": "",
           "title": {
            "standoff": 15
           },
           "zerolinecolor": "white",
           "zerolinewidth": 2
          },
          "yaxis": {
           "automargin": true,
           "gridcolor": "white",
           "linecolor": "white",
           "ticks": "",
           "title": {
            "standoff": 15
           },
           "zerolinecolor": "white",
           "zerolinewidth": 2
          }
         }
        },
        "xaxis": {
         "anchor": "y",
         "domain": [
          0,
          0.12285714285714285
         ],
         "title": {
          "text": "featureValue"
         }
        },
        "xaxis10": {
         "anchor": "y10",
         "domain": [
          0.2857142857142857,
          0.40857142857142853
         ],
         "matches": "x",
         "showticklabels": false
        },
        "xaxis11": {
         "anchor": "y11",
         "domain": [
          0.42857142857142855,
          0.5514285714285714
         ],
         "matches": "x",
         "showticklabels": false
        },
        "xaxis12": {
         "anchor": "y12",
         "domain": [
          0.5714285714285714,
          0.6942857142857143
         ],
         "matches": "x",
         "showticklabels": false
        },
        "xaxis13": {
         "anchor": "y13",
         "domain": [
          0.7142857142857142,
          0.8371428571428571
         ],
         "matches": "x",
         "showticklabels": false
        },
        "xaxis14": {
         "anchor": "y14",
         "domain": [
          0.8571428571428571,
          0.98
         ],
         "matches": "x",
         "showticklabels": false
        },
        "xaxis15": {
         "anchor": "y15",
         "domain": [
          0,
          0.12285714285714285
         ],
         "matches": "x",
         "showticklabels": false
        },
        "xaxis16": {
         "anchor": "y16",
         "domain": [
          0.14285714285714285,
          0.2657142857142857
         ],
         "matches": "x",
         "showticklabels": false
        },
        "xaxis17": {
         "anchor": "y17",
         "domain": [
          0.2857142857142857,
          0.40857142857142853
         ],
         "matches": "x",
         "showticklabels": false
        },
        "xaxis18": {
         "anchor": "y18",
         "domain": [
          0.42857142857142855,
          0.5514285714285714
         ],
         "matches": "x",
         "showticklabels": false
        },
        "xaxis19": {
         "anchor": "y19",
         "domain": [
          0.5714285714285714,
          0.6942857142857143
         ],
         "matches": "x",
         "showticklabels": false
        },
        "xaxis2": {
         "anchor": "y2",
         "domain": [
          0.14285714285714285,
          0.2657142857142857
         ],
         "matches": "x",
         "title": {
          "text": "featureValue"
         }
        },
        "xaxis20": {
         "anchor": "y20",
         "domain": [
          0.7142857142857142,
          0.8371428571428571
         ],
         "matches": "x",
         "showticklabels": false
        },
        "xaxis21": {
         "anchor": "y21",
         "domain": [
          0.8571428571428571,
          0.98
         ],
         "matches": "x",
         "showticklabels": false
        },
        "xaxis3": {
         "anchor": "y3",
         "domain": [
          0.2857142857142857,
          0.40857142857142853
         ],
         "matches": "x",
         "title": {
          "text": "featureValue"
         }
        },
        "xaxis4": {
         "anchor": "y4",
         "domain": [
          0.42857142857142855,
          0.5514285714285714
         ],
         "matches": "x",
         "title": {
          "text": "featureValue"
         }
        },
        "xaxis5": {
         "anchor": "y5",
         "domain": [
          0.5714285714285714,
          0.6942857142857143
         ],
         "matches": "x",
         "title": {
          "text": "featureValue"
         }
        },
        "xaxis6": {
         "anchor": "y6",
         "domain": [
          0.7142857142857142,
          0.8371428571428571
         ],
         "matches": "x",
         "title": {
          "text": "featureValue"
         }
        },
        "xaxis7": {
         "anchor": "y7",
         "domain": [
          0.8571428571428571,
          0.98
         ],
         "matches": "x",
         "title": {
          "text": "featureValue"
         }
        },
        "xaxis8": {
         "anchor": "y8",
         "domain": [
          0,
          0.12285714285714285
         ],
         "matches": "x",
         "showticklabels": false
        },
        "xaxis9": {
         "anchor": "y9",
         "domain": [
          0.14285714285714285,
          0.2657142857142857
         ],
         "matches": "x",
         "showticklabels": false
        },
        "yaxis": {
         "anchor": "x",
         "domain": [
          0,
          0.3133333333333333
         ],
         "title": {
          "text": "valuesCount"
         }
        },
        "yaxis10": {
         "anchor": "x10",
         "domain": [
          0.34333333333333327,
          0.6566666666666665
         ],
         "matches": "y",
         "showticklabels": false
        },
        "yaxis11": {
         "anchor": "x11",
         "domain": [
          0.34333333333333327,
          0.6566666666666665
         ],
         "matches": "y",
         "showticklabels": false
        },
        "yaxis12": {
         "anchor": "x12",
         "domain": [
          0.34333333333333327,
          0.6566666666666665
         ],
         "matches": "y",
         "showticklabels": false
        },
        "yaxis13": {
         "anchor": "x13",
         "domain": [
          0.34333333333333327,
          0.6566666666666665
         ],
         "matches": "y",
         "showticklabels": false
        },
        "yaxis14": {
         "anchor": "x14",
         "domain": [
          0.34333333333333327,
          0.6566666666666665
         ],
         "matches": "y",
         "showticklabels": false
        },
        "yaxis15": {
         "anchor": "x15",
         "domain": [
          0.6866666666666665,
          0.9999999999999998
         ],
         "matches": "y",
         "title": {
          "text": "valuesCount"
         }
        },
        "yaxis16": {
         "anchor": "x16",
         "domain": [
          0.6866666666666665,
          0.9999999999999998
         ],
         "matches": "y",
         "showticklabels": false
        },
        "yaxis17": {
         "anchor": "x17",
         "domain": [
          0.6866666666666665,
          0.9999999999999998
         ],
         "matches": "y",
         "showticklabels": false
        },
        "yaxis18": {
         "anchor": "x18",
         "domain": [
          0.6866666666666665,
          0.9999999999999998
         ],
         "matches": "y",
         "showticklabels": false
        },
        "yaxis19": {
         "anchor": "x19",
         "domain": [
          0.6866666666666665,
          0.9999999999999998
         ],
         "matches": "y",
         "showticklabels": false
        },
        "yaxis2": {
         "anchor": "x2",
         "domain": [
          0,
          0.3133333333333333
         ],
         "matches": "y",
         "showticklabels": false
        },
        "yaxis20": {
         "anchor": "x20",
         "domain": [
          0.6866666666666665,
          0.9999999999999998
         ],
         "matches": "y",
         "showticklabels": false
        },
        "yaxis21": {
         "anchor": "x21",
         "domain": [
          0.6866666666666665,
          0.9999999999999998
         ],
         "matches": "y",
         "showticklabels": false
        },
        "yaxis3": {
         "anchor": "x3",
         "domain": [
          0,
          0.3133333333333333
         ],
         "matches": "y",
         "showticklabels": false
        },
        "yaxis4": {
         "anchor": "x4",
         "domain": [
          0,
          0.3133333333333333
         ],
         "matches": "y",
         "showticklabels": false
        },
        "yaxis5": {
         "anchor": "x5",
         "domain": [
          0,
          0.3133333333333333
         ],
         "matches": "y",
         "showticklabels": false
        },
        "yaxis6": {
         "anchor": "x6",
         "domain": [
          0,
          0.3133333333333333
         ],
         "matches": "y",
         "showticklabels": false
        },
        "yaxis7": {
         "anchor": "x7",
         "domain": [
          0,
          0.3133333333333333
         ],
         "matches": "y",
         "showticklabels": false
        },
        "yaxis8": {
         "anchor": "x8",
         "domain": [
          0.34333333333333327,
          0.6566666666666665
         ],
         "matches": "y",
         "title": {
          "text": "valuesCount"
         }
        },
        "yaxis9": {
         "anchor": "x9",
         "domain": [
          0.34333333333333327,
          0.6566666666666665
         ],
         "matches": "y",
         "showticklabels": false
        }
       }
      },
      "text/html": [
       "<div>                            <div id=\"05d7fe7e-1f15-405e-a27a-73244d965099\" class=\"plotly-graph-div\" style=\"height:525px; width:100%;\"></div>            <script type=\"text/javascript\">                require([\"plotly\"], function(Plotly) {                    window.PLOTLYENV=window.PLOTLYENV || {};                                    if (document.getElementById(\"05d7fe7e-1f15-405e-a27a-73244d965099\")) {                    Plotly.newPlot(                        \"05d7fe7e-1f15-405e-a27a-73244d965099\",                        [{\"alignmentgroup\":\"True\",\"hovertemplate\":\"cluster=1<br>feature=about<br>featureValue=%{x}<br>valuesCount=%{y}<extra></extra>\",\"legendgroup\":\"\",\"marker\":{\"color\":\"#636efa\",\"pattern\":{\"shape\":\"\"}},\"name\":\"\",\"offsetgroup\":\"\",\"orientation\":\"v\",\"showlegend\":false,\"textposition\":\"auto\",\"x\":[0,1],\"xaxis\":\"x15\",\"y\":[163102,2845],\"yaxis\":\"y15\",\"type\":\"bar\"},{\"alignmentgroup\":\"True\",\"hovertemplate\":\"cluster=1<br>feature=gender<br>featureValue=%{x}<br>valuesCount=%{y}<extra></extra>\",\"legendgroup\":\"\",\"marker\":{\"color\":\"#636efa\",\"pattern\":{\"shape\":\"\"}},\"name\":\"\",\"offsetgroup\":\"\",\"orientation\":\"v\",\"showlegend\":false,\"textposition\":\"auto\",\"x\":[1,2],\"xaxis\":\"x16\",\"y\":[84023,81924],\"yaxis\":\"y16\",\"type\":\"bar\"},{\"alignmentgroup\":\"True\",\"hovertemplate\":\"cluster=1<br>feature=live<br>featureValue=%{x}<br>valuesCount=%{y}<extra></extra>\",\"legendgroup\":\"\",\"marker\":{\"color\":\"#636efa\",\"pattern\":{\"shape\":\"\"}},\"name\":\"\",\"offsetgroup\":\"\",\"orientation\":\"v\",\"showlegend\":false,\"textposition\":\"auto\",\"x\":[2,1],\"xaxis\":\"x17\",\"y\":[163020,2927],\"yaxis\":\"y17\",\"type\":\"bar\"},{\"alignmentgroup\":\"True\",\"hovertemplate\":\"cluster=1<br>feature=rangeAge<br>featureValue=%{x}<br>valuesCount=%{y}<extra></extra>\",\"legendgroup\":\"\",\"marker\":{\"color\":\"#636efa\",\"pattern\":{\"shape\":\"\"}},\"name\":\"\",\"offsetgroup\":\"\",\"orientation\":\"v\",\"showlegend\":false,\"textposition\":\"auto\",\"x\":[1,2],\"xaxis\":\"x18\",\"y\":[131065,34882],\"yaxis\":\"y18\",\"type\":\"bar\"},{\"alignmentgroup\":\"True\",\"hovertemplate\":\"cluster=1<br>feature=numaim<br>featureValue=%{x}<br>valuesCount=%{y}<extra></extra>\",\"legendgroup\":\"\",\"marker\":{\"color\":\"#636efa\",\"pattern\":{\"shape\":\"\"}},\"name\":\"\",\"offsetgroup\":\"\",\"orientation\":\"v\",\"showlegend\":false,\"textposition\":\"auto\",\"x\":[0,1,2,3],\"xaxis\":\"x19\",\"y\":[99250,36853,29667,177],\"yaxis\":\"y19\",\"type\":\"bar\"},{\"alignmentgroup\":\"True\",\"hovertemplate\":\"cluster=1<br>feature=numchildren<br>featureValue=%{x}<br>valuesCount=%{y}<extra></extra>\",\"legendgroup\":\"\",\"marker\":{\"color\":\"#636efa\",\"pattern\":{\"shape\":\"\"}},\"name\":\"\",\"offsetgroup\":\"\",\"orientation\":\"v\",\"showlegend\":false,\"textposition\":\"auto\",\"x\":[0,1,2,3],\"xaxis\":\"x20\",\"y\":[160939,4344,570,94],\"yaxis\":\"y20\",\"type\":\"bar\"},{\"alignmentgroup\":\"True\",\"hovertemplate\":\"cluster=1<br>feature=numEdu<br>featureValue=%{x}<br>valuesCount=%{y}<extra></extra>\",\"legendgroup\":\"\",\"marker\":{\"color\":\"#636efa\",\"pattern\":{\"shape\":\"\"}},\"name\":\"\",\"offsetgroup\":\"\",\"orientation\":\"v\",\"showlegend\":false,\"textposition\":\"auto\",\"x\":[0,2,1],\"xaxis\":\"x21\",\"y\":[164584,694,669],\"yaxis\":\"y21\",\"type\":\"bar\"},{\"alignmentgroup\":\"True\",\"hovertemplate\":\"cluster=2<br>feature=about<br>featureValue=%{x}<br>valuesCount=%{y}<extra></extra>\",\"legendgroup\":\"\",\"marker\":{\"color\":\"#636efa\",\"pattern\":{\"shape\":\"\"}},\"name\":\"\",\"offsetgroup\":\"\",\"orientation\":\"v\",\"showlegend\":false,\"textposition\":\"auto\",\"x\":[0,1],\"xaxis\":\"x8\",\"y\":[33891,8565],\"yaxis\":\"y8\",\"type\":\"bar\"},{\"alignmentgroup\":\"True\",\"hovertemplate\":\"cluster=2<br>feature=gender<br>featureValue=%{x}<br>valuesCount=%{y}<extra></extra>\",\"legendgroup\":\"\",\"marker\":{\"color\":\"#636efa\",\"pattern\":{\"shape\":\"\"}},\"name\":\"\",\"offsetgroup\":\"\",\"orientation\":\"v\",\"showlegend\":false,\"textposition\":\"auto\",\"x\":[2,1],\"xaxis\":\"x9\",\"y\":[21918,20538],\"yaxis\":\"y9\",\"type\":\"bar\"},{\"alignmentgroup\":\"True\",\"hovertemplate\":\"cluster=2<br>feature=live<br>featureValue=%{x}<br>valuesCount=%{y}<extra></extra>\",\"legendgroup\":\"\",\"marker\":{\"color\":\"#636efa\",\"pattern\":{\"shape\":\"\"}},\"name\":\"\",\"offsetgroup\":\"\",\"orientation\":\"v\",\"showlegend\":false,\"textposition\":\"auto\",\"x\":[2,1],\"xaxis\":\"x10\",\"y\":[23959,18497],\"yaxis\":\"y10\",\"type\":\"bar\"},{\"alignmentgroup\":\"True\",\"hovertemplate\":\"cluster=2<br>feature=rangeAge<br>featureValue=%{x}<br>valuesCount=%{y}<extra></extra>\",\"legendgroup\":\"\",\"marker\":{\"color\":\"#636efa\",\"pattern\":{\"shape\":\"\"}},\"name\":\"\",\"offsetgroup\":\"\",\"orientation\":\"v\",\"showlegend\":false,\"textposition\":\"auto\",\"x\":[2,1],\"xaxis\":\"x11\",\"y\":[31785,10671],\"yaxis\":\"y11\",\"type\":\"bar\"},{\"alignmentgroup\":\"True\",\"hovertemplate\":\"cluster=2<br>feature=numaim<br>featureValue=%{x}<br>valuesCount=%{y}<extra></extra>\",\"legendgroup\":\"\",\"marker\":{\"color\":\"#636efa\",\"pattern\":{\"shape\":\"\"}},\"name\":\"\",\"offsetgroup\":\"\",\"orientation\":\"v\",\"showlegend\":false,\"textposition\":\"auto\",\"x\":[5,4,3],\"xaxis\":\"x12\",\"y\":[35507,6709,240],\"yaxis\":\"y12\",\"type\":\"bar\"},{\"alignmentgroup\":\"True\",\"hovertemplate\":\"cluster=2<br>feature=numchildren<br>featureValue=%{x}<br>valuesCount=%{y}<extra></extra>\",\"legendgroup\":\"\",\"marker\":{\"color\":\"#636efa\",\"pattern\":{\"shape\":\"\"}},\"name\":\"\",\"offsetgroup\":\"\",\"orientation\":\"v\",\"showlegend\":false,\"textposition\":\"auto\",\"x\":[1,0,3,2,4],\"xaxis\":\"x13\",\"y\":[15296,13172,6438,4024,3526],\"yaxis\":\"y13\",\"type\":\"bar\"},{\"alignmentgroup\":\"True\",\"hovertemplate\":\"cluster=2<br>feature=numEdu<br>featureValue=%{x}<br>valuesCount=%{y}<extra></extra>\",\"legendgroup\":\"\",\"marker\":{\"color\":\"#636efa\",\"pattern\":{\"shape\":\"\"}},\"name\":\"\",\"offsetgroup\":\"\",\"orientation\":\"v\",\"showlegend\":false,\"textposition\":\"auto\",\"x\":[0,2,3,4,1],\"xaxis\":\"x14\",\"y\":[14473,13003,10614,2526,1840],\"yaxis\":\"y14\",\"type\":\"bar\"},{\"alignmentgroup\":\"True\",\"hovertemplate\":\"cluster=0<br>feature=about<br>featureValue=%{x}<br>valuesCount=%{y}<extra></extra>\",\"legendgroup\":\"\",\"marker\":{\"color\":\"#636efa\",\"pattern\":{\"shape\":\"\"}},\"name\":\"\",\"offsetgroup\":\"\",\"orientation\":\"v\",\"showlegend\":false,\"textposition\":\"auto\",\"x\":[0,1],\"xaxis\":\"x\",\"y\":[26504,5080],\"yaxis\":\"y\",\"type\":\"bar\"},{\"alignmentgroup\":\"True\",\"hovertemplate\":\"cluster=0<br>feature=gender<br>featureValue=%{x}<br>valuesCount=%{y}<extra></extra>\",\"legendgroup\":\"\",\"marker\":{\"color\":\"#636efa\",\"pattern\":{\"shape\":\"\"}},\"name\":\"\",\"offsetgroup\":\"\",\"orientation\":\"v\",\"showlegend\":false,\"textposition\":\"auto\",\"x\":[1,2],\"xaxis\":\"x2\",\"y\":[16204,15380],\"yaxis\":\"y2\",\"type\":\"bar\"},{\"alignmentgroup\":\"True\",\"hovertemplate\":\"cluster=0<br>feature=live<br>featureValue=%{x}<br>valuesCount=%{y}<extra></extra>\",\"legendgroup\":\"\",\"marker\":{\"color\":\"#636efa\",\"pattern\":{\"shape\":\"\"}},\"name\":\"\",\"offsetgroup\":\"\",\"orientation\":\"v\",\"showlegend\":false,\"textposition\":\"auto\",\"x\":[2,1],\"xaxis\":\"x3\",\"y\":[16424,15160],\"yaxis\":\"y3\",\"type\":\"bar\"},{\"alignmentgroup\":\"True\",\"hovertemplate\":\"cluster=0<br>feature=rangeAge<br>featureValue=%{x}<br>valuesCount=%{y}<extra></extra>\",\"legendgroup\":\"\",\"marker\":{\"color\":\"#636efa\",\"pattern\":{\"shape\":\"\"}},\"name\":\"\",\"offsetgroup\":\"\",\"orientation\":\"v\",\"showlegend\":false,\"textposition\":\"auto\",\"x\":[2,1],\"xaxis\":\"x4\",\"y\":[19470,12114],\"yaxis\":\"y4\",\"type\":\"bar\"},{\"alignmentgroup\":\"True\",\"hovertemplate\":\"cluster=0<br>feature=numaim<br>featureValue=%{x}<br>valuesCount=%{y}<extra></extra>\",\"legendgroup\":\"\",\"marker\":{\"color\":\"#636efa\",\"pattern\":{\"shape\":\"\"}},\"name\":\"\",\"offsetgroup\":\"\",\"orientation\":\"v\",\"showlegend\":false,\"textposition\":\"auto\",\"x\":[1,2,0,3],\"xaxis\":\"x5\",\"y\":[16083,13558,1300,643],\"yaxis\":\"y5\",\"type\":\"bar\"},{\"alignmentgroup\":\"True\",\"hovertemplate\":\"cluster=0<br>feature=numchildren<br>featureValue=%{x}<br>valuesCount=%{y}<extra></extra>\",\"legendgroup\":\"\",\"marker\":{\"color\":\"#636efa\",\"pattern\":{\"shape\":\"\"}},\"name\":\"\",\"offsetgroup\":\"\",\"orientation\":\"v\",\"showlegend\":false,\"textposition\":\"auto\",\"x\":[1,3,0,4,2],\"xaxis\":\"x6\",\"y\":[12580,6352,6104,3585,2963],\"yaxis\":\"y6\",\"type\":\"bar\"},{\"alignmentgroup\":\"True\",\"hovertemplate\":\"cluster=0<br>feature=numEdu<br>featureValue=%{x}<br>valuesCount=%{y}<extra></extra>\",\"legendgroup\":\"\",\"marker\":{\"color\":\"#636efa\",\"pattern\":{\"shape\":\"\"}},\"name\":\"\",\"offsetgroup\":\"\",\"orientation\":\"v\",\"showlegend\":false,\"textposition\":\"auto\",\"x\":[2,3,4,0,1],\"xaxis\":\"x7\",\"y\":[12795,12224,3022,2426,1117],\"yaxis\":\"y7\",\"type\":\"bar\"}],                        {\"template\":{\"data\":{\"histogram2dcontour\":[{\"type\":\"histogram2dcontour\",\"colorbar\":{\"outlinewidth\":0,\"ticks\":\"\"},\"colorscale\":[[0.0,\"#0d0887\"],[0.1111111111111111,\"#46039f\"],[0.2222222222222222,\"#7201a8\"],[0.3333333333333333,\"#9c179e\"],[0.4444444444444444,\"#bd3786\"],[0.5555555555555556,\"#d8576b\"],[0.6666666666666666,\"#ed7953\"],[0.7777777777777778,\"#fb9f3a\"],[0.8888888888888888,\"#fdca26\"],[1.0,\"#f0f921\"]]}],\"choropleth\":[{\"type\":\"choropleth\",\"colorbar\":{\"outlinewidth\":0,\"ticks\":\"\"}}],\"histogram2d\":[{\"type\":\"histogram2d\",\"colorbar\":{\"outlinewidth\":0,\"ticks\":\"\"},\"colorscale\":[[0.0,\"#0d0887\"],[0.1111111111111111,\"#46039f\"],[0.2222222222222222,\"#7201a8\"],[0.3333333333333333,\"#9c179e\"],[0.4444444444444444,\"#bd3786\"],[0.5555555555555556,\"#d8576b\"],[0.6666666666666666,\"#ed7953\"],[0.7777777777777778,\"#fb9f3a\"],[0.8888888888888888,\"#fdca26\"],[1.0,\"#f0f921\"]]}],\"heatmap\":[{\"type\":\"heatmap\",\"colorbar\":{\"outlinewidth\":0,\"ticks\":\"\"},\"colorscale\":[[0.0,\"#0d0887\"],[0.1111111111111111,\"#46039f\"],[0.2222222222222222,\"#7201a8\"],[0.3333333333333333,\"#9c179e\"],[0.4444444444444444,\"#bd3786\"],[0.5555555555555556,\"#d8576b\"],[0.6666666666666666,\"#ed7953\"],[0.7777777777777778,\"#fb9f3a\"],[0.8888888888888888,\"#fdca26\"],[1.0,\"#f0f921\"]]}],\"heatmapgl\":[{\"type\":\"heatmapgl\",\"colorbar\":{\"outlinewidth\":0,\"ticks\":\"\"},\"colorscale\":[[0.0,\"#0d0887\"],[0.1111111111111111,\"#46039f\"],[0.2222222222222222,\"#7201a8\"],[0.3333333333333333,\"#9c179e\"],[0.4444444444444444,\"#bd3786\"],[0.5555555555555556,\"#d8576b\"],[0.6666666666666666,\"#ed7953\"],[0.7777777777777778,\"#fb9f3a\"],[0.8888888888888888,\"#fdca26\"],[1.0,\"#f0f921\"]]}],\"contourcarpet\":[{\"type\":\"contourcarpet\",\"colorbar\":{\"outlinewidth\":0,\"ticks\":\"\"}}],\"contour\":[{\"type\":\"contour\",\"colorbar\":{\"outlinewidth\":0,\"ticks\":\"\"},\"colorscale\":[[0.0,\"#0d0887\"],[0.1111111111111111,\"#46039f\"],[0.2222222222222222,\"#7201a8\"],[0.3333333333333333,\"#9c179e\"],[0.4444444444444444,\"#bd3786\"],[0.5555555555555556,\"#d8576b\"],[0.6666666666666666,\"#ed7953\"],[0.7777777777777778,\"#fb9f3a\"],[0.8888888888888888,\"#fdca26\"],[1.0,\"#f0f921\"]]}],\"surface\":[{\"type\":\"surface\",\"colorbar\":{\"outlinewidth\":0,\"ticks\":\"\"},\"colorscale\":[[0.0,\"#0d0887\"],[0.1111111111111111,\"#46039f\"],[0.2222222222222222,\"#7201a8\"],[0.3333333333333333,\"#9c179e\"],[0.4444444444444444,\"#bd3786\"],[0.5555555555555556,\"#d8576b\"],[0.6666666666666666,\"#ed7953\"],[0.7777777777777778,\"#fb9f3a\"],[0.8888888888888888,\"#fdca26\"],[1.0,\"#f0f921\"]]}],\"mesh3d\":[{\"type\":\"mesh3d\",\"colorbar\":{\"outlinewidth\":0,\"ticks\":\"\"}}],\"scatter\":[{\"fillpattern\":{\"fillmode\":\"overlay\",\"size\":10,\"solidity\":0.2},\"type\":\"scatter\"}],\"parcoords\":[{\"type\":\"parcoords\",\"line\":{\"colorbar\":{\"outlinewidth\":0,\"ticks\":\"\"}}}],\"scatterpolargl\":[{\"type\":\"scatterpolargl\",\"marker\":{\"colorbar\":{\"outlinewidth\":0,\"ticks\":\"\"}}}],\"bar\":[{\"error_x\":{\"color\":\"#2a3f5f\"},\"error_y\":{\"color\":\"#2a3f5f\"},\"marker\":{\"line\":{\"color\":\"#E5ECF6\",\"width\":0.5},\"pattern\":{\"fillmode\":\"overlay\",\"size\":10,\"solidity\":0.2}},\"type\":\"bar\"}],\"scattergeo\":[{\"type\":\"scattergeo\",\"marker\":{\"colorbar\":{\"outlinewidth\":0,\"ticks\":\"\"}}}],\"scatterpolar\":[{\"type\":\"scatterpolar\",\"marker\":{\"colorbar\":{\"outlinewidth\":0,\"ticks\":\"\"}}}],\"histogram\":[{\"marker\":{\"pattern\":{\"fillmode\":\"overlay\",\"size\":10,\"solidity\":0.2}},\"type\":\"histogram\"}],\"scattergl\":[{\"type\":\"scattergl\",\"marker\":{\"colorbar\":{\"outlinewidth\":0,\"ticks\":\"\"}}}],\"scatter3d\":[{\"type\":\"scatter3d\",\"line\":{\"colorbar\":{\"outlinewidth\":0,\"ticks\":\"\"}},\"marker\":{\"colorbar\":{\"outlinewidth\":0,\"ticks\":\"\"}}}],\"scattermapbox\":[{\"type\":\"scattermapbox\",\"marker\":{\"colorbar\":{\"outlinewidth\":0,\"ticks\":\"\"}}}],\"scatterternary\":[{\"type\":\"scatterternary\",\"marker\":{\"colorbar\":{\"outlinewidth\":0,\"ticks\":\"\"}}}],\"scattercarpet\":[{\"type\":\"scattercarpet\",\"marker\":{\"colorbar\":{\"outlinewidth\":0,\"ticks\":\"\"}}}],\"carpet\":[{\"aaxis\":{\"endlinecolor\":\"#2a3f5f\",\"gridcolor\":\"white\",\"linecolor\":\"white\",\"minorgridcolor\":\"white\",\"startlinecolor\":\"#2a3f5f\"},\"baxis\":{\"endlinecolor\":\"#2a3f5f\",\"gridcolor\":\"white\",\"linecolor\":\"white\",\"minorgridcolor\":\"white\",\"startlinecolor\":\"#2a3f5f\"},\"type\":\"carpet\"}],\"table\":[{\"cells\":{\"fill\":{\"color\":\"#EBF0F8\"},\"line\":{\"color\":\"white\"}},\"header\":{\"fill\":{\"color\":\"#C8D4E3\"},\"line\":{\"color\":\"white\"}},\"type\":\"table\"}],\"barpolar\":[{\"marker\":{\"line\":{\"color\":\"#E5ECF6\",\"width\":0.5},\"pattern\":{\"fillmode\":\"overlay\",\"size\":10,\"solidity\":0.2}},\"type\":\"barpolar\"}],\"pie\":[{\"automargin\":true,\"type\":\"pie\"}]},\"layout\":{\"autotypenumbers\":\"strict\",\"colorway\":[\"#636efa\",\"#EF553B\",\"#00cc96\",\"#ab63fa\",\"#FFA15A\",\"#19d3f3\",\"#FF6692\",\"#B6E880\",\"#FF97FF\",\"#FECB52\"],\"font\":{\"color\":\"#2a3f5f\"},\"hovermode\":\"closest\",\"hoverlabel\":{\"align\":\"left\"},\"paper_bgcolor\":\"white\",\"plot_bgcolor\":\"#E5ECF6\",\"polar\":{\"bgcolor\":\"#E5ECF6\",\"angularaxis\":{\"gridcolor\":\"white\",\"linecolor\":\"white\",\"ticks\":\"\"},\"radialaxis\":{\"gridcolor\":\"white\",\"linecolor\":\"white\",\"ticks\":\"\"}},\"ternary\":{\"bgcolor\":\"#E5ECF6\",\"aaxis\":{\"gridcolor\":\"white\",\"linecolor\":\"white\",\"ticks\":\"\"},\"baxis\":{\"gridcolor\":\"white\",\"linecolor\":\"white\",\"ticks\":\"\"},\"caxis\":{\"gridcolor\":\"white\",\"linecolor\":\"white\",\"ticks\":\"\"}},\"coloraxis\":{\"colorbar\":{\"outlinewidth\":0,\"ticks\":\"\"}},\"colorscale\":{\"sequential\":[[0.0,\"#0d0887\"],[0.1111111111111111,\"#46039f\"],[0.2222222222222222,\"#7201a8\"],[0.3333333333333333,\"#9c179e\"],[0.4444444444444444,\"#bd3786\"],[0.5555555555555556,\"#d8576b\"],[0.6666666666666666,\"#ed7953\"],[0.7777777777777778,\"#fb9f3a\"],[0.8888888888888888,\"#fdca26\"],[1.0,\"#f0f921\"]],\"sequentialminus\":[[0.0,\"#0d0887\"],[0.1111111111111111,\"#46039f\"],[0.2222222222222222,\"#7201a8\"],[0.3333333333333333,\"#9c179e\"],[0.4444444444444444,\"#bd3786\"],[0.5555555555555556,\"#d8576b\"],[0.6666666666666666,\"#ed7953\"],[0.7777777777777778,\"#fb9f3a\"],[0.8888888888888888,\"#fdca26\"],[1.0,\"#f0f921\"]],\"diverging\":[[0,\"#8e0152\"],[0.1,\"#c51b7d\"],[0.2,\"#de77ae\"],[0.3,\"#f1b6da\"],[0.4,\"#fde0ef\"],[0.5,\"#f7f7f7\"],[0.6,\"#e6f5d0\"],[0.7,\"#b8e186\"],[0.8,\"#7fbc41\"],[0.9,\"#4d9221\"],[1,\"#276419\"]]},\"xaxis\":{\"gridcolor\":\"white\",\"linecolor\":\"white\",\"ticks\":\"\",\"title\":{\"standoff\":15},\"zerolinecolor\":\"white\",\"automargin\":true,\"zerolinewidth\":2},\"yaxis\":{\"gridcolor\":\"white\",\"linecolor\":\"white\",\"ticks\":\"\",\"title\":{\"standoff\":15},\"zerolinecolor\":\"white\",\"automargin\":true,\"zerolinewidth\":2},\"scene\":{\"xaxis\":{\"backgroundcolor\":\"#E5ECF6\",\"gridcolor\":\"white\",\"linecolor\":\"white\",\"showbackground\":true,\"ticks\":\"\",\"zerolinecolor\":\"white\",\"gridwidth\":2},\"yaxis\":{\"backgroundcolor\":\"#E5ECF6\",\"gridcolor\":\"white\",\"linecolor\":\"white\",\"showbackground\":true,\"ticks\":\"\",\"zerolinecolor\":\"white\",\"gridwidth\":2},\"zaxis\":{\"backgroundcolor\":\"#E5ECF6\",\"gridcolor\":\"white\",\"linecolor\":\"white\",\"showbackground\":true,\"ticks\":\"\",\"zerolinecolor\":\"white\",\"gridwidth\":2}},\"shapedefaults\":{\"line\":{\"color\":\"#2a3f5f\"}},\"annotationdefaults\":{\"arrowcolor\":\"#2a3f5f\",\"arrowhead\":0,\"arrowwidth\":1},\"geo\":{\"bgcolor\":\"white\",\"landcolor\":\"#E5ECF6\",\"subunitcolor\":\"white\",\"showland\":true,\"showlakes\":true,\"lakecolor\":\"white\"},\"title\":{\"x\":0.05},\"mapbox\":{\"style\":\"light\"}}},\"xaxis\":{\"anchor\":\"y\",\"domain\":[0.0,0.12285714285714285],\"title\":{\"text\":\"featureValue\"}},\"yaxis\":{\"anchor\":\"x\",\"domain\":[0.0,0.3133333333333333],\"title\":{\"text\":\"valuesCount\"}},\"xaxis2\":{\"anchor\":\"y2\",\"domain\":[0.14285714285714285,0.2657142857142857],\"matches\":\"x\",\"title\":{\"text\":\"featureValue\"}},\"yaxis2\":{\"anchor\":\"x2\",\"domain\":[0.0,0.3133333333333333],\"matches\":\"y\",\"showticklabels\":false},\"xaxis3\":{\"anchor\":\"y3\",\"domain\":[0.2857142857142857,0.40857142857142853],\"matches\":\"x\",\"title\":{\"text\":\"featureValue\"}},\"yaxis3\":{\"anchor\":\"x3\",\"domain\":[0.0,0.3133333333333333],\"matches\":\"y\",\"showticklabels\":false},\"xaxis4\":{\"anchor\":\"y4\",\"domain\":[0.42857142857142855,0.5514285714285714],\"matches\":\"x\",\"title\":{\"text\":\"featureValue\"}},\"yaxis4\":{\"anchor\":\"x4\",\"domain\":[0.0,0.3133333333333333],\"matches\":\"y\",\"showticklabels\":false},\"xaxis5\":{\"anchor\":\"y5\",\"domain\":[0.5714285714285714,0.6942857142857143],\"matches\":\"x\",\"title\":{\"text\":\"featureValue\"}},\"yaxis5\":{\"anchor\":\"x5\",\"domain\":[0.0,0.3133333333333333],\"matches\":\"y\",\"showticklabels\":false},\"xaxis6\":{\"anchor\":\"y6\",\"domain\":[0.7142857142857142,0.8371428571428571],\"matches\":\"x\",\"title\":{\"text\":\"featureValue\"}},\"yaxis6\":{\"anchor\":\"x6\",\"domain\":[0.0,0.3133333333333333],\"matches\":\"y\",\"showticklabels\":false},\"xaxis7\":{\"anchor\":\"y7\",\"domain\":[0.8571428571428571,0.98],\"matches\":\"x\",\"title\":{\"text\":\"featureValue\"}},\"yaxis7\":{\"anchor\":\"x7\",\"domain\":[0.0,0.3133333333333333],\"matches\":\"y\",\"showticklabels\":false},\"xaxis8\":{\"anchor\":\"y8\",\"domain\":[0.0,0.12285714285714285],\"matches\":\"x\",\"showticklabels\":false},\"yaxis8\":{\"anchor\":\"x8\",\"domain\":[0.34333333333333327,0.6566666666666665],\"matches\":\"y\",\"title\":{\"text\":\"valuesCount\"}},\"xaxis9\":{\"anchor\":\"y9\",\"domain\":[0.14285714285714285,0.2657142857142857],\"matches\":\"x\",\"showticklabels\":false},\"yaxis9\":{\"anchor\":\"x9\",\"domain\":[0.34333333333333327,0.6566666666666665],\"matches\":\"y\",\"showticklabels\":false},\"xaxis10\":{\"anchor\":\"y10\",\"domain\":[0.2857142857142857,0.40857142857142853],\"matches\":\"x\",\"showticklabels\":false},\"yaxis10\":{\"anchor\":\"x10\",\"domain\":[0.34333333333333327,0.6566666666666665],\"matches\":\"y\",\"showticklabels\":false},\"xaxis11\":{\"anchor\":\"y11\",\"domain\":[0.42857142857142855,0.5514285714285714],\"matches\":\"x\",\"showticklabels\":false},\"yaxis11\":{\"anchor\":\"x11\",\"domain\":[0.34333333333333327,0.6566666666666665],\"matches\":\"y\",\"showticklabels\":false},\"xaxis12\":{\"anchor\":\"y12\",\"domain\":[0.5714285714285714,0.6942857142857143],\"matches\":\"x\",\"showticklabels\":false},\"yaxis12\":{\"anchor\":\"x12\",\"domain\":[0.34333333333333327,0.6566666666666665],\"matches\":\"y\",\"showticklabels\":false},\"xaxis13\":{\"anchor\":\"y13\",\"domain\":[0.7142857142857142,0.8371428571428571],\"matches\":\"x\",\"showticklabels\":false},\"yaxis13\":{\"anchor\":\"x13\",\"domain\":[0.34333333333333327,0.6566666666666665],\"matches\":\"y\",\"showticklabels\":false},\"xaxis14\":{\"anchor\":\"y14\",\"domain\":[0.8571428571428571,0.98],\"matches\":\"x\",\"showticklabels\":false},\"yaxis14\":{\"anchor\":\"x14\",\"domain\":[0.34333333333333327,0.6566666666666665],\"matches\":\"y\",\"showticklabels\":false},\"xaxis15\":{\"anchor\":\"y15\",\"domain\":[0.0,0.12285714285714285],\"matches\":\"x\",\"showticklabels\":false},\"yaxis15\":{\"anchor\":\"x15\",\"domain\":[0.6866666666666665,0.9999999999999998],\"matches\":\"y\",\"title\":{\"text\":\"valuesCount\"}},\"xaxis16\":{\"anchor\":\"y16\",\"domain\":[0.14285714285714285,0.2657142857142857],\"matches\":\"x\",\"showticklabels\":false},\"yaxis16\":{\"anchor\":\"x16\",\"domain\":[0.6866666666666665,0.9999999999999998],\"matches\":\"y\",\"showticklabels\":false},\"xaxis17\":{\"anchor\":\"y17\",\"domain\":[0.2857142857142857,0.40857142857142853],\"matches\":\"x\",\"showticklabels\":false},\"yaxis17\":{\"anchor\":\"x17\",\"domain\":[0.6866666666666665,0.9999999999999998],\"matches\":\"y\",\"showticklabels\":false},\"xaxis18\":{\"anchor\":\"y18\",\"domain\":[0.42857142857142855,0.5514285714285714],\"matches\":\"x\",\"showticklabels\":false},\"yaxis18\":{\"anchor\":\"x18\",\"domain\":[0.6866666666666665,0.9999999999999998],\"matches\":\"y\",\"showticklabels\":false},\"xaxis19\":{\"anchor\":\"y19\",\"domain\":[0.5714285714285714,0.6942857142857143],\"matches\":\"x\",\"showticklabels\":false},\"yaxis19\":{\"anchor\":\"x19\",\"domain\":[0.6866666666666665,0.9999999999999998],\"matches\":\"y\",\"showticklabels\":false},\"xaxis20\":{\"anchor\":\"y20\",\"domain\":[0.7142857142857142,0.8371428571428571],\"matches\":\"x\",\"showticklabels\":false},\"yaxis20\":{\"anchor\":\"x20\",\"domain\":[0.6866666666666665,0.9999999999999998],\"matches\":\"y\",\"showticklabels\":false},\"xaxis21\":{\"anchor\":\"y21\",\"domain\":[0.8571428571428571,0.98],\"matches\":\"x\",\"showticklabels\":false},\"yaxis21\":{\"anchor\":\"x21\",\"domain\":[0.6866666666666665,0.9999999999999998],\"matches\":\"y\",\"showticklabels\":false},\"annotations\":[{\"font\":{},\"showarrow\":false,\"text\":\"feature=about\",\"x\":0.06142857142857142,\"xanchor\":\"center\",\"xref\":\"paper\",\"y\":0.9999999999999998,\"yanchor\":\"bottom\",\"yref\":\"paper\"},{\"font\":{},\"showarrow\":false,\"text\":\"feature=gender\",\"x\":0.20428571428571426,\"xanchor\":\"center\",\"xref\":\"paper\",\"y\":0.9999999999999998,\"yanchor\":\"bottom\",\"yref\":\"paper\"},{\"font\":{},\"showarrow\":false,\"text\":\"feature=live\",\"x\":0.3471428571428571,\"xanchor\":\"center\",\"xref\":\"paper\",\"y\":0.9999999999999998,\"yanchor\":\"bottom\",\"yref\":\"paper\"},{\"font\":{},\"showarrow\":false,\"text\":\"feature=rangeAge\",\"x\":0.49,\"xanchor\":\"center\",\"xref\":\"paper\",\"y\":0.9999999999999998,\"yanchor\":\"bottom\",\"yref\":\"paper\"},{\"font\":{},\"showarrow\":false,\"text\":\"feature=numaim\",\"x\":0.6328571428571428,\"xanchor\":\"center\",\"xref\":\"paper\",\"y\":0.9999999999999998,\"yanchor\":\"bottom\",\"yref\":\"paper\"},{\"font\":{},\"showarrow\":false,\"text\":\"feature=numchildren\",\"x\":0.7757142857142856,\"xanchor\":\"center\",\"xref\":\"paper\",\"y\":0.9999999999999998,\"yanchor\":\"bottom\",\"yref\":\"paper\"},{\"font\":{},\"showarrow\":false,\"text\":\"feature=numEdu\",\"x\":0.9185714285714286,\"xanchor\":\"center\",\"xref\":\"paper\",\"y\":0.9999999999999998,\"yanchor\":\"bottom\",\"yref\":\"paper\"},{\"font\":{},\"showarrow\":false,\"text\":\"cluster=0\",\"textangle\":90,\"x\":0.98,\"xanchor\":\"left\",\"xref\":\"paper\",\"y\":0.15666666666666665,\"yanchor\":\"middle\",\"yref\":\"paper\"},{\"font\":{},\"showarrow\":false,\"text\":\"cluster=2\",\"textangle\":90,\"x\":0.98,\"xanchor\":\"left\",\"xref\":\"paper\",\"y\":0.4999999999999999,\"yanchor\":\"middle\",\"yref\":\"paper\"},{\"font\":{},\"showarrow\":false,\"text\":\"cluster=1\",\"textangle\":90,\"x\":0.98,\"xanchor\":\"left\",\"xref\":\"paper\",\"y\":0.8433333333333332,\"yanchor\":\"middle\",\"yref\":\"paper\"}],\"legend\":{\"tracegroupgap\":0},\"margin\":{\"t\":60},\"barmode\":\"relative\"},                        {\"responsive\": true}                    ).then(function(){\n",
       "                            \n",
       "var gd = document.getElementById('05d7fe7e-1f15-405e-a27a-73244d965099');\n",
       "var x = new MutationObserver(function (mutations, observer) {{\n",
       "        var display = window.getComputedStyle(gd).display;\n",
       "        if (!display || display === 'none') {{\n",
       "            console.log([gd, 'removed!']);\n",
       "            Plotly.purge(gd);\n",
       "            observer.disconnect();\n",
       "        }}\n",
       "}});\n",
       "\n",
       "// Listen for the removal of the full notebook cells\n",
       "var notebookContainer = gd.closest('#notebook-container');\n",
       "if (notebookContainer) {{\n",
       "    x.observe(notebookContainer, {childList: true});\n",
       "}}\n",
       "\n",
       "// Listen for the clearing of the current output cell\n",
       "var outputEl = gd.closest('.output');\n",
       "if (outputEl) {{\n",
       "    x.observe(outputEl, {childList: true});\n",
       "}}\n",
       "\n",
       "                        })                };                });            </script>        </div>"
      ]
     },
     "metadata": {},
     "output_type": "display_data"
    }
   ],
   "source": [
    "import plotly.express as px\n",
    "df = dfRes\n",
    "fig = px.bar(df, x=\"featureValue\", y=\"valuesCount\",\n",
    "             facet_col=\"feature\", facet_row='cluster')\n",
    "fig.show()"
   ]
  },
  {
   "cell_type": "markdown",
   "metadata": {},
   "source": [
    "#### Кластер 0 \n",
    "Похоже, там много людей, которые ничего о себе не указали, кроме пола, из тех целей, которые указали - флрит и отношения, которые живут с родителями и указали 4 года в диапазоне возраста партнера. \n",
    "#### Кластер 1 и 2 похожи\n",
    "Отличительная черта - у них нет детей (самая многочисленная группа по 4-ем кластерам). Разные уровни образования. Больше живут отдельно от родителей. Отличаются целями: кластер 1 - не знаю и дружить, кластер 2 - флирт и отношения. \n",
    "\n"
   ]
  },
  {
   "cell_type": "code",
   "execution_count": null,
   "metadata": {},
   "outputs": [],
   "source": []
  }
 ],
 "metadata": {
  "kernelspec": {
   "display_name": "Python 3",
   "language": "python",
   "name": "python3"
  },
  "language_info": {
   "codemirror_mode": {
    "name": "ipython",
    "version": 3
   },
   "file_extension": ".py",
   "mimetype": "text/x-python",
   "name": "python",
   "nbconvert_exporter": "python",
   "pygments_lexer": "ipython3",
   "version": "3.8.8"
  }
 },
 "nbformat": 4,
 "nbformat_minor": 4
}
