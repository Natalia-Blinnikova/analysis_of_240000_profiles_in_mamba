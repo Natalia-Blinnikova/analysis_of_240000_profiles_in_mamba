{
 "cells": [
  {
   "cell_type": "code",
   "execution_count": 1,
   "id": "71c9c3a6",
   "metadata": {},
   "outputs": [],
   "source": [
    "import requests \n",
    "from bs4 import BeautifulSoup\n",
    "import re\n",
    "import pandas as pd\n",
    "import traceback\n",
    "import time "
   ]
  },
  {
   "cell_type": "code",
   "execution_count": 24,
   "id": "637918ff",
   "metadata": {
    "scrolled": true
   },
   "outputs": [
    {
     "data": {
      "text/plain": [
       "'ЗакрытьНаш сайт использует файлы cookie. Продолжая использовать сайт, вы даете на это согласие в соответствии с политикой конфиденциальности.'"
      ]
     },
     "execution_count": 24,
     "metadata": {},
     "output_type": "execute_result"
    }
   ],
   "source": [
    "html5 = requests.get('https://www.mamba.ru/ru/profile/1789958833')\n",
    "soupOb5 = BeautifulSoup(html5.text)\n",
    "text5 =soupOb5.find('section').get_text()\n",
    "text5"
   ]
  },
  {
   "cell_type": "code",
   "execution_count": 2,
   "id": "bbd1e3bf",
   "metadata": {},
   "outputs": [],
   "source": [
    "def gather_data(text, link, soup): \n",
    "    soupOb = soup\n",
    "    link = link\n",
    "    data = {}\n",
    "    data['id'] = str(link)\n",
    "    try: \n",
    "        weight = re.findall(r'Вес:\\s([0-9]+) кг', text)[0]\n",
    "        data['weight'] = int(weight)\n",
    "    except: \n",
    "        data['weight'] = None \n",
    "        \n",
    "    try: \n",
    "        children = re.findall(r'(Детей\\s[а-я,\\s]+)|(Дети\\s[а-я,\\s]+)', text)[0]\n",
    "        for item in children:  \n",
    "            if len(item) != 0:\n",
    "                child = item\n",
    "        data['children'] = child\n",
    "    except: \n",
    "        data['children'] = None \n",
    "        \n",
    "    try: \n",
    "        data['smoke'] = re.findall(r'(Курю|Не курю)', text)[0]\n",
    "    except: \n",
    "        data['smoke'] = None \n",
    "        \n",
    "    try: \n",
    "        data['live'] = re.findall(r'(Живу с родителями|Отдельная квартира)', text)[0]\n",
    "    except: \n",
    "        data['live'] = None \n",
    "        \n",
    "    try: \n",
    "        data['edu'] = re.findall(r'(Два или более высших|Среднее|Высшее|Учусь)', text)[0]\n",
    "    except: \n",
    "        data['edu'] = None \n",
    "    \n",
    "    try: \n",
    "        data['about'] = re.findall(r'В Избранные.+В Избранные(.+)Подарите', text, re.DOTALL)[0]\n",
    "    except: \n",
    "        data['about'] = None \n",
    "        \n",
    "    try: \n",
    "        data['height'] = int(re.findall(r'Рост:\\s([0-9]{3})', text)[0])\n",
    "    except: \n",
    "        data['height'] = None \n",
    "    \n",
    "    try: \n",
    "        language = re.findall(r'Языки:\\s([А-ЯA-Z]{1}[а-яa-z]+,\\s[А-ЯA-Z]{1}[а-яa-z]+)|Языки:\\s([А-ЯA-Z]{1}[а-яa-z]+)', text)[0]\n",
    "        for item in language:  \n",
    "            if len(item) != 0:\n",
    "                speak = item\n",
    "        data['language'] = speak\n",
    "    except: \n",
    "        data['language'] = None \n",
    "    \n",
    "    try: \n",
    "        data['age'] = int(re.findall(r'\\d{2}', text)[0])\n",
    "    except: \n",
    "        data['age'] = None \n",
    "        \n",
    "    try: \n",
    "        data['aim'] = re.findall(r'Цель:\\s([а-я, ]*)', text)[0]\n",
    "    except: \n",
    "        data['aim'] = None \n",
    "    \n",
    "    try: \n",
    "        data['partnerage'] = re.findall(r'В возрасте:\\s([0-9]{2}\\s-\\s[0-9]{2})', text)[0]\n",
    "    except: \n",
    "        data['partnerage'] = None \n",
    "        \n",
    "    try: \n",
    "        data['gender'] = re.findall(r'\\/(Мужчины|Женщины)$', text)[0]\n",
    "    except: \n",
    "        data['gender'] = None \n",
    "        \n",
    "    try: \n",
    "        intrestedIn = re.findall(r'Интересует:\\s(девушка, парень)|Интересует:\\s(парень, девушка)|Интересует:\\s(девушка|парень)', text)[0]\n",
    "        for item in intrestedIn:\n",
    "            if len(item) != 0:\n",
    "                searchFor = item \n",
    "        data['intrestedin'] = searchFor\n",
    "    except: \n",
    "        data['intrestedin'] = None \n",
    "        \n",
    "    try: \n",
    "        from_ = re.findall(r'Из\\s([А-Яа-я- ]+)Подмигнуть|Из\\s([А-Яа-я- ]+)Написать|Из\\s([А-Яа-я- ]+)\\.', text)[0]\n",
    "        for item in from_:\n",
    "            if len(item) != 0:\n",
    "                city = item \n",
    "        data['city'] = city\n",
    "    except: \n",
    "        data['city'] = None \n",
    "    \n",
    "    try: \n",
    "        lst_fotos = []\n",
    "        for ahref in soupOb.find_all('img'):\n",
    "            foto = ahref.get('data-name')\n",
    "            if foto not in lst_fotos and foto != None:\n",
    "                lst_fotos.append(foto)\n",
    "        data['photocount'] = len(lst_fotos)\n",
    "    except: \n",
    "        data['photocount'] = 0\n",
    "        \n",
    "    return data\n",
    "        \n",
    "    "
   ]
  },
  {
   "cell_type": "code",
   "execution_count": null,
   "id": "69befd7f",
   "metadata": {},
   "outputs": [
    {
     "name": "stdout",
     "output_type": "stream",
     "text": [
      "I sleep now\n",
      "I sleep now\n",
      "I sleep now\n",
      "https://www.mamba.ru/ru/profile/1794063198 another file written\n",
      "I sleep now\n",
      "I sleep now\n",
      "I sleep now\n",
      "https://www.mamba.ru/ru/profile/1794066198 another file written\n",
      "https://www.mamba.ru/ru/profile/1794066388\n",
      "I sleep now\n",
      "I sleep now\n",
      "I sleep now\n",
      "https://www.mamba.ru/ru/profile/1794069199 another file written\n",
      "I sleep now\n",
      "I sleep now\n",
      "I sleep now\n",
      "https://www.mamba.ru/ru/profile/1794072199 another file written\n",
      "I sleep now\n",
      "I sleep now\n",
      "I sleep now\n",
      "https://www.mamba.ru/ru/profile/1794075199 another file written\n",
      "I sleep now\n",
      "I sleep now\n",
      "I sleep now\n",
      "https://www.mamba.ru/ru/profile/1794078199 another file written\n",
      "I sleep now\n",
      "I sleep now\n",
      "I sleep now\n",
      "https://www.mamba.ru/ru/profile/1794081199 another file written\n",
      "I sleep now\n",
      "I sleep now\n",
      "I sleep now\n",
      "https://www.mamba.ru/ru/profile/1794084199 another file written\n",
      "I sleep now\n",
      "I sleep now\n",
      "I sleep now\n",
      "https://www.mamba.ru/ru/profile/1794087199 another file written\n",
      "I sleep now\n",
      "I sleep now\n",
      "I sleep now\n",
      "https://www.mamba.ru/ru/profile/1794090199 another file written\n",
      "I sleep now\n",
      "I sleep now\n",
      "I sleep now\n",
      "https://www.mamba.ru/ru/profile/1794093199 another file written\n",
      "I sleep now\n",
      "I sleep now\n",
      "I sleep now\n",
      "https://www.mamba.ru/ru/profile/1794096199 another file written\n",
      "I sleep now\n",
      "I sleep now\n",
      "I sleep now\n",
      "https://www.mamba.ru/ru/profile/1794099199 another file written\n",
      "https://www.mamba.ru/ru/profile/1794099770\n",
      "https://www.mamba.ru/ru/profile/1794099771\n",
      "https://www.mamba.ru/ru/profile/1794099777\n",
      "I sleep now\n",
      "I sleep now\n",
      "I sleep now\n",
      "https://www.mamba.ru/ru/profile/1794102202 another file written\n",
      "I sleep now\n",
      "I sleep now\n",
      "I sleep now\n",
      "https://www.mamba.ru/ru/profile/1794105202 another file written\n",
      "I sleep now\n",
      "I sleep now\n",
      "I sleep now\n",
      "https://www.mamba.ru/ru/profile/1794108202 another file written\n",
      "I sleep now\n",
      "I sleep now\n",
      "I sleep now\n",
      "https://www.mamba.ru/ru/profile/1794111202 another file written\n",
      "I sleep now\n",
      "I sleep now\n",
      "I sleep now\n",
      "https://www.mamba.ru/ru/profile/1794114202 another file written\n",
      "I sleep now\n",
      "I sleep now\n",
      "I sleep now\n",
      "https://www.mamba.ru/ru/profile/1794117202 another file written\n",
      "I sleep now\n",
      "I sleep now\n",
      "I sleep now\n",
      "https://www.mamba.ru/ru/profile/1794120202 another file written\n",
      "I sleep now\n",
      "I sleep now\n",
      "I sleep now\n",
      "https://www.mamba.ru/ru/profile/1794123202 another file written\n",
      "I sleep now\n",
      "I sleep now\n",
      "I sleep now\n",
      "https://www.mamba.ru/ru/profile/1794126202 another file written\n",
      "I sleep now\n"
     ]
    }
   ],
   "source": [
    "n = 351001 \n",
    "mambaDF = pd.DataFrame()\n",
    "\n",
    "for number in range(4060200, 10000000, 1):\n",
    "    inlink = 'https://www.mamba.ru/ru/profile/179' + str(number)\n",
    "    idlink = '179' + str(number)\n",
    "    try:\n",
    "        html = requests.get(inlink)\n",
    "        soupOb = BeautifulSoup(html.text)\n",
    "        text =soupOb.find('section').get_text()\n",
    "        noinfo = 'ЗакрытьНаш сайт использует файлы cookie. Продолжая использовать сайт, вы даете на это согласие в соответствии с политикой конфиденциальности.'\n",
    "        if text != noinfo:\n",
    "            plusdata = gather_data(text, idlink, soupOb)\n",
    "            mambaDF = mambaDF.append(plusdata, ignore_index=True)\n",
    "        n+= 1\n",
    "        if n%1000 == 0:\n",
    "            time.sleep(2)\n",
    "            print('I sleep now')\n",
    "    except: \n",
    "        print(inlink)\n",
    "    if n%3000 == 0:\n",
    "        mambaDF.to_csv('mamba' + str(n) + '.csv', index=False)\n",
    "        print(inlink, 'another file written')\n",
    "        mambaDF = pd.DataFrame()\n",
    "    \n",
    "    "
   ]
  },
  {
   "cell_type": "code",
   "execution_count": null,
   "id": "e3d65492",
   "metadata": {},
   "outputs": [],
   "source": []
  },
  {
   "cell_type": "markdown",
   "id": "c3560b42",
   "metadata": {},
   "source": []
  },
  {
   "cell_type": "code",
   "execution_count": 37,
   "id": "007babb4",
   "metadata": {},
   "outputs": [
    {
     "data": {
      "text/plain": [
       "'70'"
      ]
     },
     "execution_count": 37,
     "metadata": {},
     "output_type": "execute_result"
    }
   ],
   "source": [
    "weight = re.findall(r'Вес:\\s([0-9]+) кг', text5)[0]\n",
    "weight"
   ]
  },
  {
   "cell_type": "code",
   "execution_count": 44,
   "id": "cd7426ee",
   "metadata": {},
   "outputs": [
    {
     "name": "stdout",
     "output_type": "stream",
     "text": [
      "('', 'Дети есть, живем вместе')\n"
     ]
    },
    {
     "data": {
      "text/plain": [
       "'Дети есть, живем вместе'"
      ]
     },
     "execution_count": 44,
     "metadata": {},
     "output_type": "execute_result"
    }
   ],
   "source": [
    "children = re.findall(r'(Детей\\s[а-я,\\s]+)|(Дети\\s[а-я,\\s]+)', text4)[0]\n",
    "print(children)\n",
    "for item in children:  \n",
    "    if len(item) != 0:\n",
    "        child = item\n",
    "child"
   ]
  },
  {
   "cell_type": "code",
   "execution_count": 45,
   "id": "2cb52b8e",
   "metadata": {},
   "outputs": [
    {
     "data": {
      "text/plain": [
       "'+ 4ПодмигнутьНаписатьВ ИзбранныеAlena,35Из Санкт-ПетербургНаписать сообщениеAlena,35Из Санкт-ПетербургПодмигнутьНаписатьВ ИзбранныеЭстет, люблю общение в живую. Ищу позитивных, интересных людей.Подарите ей комплиментОбратите на себя вниманиеИнтересует: девушка, пареньВ возрасте: 27 - 39Цель: переписка, дружба, общение, встреча, свидание, путешествияОтдельная квартира (снимаю или своя)Детей нет, но хочуsДва или более высшихЯзыки: РусскийНе курюПью в компаниях изредкаВеликобританияРоссияЕвропейскаяХудощавоеРост: 172 см (5′8″)Вес: 54 кг (119 lb)+ 5Знакомства/Россия/Ленинградская область/Санкт-Петербург/Женщины'"
      ]
     },
     "execution_count": 45,
     "metadata": {},
     "output_type": "execute_result"
    }
   ],
   "source": [
    "html4 = requests.get('https://www.mamba.ru/ru/profile/1796053099')\n",
    "soupOb4 = BeautifulSoup(html4.text)\n",
    "text4 =soupOb4.find('section').get_text()\n",
    "text4"
   ]
  },
  {
   "cell_type": "code",
   "execution_count": 47,
   "id": "1236143e",
   "metadata": {},
   "outputs": [
    {
     "data": {
      "text/plain": [
       "'Не курю'"
      ]
     },
     "execution_count": 47,
     "metadata": {},
     "output_type": "execute_result"
    }
   ],
   "source": [
    "smoke = re.findall(r'(Курю|Не курю)', text4)[0]\n",
    "smoke"
   ]
  },
  {
   "cell_type": "code",
   "execution_count": 52,
   "id": "af942508",
   "metadata": {},
   "outputs": [
    {
     "data": {
      "text/plain": [
       "'ПодмигнутьНаписатьВ ИзбранныеДима,31Из Москва. Был 7 часов назадНаписать сообщениеДима,31Из Москва. Был 7 часов назадПодмигнутьНаписатьВ ИзбранныеПодарите ему комплиментОбратите на себя вниманиеИнтересует: девушка, пареньВ возрасте: 18 - 55Цель: переписка, флирт, дружба, общение, встреча, свидание, путешествияХорошо зарабатываю, обеспеченОтдельная квартира (снимаю или своя)sВысшееЯзыки: РусскийПью в компаниях изредкаУкраинаАрменияРоссияГерманияАвстрияВенгрияБельгияВеликобританияЛюксембургСловакияШвецияФинляндияФранцияИспанияСмешаннаяСпортивноеРост: 182 см (5′12″)Вес: 70 кг (154 lb)Знакомства/Россия/Московская область/Москва/Мужчины'"
      ]
     },
     "execution_count": 52,
     "metadata": {},
     "output_type": "execute_result"
    }
   ],
   "source": [
    "text6"
   ]
  },
  {
   "cell_type": "code",
   "execution_count": 53,
   "id": "eb1ed5d8",
   "metadata": {},
   "outputs": [
    {
     "data": {
      "text/plain": [
       "'Отдельная квартира'"
      ]
     },
     "execution_count": 53,
     "metadata": {},
     "output_type": "execute_result"
    }
   ],
   "source": [
    "live = re.findall(r'(Живу с родителями|Отдельная квартира)', text6)[0]\n",
    "live"
   ]
  },
  {
   "cell_type": "code",
   "execution_count": 48,
   "id": "1f0e50e8",
   "metadata": {},
   "outputs": [
    {
     "data": {
      "text/plain": [
       "'Два или более высших'"
      ]
     },
     "execution_count": 48,
     "metadata": {},
     "output_type": "execute_result"
    }
   ],
   "source": [
    "edu = re.findall(r'(Два или более высших|Среднее|Высшее)', text4)[0]\n",
    "edu"
   ]
  },
  {
   "cell_type": "code",
   "execution_count": 29,
   "id": "156b309d",
   "metadata": {},
   "outputs": [
    {
     "data": {
      "text/plain": [
       "'Я - мачта, кормило, кормчий и киль,\\nЯ же и коралловый риф,\\nо который они разбились.'"
      ]
     },
     "execution_count": 29,
     "metadata": {},
     "output_type": "execute_result"
    }
   ],
   "source": [
    "about = re.findall(r'В Избранные.+В Избранные(.+)Подарите', text4, re.DOTALL)[0]\n",
    "about"
   ]
  },
  {
   "cell_type": "code",
   "execution_count": 35,
   "id": "17487130",
   "metadata": {},
   "outputs": [
    {
     "data": {
      "text/plain": [
       "'182'"
      ]
     },
     "execution_count": 35,
     "metadata": {},
     "output_type": "execute_result"
    }
   ],
   "source": [
    "height = re.findall(r'Рост:\\s([0-9]{3})', text5)[0]\n",
    "height"
   ]
  },
  {
   "cell_type": "code",
   "execution_count": 31,
   "id": "1246c740",
   "metadata": {},
   "outputs": [
    {
     "data": {
      "text/plain": [
       "'English, Русский'"
      ]
     },
     "execution_count": 31,
     "metadata": {},
     "output_type": "execute_result"
    }
   ],
   "source": [
    "language = re.findall(r'Языки:\\s([А-ЯA-Z]{1}[а-яa-z]+,\\s[А-ЯA-Z]{1}[а-яa-z]+)|Языки:\\s([А-ЯA-Z]{1}[а-яa-z]+)', text4)[0]\n",
    "for item in language:  \n",
    "    if len(item) != 0:\n",
    "        speak = item\n",
    "speak"
   ]
  },
  {
   "cell_type": "code",
   "execution_count": 17,
   "id": "1e1f5c8c",
   "metadata": {},
   "outputs": [
    {
     "data": {
      "text/plain": [
       "'31'"
      ]
     },
     "execution_count": 17,
     "metadata": {},
     "output_type": "execute_result"
    }
   ],
   "source": [
    "age_ = re.findall(r'\\d{2}', text5)[0]\n",
    "age_"
   ]
  },
  {
   "cell_type": "code",
   "execution_count": 16,
   "id": "d39a5bf2",
   "metadata": {},
   "outputs": [
    {
     "data": {
      "text/plain": [
       "'Москва'"
      ]
     },
     "execution_count": 16,
     "metadata": {},
     "output_type": "execute_result"
    }
   ],
   "source": [
    "from_ = re.findall(r'Из\\s([А-Яа-я-]+)Подмигнуть|Из\\s([А-Яа-я-]+)Написать|Из\\s([А-Яа-я-]+)\\.', text5)[0]\n",
    "for item in from_:\n",
    "    if len(item) != 0:\n",
    "        city = item \n",
    "city"
   ]
  },
  {
   "cell_type": "code",
   "execution_count": 11,
   "id": "b8796396",
   "metadata": {},
   "outputs": [
    {
     "data": {
      "text/plain": [
       "'девушка, парень'"
      ]
     },
     "execution_count": 11,
     "metadata": {},
     "output_type": "execute_result"
    }
   ],
   "source": [
    "intrestedIn = re.findall(r'Интересует:\\s(девушка, парень)|Интересует:\\s(парень, девушка)|Интересует:\\s(девушка|парень)', text5)[0]\n",
    "for item in intrestedIn:\n",
    "    if len(item) != 0:\n",
    "        searchFor = item \n",
    "searchFor"
   ]
  },
  {
   "cell_type": "code",
   "execution_count": 12,
   "id": "95db82fb",
   "metadata": {},
   "outputs": [
    {
     "data": {
      "text/plain": [
       "'Мужчины'"
      ]
     },
     "execution_count": 12,
     "metadata": {},
     "output_type": "execute_result"
    }
   ],
   "source": [
    "gender = re.findall(r'\\/(Мужчины|Женщины)$', text5)[0]\n",
    "gender"
   ]
  },
  {
   "cell_type": "code",
   "execution_count": 13,
   "id": "fc0c1314",
   "metadata": {},
   "outputs": [
    {
     "data": {
      "text/plain": [
       "'18 - 55'"
      ]
     },
     "execution_count": 13,
     "metadata": {},
     "output_type": "execute_result"
    }
   ],
   "source": [
    "partner_age = re.findall(r'В возрасте:\\s([0-9]{2}\\s-\\s[0-9]{2})', text5)[0]\n",
    "partner_age"
   ]
  },
  {
   "cell_type": "code",
   "execution_count": 15,
   "id": "409b666a",
   "metadata": {},
   "outputs": [
    {
     "data": {
      "text/plain": [
       "'переписка, флирт, дружба, общение, встреча, свидание, путешествия'"
      ]
     },
     "execution_count": 15,
     "metadata": {},
     "output_type": "execute_result"
    }
   ],
   "source": [
    "aim = re.findall(r'Цель:\\s([а-я, ]*)', text5)[0]\n",
    "aim"
   ]
  },
  {
   "cell_type": "code",
   "execution_count": null,
   "id": "9813bb96",
   "metadata": {},
   "outputs": [],
   "source": []
  },
  {
   "cell_type": "code",
   "execution_count": 58,
   "id": "79e1fc46",
   "metadata": {},
   "outputs": [
    {
     "name": "stdout",
     "output_type": "stream",
     "text": [
      "3\n"
     ]
    }
   ],
   "source": [
    "#search number of photos downloaded \n",
    "lst_fotos = []\n",
    "for ahref in soupOb5.find_all('img'):\n",
    "    foto = ahref.get('data-name')\n",
    "    if foto not in lst_fotos and foto != None:\n",
    "        lst_fotos.append(foto)\n",
    "print(len(lst_fotos))"
   ]
  },
  {
   "cell_type": "code",
   "execution_count": 108,
   "id": "80d7c950",
   "metadata": {
    "scrolled": true
   },
   "outputs": [
    {
     "data": {
      "text/plain": [
       "'Екатерина'"
      ]
     },
     "execution_count": 108,
     "metadata": {},
     "output_type": "execute_result"
    }
   ],
   "source": [
    "for item in all_divs:\n",
    "    try: \n",
    "        name = item.find('span', {'class' : 'sc-bhiDVv fZBHoJ'}).get_text()\n",
    "        break\n",
    "    except BaseException:\n",
    "        pass \n",
    "name"
   ]
  },
  {
   "cell_type": "code",
   "execution_count": null,
   "id": "9e2798b7",
   "metadata": {},
   "outputs": [],
   "source": []
  }
 ],
 "metadata": {
  "kernelspec": {
   "display_name": "Python 3",
   "language": "python",
   "name": "python3"
  },
  "language_info": {
   "codemirror_mode": {
    "name": "ipython",
    "version": 3
   },
   "file_extension": ".py",
   "mimetype": "text/x-python",
   "name": "python",
   "nbconvert_exporter": "python",
   "pygments_lexer": "ipython3",
   "version": "3.8.8"
  }
 },
 "nbformat": 4,
 "nbformat_minor": 5
}
